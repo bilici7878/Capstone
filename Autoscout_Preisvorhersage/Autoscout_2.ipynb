{
 "cells": [
  {
   "cell_type": "markdown",
   "metadata": {},
   "source": [
    "## Preisvorhersage Model\n",
    "## Exploratory Data Analysis(Part - 2)"
   ]
  },
  {
   "cell_type": "code",
   "execution_count": 1,
   "metadata": {},
   "outputs": [],
   "source": [
    "import pandas as pd\n",
    "import numpy as np\n",
    "import matplotlib.pyplot as plt\n",
    "import seaborn as sns\n",
    "\n",
    "from scipy.stats.mstats import winsorize\n",
    "\n",
    "import warnings\n",
    "pd.set_option('display.max_columns', 500)\n",
    "pd.set_option('display.max_colwidth', 500)\n",
    "pd.set_option('display.max_info_columns', 500)\n",
    "pd.set_option('display.max_info_rows', 2000)\n",
    "pd.set_option('display.expand_frame_repr', True)\n",
    "pd.set_option('display.width', 2000)\n",
    "\n",
    "warnings.filterwarnings('ignore')\n",
    "sns.set_style(\"whitegrid\")\n",
    "#baslik_font = {'family': 'arial', 'color': 'darkred','weight': 'bold','size': 13 }\n",
    "#eksen_font  = {'family': 'arial', 'color': 'darkblue','weight': 'bold','size': 11 }\n",
    "pd.options.display.float_format = '{:.2f}'.format"
   ]
  },
  {
   "cell_type": "code",
   "execution_count": 2,
   "metadata": {},
   "outputs": [],
   "source": [
    "oto1 = pd.read_csv(\"autoscout_precleaned.csv\")"
   ]
  },
  {
   "cell_type": "code",
   "execution_count": 3,
   "metadata": {},
   "outputs": [
    {
     "data": {
      "text/plain": [
       "(15919, 122)"
      ]
     },
     "execution_count": 3,
     "metadata": {},
     "output_type": "execute_result"
    }
   ],
   "source": [
    "oto1.shape"
   ]
  },
  {
   "cell_type": "code",
   "execution_count": 4,
   "metadata": {},
   "outputs": [
    {
     "data": {
      "text/html": [
       "<div>\n",
       "<style scoped>\n",
       "    .dataframe tbody tr th:only-of-type {\n",
       "        vertical-align: middle;\n",
       "    }\n",
       "\n",
       "    .dataframe tbody tr th {\n",
       "        vertical-align: top;\n",
       "    }\n",
       "\n",
       "    .dataframe thead th {\n",
       "        text-align: right;\n",
       "    }\n",
       "</style>\n",
       "<table border=\"1\" class=\"dataframe\">\n",
       "  <thead>\n",
       "    <tr style=\"text-align: right;\">\n",
       "      <th></th>\n",
       "      <th>make_model</th>\n",
       "      <th>body_type</th>\n",
       "      <th>price</th>\n",
       "      <th>vat</th>\n",
       "      <th>km</th>\n",
       "      <th>type</th>\n",
       "      <th>paint type</th>\n",
       "      <th>upholstery</th>\n",
       "      <th>cylinders</th>\n",
       "      <th>gears</th>\n",
       "      <th>previous_owner</th>\n",
       "      <th>inspection_new_bool</th>\n",
       "      <th>next_inspection</th>\n",
       "      <th>paint_type</th>\n",
       "      <th>country</th>\n",
       "      <th>emission_label</th>\n",
       "      <th>cc_air conditioning</th>\n",
       "      <th>cc_air suspension</th>\n",
       "      <th>cc_armrest</th>\n",
       "      <th>cc_automatic climate control</th>\n",
       "      <th>cc_auxiliary heating</th>\n",
       "      <th>cc_cruise control</th>\n",
       "      <th>cc_electric starter</th>\n",
       "      <th>cc_electric tailgate</th>\n",
       "      <th>cc_electrical side mirrors</th>\n",
       "      <th>cc_electrically adjustable seats</th>\n",
       "      <th>cc_electrically heated windshield</th>\n",
       "      <th>cc_heads-up display</th>\n",
       "      <th>cc_heated steering wheel</th>\n",
       "      <th>cc_hill holder</th>\n",
       "      <th>cc_keyless central door lock</th>\n",
       "      <th>cc_leather seats</th>\n",
       "      <th>cc_leather steering wheel</th>\n",
       "      <th>cc_light sensor</th>\n",
       "      <th>cc_lumbar support</th>\n",
       "      <th>cc_massage seats</th>\n",
       "      <th>cc_multi-function steering wheel</th>\n",
       "      <th>cc_navigation system</th>\n",
       "      <th>cc_panorama roof</th>\n",
       "      <th>cc_park distance control</th>\n",
       "      <th>cc_parking assist system camera</th>\n",
       "      <th>cc_parking assist system self-steering</th>\n",
       "      <th>cc_parking assist system sensors front</th>\n",
       "      <th>cc_parking assist system sensors rear</th>\n",
       "      <th>cc_power windows</th>\n",
       "      <th>cc_rain sensor</th>\n",
       "      <th>cc_seat heating</th>\n",
       "      <th>cc_seat ventilation</th>\n",
       "      <th>cc_split rear seats</th>\n",
       "      <th>cc_start-stop system</th>\n",
       "      <th>cc_sunroof</th>\n",
       "      <th>cc_tinted windows</th>\n",
       "      <th>cc_wind deflector</th>\n",
       "      <th>cc_windshield</th>\n",
       "      <th>em_bluetooth</th>\n",
       "      <th>em_cd player</th>\n",
       "      <th>em_digital radio</th>\n",
       "      <th>em_hands-free equipment</th>\n",
       "      <th>em_mp3</th>\n",
       "      <th>em_on-board computer</th>\n",
       "      <th>em_radio</th>\n",
       "      <th>em_sound system</th>\n",
       "      <th>em_television</th>\n",
       "      <th>em_usb</th>\n",
       "      <th>ex_alloy wheels</th>\n",
       "      <th>ex_cab or rented car</th>\n",
       "      <th>ex_catalytic converter</th>\n",
       "      <th>ex_handicapped enabled</th>\n",
       "      <th>ex_right hand drive</th>\n",
       "      <th>ex_roof rack</th>\n",
       "      <th>ex_shift paddles</th>\n",
       "      <th>ex_ski bag</th>\n",
       "      <th>ex_sliding door</th>\n",
       "      <th>ex_sport package</th>\n",
       "      <th>ex_sport seats</th>\n",
       "      <th>ex_sport suspension</th>\n",
       "      <th>ex_touch screen</th>\n",
       "      <th>ex_trailer hitch</th>\n",
       "      <th>ex_tuned car</th>\n",
       "      <th>ex_voice control</th>\n",
       "      <th>ex_winter tyres</th>\n",
       "      <th>ss_abs</th>\n",
       "      <th>ss_adaptive cruise control</th>\n",
       "      <th>ss_adaptive headlights</th>\n",
       "      <th>ss_alarm system</th>\n",
       "      <th>ss_blind spot monitor</th>\n",
       "      <th>ss_central door lock</th>\n",
       "      <th>ss_central door lock with remote control</th>\n",
       "      <th>ss_daytime running lights</th>\n",
       "      <th>ss_driver drowsiness detection</th>\n",
       "      <th>ss_driver-side airbag</th>\n",
       "      <th>ss_electronic stability control</th>\n",
       "      <th>ss_emergency brake assistant</th>\n",
       "      <th>ss_emergency system</th>\n",
       "      <th>ss_fog lights</th>\n",
       "      <th>ss_head airbag</th>\n",
       "      <th>ss_immobilizer</th>\n",
       "      <th>ss_isofix</th>\n",
       "      <th>ss_led daytime running lights</th>\n",
       "      <th>ss_led headlights</th>\n",
       "      <th>ss_lane departure warning system</th>\n",
       "      <th>ss_night view assist</th>\n",
       "      <th>ss_passenger-side airbag</th>\n",
       "      <th>ss_power steering</th>\n",
       "      <th>ss_rear airbag</th>\n",
       "      <th>ss_side airbag</th>\n",
       "      <th>ss_tire pressure monitoring system</th>\n",
       "      <th>ss_traction control</th>\n",
       "      <th>ss_traffic sign recognition</th>\n",
       "      <th>ss_xenon headlights</th>\n",
       "      <th>consumption_comb</th>\n",
       "      <th>gear_type</th>\n",
       "      <th>drive_chain</th>\n",
       "      <th>body_color</th>\n",
       "      <th>co2_emission</th>\n",
       "      <th>displacement_cc</th>\n",
       "      <th>emission_class</th>\n",
       "      <th>register_age</th>\n",
       "      <th>fuel_new</th>\n",
       "      <th>nr_doors</th>\n",
       "      <th>nr_seats</th>\n",
       "      <th>hp_kw</th>\n",
       "    </tr>\n",
       "  </thead>\n",
       "  <tbody>\n",
       "    <tr>\n",
       "      <th>0</th>\n",
       "      <td>Audi A1</td>\n",
       "      <td>Sedans</td>\n",
       "      <td>15770</td>\n",
       "      <td>VAT deductible</td>\n",
       "      <td>56013.00</td>\n",
       "      <td>Used</td>\n",
       "      <td>['\\nMetallic\\n']</td>\n",
       "      <td>Cloth, Black</td>\n",
       "      <td>3.00</td>\n",
       "      <td>nan</td>\n",
       "      <td>2</td>\n",
       "      <td>1</td>\n",
       "      <td>2021-06-01</td>\n",
       "      <td>Metallic</td>\n",
       "      <td>NaN</td>\n",
       "      <td>NaN</td>\n",
       "      <td>1</td>\n",
       "      <td>0</td>\n",
       "      <td>1</td>\n",
       "      <td>1</td>\n",
       "      <td>0</td>\n",
       "      <td>1</td>\n",
       "      <td>0</td>\n",
       "      <td>0</td>\n",
       "      <td>1</td>\n",
       "      <td>0</td>\n",
       "      <td>0</td>\n",
       "      <td>0</td>\n",
       "      <td>0</td>\n",
       "      <td>1</td>\n",
       "      <td>0</td>\n",
       "      <td>0</td>\n",
       "      <td>1</td>\n",
       "      <td>1</td>\n",
       "      <td>0</td>\n",
       "      <td>0</td>\n",
       "      <td>1</td>\n",
       "      <td>1</td>\n",
       "      <td>0</td>\n",
       "      <td>1</td>\n",
       "      <td>0</td>\n",
       "      <td>0</td>\n",
       "      <td>0</td>\n",
       "      <td>1</td>\n",
       "      <td>1</td>\n",
       "      <td>1</td>\n",
       "      <td>1</td>\n",
       "      <td>0</td>\n",
       "      <td>0</td>\n",
       "      <td>1</td>\n",
       "      <td>0</td>\n",
       "      <td>0</td>\n",
       "      <td>0</td>\n",
       "      <td>0</td>\n",
       "      <td>1</td>\n",
       "      <td>0</td>\n",
       "      <td>0</td>\n",
       "      <td>1</td>\n",
       "      <td>0</td>\n",
       "      <td>1</td>\n",
       "      <td>1</td>\n",
       "      <td>0</td>\n",
       "      <td>0</td>\n",
       "      <td>0</td>\n",
       "      <td>1</td>\n",
       "      <td>0</td>\n",
       "      <td>1</td>\n",
       "      <td>0</td>\n",
       "      <td>0</td>\n",
       "      <td>0</td>\n",
       "      <td>0</td>\n",
       "      <td>0</td>\n",
       "      <td>0</td>\n",
       "      <td>0</td>\n",
       "      <td>0</td>\n",
       "      <td>0</td>\n",
       "      <td>0</td>\n",
       "      <td>0</td>\n",
       "      <td>0</td>\n",
       "      <td>1</td>\n",
       "      <td>0</td>\n",
       "      <td>1</td>\n",
       "      <td>0</td>\n",
       "      <td>0</td>\n",
       "      <td>0</td>\n",
       "      <td>0</td>\n",
       "      <td>1</td>\n",
       "      <td>0</td>\n",
       "      <td>1</td>\n",
       "      <td>0</td>\n",
       "      <td>1</td>\n",
       "      <td>1</td>\n",
       "      <td>0</td>\n",
       "      <td>0</td>\n",
       "      <td>1</td>\n",
       "      <td>0</td>\n",
       "      <td>1</td>\n",
       "      <td>1</td>\n",
       "      <td>0</td>\n",
       "      <td>0</td>\n",
       "      <td>0</td>\n",
       "      <td>0</td>\n",
       "      <td>1</td>\n",
       "      <td>1</td>\n",
       "      <td>0</td>\n",
       "      <td>1</td>\n",
       "      <td>1</td>\n",
       "      <td>1</td>\n",
       "      <td>0</td>\n",
       "      <td>1</td>\n",
       "      <td>3.80</td>\n",
       "      <td>Automatic</td>\n",
       "      <td>front</td>\n",
       "      <td>Black</td>\n",
       "      <td>99.00</td>\n",
       "      <td>1422.00</td>\n",
       "      <td>Euro 6</td>\n",
       "      <td>4.00</td>\n",
       "      <td>Diesel</td>\n",
       "      <td>5.00</td>\n",
       "      <td>5.00</td>\n",
       "      <td>66</td>\n",
       "    </tr>\n",
       "    <tr>\n",
       "      <th>1</th>\n",
       "      <td>Audi A1</td>\n",
       "      <td>Sedans</td>\n",
       "      <td>14500</td>\n",
       "      <td>Price negotiable</td>\n",
       "      <td>80000.00</td>\n",
       "      <td>Used</td>\n",
       "      <td>NaN</td>\n",
       "      <td>Cloth, Grey</td>\n",
       "      <td>4.00</td>\n",
       "      <td>7.00</td>\n",
       "      <td>1</td>\n",
       "      <td>0</td>\n",
       "      <td>NaN</td>\n",
       "      <td>NaN</td>\n",
       "      <td>NaN</td>\n",
       "      <td>4 (Green)</td>\n",
       "      <td>1</td>\n",
       "      <td>0</td>\n",
       "      <td>0</td>\n",
       "      <td>1</td>\n",
       "      <td>0</td>\n",
       "      <td>0</td>\n",
       "      <td>0</td>\n",
       "      <td>0</td>\n",
       "      <td>0</td>\n",
       "      <td>0</td>\n",
       "      <td>0</td>\n",
       "      <td>0</td>\n",
       "      <td>0</td>\n",
       "      <td>1</td>\n",
       "      <td>0</td>\n",
       "      <td>0</td>\n",
       "      <td>1</td>\n",
       "      <td>0</td>\n",
       "      <td>1</td>\n",
       "      <td>0</td>\n",
       "      <td>0</td>\n",
       "      <td>0</td>\n",
       "      <td>0</td>\n",
       "      <td>0</td>\n",
       "      <td>0</td>\n",
       "      <td>0</td>\n",
       "      <td>0</td>\n",
       "      <td>1</td>\n",
       "      <td>1</td>\n",
       "      <td>0</td>\n",
       "      <td>0</td>\n",
       "      <td>0</td>\n",
       "      <td>0</td>\n",
       "      <td>1</td>\n",
       "      <td>0</td>\n",
       "      <td>1</td>\n",
       "      <td>0</td>\n",
       "      <td>0</td>\n",
       "      <td>1</td>\n",
       "      <td>0</td>\n",
       "      <td>0</td>\n",
       "      <td>1</td>\n",
       "      <td>0</td>\n",
       "      <td>1</td>\n",
       "      <td>1</td>\n",
       "      <td>1</td>\n",
       "      <td>0</td>\n",
       "      <td>0</td>\n",
       "      <td>1</td>\n",
       "      <td>0</td>\n",
       "      <td>0</td>\n",
       "      <td>0</td>\n",
       "      <td>0</td>\n",
       "      <td>0</td>\n",
       "      <td>0</td>\n",
       "      <td>0</td>\n",
       "      <td>0</td>\n",
       "      <td>0</td>\n",
       "      <td>1</td>\n",
       "      <td>1</td>\n",
       "      <td>0</td>\n",
       "      <td>0</td>\n",
       "      <td>0</td>\n",
       "      <td>1</td>\n",
       "      <td>0</td>\n",
       "      <td>1</td>\n",
       "      <td>0</td>\n",
       "      <td>0</td>\n",
       "      <td>0</td>\n",
       "      <td>0</td>\n",
       "      <td>1</td>\n",
       "      <td>1</td>\n",
       "      <td>1</td>\n",
       "      <td>0</td>\n",
       "      <td>1</td>\n",
       "      <td>1</td>\n",
       "      <td>0</td>\n",
       "      <td>0</td>\n",
       "      <td>0</td>\n",
       "      <td>1</td>\n",
       "      <td>1</td>\n",
       "      <td>1</td>\n",
       "      <td>0</td>\n",
       "      <td>0</td>\n",
       "      <td>0</td>\n",
       "      <td>0</td>\n",
       "      <td>1</td>\n",
       "      <td>1</td>\n",
       "      <td>0</td>\n",
       "      <td>1</td>\n",
       "      <td>1</td>\n",
       "      <td>1</td>\n",
       "      <td>0</td>\n",
       "      <td>1</td>\n",
       "      <td>5.60</td>\n",
       "      <td>Automatic</td>\n",
       "      <td>front</td>\n",
       "      <td>Red</td>\n",
       "      <td>129.00</td>\n",
       "      <td>1798.00</td>\n",
       "      <td>Euro 6</td>\n",
       "      <td>3.00</td>\n",
       "      <td>Benzine</td>\n",
       "      <td>3.00</td>\n",
       "      <td>4.00</td>\n",
       "      <td>141</td>\n",
       "    </tr>\n",
       "    <tr>\n",
       "      <th>2</th>\n",
       "      <td>Audi A1</td>\n",
       "      <td>Sedans</td>\n",
       "      <td>14640</td>\n",
       "      <td>VAT deductible</td>\n",
       "      <td>83450.00</td>\n",
       "      <td>Used</td>\n",
       "      <td>['\\nMetallic\\n']</td>\n",
       "      <td>Cloth, Black</td>\n",
       "      <td>nan</td>\n",
       "      <td>nan</td>\n",
       "      <td>1</td>\n",
       "      <td>0</td>\n",
       "      <td>NaN</td>\n",
       "      <td>Metallic</td>\n",
       "      <td>NaN</td>\n",
       "      <td>4 (Green)</td>\n",
       "      <td>1</td>\n",
       "      <td>0</td>\n",
       "      <td>0</td>\n",
       "      <td>0</td>\n",
       "      <td>0</td>\n",
       "      <td>1</td>\n",
       "      <td>0</td>\n",
       "      <td>0</td>\n",
       "      <td>1</td>\n",
       "      <td>0</td>\n",
       "      <td>0</td>\n",
       "      <td>0</td>\n",
       "      <td>0</td>\n",
       "      <td>1</td>\n",
       "      <td>0</td>\n",
       "      <td>0</td>\n",
       "      <td>1</td>\n",
       "      <td>0</td>\n",
       "      <td>0</td>\n",
       "      <td>0</td>\n",
       "      <td>1</td>\n",
       "      <td>1</td>\n",
       "      <td>0</td>\n",
       "      <td>1</td>\n",
       "      <td>0</td>\n",
       "      <td>0</td>\n",
       "      <td>1</td>\n",
       "      <td>1</td>\n",
       "      <td>1</td>\n",
       "      <td>0</td>\n",
       "      <td>1</td>\n",
       "      <td>0</td>\n",
       "      <td>0</td>\n",
       "      <td>1</td>\n",
       "      <td>0</td>\n",
       "      <td>0</td>\n",
       "      <td>0</td>\n",
       "      <td>0</td>\n",
       "      <td>0</td>\n",
       "      <td>0</td>\n",
       "      <td>0</td>\n",
       "      <td>0</td>\n",
       "      <td>1</td>\n",
       "      <td>1</td>\n",
       "      <td>0</td>\n",
       "      <td>0</td>\n",
       "      <td>0</td>\n",
       "      <td>0</td>\n",
       "      <td>1</td>\n",
       "      <td>0</td>\n",
       "      <td>0</td>\n",
       "      <td>0</td>\n",
       "      <td>0</td>\n",
       "      <td>0</td>\n",
       "      <td>0</td>\n",
       "      <td>0</td>\n",
       "      <td>0</td>\n",
       "      <td>0</td>\n",
       "      <td>0</td>\n",
       "      <td>0</td>\n",
       "      <td>0</td>\n",
       "      <td>0</td>\n",
       "      <td>0</td>\n",
       "      <td>1</td>\n",
       "      <td>0</td>\n",
       "      <td>1</td>\n",
       "      <td>0</td>\n",
       "      <td>0</td>\n",
       "      <td>0</td>\n",
       "      <td>0</td>\n",
       "      <td>1</td>\n",
       "      <td>0</td>\n",
       "      <td>1</td>\n",
       "      <td>0</td>\n",
       "      <td>1</td>\n",
       "      <td>1</td>\n",
       "      <td>0</td>\n",
       "      <td>0</td>\n",
       "      <td>0</td>\n",
       "      <td>0</td>\n",
       "      <td>1</td>\n",
       "      <td>1</td>\n",
       "      <td>0</td>\n",
       "      <td>0</td>\n",
       "      <td>0</td>\n",
       "      <td>0</td>\n",
       "      <td>1</td>\n",
       "      <td>1</td>\n",
       "      <td>0</td>\n",
       "      <td>1</td>\n",
       "      <td>1</td>\n",
       "      <td>1</td>\n",
       "      <td>0</td>\n",
       "      <td>0</td>\n",
       "      <td>3.80</td>\n",
       "      <td>Automatic</td>\n",
       "      <td>front</td>\n",
       "      <td>Black</td>\n",
       "      <td>99.00</td>\n",
       "      <td>1598.00</td>\n",
       "      <td>Euro 6</td>\n",
       "      <td>4.00</td>\n",
       "      <td>Diesel</td>\n",
       "      <td>4.00</td>\n",
       "      <td>4.00</td>\n",
       "      <td>85</td>\n",
       "    </tr>\n",
       "    <tr>\n",
       "      <th>3</th>\n",
       "      <td>Audi A1</td>\n",
       "      <td>Sedans</td>\n",
       "      <td>14500</td>\n",
       "      <td>NaN</td>\n",
       "      <td>73000.00</td>\n",
       "      <td>Used</td>\n",
       "      <td>['\\nMetallic\\n']</td>\n",
       "      <td>NaN</td>\n",
       "      <td>3.00</td>\n",
       "      <td>6.00</td>\n",
       "      <td>1</td>\n",
       "      <td>0</td>\n",
       "      <td>NaN</td>\n",
       "      <td>Metallic</td>\n",
       "      <td>NaN</td>\n",
       "      <td>NaN</td>\n",
       "      <td>0</td>\n",
       "      <td>1</td>\n",
       "      <td>1</td>\n",
       "      <td>0</td>\n",
       "      <td>1</td>\n",
       "      <td>0</td>\n",
       "      <td>0</td>\n",
       "      <td>0</td>\n",
       "      <td>1</td>\n",
       "      <td>0</td>\n",
       "      <td>0</td>\n",
       "      <td>1</td>\n",
       "      <td>0</td>\n",
       "      <td>1</td>\n",
       "      <td>0</td>\n",
       "      <td>0</td>\n",
       "      <td>1</td>\n",
       "      <td>1</td>\n",
       "      <td>1</td>\n",
       "      <td>0</td>\n",
       "      <td>1</td>\n",
       "      <td>1</td>\n",
       "      <td>0</td>\n",
       "      <td>0</td>\n",
       "      <td>0</td>\n",
       "      <td>0</td>\n",
       "      <td>0</td>\n",
       "      <td>0</td>\n",
       "      <td>1</td>\n",
       "      <td>1</td>\n",
       "      <td>1</td>\n",
       "      <td>0</td>\n",
       "      <td>1</td>\n",
       "      <td>1</td>\n",
       "      <td>0</td>\n",
       "      <td>0</td>\n",
       "      <td>0</td>\n",
       "      <td>0</td>\n",
       "      <td>1</td>\n",
       "      <td>1</td>\n",
       "      <td>0</td>\n",
       "      <td>1</td>\n",
       "      <td>1</td>\n",
       "      <td>1</td>\n",
       "      <td>1</td>\n",
       "      <td>1</td>\n",
       "      <td>0</td>\n",
       "      <td>1</td>\n",
       "      <td>1</td>\n",
       "      <td>0</td>\n",
       "      <td>0</td>\n",
       "      <td>0</td>\n",
       "      <td>0</td>\n",
       "      <td>0</td>\n",
       "      <td>0</td>\n",
       "      <td>0</td>\n",
       "      <td>0</td>\n",
       "      <td>0</td>\n",
       "      <td>1</td>\n",
       "      <td>0</td>\n",
       "      <td>0</td>\n",
       "      <td>0</td>\n",
       "      <td>0</td>\n",
       "      <td>1</td>\n",
       "      <td>0</td>\n",
       "      <td>1</td>\n",
       "      <td>0</td>\n",
       "      <td>0</td>\n",
       "      <td>1</td>\n",
       "      <td>0</td>\n",
       "      <td>0</td>\n",
       "      <td>1</td>\n",
       "      <td>0</td>\n",
       "      <td>1</td>\n",
       "      <td>1</td>\n",
       "      <td>1</td>\n",
       "      <td>0</td>\n",
       "      <td>1</td>\n",
       "      <td>0</td>\n",
       "      <td>1</td>\n",
       "      <td>1</td>\n",
       "      <td>1</td>\n",
       "      <td>0</td>\n",
       "      <td>0</td>\n",
       "      <td>0</td>\n",
       "      <td>0</td>\n",
       "      <td>1</td>\n",
       "      <td>1</td>\n",
       "      <td>0</td>\n",
       "      <td>1</td>\n",
       "      <td>1</td>\n",
       "      <td>0</td>\n",
       "      <td>0</td>\n",
       "      <td>0</td>\n",
       "      <td>3.80</td>\n",
       "      <td>Automatic</td>\n",
       "      <td>NaN</td>\n",
       "      <td>Brown</td>\n",
       "      <td>99.00</td>\n",
       "      <td>1422.00</td>\n",
       "      <td>Euro 6</td>\n",
       "      <td>4.00</td>\n",
       "      <td>Diesel</td>\n",
       "      <td>3.00</td>\n",
       "      <td>4.00</td>\n",
       "      <td>66</td>\n",
       "    </tr>\n",
       "    <tr>\n",
       "      <th>4</th>\n",
       "      <td>Audi A1</td>\n",
       "      <td>Sedans</td>\n",
       "      <td>16790</td>\n",
       "      <td>NaN</td>\n",
       "      <td>16200.00</td>\n",
       "      <td>Used</td>\n",
       "      <td>['\\nMetallic\\n']</td>\n",
       "      <td>Cloth, Black</td>\n",
       "      <td>3.00</td>\n",
       "      <td>nan</td>\n",
       "      <td>1</td>\n",
       "      <td>1</td>\n",
       "      <td>NaN</td>\n",
       "      <td>Metallic</td>\n",
       "      <td>Germany</td>\n",
       "      <td>NaN</td>\n",
       "      <td>1</td>\n",
       "      <td>0</td>\n",
       "      <td>1</td>\n",
       "      <td>1</td>\n",
       "      <td>0</td>\n",
       "      <td>0</td>\n",
       "      <td>0</td>\n",
       "      <td>0</td>\n",
       "      <td>1</td>\n",
       "      <td>0</td>\n",
       "      <td>0</td>\n",
       "      <td>0</td>\n",
       "      <td>0</td>\n",
       "      <td>1</td>\n",
       "      <td>0</td>\n",
       "      <td>0</td>\n",
       "      <td>1</td>\n",
       "      <td>1</td>\n",
       "      <td>0</td>\n",
       "      <td>0</td>\n",
       "      <td>1</td>\n",
       "      <td>0</td>\n",
       "      <td>0</td>\n",
       "      <td>1</td>\n",
       "      <td>0</td>\n",
       "      <td>0</td>\n",
       "      <td>0</td>\n",
       "      <td>1</td>\n",
       "      <td>1</td>\n",
       "      <td>1</td>\n",
       "      <td>0</td>\n",
       "      <td>0</td>\n",
       "      <td>0</td>\n",
       "      <td>1</td>\n",
       "      <td>0</td>\n",
       "      <td>0</td>\n",
       "      <td>0</td>\n",
       "      <td>0</td>\n",
       "      <td>1</td>\n",
       "      <td>1</td>\n",
       "      <td>0</td>\n",
       "      <td>1</td>\n",
       "      <td>1</td>\n",
       "      <td>1</td>\n",
       "      <td>1</td>\n",
       "      <td>0</td>\n",
       "      <td>0</td>\n",
       "      <td>1</td>\n",
       "      <td>1</td>\n",
       "      <td>0</td>\n",
       "      <td>0</td>\n",
       "      <td>0</td>\n",
       "      <td>0</td>\n",
       "      <td>0</td>\n",
       "      <td>0</td>\n",
       "      <td>0</td>\n",
       "      <td>0</td>\n",
       "      <td>1</td>\n",
       "      <td>0</td>\n",
       "      <td>1</td>\n",
       "      <td>0</td>\n",
       "      <td>0</td>\n",
       "      <td>0</td>\n",
       "      <td>1</td>\n",
       "      <td>0</td>\n",
       "      <td>1</td>\n",
       "      <td>0</td>\n",
       "      <td>0</td>\n",
       "      <td>0</td>\n",
       "      <td>0</td>\n",
       "      <td>1</td>\n",
       "      <td>0</td>\n",
       "      <td>0</td>\n",
       "      <td>0</td>\n",
       "      <td>1</td>\n",
       "      <td>1</td>\n",
       "      <td>0</td>\n",
       "      <td>0</td>\n",
       "      <td>1</td>\n",
       "      <td>0</td>\n",
       "      <td>1</td>\n",
       "      <td>1</td>\n",
       "      <td>0</td>\n",
       "      <td>0</td>\n",
       "      <td>0</td>\n",
       "      <td>0</td>\n",
       "      <td>1</td>\n",
       "      <td>1</td>\n",
       "      <td>0</td>\n",
       "      <td>1</td>\n",
       "      <td>1</td>\n",
       "      <td>1</td>\n",
       "      <td>0</td>\n",
       "      <td>1</td>\n",
       "      <td>4.10</td>\n",
       "      <td>Automatic</td>\n",
       "      <td>front</td>\n",
       "      <td>Black</td>\n",
       "      <td>109.00</td>\n",
       "      <td>1422.00</td>\n",
       "      <td>Euro 6</td>\n",
       "      <td>4.00</td>\n",
       "      <td>Diesel</td>\n",
       "      <td>5.00</td>\n",
       "      <td>5.00</td>\n",
       "      <td>66</td>\n",
       "    </tr>\n",
       "  </tbody>\n",
       "</table>\n",
       "</div>"
      ],
      "text/plain": [
       "  make_model body_type  price               vat       km  type        paint type    upholstery  cylinders  gears  previous_owner  inspection_new_bool next_inspection paint_type  country emission_label  cc_air conditioning  cc_air suspension  cc_armrest  cc_automatic climate control  cc_auxiliary heating  cc_cruise control  cc_electric starter  cc_electric tailgate  cc_electrical side mirrors  cc_electrically adjustable seats  cc_electrically heated windshield  cc_heads-up display  cc_heated steering wheel  cc_hill holder  cc_keyless central door lock  cc_leather seats  cc_leather steering wheel  cc_light sensor  cc_lumbar support  cc_massage seats  cc_multi-function steering wheel  cc_navigation system  cc_panorama roof  cc_park distance control  cc_parking assist system camera  cc_parking assist system self-steering  cc_parking assist system sensors front  cc_parking assist system sensors rear  cc_power windows  cc_rain sensor  cc_seat heating  cc_seat ventilation  cc_split rear seats  cc_start-stop system  cc_sunroof  cc_tinted windows  cc_wind deflector  cc_windshield  em_bluetooth  em_cd player  em_digital radio  em_hands-free equipment  em_mp3  em_on-board computer  em_radio  em_sound system  em_television  em_usb  ex_alloy wheels  ex_cab or rented car  ex_catalytic converter  ex_handicapped enabled  ex_right hand drive  ex_roof rack  ex_shift paddles  ex_ski bag  ex_sliding door  ex_sport package  ex_sport seats  ex_sport suspension  ex_touch screen  ex_trailer hitch  ex_tuned car  ex_voice control  ex_winter tyres  ss_abs  ss_adaptive cruise control  ss_adaptive headlights  ss_alarm system  ss_blind spot monitor  ss_central door lock  ss_central door lock with remote control  ss_daytime running lights  ss_driver drowsiness detection  ss_driver-side airbag  ss_electronic stability control  ss_emergency brake assistant  ss_emergency system  ss_fog lights  ss_head airbag  ss_immobilizer  ss_isofix  ss_led daytime running lights  ss_led headlights  \\\n",
       "0    Audi A1    Sedans  15770    VAT deductible 56013.00  Used  ['\\nMetallic\\n']  Cloth, Black       3.00    nan               2                    1      2021-06-01   Metallic      NaN            NaN                    1                  0           1                             1                     0                  1                    0                     0                           1                                 0                                  0                    0                         0               1                             0                 0                          1                1                  0                 0                                 1                     1                 0                         1                                0                                       0                                       0                                      1                 1               1                1                    0                    0                     1           0                  0                  0              0             1             0                 0                        1       0                     1         1                0              0       0                1                     0                       1                       0                    0             0                 0           0                0                 0               0                    0                0                 0             0                 1                0       1                           0                       0                0                      0                     1                                         0                          1                               0                      1                                1                             0                    0              1               0               1          1                              0                  0   \n",
       "1    Audi A1    Sedans  14500  Price negotiable 80000.00  Used               NaN   Cloth, Grey       4.00   7.00               1                    0             NaN        NaN      NaN      4 (Green)                    1                  0           0                             1                     0                  0                    0                     0                           0                                 0                                  0                    0                         0               1                             0                 0                          1                0                  1                 0                                 0                     0                 0                         0                                0                                       0                                       0                                      1                 1               0                0                    0                    0                     1           0                  1                  0              0             1             0                 0                        1       0                     1         1                1              0       0                1                     0                       0                       0                    0             0                 0           0                0                 0               1                    1                0                 0             0                 1                0       1                           0                       0                0                      0                     1                                         1                          1                               0                      1                                1                             0                    0              0               1               1          1                              0                  0   \n",
       "2    Audi A1    Sedans  14640    VAT deductible 83450.00  Used  ['\\nMetallic\\n']  Cloth, Black        nan    nan               1                    0             NaN   Metallic      NaN      4 (Green)                    1                  0           0                             0                     0                  1                    0                     0                           1                                 0                                  0                    0                         0               1                             0                 0                          1                0                  0                 0                                 1                     1                 0                         1                                0                                       0                                       1                                      1                 1               0                1                    0                    0                     1           0                  0                  0              0             0             0                 0                        0       1                     1         0                0              0       0                1                     0                       0                       0                    0             0                 0           0                0                 0               0                    0                0                 0             0                 1                0       1                           0                       0                0                      0                     1                                         0                          1                               0                      1                                1                             0                    0              0               0               1          1                              0                  0   \n",
       "3    Audi A1    Sedans  14500               NaN 73000.00  Used  ['\\nMetallic\\n']           NaN       3.00   6.00               1                    0             NaN   Metallic      NaN            NaN                    0                  1           1                             0                     1                  0                    0                     0                           1                                 0                                  0                    1                         0               1                             0                 0                          1                1                  1                 0                                 1                     1                 0                         0                                0                                       0                                       0                                      0                 1               1                1                    0                    1                     1           0                  0                  0              0             1             1                 0                        1       1                     1         1                1              0       1                1                     0                       0                       0                    0             0                 0           0                0                 0               1                    0                0                 0             0                 1                0       1                           0                       0                1                      0                     0                                         1                          0                               1                      1                                1                             0                    1              0               1               1          1                              0                  0   \n",
       "4    Audi A1    Sedans  16790               NaN 16200.00  Used  ['\\nMetallic\\n']  Cloth, Black       3.00    nan               1                    1             NaN   Metallic  Germany            NaN                    1                  0           1                             1                     0                  0                    0                     0                           1                                 0                                  0                    0                         0               1                             0                 0                          1                1                  0                 0                                 1                     0                 0                         1                                0                                       0                                       0                                      1                 1               1                0                    0                    0                     1           0                  0                  0              0             1             1                 0                        1       1                     1         1                0              0       1                1                     0                       0                       0                    0             0                 0           0                0                 1               0                    1                0                 0             0                 1                0       1                           0                       0                0                      0                     1                                         0                          0                               0                      1                                1                             0                    0              1               0               1          1                              0                  0   \n",
       "\n",
       "   ss_lane departure warning system  ss_night view assist  ss_passenger-side airbag  ss_power steering  ss_rear airbag  ss_side airbag  ss_tire pressure monitoring system  ss_traction control  ss_traffic sign recognition  ss_xenon headlights  consumption_comb  gear_type drive_chain body_color  co2_emission  displacement_cc emission_class  register_age fuel_new  nr_doors  nr_seats  hp_kw  \n",
       "0                                 0                     0                         1                  1               0               1                                   1                    1                            0                    1              3.80  Automatic       front      Black         99.00          1422.00         Euro 6          4.00   Diesel      5.00      5.00     66  \n",
       "1                                 0                     0                         1                  1               0               1                                   1                    1                            0                    1              5.60  Automatic       front        Red        129.00          1798.00         Euro 6          3.00  Benzine      3.00      4.00    141  \n",
       "2                                 0                     0                         1                  1               0               1                                   1                    1                            0                    0              3.80  Automatic       front      Black         99.00          1598.00         Euro 6          4.00   Diesel      4.00      4.00     85  \n",
       "3                                 0                     0                         1                  1               0               1                                   1                    0                            0                    0              3.80  Automatic         NaN      Brown         99.00          1422.00         Euro 6          4.00   Diesel      3.00      4.00     66  \n",
       "4                                 0                     0                         1                  1               0               1                                   1                    1                            0                    1              4.10  Automatic       front      Black        109.00          1422.00         Euro 6          4.00   Diesel      5.00      5.00     66  "
      ]
     },
     "execution_count": 4,
     "metadata": {},
     "output_type": "execute_result"
    }
   ],
   "source": [
    "oto1.head()"
   ]
  },
  {
   "cell_type": "markdown",
   "metadata": {},
   "source": [
    "### Werfen wir einen Blick auf die Spalten, in denen Werte fehlen."
   ]
  },
  {
   "cell_type": "code",
   "execution_count": 5,
   "metadata": {},
   "outputs": [
    {
     "data": {
      "text/plain": [
       "['vat',\n",
       " 'km',\n",
       " 'type',\n",
       " 'paint type',\n",
       " 'upholstery',\n",
       " 'cylinders',\n",
       " 'gears',\n",
       " 'next_inspection',\n",
       " 'paint_type',\n",
       " 'country',\n",
       " 'emission_label',\n",
       " 'consumption_comb',\n",
       " 'drive_chain',\n",
       " 'displacement_cc',\n",
       " 'emission_class',\n",
       " 'register_age',\n",
       " 'nr_doors',\n",
       " 'nr_seats']"
      ]
     },
     "execution_count": 5,
     "metadata": {},
     "output_type": "execute_result"
    }
   ],
   "source": [
    "miss_val = []\n",
    "\n",
    "[miss_val.append(i) for i in oto1.columns if any(oto1[i].isnull())]\n",
    "\n",
    "miss_val"
   ]
  },
  {
   "cell_type": "markdown",
   "metadata": {},
   "source": [
    "## Umgang mit fehlenden Werten und Ausreißern"
   ]
  },
  {
   "cell_type": "code",
   "execution_count": 6,
   "metadata": {},
   "outputs": [],
   "source": [
    "def fill_most(group_col, col_name): \n",
    "      for group in list(oto1[group_col].unique()):\n",
    "        grp_inx=list(oto1[oto1[group_col]==group][col_name].index)\n",
    "        oto1[col_name].iloc[grp_inx]=oto1[col_name].iloc[grp_inx].fillna(oto1[oto1[group_col]==group][col_name].mode()[0])"
   ]
  },
  {
   "cell_type": "markdown",
   "metadata": {},
   "source": [
    "***"
   ]
  },
  {
   "cell_type": "markdown",
   "metadata": {},
   "source": [
    "### ``\"body_type\"``"
   ]
  },
  {
   "cell_type": "code",
   "execution_count": 7,
   "metadata": {},
   "outputs": [
    {
     "data": {
      "text/plain": [
       "Sedans           7925\n",
       "Station wagon    3563\n",
       "Compact          3155\n",
       "Van               809\n",
       "Other             290\n",
       "Transporter        88\n",
       "Off-Road           56\n",
       "Coupe              25\n",
       "Convertible         8\n",
       "Name: body_type, dtype: int64"
      ]
     },
     "execution_count": 7,
     "metadata": {},
     "output_type": "execute_result"
    }
   ],
   "source": [
    "oto1.body_type.value_counts(dropna = False)"
   ]
  },
  {
   "cell_type": "code",
   "execution_count": 8,
   "metadata": {},
   "outputs": [],
   "source": [
    "oto1.body_type[oto1.body_type == \"Other\"] = np.nan\n",
    "fill_most(\"make_model\", \"body_type\")"
   ]
  },
  {
   "cell_type": "code",
   "execution_count": 9,
   "metadata": {},
   "outputs": [
    {
     "data": {
      "text/plain": [
       "<AxesSubplot:>"
      ]
     },
     "execution_count": 9,
     "metadata": {},
     "output_type": "execute_result"
    },
    {
     "data": {
      "image/png": "[encoded data removed]",
      "text/plain": [
       "<Figure size 432x288 with 1 Axes>"
      ]
     },
     "metadata": {},
     "output_type": "display_data"
    }
   ],
   "source": [
    "oto1.body_type.value_counts(dropna = False).plot(kind = \"bar\")"
   ]
  },
  {
   "cell_type": "markdown",
   "metadata": {},
   "source": [
    "***"
   ]
  },
  {
   "cell_type": "markdown",
   "metadata": {},
   "source": [
    "### ``\"cylinders\"``"
   ]
  },
  {
   "cell_type": "markdown",
   "metadata": {},
   "source": [
    "- Wir müssen eine Schlussfolgerung ziehen, wenn wir sie fallen lassen sollen. Zuerst werden wir fehlende Werte füllen, bevor wir eine Entscheidung treffen."
   ]
  },
  {
   "cell_type": "code",
   "execution_count": 10,
   "metadata": {},
   "outputs": [
    {
     "data": {
      "text/plain": [
       "4.00    8105\n",
       "nan     5680\n",
       "3.00    2104\n",
       "5.00      22\n",
       "6.00       3\n",
       "2.00       2\n",
       "8.00       2\n",
       "1.00       1\n",
       "Name: cylinders, dtype: int64"
      ]
     },
     "execution_count": 10,
     "metadata": {},
     "output_type": "execute_result"
    }
   ],
   "source": [
    "oto1.cylinders.value_counts(dropna=False)"
   ]
  },
  {
   "cell_type": "code",
   "execution_count": 11,
   "metadata": {},
   "outputs": [
    {
     "data": {
      "text/plain": [
       "<AxesSubplot:xlabel='make_model'>"
      ]
     },
     "execution_count": 11,
     "metadata": {},
     "output_type": "execute_result"
    },
    {
     "data": {
      "image/png": "[encoded data removed]",
      "text/plain": [
       "<Figure size 432x288 with 1 Axes>"
      ]
     },
     "metadata": {},
     "output_type": "display_data"
    }
   ],
   "source": [
    "oto1.groupby('make_model')['cylinders'].median().plot(kind = \"bar\")"
   ]
  },
  {
   "cell_type": "code",
   "execution_count": 12,
   "metadata": {},
   "outputs": [
    {
     "data": {
      "text/plain": [
       "0       3.00\n",
       "1       3.00\n",
       "2       3.00\n",
       "3       3.00\n",
       "4       3.00\n",
       "        ... \n",
       "15914   4.00\n",
       "15915   4.00\n",
       "15916   4.00\n",
       "15917   4.00\n",
       "15918   4.00\n",
       "Name: cylinders, Length: 15919, dtype: float64"
      ]
     },
     "execution_count": 12,
     "metadata": {},
     "output_type": "execute_result"
    }
   ],
   "source": [
    "oto1.groupby('make_model')['cylinders'].transform('median')"
   ]
  },
  {
   "cell_type": "code",
   "execution_count": 13,
   "metadata": {},
   "outputs": [],
   "source": [
    "test1 = oto1['cylinders'].fillna(oto1.groupby('make_model')['cylinders'].transform('median'))\n",
    "test2 = oto1['cylinders'].fillna(oto1.groupby('make_model')['cylinders'].median())"
   ]
  },
  {
   "cell_type": "code",
   "execution_count": 14,
   "metadata": {},
   "outputs": [
    {
     "data": {
      "text/plain": [
       "4.00    12925\n",
       "3.00     2963\n",
       "5.00       22\n",
       "6.00        3\n",
       "2.00        2\n",
       "8.00        2\n",
       "1.00        1\n",
       "nan         1\n",
       "Name: cylinders, dtype: int64"
      ]
     },
     "execution_count": 14,
     "metadata": {},
     "output_type": "execute_result"
    }
   ],
   "source": [
    "test1.value_counts(dropna = False)"
   ]
  },
  {
   "cell_type": "code",
   "execution_count": 15,
   "metadata": {},
   "outputs": [
    {
     "data": {
      "text/plain": [
       "4.00    8105\n",
       "nan     5680\n",
       "3.00    2104\n",
       "5.00      22\n",
       "6.00       3\n",
       "2.00       2\n",
       "8.00       2\n",
       "1.00       1\n",
       "Name: cylinders, dtype: int64"
      ]
     },
     "execution_count": 15,
     "metadata": {},
     "output_type": "execute_result"
    }
   ],
   "source": [
    "test2.value_counts(dropna = False)"
   ]
  },
  {
   "cell_type": "code",
   "execution_count": 16,
   "metadata": {},
   "outputs": [],
   "source": [
    "oto1['cylinders'] = oto1['cylinders'].fillna(oto1.groupby('make_model')['cylinders'].transform('median'))"
   ]
  },
  {
   "cell_type": "code",
   "execution_count": 17,
   "metadata": {},
   "outputs": [
    {
     "data": {
      "text/plain": [
       "4.00    12925\n",
       "3.00     2963\n",
       "5.00       22\n",
       "6.00        3\n",
       "2.00        2\n",
       "8.00        2\n",
       "1.00        1\n",
       "nan         1\n",
       "Name: cylinders, dtype: int64"
      ]
     },
     "execution_count": 17,
     "metadata": {},
     "output_type": "execute_result"
    }
   ],
   "source": [
    "oto1.cylinders.value_counts(dropna=False)"
   ]
  },
  {
   "cell_type": "code",
   "execution_count": 18,
   "metadata": {},
   "outputs": [],
   "source": [
    "# Audi A-2 hat keinen Wert. Also gehört dieser Nan zu A-2?\n",
    "\n",
    "oto1.cylinders.fillna(3, inplace=True)"
   ]
  },
  {
   "cell_type": "code",
   "execution_count": 19,
   "metadata": {},
   "outputs": [
    {
     "data": {
      "text/plain": [
       "4.00    12925\n",
       "3.00     2964\n",
       "5.00       22\n",
       "6.00        3\n",
       "2.00        2\n",
       "8.00        2\n",
       "1.00        1\n",
       "Name: cylinders, dtype: int64"
      ]
     },
     "execution_count": 19,
     "metadata": {},
     "output_type": "execute_result"
    }
   ],
   "source": [
    "oto1.cylinders.value_counts(dropna=False)"
   ]
  },
  {
   "cell_type": "code",
   "execution_count": 20,
   "metadata": {},
   "outputs": [],
   "source": [
    "oto1.drop(\"cylinders\", axis = 1, inplace = True)"
   ]
  },
  {
   "cell_type": "markdown",
   "metadata": {},
   "source": [
    "***"
   ]
  },
  {
   "cell_type": "markdown",
   "metadata": {},
   "source": [
    "### ``\"gears\"``"
   ]
  },
  {
   "cell_type": "code",
   "execution_count": 21,
   "metadata": {},
   "outputs": [
    {
     "data": {
      "text/plain": [
       "6.00    5822\n",
       "nan     4712\n",
       "5.00    3240\n",
       "7.00    1908\n",
       "8.00     224\n",
       "9.00       6\n",
       "4.00       2\n",
       "3.00       2\n",
       "1.00       2\n",
       "2.00       1\n",
       "Name: gears, dtype: int64"
      ]
     },
     "execution_count": 21,
     "metadata": {},
     "output_type": "execute_result"
    }
   ],
   "source": [
    "oto1.gears.value_counts(dropna = False)"
   ]
  },
  {
   "cell_type": "code",
   "execution_count": 22,
   "metadata": {},
   "outputs": [],
   "source": [
    "oto1[\"gears\"] = oto1[\"gears\"].fillna(oto1.groupby(\"make_model\")[\"gears\"].transform(\"median\"))"
   ]
  },
  {
   "cell_type": "code",
   "execution_count": 23,
   "metadata": {},
   "outputs": [
    {
     "data": {
      "text/plain": [
       "6.00    9361\n",
       "5.00    4412\n",
       "7.00    1908\n",
       "8.00     224\n",
       "9.00       6\n",
       "4.00       2\n",
       "3.00       2\n",
       "1.00       2\n",
       "2.00       1\n",
       "nan        1\n",
       "Name: gears, dtype: int64"
      ]
     },
     "execution_count": 23,
     "metadata": {},
     "output_type": "execute_result"
    }
   ],
   "source": [
    "oto1.gears.value_counts(dropna = False)"
   ]
  },
  {
   "cell_type": "code",
   "execution_count": 24,
   "metadata": {},
   "outputs": [
    {
     "data": {
      "text/plain": [
       "make_model\n",
       "Audi A1          6.00\n",
       "Audi A2           nan\n",
       "Audi A3          6.00\n",
       "Opel Astra       6.00\n",
       "Opel Corsa       5.00\n",
       "Opel Insignia    6.00\n",
       "Renault Clio     5.00\n",
       "Renault Duster   6.00\n",
       "Renault Espace   6.00\n",
       "Name: gears, dtype: float64"
      ]
     },
     "execution_count": 24,
     "metadata": {},
     "output_type": "execute_result"
    }
   ],
   "source": [
    "oto1.groupby(\"make_model\")[\"gears\"].median()"
   ]
  },
  {
   "cell_type": "code",
   "execution_count": 25,
   "metadata": {},
   "outputs": [],
   "source": [
    "oto1.gears.fillna(5, inplace = True)"
   ]
  },
  {
   "cell_type": "code",
   "execution_count": 26,
   "metadata": {},
   "outputs": [
    {
     "data": {
      "text/plain": [
       "6.00    9361\n",
       "5.00    4413\n",
       "7.00    1908\n",
       "8.00     224\n",
       "9.00       6\n",
       "4.00       2\n",
       "3.00       2\n",
       "1.00       2\n",
       "2.00       1\n",
       "Name: gears, dtype: int64"
      ]
     },
     "execution_count": 26,
     "metadata": {},
     "output_type": "execute_result"
    }
   ],
   "source": [
    "oto1.gears.value_counts(dropna = False)"
   ]
  },
  {
   "cell_type": "markdown",
   "metadata": {},
   "source": [
    "### Umgang mit Ausreißern"
   ]
  },
  {
   "cell_type": "code",
   "execution_count": 27,
   "metadata": {},
   "outputs": [
    {
     "data": {
      "text/html": [
       "<div>\n",
       "<style scoped>\n",
       "    .dataframe tbody tr th:only-of-type {\n",
       "        vertical-align: middle;\n",
       "    }\n",
       "\n",
       "    .dataframe tbody tr th {\n",
       "        vertical-align: top;\n",
       "    }\n",
       "\n",
       "    .dataframe thead th {\n",
       "        text-align: right;\n",
       "    }\n",
       "</style>\n",
       "<table border=\"1\" class=\"dataframe\">\n",
       "  <thead>\n",
       "    <tr style=\"text-align: right;\">\n",
       "      <th></th>\n",
       "      <th>make_model</th>\n",
       "      <th>body_type</th>\n",
       "      <th>price</th>\n",
       "      <th>vat</th>\n",
       "      <th>km</th>\n",
       "      <th>type</th>\n",
       "      <th>paint type</th>\n",
       "      <th>upholstery</th>\n",
       "      <th>gears</th>\n",
       "      <th>previous_owner</th>\n",
       "      <th>inspection_new_bool</th>\n",
       "      <th>next_inspection</th>\n",
       "      <th>paint_type</th>\n",
       "      <th>country</th>\n",
       "      <th>emission_label</th>\n",
       "      <th>cc_air conditioning</th>\n",
       "      <th>cc_air suspension</th>\n",
       "      <th>cc_armrest</th>\n",
       "      <th>cc_automatic climate control</th>\n",
       "      <th>cc_auxiliary heating</th>\n",
       "      <th>cc_cruise control</th>\n",
       "      <th>cc_electric starter</th>\n",
       "      <th>cc_electric tailgate</th>\n",
       "      <th>cc_electrical side mirrors</th>\n",
       "      <th>cc_electrically adjustable seats</th>\n",
       "      <th>cc_electrically heated windshield</th>\n",
       "      <th>cc_heads-up display</th>\n",
       "      <th>cc_heated steering wheel</th>\n",
       "      <th>cc_hill holder</th>\n",
       "      <th>cc_keyless central door lock</th>\n",
       "      <th>cc_leather seats</th>\n",
       "      <th>cc_leather steering wheel</th>\n",
       "      <th>cc_light sensor</th>\n",
       "      <th>cc_lumbar support</th>\n",
       "      <th>cc_massage seats</th>\n",
       "      <th>cc_multi-function steering wheel</th>\n",
       "      <th>cc_navigation system</th>\n",
       "      <th>cc_panorama roof</th>\n",
       "      <th>cc_park distance control</th>\n",
       "      <th>cc_parking assist system camera</th>\n",
       "      <th>cc_parking assist system self-steering</th>\n",
       "      <th>cc_parking assist system sensors front</th>\n",
       "      <th>cc_parking assist system sensors rear</th>\n",
       "      <th>cc_power windows</th>\n",
       "      <th>cc_rain sensor</th>\n",
       "      <th>cc_seat heating</th>\n",
       "      <th>cc_seat ventilation</th>\n",
       "      <th>cc_split rear seats</th>\n",
       "      <th>cc_start-stop system</th>\n",
       "      <th>cc_sunroof</th>\n",
       "      <th>cc_tinted windows</th>\n",
       "      <th>cc_wind deflector</th>\n",
       "      <th>cc_windshield</th>\n",
       "      <th>em_bluetooth</th>\n",
       "      <th>em_cd player</th>\n",
       "      <th>em_digital radio</th>\n",
       "      <th>em_hands-free equipment</th>\n",
       "      <th>em_mp3</th>\n",
       "      <th>em_on-board computer</th>\n",
       "      <th>em_radio</th>\n",
       "      <th>em_sound system</th>\n",
       "      <th>em_television</th>\n",
       "      <th>em_usb</th>\n",
       "      <th>ex_alloy wheels</th>\n",
       "      <th>ex_cab or rented car</th>\n",
       "      <th>ex_catalytic converter</th>\n",
       "      <th>ex_handicapped enabled</th>\n",
       "      <th>ex_right hand drive</th>\n",
       "      <th>ex_roof rack</th>\n",
       "      <th>ex_shift paddles</th>\n",
       "      <th>ex_ski bag</th>\n",
       "      <th>ex_sliding door</th>\n",
       "      <th>ex_sport package</th>\n",
       "      <th>ex_sport seats</th>\n",
       "      <th>ex_sport suspension</th>\n",
       "      <th>ex_touch screen</th>\n",
       "      <th>ex_trailer hitch</th>\n",
       "      <th>ex_tuned car</th>\n",
       "      <th>ex_voice control</th>\n",
       "      <th>ex_winter tyres</th>\n",
       "      <th>ss_abs</th>\n",
       "      <th>ss_adaptive cruise control</th>\n",
       "      <th>ss_adaptive headlights</th>\n",
       "      <th>ss_alarm system</th>\n",
       "      <th>ss_blind spot monitor</th>\n",
       "      <th>ss_central door lock</th>\n",
       "      <th>ss_central door lock with remote control</th>\n",
       "      <th>ss_daytime running lights</th>\n",
       "      <th>ss_driver drowsiness detection</th>\n",
       "      <th>ss_driver-side airbag</th>\n",
       "      <th>ss_electronic stability control</th>\n",
       "      <th>ss_emergency brake assistant</th>\n",
       "      <th>ss_emergency system</th>\n",
       "      <th>ss_fog lights</th>\n",
       "      <th>ss_head airbag</th>\n",
       "      <th>ss_immobilizer</th>\n",
       "      <th>ss_isofix</th>\n",
       "      <th>ss_led daytime running lights</th>\n",
       "      <th>ss_led headlights</th>\n",
       "      <th>ss_lane departure warning system</th>\n",
       "      <th>ss_night view assist</th>\n",
       "      <th>ss_passenger-side airbag</th>\n",
       "      <th>ss_power steering</th>\n",
       "      <th>ss_rear airbag</th>\n",
       "      <th>ss_side airbag</th>\n",
       "      <th>ss_tire pressure monitoring system</th>\n",
       "      <th>ss_traction control</th>\n",
       "      <th>ss_traffic sign recognition</th>\n",
       "      <th>ss_xenon headlights</th>\n",
       "      <th>consumption_comb</th>\n",
       "      <th>gear_type</th>\n",
       "      <th>drive_chain</th>\n",
       "      <th>body_color</th>\n",
       "      <th>co2_emission</th>\n",
       "      <th>displacement_cc</th>\n",
       "      <th>emission_class</th>\n",
       "      <th>register_age</th>\n",
       "      <th>fuel_new</th>\n",
       "      <th>nr_doors</th>\n",
       "      <th>nr_seats</th>\n",
       "      <th>hp_kw</th>\n",
       "    </tr>\n",
       "  </thead>\n",
       "  <tbody>\n",
       "    <tr>\n",
       "      <th>15822</th>\n",
       "      <td>Renault Espace</td>\n",
       "      <td>Van</td>\n",
       "      <td>50950</td>\n",
       "      <td>VAT deductible</td>\n",
       "      <td>11.00</td>\n",
       "      <td>New</td>\n",
       "      <td>['\\nMetallic\\n']</td>\n",
       "      <td>Cloth</td>\n",
       "      <td>4.00</td>\n",
       "      <td>1</td>\n",
       "      <td>0</td>\n",
       "      <td>NaN</td>\n",
       "      <td>Metallic</td>\n",
       "      <td>Netherlands</td>\n",
       "      <td>NaN</td>\n",
       "      <td>1</td>\n",
       "      <td>0</td>\n",
       "      <td>1</td>\n",
       "      <td>1</td>\n",
       "      <td>0</td>\n",
       "      <td>1</td>\n",
       "      <td>0</td>\n",
       "      <td>1</td>\n",
       "      <td>1</td>\n",
       "      <td>0</td>\n",
       "      <td>0</td>\n",
       "      <td>0</td>\n",
       "      <td>0</td>\n",
       "      <td>1</td>\n",
       "      <td>1</td>\n",
       "      <td>0</td>\n",
       "      <td>1</td>\n",
       "      <td>1</td>\n",
       "      <td>0</td>\n",
       "      <td>0</td>\n",
       "      <td>1</td>\n",
       "      <td>1</td>\n",
       "      <td>1</td>\n",
       "      <td>1</td>\n",
       "      <td>1</td>\n",
       "      <td>1</td>\n",
       "      <td>1</td>\n",
       "      <td>1</td>\n",
       "      <td>1</td>\n",
       "      <td>1</td>\n",
       "      <td>1</td>\n",
       "      <td>0</td>\n",
       "      <td>0</td>\n",
       "      <td>0</td>\n",
       "      <td>0</td>\n",
       "      <td>0</td>\n",
       "      <td>0</td>\n",
       "      <td>0</td>\n",
       "      <td>0</td>\n",
       "      <td>0</td>\n",
       "      <td>1</td>\n",
       "      <td>0</td>\n",
       "      <td>0</td>\n",
       "      <td>0</td>\n",
       "      <td>1</td>\n",
       "      <td>0</td>\n",
       "      <td>0</td>\n",
       "      <td>0</td>\n",
       "      <td>1</td>\n",
       "      <td>0</td>\n",
       "      <td>0</td>\n",
       "      <td>0</td>\n",
       "      <td>0</td>\n",
       "      <td>0</td>\n",
       "      <td>0</td>\n",
       "      <td>0</td>\n",
       "      <td>0</td>\n",
       "      <td>0</td>\n",
       "      <td>0</td>\n",
       "      <td>0</td>\n",
       "      <td>0</td>\n",
       "      <td>0</td>\n",
       "      <td>0</td>\n",
       "      <td>1</td>\n",
       "      <td>0</td>\n",
       "      <td>1</td>\n",
       "      <td>0</td>\n",
       "      <td>0</td>\n",
       "      <td>0</td>\n",
       "      <td>0</td>\n",
       "      <td>0</td>\n",
       "      <td>0</td>\n",
       "      <td>1</td>\n",
       "      <td>0</td>\n",
       "      <td>1</td>\n",
       "      <td>1</td>\n",
       "      <td>0</td>\n",
       "      <td>0</td>\n",
       "      <td>0</td>\n",
       "      <td>0</td>\n",
       "      <td>1</td>\n",
       "      <td>0</td>\n",
       "      <td>1</td>\n",
       "      <td>1</td>\n",
       "      <td>1</td>\n",
       "      <td>0</td>\n",
       "      <td>1</td>\n",
       "      <td>0</td>\n",
       "      <td>0</td>\n",
       "      <td>1</td>\n",
       "      <td>1</td>\n",
       "      <td>1</td>\n",
       "      <td>1</td>\n",
       "      <td>0</td>\n",
       "      <td>7.60</td>\n",
       "      <td>Automatic</td>\n",
       "      <td>NaN</td>\n",
       "      <td>Grey</td>\n",
       "      <td>116.00</td>\n",
       "      <td>1798.00</td>\n",
       "      <td>NaN</td>\n",
       "      <td>1.00</td>\n",
       "      <td>Benzine</td>\n",
       "      <td>5.00</td>\n",
       "      <td>nan</td>\n",
       "      <td>165</td>\n",
       "    </tr>\n",
       "    <tr>\n",
       "      <th>15823</th>\n",
       "      <td>Renault Espace</td>\n",
       "      <td>Van</td>\n",
       "      <td>50950</td>\n",
       "      <td>VAT deductible</td>\n",
       "      <td>11.00</td>\n",
       "      <td>New</td>\n",
       "      <td>['\\nMetallic\\n']</td>\n",
       "      <td>Cloth</td>\n",
       "      <td>4.00</td>\n",
       "      <td>1</td>\n",
       "      <td>0</td>\n",
       "      <td>NaN</td>\n",
       "      <td>Metallic</td>\n",
       "      <td>Netherlands</td>\n",
       "      <td>NaN</td>\n",
       "      <td>1</td>\n",
       "      <td>0</td>\n",
       "      <td>1</td>\n",
       "      <td>1</td>\n",
       "      <td>0</td>\n",
       "      <td>1</td>\n",
       "      <td>0</td>\n",
       "      <td>1</td>\n",
       "      <td>1</td>\n",
       "      <td>0</td>\n",
       "      <td>0</td>\n",
       "      <td>0</td>\n",
       "      <td>0</td>\n",
       "      <td>1</td>\n",
       "      <td>1</td>\n",
       "      <td>0</td>\n",
       "      <td>1</td>\n",
       "      <td>1</td>\n",
       "      <td>0</td>\n",
       "      <td>0</td>\n",
       "      <td>1</td>\n",
       "      <td>1</td>\n",
       "      <td>1</td>\n",
       "      <td>1</td>\n",
       "      <td>1</td>\n",
       "      <td>1</td>\n",
       "      <td>1</td>\n",
       "      <td>1</td>\n",
       "      <td>1</td>\n",
       "      <td>1</td>\n",
       "      <td>1</td>\n",
       "      <td>0</td>\n",
       "      <td>0</td>\n",
       "      <td>0</td>\n",
       "      <td>0</td>\n",
       "      <td>0</td>\n",
       "      <td>0</td>\n",
       "      <td>0</td>\n",
       "      <td>0</td>\n",
       "      <td>0</td>\n",
       "      <td>1</td>\n",
       "      <td>0</td>\n",
       "      <td>0</td>\n",
       "      <td>0</td>\n",
       "      <td>1</td>\n",
       "      <td>0</td>\n",
       "      <td>0</td>\n",
       "      <td>0</td>\n",
       "      <td>1</td>\n",
       "      <td>0</td>\n",
       "      <td>0</td>\n",
       "      <td>0</td>\n",
       "      <td>0</td>\n",
       "      <td>0</td>\n",
       "      <td>0</td>\n",
       "      <td>0</td>\n",
       "      <td>0</td>\n",
       "      <td>0</td>\n",
       "      <td>0</td>\n",
       "      <td>0</td>\n",
       "      <td>0</td>\n",
       "      <td>0</td>\n",
       "      <td>0</td>\n",
       "      <td>1</td>\n",
       "      <td>0</td>\n",
       "      <td>1</td>\n",
       "      <td>0</td>\n",
       "      <td>0</td>\n",
       "      <td>0</td>\n",
       "      <td>0</td>\n",
       "      <td>0</td>\n",
       "      <td>0</td>\n",
       "      <td>1</td>\n",
       "      <td>0</td>\n",
       "      <td>1</td>\n",
       "      <td>1</td>\n",
       "      <td>0</td>\n",
       "      <td>0</td>\n",
       "      <td>0</td>\n",
       "      <td>0</td>\n",
       "      <td>1</td>\n",
       "      <td>0</td>\n",
       "      <td>1</td>\n",
       "      <td>1</td>\n",
       "      <td>1</td>\n",
       "      <td>0</td>\n",
       "      <td>1</td>\n",
       "      <td>0</td>\n",
       "      <td>0</td>\n",
       "      <td>1</td>\n",
       "      <td>1</td>\n",
       "      <td>1</td>\n",
       "      <td>1</td>\n",
       "      <td>0</td>\n",
       "      <td>7.60</td>\n",
       "      <td>Automatic</td>\n",
       "      <td>NaN</td>\n",
       "      <td>Grey</td>\n",
       "      <td>116.00</td>\n",
       "      <td>1798.00</td>\n",
       "      <td>NaN</td>\n",
       "      <td>1.00</td>\n",
       "      <td>Benzine</td>\n",
       "      <td>5.00</td>\n",
       "      <td>nan</td>\n",
       "      <td>165</td>\n",
       "    </tr>\n",
       "  </tbody>\n",
       "</table>\n",
       "</div>"
      ],
      "text/plain": [
       "           make_model body_type  price             vat    km type        paint type upholstery  gears  previous_owner  inspection_new_bool next_inspection paint_type      country emission_label  cc_air conditioning  cc_air suspension  cc_armrest  cc_automatic climate control  cc_auxiliary heating  cc_cruise control  cc_electric starter  cc_electric tailgate  cc_electrical side mirrors  cc_electrically adjustable seats  cc_electrically heated windshield  cc_heads-up display  cc_heated steering wheel  cc_hill holder  cc_keyless central door lock  cc_leather seats  cc_leather steering wheel  cc_light sensor  cc_lumbar support  cc_massage seats  cc_multi-function steering wheel  cc_navigation system  cc_panorama roof  cc_park distance control  cc_parking assist system camera  cc_parking assist system self-steering  cc_parking assist system sensors front  cc_parking assist system sensors rear  cc_power windows  cc_rain sensor  cc_seat heating  cc_seat ventilation  cc_split rear seats  cc_start-stop system  cc_sunroof  cc_tinted windows  cc_wind deflector  cc_windshield  em_bluetooth  em_cd player  em_digital radio  em_hands-free equipment  em_mp3  em_on-board computer  em_radio  em_sound system  em_television  em_usb  ex_alloy wheels  ex_cab or rented car  ex_catalytic converter  ex_handicapped enabled  ex_right hand drive  ex_roof rack  ex_shift paddles  ex_ski bag  ex_sliding door  ex_sport package  ex_sport seats  ex_sport suspension  ex_touch screen  ex_trailer hitch  ex_tuned car  ex_voice control  ex_winter tyres  ss_abs  ss_adaptive cruise control  ss_adaptive headlights  ss_alarm system  ss_blind spot monitor  ss_central door lock  ss_central door lock with remote control  ss_daytime running lights  ss_driver drowsiness detection  ss_driver-side airbag  ss_electronic stability control  ss_emergency brake assistant  ss_emergency system  ss_fog lights  ss_head airbag  ss_immobilizer  ss_isofix  ss_led daytime running lights  ss_led headlights  \\\n",
       "15822  Renault Espace       Van  50950  VAT deductible 11.00  New  ['\\nMetallic\\n']      Cloth   4.00               1                    0             NaN   Metallic  Netherlands            NaN                    1                  0           1                             1                     0                  1                    0                     1                           1                                 0                                  0                    0                         0               1                             1                 0                          1                1                  0                 0                                 1                     1                 1                         1                                1                                       1                                       1                                      1                 1               1                1                    0                    0                     0           0                  0                  0              0             0             0                 1                        0       0                     0         1                0              0       0                1                     0                       0                       0                    0             0                 0           0                0                 0               0                    0                0                 0             0                 1                0       1                           0                       0                0                      0                     0                                         0                          1                               0                      1                                1                             0                    0              0               0               1          0                              1                  1   \n",
       "15823  Renault Espace       Van  50950  VAT deductible 11.00  New  ['\\nMetallic\\n']      Cloth   4.00               1                    0             NaN   Metallic  Netherlands            NaN                    1                  0           1                             1                     0                  1                    0                     1                           1                                 0                                  0                    0                         0               1                             1                 0                          1                1                  0                 0                                 1                     1                 1                         1                                1                                       1                                       1                                      1                 1               1                1                    0                    0                     0           0                  0                  0              0             0             0                 1                        0       0                     0         1                0              0       0                1                     0                       0                       0                    0             0                 0           0                0                 0               0                    0                0                 0             0                 1                0       1                           0                       0                0                      0                     0                                         0                          1                               0                      1                                1                             0                    0              0               0               1          0                              1                  1   \n",
       "\n",
       "       ss_lane departure warning system  ss_night view assist  ss_passenger-side airbag  ss_power steering  ss_rear airbag  ss_side airbag  ss_tire pressure monitoring system  ss_traction control  ss_traffic sign recognition  ss_xenon headlights  consumption_comb  gear_type drive_chain body_color  co2_emission  displacement_cc emission_class  register_age fuel_new  nr_doors  nr_seats  hp_kw  \n",
       "15822                                 1                     0                         1                  0               0               1                                   1                    1                            1                    0              7.60  Automatic         NaN       Grey        116.00          1798.00            NaN          1.00  Benzine      5.00       nan    165  \n",
       "15823                                 1                     0                         1                  0               0               1                                   1                    1                            1                    0              7.60  Automatic         NaN       Grey        116.00          1798.00            NaN          1.00  Benzine      5.00       nan    165  "
      ]
     },
     "execution_count": 27,
     "metadata": {},
     "output_type": "execute_result"
    }
   ],
   "source": [
    "oto1[oto1[\"gears\"] == 4]"
   ]
  },
  {
   "cell_type": "code",
   "execution_count": 28,
   "metadata": {},
   "outputs": [],
   "source": [
    "oto1.gears.iloc[15822] = 7\n",
    "oto1.gears.iloc[15823] = 7"
   ]
  },
  {
   "cell_type": "code",
   "execution_count": 29,
   "metadata": {},
   "outputs": [
    {
     "data": {
      "text/html": [
       "<div>\n",
       "<style scoped>\n",
       "    .dataframe tbody tr th:only-of-type {\n",
       "        vertical-align: middle;\n",
       "    }\n",
       "\n",
       "    .dataframe tbody tr th {\n",
       "        vertical-align: top;\n",
       "    }\n",
       "\n",
       "    .dataframe thead th {\n",
       "        text-align: right;\n",
       "    }\n",
       "</style>\n",
       "<table border=\"1\" class=\"dataframe\">\n",
       "  <thead>\n",
       "    <tr style=\"text-align: right;\">\n",
       "      <th></th>\n",
       "      <th>make_model</th>\n",
       "      <th>body_type</th>\n",
       "      <th>price</th>\n",
       "      <th>vat</th>\n",
       "      <th>km</th>\n",
       "      <th>type</th>\n",
       "      <th>paint type</th>\n",
       "      <th>upholstery</th>\n",
       "      <th>gears</th>\n",
       "      <th>previous_owner</th>\n",
       "      <th>inspection_new_bool</th>\n",
       "      <th>next_inspection</th>\n",
       "      <th>paint_type</th>\n",
       "      <th>country</th>\n",
       "      <th>emission_label</th>\n",
       "      <th>cc_air conditioning</th>\n",
       "      <th>cc_air suspension</th>\n",
       "      <th>cc_armrest</th>\n",
       "      <th>cc_automatic climate control</th>\n",
       "      <th>cc_auxiliary heating</th>\n",
       "      <th>cc_cruise control</th>\n",
       "      <th>cc_electric starter</th>\n",
       "      <th>cc_electric tailgate</th>\n",
       "      <th>cc_electrical side mirrors</th>\n",
       "      <th>cc_electrically adjustable seats</th>\n",
       "      <th>cc_electrically heated windshield</th>\n",
       "      <th>cc_heads-up display</th>\n",
       "      <th>cc_heated steering wheel</th>\n",
       "      <th>cc_hill holder</th>\n",
       "      <th>cc_keyless central door lock</th>\n",
       "      <th>cc_leather seats</th>\n",
       "      <th>cc_leather steering wheel</th>\n",
       "      <th>cc_light sensor</th>\n",
       "      <th>cc_lumbar support</th>\n",
       "      <th>cc_massage seats</th>\n",
       "      <th>cc_multi-function steering wheel</th>\n",
       "      <th>cc_navigation system</th>\n",
       "      <th>cc_panorama roof</th>\n",
       "      <th>cc_park distance control</th>\n",
       "      <th>cc_parking assist system camera</th>\n",
       "      <th>cc_parking assist system self-steering</th>\n",
       "      <th>cc_parking assist system sensors front</th>\n",
       "      <th>cc_parking assist system sensors rear</th>\n",
       "      <th>cc_power windows</th>\n",
       "      <th>cc_rain sensor</th>\n",
       "      <th>cc_seat heating</th>\n",
       "      <th>cc_seat ventilation</th>\n",
       "      <th>cc_split rear seats</th>\n",
       "      <th>cc_start-stop system</th>\n",
       "      <th>cc_sunroof</th>\n",
       "      <th>cc_tinted windows</th>\n",
       "      <th>cc_wind deflector</th>\n",
       "      <th>cc_windshield</th>\n",
       "      <th>em_bluetooth</th>\n",
       "      <th>em_cd player</th>\n",
       "      <th>em_digital radio</th>\n",
       "      <th>em_hands-free equipment</th>\n",
       "      <th>em_mp3</th>\n",
       "      <th>em_on-board computer</th>\n",
       "      <th>em_radio</th>\n",
       "      <th>em_sound system</th>\n",
       "      <th>em_television</th>\n",
       "      <th>em_usb</th>\n",
       "      <th>ex_alloy wheels</th>\n",
       "      <th>ex_cab or rented car</th>\n",
       "      <th>ex_catalytic converter</th>\n",
       "      <th>ex_handicapped enabled</th>\n",
       "      <th>ex_right hand drive</th>\n",
       "      <th>ex_roof rack</th>\n",
       "      <th>ex_shift paddles</th>\n",
       "      <th>ex_ski bag</th>\n",
       "      <th>ex_sliding door</th>\n",
       "      <th>ex_sport package</th>\n",
       "      <th>ex_sport seats</th>\n",
       "      <th>ex_sport suspension</th>\n",
       "      <th>ex_touch screen</th>\n",
       "      <th>ex_trailer hitch</th>\n",
       "      <th>ex_tuned car</th>\n",
       "      <th>ex_voice control</th>\n",
       "      <th>ex_winter tyres</th>\n",
       "      <th>ss_abs</th>\n",
       "      <th>ss_adaptive cruise control</th>\n",
       "      <th>ss_adaptive headlights</th>\n",
       "      <th>ss_alarm system</th>\n",
       "      <th>ss_blind spot monitor</th>\n",
       "      <th>ss_central door lock</th>\n",
       "      <th>ss_central door lock with remote control</th>\n",
       "      <th>ss_daytime running lights</th>\n",
       "      <th>ss_driver drowsiness detection</th>\n",
       "      <th>ss_driver-side airbag</th>\n",
       "      <th>ss_electronic stability control</th>\n",
       "      <th>ss_emergency brake assistant</th>\n",
       "      <th>ss_emergency system</th>\n",
       "      <th>ss_fog lights</th>\n",
       "      <th>ss_head airbag</th>\n",
       "      <th>ss_immobilizer</th>\n",
       "      <th>ss_isofix</th>\n",
       "      <th>ss_led daytime running lights</th>\n",
       "      <th>ss_led headlights</th>\n",
       "      <th>ss_lane departure warning system</th>\n",
       "      <th>ss_night view assist</th>\n",
       "      <th>ss_passenger-side airbag</th>\n",
       "      <th>ss_power steering</th>\n",
       "      <th>ss_rear airbag</th>\n",
       "      <th>ss_side airbag</th>\n",
       "      <th>ss_tire pressure monitoring system</th>\n",
       "      <th>ss_traction control</th>\n",
       "      <th>ss_traffic sign recognition</th>\n",
       "      <th>ss_xenon headlights</th>\n",
       "      <th>consumption_comb</th>\n",
       "      <th>gear_type</th>\n",
       "      <th>drive_chain</th>\n",
       "      <th>body_color</th>\n",
       "      <th>co2_emission</th>\n",
       "      <th>displacement_cc</th>\n",
       "      <th>emission_class</th>\n",
       "      <th>register_age</th>\n",
       "      <th>fuel_new</th>\n",
       "      <th>nr_doors</th>\n",
       "      <th>nr_seats</th>\n",
       "      <th>hp_kw</th>\n",
       "    </tr>\n",
       "  </thead>\n",
       "  <tbody>\n",
       "    <tr>\n",
       "      <th>15817</th>\n",
       "      <td>Renault Espace</td>\n",
       "      <td>Van</td>\n",
       "      <td>54204</td>\n",
       "      <td>VAT deductible</td>\n",
       "      <td>11.00</td>\n",
       "      <td>New</td>\n",
       "      <td>['\\nMetallic\\n']</td>\n",
       "      <td>Part leather</td>\n",
       "      <td>3.00</td>\n",
       "      <td>1</td>\n",
       "      <td>0</td>\n",
       "      <td>NaN</td>\n",
       "      <td>Metallic</td>\n",
       "      <td>Netherlands</td>\n",
       "      <td>NaN</td>\n",
       "      <td>1</td>\n",
       "      <td>0</td>\n",
       "      <td>1</td>\n",
       "      <td>1</td>\n",
       "      <td>0</td>\n",
       "      <td>1</td>\n",
       "      <td>0</td>\n",
       "      <td>1</td>\n",
       "      <td>1</td>\n",
       "      <td>1</td>\n",
       "      <td>1</td>\n",
       "      <td>1</td>\n",
       "      <td>1</td>\n",
       "      <td>1</td>\n",
       "      <td>1</td>\n",
       "      <td>0</td>\n",
       "      <td>1</td>\n",
       "      <td>1</td>\n",
       "      <td>0</td>\n",
       "      <td>0</td>\n",
       "      <td>1</td>\n",
       "      <td>1</td>\n",
       "      <td>0</td>\n",
       "      <td>1</td>\n",
       "      <td>1</td>\n",
       "      <td>1</td>\n",
       "      <td>1</td>\n",
       "      <td>1</td>\n",
       "      <td>1</td>\n",
       "      <td>1</td>\n",
       "      <td>1</td>\n",
       "      <td>1</td>\n",
       "      <td>0</td>\n",
       "      <td>0</td>\n",
       "      <td>0</td>\n",
       "      <td>0</td>\n",
       "      <td>0</td>\n",
       "      <td>0</td>\n",
       "      <td>0</td>\n",
       "      <td>0</td>\n",
       "      <td>1</td>\n",
       "      <td>0</td>\n",
       "      <td>0</td>\n",
       "      <td>0</td>\n",
       "      <td>1</td>\n",
       "      <td>0</td>\n",
       "      <td>0</td>\n",
       "      <td>0</td>\n",
       "      <td>1</td>\n",
       "      <td>0</td>\n",
       "      <td>0</td>\n",
       "      <td>0</td>\n",
       "      <td>0</td>\n",
       "      <td>0</td>\n",
       "      <td>0</td>\n",
       "      <td>0</td>\n",
       "      <td>0</td>\n",
       "      <td>0</td>\n",
       "      <td>0</td>\n",
       "      <td>0</td>\n",
       "      <td>0</td>\n",
       "      <td>0</td>\n",
       "      <td>0</td>\n",
       "      <td>1</td>\n",
       "      <td>0</td>\n",
       "      <td>1</td>\n",
       "      <td>0</td>\n",
       "      <td>0</td>\n",
       "      <td>0</td>\n",
       "      <td>0</td>\n",
       "      <td>0</td>\n",
       "      <td>0</td>\n",
       "      <td>1</td>\n",
       "      <td>0</td>\n",
       "      <td>1</td>\n",
       "      <td>1</td>\n",
       "      <td>0</td>\n",
       "      <td>0</td>\n",
       "      <td>0</td>\n",
       "      <td>0</td>\n",
       "      <td>1</td>\n",
       "      <td>0</td>\n",
       "      <td>1</td>\n",
       "      <td>1</td>\n",
       "      <td>1</td>\n",
       "      <td>0</td>\n",
       "      <td>1</td>\n",
       "      <td>0</td>\n",
       "      <td>0</td>\n",
       "      <td>1</td>\n",
       "      <td>1</td>\n",
       "      <td>1</td>\n",
       "      <td>1</td>\n",
       "      <td>0</td>\n",
       "      <td>5.40</td>\n",
       "      <td>Automatic</td>\n",
       "      <td>NaN</td>\n",
       "      <td>White</td>\n",
       "      <td>116.00</td>\n",
       "      <td>1997.00</td>\n",
       "      <td>NaN</td>\n",
       "      <td>1.00</td>\n",
       "      <td>Diesel</td>\n",
       "      <td>5.00</td>\n",
       "      <td>nan</td>\n",
       "      <td>146</td>\n",
       "    </tr>\n",
       "    <tr>\n",
       "      <th>15845</th>\n",
       "      <td>Renault Espace</td>\n",
       "      <td>Van</td>\n",
       "      <td>46660</td>\n",
       "      <td>VAT deductible</td>\n",
       "      <td>11.00</td>\n",
       "      <td>New</td>\n",
       "      <td>NaN</td>\n",
       "      <td>Part leather</td>\n",
       "      <td>3.00</td>\n",
       "      <td>1</td>\n",
       "      <td>0</td>\n",
       "      <td>NaN</td>\n",
       "      <td>NaN</td>\n",
       "      <td>Netherlands</td>\n",
       "      <td>NaN</td>\n",
       "      <td>1</td>\n",
       "      <td>0</td>\n",
       "      <td>1</td>\n",
       "      <td>1</td>\n",
       "      <td>0</td>\n",
       "      <td>1</td>\n",
       "      <td>0</td>\n",
       "      <td>0</td>\n",
       "      <td>1</td>\n",
       "      <td>0</td>\n",
       "      <td>0</td>\n",
       "      <td>0</td>\n",
       "      <td>0</td>\n",
       "      <td>1</td>\n",
       "      <td>1</td>\n",
       "      <td>0</td>\n",
       "      <td>1</td>\n",
       "      <td>1</td>\n",
       "      <td>0</td>\n",
       "      <td>0</td>\n",
       "      <td>1</td>\n",
       "      <td>1</td>\n",
       "      <td>0</td>\n",
       "      <td>1</td>\n",
       "      <td>0</td>\n",
       "      <td>0</td>\n",
       "      <td>1</td>\n",
       "      <td>1</td>\n",
       "      <td>1</td>\n",
       "      <td>1</td>\n",
       "      <td>0</td>\n",
       "      <td>0</td>\n",
       "      <td>0</td>\n",
       "      <td>0</td>\n",
       "      <td>0</td>\n",
       "      <td>0</td>\n",
       "      <td>0</td>\n",
       "      <td>0</td>\n",
       "      <td>0</td>\n",
       "      <td>0</td>\n",
       "      <td>1</td>\n",
       "      <td>0</td>\n",
       "      <td>0</td>\n",
       "      <td>0</td>\n",
       "      <td>1</td>\n",
       "      <td>0</td>\n",
       "      <td>0</td>\n",
       "      <td>0</td>\n",
       "      <td>1</td>\n",
       "      <td>0</td>\n",
       "      <td>0</td>\n",
       "      <td>0</td>\n",
       "      <td>0</td>\n",
       "      <td>0</td>\n",
       "      <td>0</td>\n",
       "      <td>0</td>\n",
       "      <td>0</td>\n",
       "      <td>0</td>\n",
       "      <td>0</td>\n",
       "      <td>0</td>\n",
       "      <td>0</td>\n",
       "      <td>0</td>\n",
       "      <td>0</td>\n",
       "      <td>1</td>\n",
       "      <td>0</td>\n",
       "      <td>1</td>\n",
       "      <td>0</td>\n",
       "      <td>0</td>\n",
       "      <td>0</td>\n",
       "      <td>0</td>\n",
       "      <td>0</td>\n",
       "      <td>0</td>\n",
       "      <td>1</td>\n",
       "      <td>0</td>\n",
       "      <td>1</td>\n",
       "      <td>1</td>\n",
       "      <td>0</td>\n",
       "      <td>0</td>\n",
       "      <td>0</td>\n",
       "      <td>0</td>\n",
       "      <td>1</td>\n",
       "      <td>0</td>\n",
       "      <td>1</td>\n",
       "      <td>1</td>\n",
       "      <td>1</td>\n",
       "      <td>0</td>\n",
       "      <td>1</td>\n",
       "      <td>0</td>\n",
       "      <td>0</td>\n",
       "      <td>1</td>\n",
       "      <td>1</td>\n",
       "      <td>1</td>\n",
       "      <td>1</td>\n",
       "      <td>0</td>\n",
       "      <td>5.10</td>\n",
       "      <td>Automatic</td>\n",
       "      <td>NaN</td>\n",
       "      <td>White</td>\n",
       "      <td>116.00</td>\n",
       "      <td>1997.00</td>\n",
       "      <td>NaN</td>\n",
       "      <td>1.00</td>\n",
       "      <td>Diesel</td>\n",
       "      <td>5.00</td>\n",
       "      <td>nan</td>\n",
       "      <td>118</td>\n",
       "    </tr>\n",
       "  </tbody>\n",
       "</table>\n",
       "</div>"
      ],
      "text/plain": [
       "           make_model body_type  price             vat    km type        paint type    upholstery  gears  previous_owner  inspection_new_bool next_inspection paint_type      country emission_label  cc_air conditioning  cc_air suspension  cc_armrest  cc_automatic climate control  cc_auxiliary heating  cc_cruise control  cc_electric starter  cc_electric tailgate  cc_electrical side mirrors  cc_electrically adjustable seats  cc_electrically heated windshield  cc_heads-up display  cc_heated steering wheel  cc_hill holder  cc_keyless central door lock  cc_leather seats  cc_leather steering wheel  cc_light sensor  cc_lumbar support  cc_massage seats  cc_multi-function steering wheel  cc_navigation system  cc_panorama roof  cc_park distance control  cc_parking assist system camera  cc_parking assist system self-steering  cc_parking assist system sensors front  cc_parking assist system sensors rear  cc_power windows  cc_rain sensor  cc_seat heating  cc_seat ventilation  cc_split rear seats  cc_start-stop system  cc_sunroof  cc_tinted windows  cc_wind deflector  cc_windshield  em_bluetooth  em_cd player  em_digital radio  em_hands-free equipment  em_mp3  em_on-board computer  em_radio  em_sound system  em_television  em_usb  ex_alloy wheels  ex_cab or rented car  ex_catalytic converter  ex_handicapped enabled  ex_right hand drive  ex_roof rack  ex_shift paddles  ex_ski bag  ex_sliding door  ex_sport package  ex_sport seats  ex_sport suspension  ex_touch screen  ex_trailer hitch  ex_tuned car  ex_voice control  ex_winter tyres  ss_abs  ss_adaptive cruise control  ss_adaptive headlights  ss_alarm system  ss_blind spot monitor  ss_central door lock  ss_central door lock with remote control  ss_daytime running lights  ss_driver drowsiness detection  ss_driver-side airbag  ss_electronic stability control  ss_emergency brake assistant  ss_emergency system  ss_fog lights  ss_head airbag  ss_immobilizer  ss_isofix  ss_led daytime running lights  ss_led headlights  \\\n",
       "15817  Renault Espace       Van  54204  VAT deductible 11.00  New  ['\\nMetallic\\n']  Part leather   3.00               1                    0             NaN   Metallic  Netherlands            NaN                    1                  0           1                             1                     0                  1                    0                     1                           1                                 1                                  1                    1                         1               1                             1                 0                          1                1                  0                 0                                 1                     1                 0                         1                                1                                       1                                       1                                      1                 1               1                1                    1                    0                     0           0                  0                  0              0             0             0                 1                        0       0                     0         1                0              0       0                1                     0                       0                       0                    0             0                 0           0                0                 0               0                    0                0                 0             0                 1                0       1                           0                       0                0                      0                     0                                         0                          1                               0                      1                                1                             0                    0              0               0               1          0                              1                  1   \n",
       "15845  Renault Espace       Van  46660  VAT deductible 11.00  New               NaN  Part leather   3.00               1                    0             NaN        NaN  Netherlands            NaN                    1                  0           1                             1                     0                  1                    0                     0                           1                                 0                                  0                    0                         0               1                             1                 0                          1                1                  0                 0                                 1                     1                 0                         1                                0                                       0                                       1                                      1                 1               1                0                    0                    0                     0           0                  0                  0              0             0             0                 1                        0       0                     0         1                0              0       0                1                     0                       0                       0                    0             0                 0           0                0                 0               0                    0                0                 0             0                 1                0       1                           0                       0                0                      0                     0                                         0                          1                               0                      1                                1                             0                    0              0               0               1          0                              1                  1   \n",
       "\n",
       "       ss_lane departure warning system  ss_night view assist  ss_passenger-side airbag  ss_power steering  ss_rear airbag  ss_side airbag  ss_tire pressure monitoring system  ss_traction control  ss_traffic sign recognition  ss_xenon headlights  consumption_comb  gear_type drive_chain body_color  co2_emission  displacement_cc emission_class  register_age fuel_new  nr_doors  nr_seats  hp_kw  \n",
       "15817                                 1                     0                         1                  0               0               1                                   1                    1                            1                    0              5.40  Automatic         NaN      White        116.00          1997.00            NaN          1.00   Diesel      5.00       nan    146  \n",
       "15845                                 1                     0                         1                  0               0               1                                   1                    1                            1                    0              5.10  Automatic         NaN      White        116.00          1997.00            NaN          1.00   Diesel      5.00       nan    118  "
      ]
     },
     "execution_count": 29,
     "metadata": {},
     "output_type": "execute_result"
    }
   ],
   "source": [
    "oto1[oto1[\"gears\"] == 3]"
   ]
  },
  {
   "cell_type": "code",
   "execution_count": 30,
   "metadata": {},
   "outputs": [],
   "source": [
    "oto1.gears.iloc[15817] = 7\n",
    "oto1.gears.iloc[15845] = 7"
   ]
  },
  {
   "cell_type": "code",
   "execution_count": 31,
   "metadata": {},
   "outputs": [
    {
     "data": {
      "text/html": [
       "<div>\n",
       "<style scoped>\n",
       "    .dataframe tbody tr th:only-of-type {\n",
       "        vertical-align: middle;\n",
       "    }\n",
       "\n",
       "    .dataframe tbody tr th {\n",
       "        vertical-align: top;\n",
       "    }\n",
       "\n",
       "    .dataframe thead th {\n",
       "        text-align: right;\n",
       "    }\n",
       "</style>\n",
       "<table border=\"1\" class=\"dataframe\">\n",
       "  <thead>\n",
       "    <tr style=\"text-align: right;\">\n",
       "      <th></th>\n",
       "      <th>make_model</th>\n",
       "      <th>body_type</th>\n",
       "      <th>price</th>\n",
       "      <th>vat</th>\n",
       "      <th>km</th>\n",
       "      <th>type</th>\n",
       "      <th>paint type</th>\n",
       "      <th>upholstery</th>\n",
       "      <th>gears</th>\n",
       "      <th>previous_owner</th>\n",
       "      <th>inspection_new_bool</th>\n",
       "      <th>next_inspection</th>\n",
       "      <th>paint_type</th>\n",
       "      <th>country</th>\n",
       "      <th>emission_label</th>\n",
       "      <th>cc_air conditioning</th>\n",
       "      <th>cc_air suspension</th>\n",
       "      <th>cc_armrest</th>\n",
       "      <th>cc_automatic climate control</th>\n",
       "      <th>cc_auxiliary heating</th>\n",
       "      <th>cc_cruise control</th>\n",
       "      <th>cc_electric starter</th>\n",
       "      <th>cc_electric tailgate</th>\n",
       "      <th>cc_electrical side mirrors</th>\n",
       "      <th>cc_electrically adjustable seats</th>\n",
       "      <th>cc_electrically heated windshield</th>\n",
       "      <th>cc_heads-up display</th>\n",
       "      <th>cc_heated steering wheel</th>\n",
       "      <th>cc_hill holder</th>\n",
       "      <th>cc_keyless central door lock</th>\n",
       "      <th>cc_leather seats</th>\n",
       "      <th>cc_leather steering wheel</th>\n",
       "      <th>cc_light sensor</th>\n",
       "      <th>cc_lumbar support</th>\n",
       "      <th>cc_massage seats</th>\n",
       "      <th>cc_multi-function steering wheel</th>\n",
       "      <th>cc_navigation system</th>\n",
       "      <th>cc_panorama roof</th>\n",
       "      <th>cc_park distance control</th>\n",
       "      <th>cc_parking assist system camera</th>\n",
       "      <th>cc_parking assist system self-steering</th>\n",
       "      <th>cc_parking assist system sensors front</th>\n",
       "      <th>cc_parking assist system sensors rear</th>\n",
       "      <th>cc_power windows</th>\n",
       "      <th>cc_rain sensor</th>\n",
       "      <th>cc_seat heating</th>\n",
       "      <th>cc_seat ventilation</th>\n",
       "      <th>cc_split rear seats</th>\n",
       "      <th>cc_start-stop system</th>\n",
       "      <th>cc_sunroof</th>\n",
       "      <th>cc_tinted windows</th>\n",
       "      <th>cc_wind deflector</th>\n",
       "      <th>cc_windshield</th>\n",
       "      <th>em_bluetooth</th>\n",
       "      <th>em_cd player</th>\n",
       "      <th>em_digital radio</th>\n",
       "      <th>em_hands-free equipment</th>\n",
       "      <th>em_mp3</th>\n",
       "      <th>em_on-board computer</th>\n",
       "      <th>em_radio</th>\n",
       "      <th>em_sound system</th>\n",
       "      <th>em_television</th>\n",
       "      <th>em_usb</th>\n",
       "      <th>ex_alloy wheels</th>\n",
       "      <th>ex_cab or rented car</th>\n",
       "      <th>ex_catalytic converter</th>\n",
       "      <th>ex_handicapped enabled</th>\n",
       "      <th>ex_right hand drive</th>\n",
       "      <th>ex_roof rack</th>\n",
       "      <th>ex_shift paddles</th>\n",
       "      <th>ex_ski bag</th>\n",
       "      <th>ex_sliding door</th>\n",
       "      <th>ex_sport package</th>\n",
       "      <th>ex_sport seats</th>\n",
       "      <th>ex_sport suspension</th>\n",
       "      <th>ex_touch screen</th>\n",
       "      <th>ex_trailer hitch</th>\n",
       "      <th>ex_tuned car</th>\n",
       "      <th>ex_voice control</th>\n",
       "      <th>ex_winter tyres</th>\n",
       "      <th>ss_abs</th>\n",
       "      <th>ss_adaptive cruise control</th>\n",
       "      <th>ss_adaptive headlights</th>\n",
       "      <th>ss_alarm system</th>\n",
       "      <th>ss_blind spot monitor</th>\n",
       "      <th>ss_central door lock</th>\n",
       "      <th>ss_central door lock with remote control</th>\n",
       "      <th>ss_daytime running lights</th>\n",
       "      <th>ss_driver drowsiness detection</th>\n",
       "      <th>ss_driver-side airbag</th>\n",
       "      <th>ss_electronic stability control</th>\n",
       "      <th>ss_emergency brake assistant</th>\n",
       "      <th>ss_emergency system</th>\n",
       "      <th>ss_fog lights</th>\n",
       "      <th>ss_head airbag</th>\n",
       "      <th>ss_immobilizer</th>\n",
       "      <th>ss_isofix</th>\n",
       "      <th>ss_led daytime running lights</th>\n",
       "      <th>ss_led headlights</th>\n",
       "      <th>ss_lane departure warning system</th>\n",
       "      <th>ss_night view assist</th>\n",
       "      <th>ss_passenger-side airbag</th>\n",
       "      <th>ss_power steering</th>\n",
       "      <th>ss_rear airbag</th>\n",
       "      <th>ss_side airbag</th>\n",
       "      <th>ss_tire pressure monitoring system</th>\n",
       "      <th>ss_traction control</th>\n",
       "      <th>ss_traffic sign recognition</th>\n",
       "      <th>ss_xenon headlights</th>\n",
       "      <th>consumption_comb</th>\n",
       "      <th>gear_type</th>\n",
       "      <th>drive_chain</th>\n",
       "      <th>body_color</th>\n",
       "      <th>co2_emission</th>\n",
       "      <th>displacement_cc</th>\n",
       "      <th>emission_class</th>\n",
       "      <th>register_age</th>\n",
       "      <th>fuel_new</th>\n",
       "      <th>nr_doors</th>\n",
       "      <th>nr_seats</th>\n",
       "      <th>hp_kw</th>\n",
       "    </tr>\n",
       "  </thead>\n",
       "  <tbody>\n",
       "    <tr>\n",
       "      <th>8921</th>\n",
       "      <td>Opel Corsa</td>\n",
       "      <td>Compact</td>\n",
       "      <td>11000</td>\n",
       "      <td>VAT deductible</td>\n",
       "      <td>24000.00</td>\n",
       "      <td>Used</td>\n",
       "      <td>['\\nMetallic\\n']</td>\n",
       "      <td>Cloth, Black</td>\n",
       "      <td>1.00</td>\n",
       "      <td>1</td>\n",
       "      <td>0</td>\n",
       "      <td>NaN</td>\n",
       "      <td>Metallic</td>\n",
       "      <td>Belgium</td>\n",
       "      <td>NaN</td>\n",
       "      <td>1</td>\n",
       "      <td>0</td>\n",
       "      <td>0</td>\n",
       "      <td>0</td>\n",
       "      <td>0</td>\n",
       "      <td>0</td>\n",
       "      <td>0</td>\n",
       "      <td>0</td>\n",
       "      <td>0</td>\n",
       "      <td>0</td>\n",
       "      <td>0</td>\n",
       "      <td>0</td>\n",
       "      <td>0</td>\n",
       "      <td>0</td>\n",
       "      <td>0</td>\n",
       "      <td>0</td>\n",
       "      <td>0</td>\n",
       "      <td>1</td>\n",
       "      <td>0</td>\n",
       "      <td>0</td>\n",
       "      <td>1</td>\n",
       "      <td>1</td>\n",
       "      <td>0</td>\n",
       "      <td>0</td>\n",
       "      <td>0</td>\n",
       "      <td>0</td>\n",
       "      <td>0</td>\n",
       "      <td>0</td>\n",
       "      <td>1</td>\n",
       "      <td>1</td>\n",
       "      <td>0</td>\n",
       "      <td>0</td>\n",
       "      <td>0</td>\n",
       "      <td>0</td>\n",
       "      <td>0</td>\n",
       "      <td>0</td>\n",
       "      <td>0</td>\n",
       "      <td>0</td>\n",
       "      <td>1</td>\n",
       "      <td>0</td>\n",
       "      <td>0</td>\n",
       "      <td>0</td>\n",
       "      <td>0</td>\n",
       "      <td>1</td>\n",
       "      <td>1</td>\n",
       "      <td>0</td>\n",
       "      <td>0</td>\n",
       "      <td>1</td>\n",
       "      <td>1</td>\n",
       "      <td>0</td>\n",
       "      <td>0</td>\n",
       "      <td>0</td>\n",
       "      <td>0</td>\n",
       "      <td>0</td>\n",
       "      <td>0</td>\n",
       "      <td>0</td>\n",
       "      <td>0</td>\n",
       "      <td>0</td>\n",
       "      <td>0</td>\n",
       "      <td>0</td>\n",
       "      <td>1</td>\n",
       "      <td>0</td>\n",
       "      <td>0</td>\n",
       "      <td>0</td>\n",
       "      <td>0</td>\n",
       "      <td>1</td>\n",
       "      <td>0</td>\n",
       "      <td>0</td>\n",
       "      <td>0</td>\n",
       "      <td>0</td>\n",
       "      <td>1</td>\n",
       "      <td>1</td>\n",
       "      <td>0</td>\n",
       "      <td>0</td>\n",
       "      <td>1</td>\n",
       "      <td>0</td>\n",
       "      <td>0</td>\n",
       "      <td>0</td>\n",
       "      <td>1</td>\n",
       "      <td>0</td>\n",
       "      <td>0</td>\n",
       "      <td>0</td>\n",
       "      <td>0</td>\n",
       "      <td>0</td>\n",
       "      <td>0</td>\n",
       "      <td>0</td>\n",
       "      <td>1</td>\n",
       "      <td>1</td>\n",
       "      <td>0</td>\n",
       "      <td>0</td>\n",
       "      <td>1</td>\n",
       "      <td>0</td>\n",
       "      <td>0</td>\n",
       "      <td>0</td>\n",
       "      <td>4.80</td>\n",
       "      <td>Semi-automatic</td>\n",
       "      <td>front</td>\n",
       "      <td>Blue</td>\n",
       "      <td>112.00</td>\n",
       "      <td>1398.00</td>\n",
       "      <td>Euro 6</td>\n",
       "      <td>2.00</td>\n",
       "      <td>Benzine</td>\n",
       "      <td>5.00</td>\n",
       "      <td>5.00</td>\n",
       "      <td>66</td>\n",
       "    </tr>\n",
       "    <tr>\n",
       "      <th>14375</th>\n",
       "      <td>Renault Clio</td>\n",
       "      <td>Compact</td>\n",
       "      <td>23990</td>\n",
       "      <td>NaN</td>\n",
       "      <td>10.00</td>\n",
       "      <td>Demonstration</td>\n",
       "      <td>NaN</td>\n",
       "      <td>NaN</td>\n",
       "      <td>1.00</td>\n",
       "      <td>1</td>\n",
       "      <td>0</td>\n",
       "      <td>NaN</td>\n",
       "      <td>NaN</td>\n",
       "      <td>Austria</td>\n",
       "      <td>NaN</td>\n",
       "      <td>1</td>\n",
       "      <td>0</td>\n",
       "      <td>0</td>\n",
       "      <td>1</td>\n",
       "      <td>0</td>\n",
       "      <td>1</td>\n",
       "      <td>0</td>\n",
       "      <td>0</td>\n",
       "      <td>0</td>\n",
       "      <td>0</td>\n",
       "      <td>0</td>\n",
       "      <td>0</td>\n",
       "      <td>0</td>\n",
       "      <td>0</td>\n",
       "      <td>0</td>\n",
       "      <td>0</td>\n",
       "      <td>0</td>\n",
       "      <td>0</td>\n",
       "      <td>0</td>\n",
       "      <td>0</td>\n",
       "      <td>1</td>\n",
       "      <td>1</td>\n",
       "      <td>0</td>\n",
       "      <td>0</td>\n",
       "      <td>0</td>\n",
       "      <td>0</td>\n",
       "      <td>0</td>\n",
       "      <td>0</td>\n",
       "      <td>1</td>\n",
       "      <td>1</td>\n",
       "      <td>1</td>\n",
       "      <td>0</td>\n",
       "      <td>0</td>\n",
       "      <td>1</td>\n",
       "      <td>0</td>\n",
       "      <td>0</td>\n",
       "      <td>0</td>\n",
       "      <td>0</td>\n",
       "      <td>1</td>\n",
       "      <td>0</td>\n",
       "      <td>0</td>\n",
       "      <td>1</td>\n",
       "      <td>0</td>\n",
       "      <td>1</td>\n",
       "      <td>0</td>\n",
       "      <td>0</td>\n",
       "      <td>0</td>\n",
       "      <td>0</td>\n",
       "      <td>1</td>\n",
       "      <td>0</td>\n",
       "      <td>0</td>\n",
       "      <td>0</td>\n",
       "      <td>0</td>\n",
       "      <td>0</td>\n",
       "      <td>0</td>\n",
       "      <td>0</td>\n",
       "      <td>0</td>\n",
       "      <td>1</td>\n",
       "      <td>1</td>\n",
       "      <td>1</td>\n",
       "      <td>0</td>\n",
       "      <td>0</td>\n",
       "      <td>0</td>\n",
       "      <td>0</td>\n",
       "      <td>0</td>\n",
       "      <td>1</td>\n",
       "      <td>0</td>\n",
       "      <td>0</td>\n",
       "      <td>0</td>\n",
       "      <td>0</td>\n",
       "      <td>1</td>\n",
       "      <td>0</td>\n",
       "      <td>1</td>\n",
       "      <td>0</td>\n",
       "      <td>1</td>\n",
       "      <td>1</td>\n",
       "      <td>1</td>\n",
       "      <td>0</td>\n",
       "      <td>0</td>\n",
       "      <td>0</td>\n",
       "      <td>0</td>\n",
       "      <td>0</td>\n",
       "      <td>0</td>\n",
       "      <td>1</td>\n",
       "      <td>0</td>\n",
       "      <td>0</td>\n",
       "      <td>0</td>\n",
       "      <td>0</td>\n",
       "      <td>0</td>\n",
       "      <td>1</td>\n",
       "      <td>1</td>\n",
       "      <td>1</td>\n",
       "      <td>0</td>\n",
       "      <td>0</td>\n",
       "      <td>nan</td>\n",
       "      <td>Automatic</td>\n",
       "      <td>NaN</td>\n",
       "      <td>White</td>\n",
       "      <td>116.00</td>\n",
       "      <td>1618.00</td>\n",
       "      <td>NaN</td>\n",
       "      <td>2.00</td>\n",
       "      <td>Benzine</td>\n",
       "      <td>4.00</td>\n",
       "      <td>nan</td>\n",
       "      <td>147</td>\n",
       "    </tr>\n",
       "  </tbody>\n",
       "</table>\n",
       "</div>"
      ],
      "text/plain": [
       "         make_model body_type  price             vat       km           type        paint type    upholstery  gears  previous_owner  inspection_new_bool next_inspection paint_type  country emission_label  cc_air conditioning  cc_air suspension  cc_armrest  cc_automatic climate control  cc_auxiliary heating  cc_cruise control  cc_electric starter  cc_electric tailgate  cc_electrical side mirrors  cc_electrically adjustable seats  cc_electrically heated windshield  cc_heads-up display  cc_heated steering wheel  cc_hill holder  cc_keyless central door lock  cc_leather seats  cc_leather steering wheel  cc_light sensor  cc_lumbar support  cc_massage seats  cc_multi-function steering wheel  cc_navigation system  cc_panorama roof  cc_park distance control  cc_parking assist system camera  cc_parking assist system self-steering  cc_parking assist system sensors front  cc_parking assist system sensors rear  cc_power windows  cc_rain sensor  cc_seat heating  cc_seat ventilation  cc_split rear seats  cc_start-stop system  cc_sunroof  cc_tinted windows  cc_wind deflector  cc_windshield  em_bluetooth  em_cd player  em_digital radio  em_hands-free equipment  em_mp3  em_on-board computer  em_radio  em_sound system  em_television  em_usb  ex_alloy wheels  ex_cab or rented car  ex_catalytic converter  ex_handicapped enabled  ex_right hand drive  ex_roof rack  ex_shift paddles  ex_ski bag  ex_sliding door  ex_sport package  ex_sport seats  ex_sport suspension  ex_touch screen  ex_trailer hitch  ex_tuned car  ex_voice control  ex_winter tyres  ss_abs  ss_adaptive cruise control  ss_adaptive headlights  ss_alarm system  ss_blind spot monitor  ss_central door lock  ss_central door lock with remote control  ss_daytime running lights  ss_driver drowsiness detection  ss_driver-side airbag  ss_electronic stability control  ss_emergency brake assistant  ss_emergency system  ss_fog lights  ss_head airbag  ss_immobilizer  ss_isofix  ss_led daytime running lights  ss_led headlights  \\\n",
       "8921     Opel Corsa   Compact  11000  VAT deductible 24000.00           Used  ['\\nMetallic\\n']  Cloth, Black   1.00               1                    0             NaN   Metallic  Belgium            NaN                    1                  0           0                             0                     0                  0                    0                     0                           0                                 0                                  0                    0                         0               0                             0                 0                          0                1                  0                 0                                 1                     1                 0                         0                                0                                       0                                       0                                      0                 1               1                0                    0                    0                     0           0                  0                  0              0             1             0                 0                        0       0                     1         1                0              0       1                1                     0                       0                       0                    0             0                 0           0                0                 0               0                    0                1                 0             0                 0                0       1                           0                       0                0                      0                     1                                         1                          0                               0                      1                                0                             0                    0              1               0               0          0                              0                  0   \n",
       "14375  Renault Clio   Compact  23990             NaN    10.00  Demonstration               NaN           NaN   1.00               1                    0             NaN        NaN  Austria            NaN                    1                  0           0                             1                     0                  1                    0                     0                           0                                 0                                  0                    0                         0               0                             0                 0                          0                0                  0                 0                                 1                     1                 0                         0                                0                                       0                                       0                                      0                 1               1                1                    0                    0                     1           0                  0                  0              0             1             0                 0                        1       0                     1         0                0              0       0                1                     0                       0                       0                    0             0                 0           0                0                 1               1                    1                0                 0             0                 0                0       1                           0                       0                0                      0                     1                                         0                          1                               0                      1                                1                             1                    0              0               0               0          0                              0                  1   \n",
       "\n",
       "       ss_lane departure warning system  ss_night view assist  ss_passenger-side airbag  ss_power steering  ss_rear airbag  ss_side airbag  ss_tire pressure monitoring system  ss_traction control  ss_traffic sign recognition  ss_xenon headlights  consumption_comb       gear_type drive_chain body_color  co2_emission  displacement_cc emission_class  register_age fuel_new  nr_doors  nr_seats  hp_kw  \n",
       "8921                                  0                     0                         1                  1               0               0                                   1                    0                            0                    0              4.80  Semi-automatic       front       Blue        112.00          1398.00         Euro 6          2.00  Benzine      5.00      5.00     66  \n",
       "14375                                 0                     0                         0                  0               0               1                                   1                    1                            0                    0               nan       Automatic         NaN      White        116.00          1618.00            NaN          2.00  Benzine      4.00       nan    147  "
      ]
     },
     "execution_count": 31,
     "metadata": {},
     "output_type": "execute_result"
    }
   ],
   "source": [
    "oto1[oto1[\"gears\"] == 1]"
   ]
  },
  {
   "cell_type": "code",
   "execution_count": 32,
   "metadata": {},
   "outputs": [],
   "source": [
    "oto1.gears.iloc[8921] = 5\n",
    "oto1.gears.iloc[14375] = 6"
   ]
  },
  {
   "cell_type": "code",
   "execution_count": 33,
   "metadata": {},
   "outputs": [
    {
     "data": {
      "text/html": [
       "<div>\n",
       "<style scoped>\n",
       "    .dataframe tbody tr th:only-of-type {\n",
       "        vertical-align: middle;\n",
       "    }\n",
       "\n",
       "    .dataframe tbody tr th {\n",
       "        vertical-align: top;\n",
       "    }\n",
       "\n",
       "    .dataframe thead th {\n",
       "        text-align: right;\n",
       "    }\n",
       "</style>\n",
       "<table border=\"1\" class=\"dataframe\">\n",
       "  <thead>\n",
       "    <tr style=\"text-align: right;\">\n",
       "      <th></th>\n",
       "      <th>make_model</th>\n",
       "      <th>body_type</th>\n",
       "      <th>price</th>\n",
       "      <th>vat</th>\n",
       "      <th>km</th>\n",
       "      <th>type</th>\n",
       "      <th>paint type</th>\n",
       "      <th>upholstery</th>\n",
       "      <th>gears</th>\n",
       "      <th>previous_owner</th>\n",
       "      <th>inspection_new_bool</th>\n",
       "      <th>next_inspection</th>\n",
       "      <th>paint_type</th>\n",
       "      <th>country</th>\n",
       "      <th>emission_label</th>\n",
       "      <th>cc_air conditioning</th>\n",
       "      <th>cc_air suspension</th>\n",
       "      <th>cc_armrest</th>\n",
       "      <th>cc_automatic climate control</th>\n",
       "      <th>cc_auxiliary heating</th>\n",
       "      <th>cc_cruise control</th>\n",
       "      <th>cc_electric starter</th>\n",
       "      <th>cc_electric tailgate</th>\n",
       "      <th>cc_electrical side mirrors</th>\n",
       "      <th>cc_electrically adjustable seats</th>\n",
       "      <th>cc_electrically heated windshield</th>\n",
       "      <th>cc_heads-up display</th>\n",
       "      <th>cc_heated steering wheel</th>\n",
       "      <th>cc_hill holder</th>\n",
       "      <th>cc_keyless central door lock</th>\n",
       "      <th>cc_leather seats</th>\n",
       "      <th>cc_leather steering wheel</th>\n",
       "      <th>cc_light sensor</th>\n",
       "      <th>cc_lumbar support</th>\n",
       "      <th>cc_massage seats</th>\n",
       "      <th>cc_multi-function steering wheel</th>\n",
       "      <th>cc_navigation system</th>\n",
       "      <th>cc_panorama roof</th>\n",
       "      <th>cc_park distance control</th>\n",
       "      <th>cc_parking assist system camera</th>\n",
       "      <th>cc_parking assist system self-steering</th>\n",
       "      <th>cc_parking assist system sensors front</th>\n",
       "      <th>cc_parking assist system sensors rear</th>\n",
       "      <th>cc_power windows</th>\n",
       "      <th>cc_rain sensor</th>\n",
       "      <th>cc_seat heating</th>\n",
       "      <th>cc_seat ventilation</th>\n",
       "      <th>cc_split rear seats</th>\n",
       "      <th>cc_start-stop system</th>\n",
       "      <th>cc_sunroof</th>\n",
       "      <th>cc_tinted windows</th>\n",
       "      <th>cc_wind deflector</th>\n",
       "      <th>cc_windshield</th>\n",
       "      <th>em_bluetooth</th>\n",
       "      <th>em_cd player</th>\n",
       "      <th>em_digital radio</th>\n",
       "      <th>em_hands-free equipment</th>\n",
       "      <th>em_mp3</th>\n",
       "      <th>em_on-board computer</th>\n",
       "      <th>em_radio</th>\n",
       "      <th>em_sound system</th>\n",
       "      <th>em_television</th>\n",
       "      <th>em_usb</th>\n",
       "      <th>ex_alloy wheels</th>\n",
       "      <th>ex_cab or rented car</th>\n",
       "      <th>ex_catalytic converter</th>\n",
       "      <th>ex_handicapped enabled</th>\n",
       "      <th>ex_right hand drive</th>\n",
       "      <th>ex_roof rack</th>\n",
       "      <th>ex_shift paddles</th>\n",
       "      <th>ex_ski bag</th>\n",
       "      <th>ex_sliding door</th>\n",
       "      <th>ex_sport package</th>\n",
       "      <th>ex_sport seats</th>\n",
       "      <th>ex_sport suspension</th>\n",
       "      <th>ex_touch screen</th>\n",
       "      <th>ex_trailer hitch</th>\n",
       "      <th>ex_tuned car</th>\n",
       "      <th>ex_voice control</th>\n",
       "      <th>ex_winter tyres</th>\n",
       "      <th>ss_abs</th>\n",
       "      <th>ss_adaptive cruise control</th>\n",
       "      <th>ss_adaptive headlights</th>\n",
       "      <th>ss_alarm system</th>\n",
       "      <th>ss_blind spot monitor</th>\n",
       "      <th>ss_central door lock</th>\n",
       "      <th>ss_central door lock with remote control</th>\n",
       "      <th>ss_daytime running lights</th>\n",
       "      <th>ss_driver drowsiness detection</th>\n",
       "      <th>ss_driver-side airbag</th>\n",
       "      <th>ss_electronic stability control</th>\n",
       "      <th>ss_emergency brake assistant</th>\n",
       "      <th>ss_emergency system</th>\n",
       "      <th>ss_fog lights</th>\n",
       "      <th>ss_head airbag</th>\n",
       "      <th>ss_immobilizer</th>\n",
       "      <th>ss_isofix</th>\n",
       "      <th>ss_led daytime running lights</th>\n",
       "      <th>ss_led headlights</th>\n",
       "      <th>ss_lane departure warning system</th>\n",
       "      <th>ss_night view assist</th>\n",
       "      <th>ss_passenger-side airbag</th>\n",
       "      <th>ss_power steering</th>\n",
       "      <th>ss_rear airbag</th>\n",
       "      <th>ss_side airbag</th>\n",
       "      <th>ss_tire pressure monitoring system</th>\n",
       "      <th>ss_traction control</th>\n",
       "      <th>ss_traffic sign recognition</th>\n",
       "      <th>ss_xenon headlights</th>\n",
       "      <th>consumption_comb</th>\n",
       "      <th>gear_type</th>\n",
       "      <th>drive_chain</th>\n",
       "      <th>body_color</th>\n",
       "      <th>co2_emission</th>\n",
       "      <th>displacement_cc</th>\n",
       "      <th>emission_class</th>\n",
       "      <th>register_age</th>\n",
       "      <th>fuel_new</th>\n",
       "      <th>nr_doors</th>\n",
       "      <th>nr_seats</th>\n",
       "      <th>hp_kw</th>\n",
       "    </tr>\n",
       "  </thead>\n",
       "  <tbody>\n",
       "    <tr>\n",
       "      <th>9812</th>\n",
       "      <td>Opel Corsa</td>\n",
       "      <td>Sedans</td>\n",
       "      <td>9880</td>\n",
       "      <td>VAT deductible</td>\n",
       "      <td>19247.00</td>\n",
       "      <td>Used</td>\n",
       "      <td>['\\nMetallic\\n']</td>\n",
       "      <td>Cloth, Black</td>\n",
       "      <td>2.00</td>\n",
       "      <td>1</td>\n",
       "      <td>0</td>\n",
       "      <td>NaN</td>\n",
       "      <td>Metallic</td>\n",
       "      <td>NaN</td>\n",
       "      <td>NaN</td>\n",
       "      <td>1</td>\n",
       "      <td>0</td>\n",
       "      <td>0</td>\n",
       "      <td>0</td>\n",
       "      <td>0</td>\n",
       "      <td>0</td>\n",
       "      <td>0</td>\n",
       "      <td>0</td>\n",
       "      <td>0</td>\n",
       "      <td>0</td>\n",
       "      <td>0</td>\n",
       "      <td>0</td>\n",
       "      <td>0</td>\n",
       "      <td>0</td>\n",
       "      <td>0</td>\n",
       "      <td>0</td>\n",
       "      <td>0</td>\n",
       "      <td>1</td>\n",
       "      <td>0</td>\n",
       "      <td>0</td>\n",
       "      <td>0</td>\n",
       "      <td>1</td>\n",
       "      <td>0</td>\n",
       "      <td>0</td>\n",
       "      <td>0</td>\n",
       "      <td>0</td>\n",
       "      <td>0</td>\n",
       "      <td>0</td>\n",
       "      <td>1</td>\n",
       "      <td>1</td>\n",
       "      <td>0</td>\n",
       "      <td>0</td>\n",
       "      <td>0</td>\n",
       "      <td>0</td>\n",
       "      <td>0</td>\n",
       "      <td>0</td>\n",
       "      <td>0</td>\n",
       "      <td>0</td>\n",
       "      <td>1</td>\n",
       "      <td>0</td>\n",
       "      <td>0</td>\n",
       "      <td>0</td>\n",
       "      <td>0</td>\n",
       "      <td>1</td>\n",
       "      <td>0</td>\n",
       "      <td>0</td>\n",
       "      <td>0</td>\n",
       "      <td>0</td>\n",
       "      <td>1</td>\n",
       "      <td>0</td>\n",
       "      <td>0</td>\n",
       "      <td>0</td>\n",
       "      <td>0</td>\n",
       "      <td>0</td>\n",
       "      <td>0</td>\n",
       "      <td>0</td>\n",
       "      <td>0</td>\n",
       "      <td>0</td>\n",
       "      <td>0</td>\n",
       "      <td>0</td>\n",
       "      <td>0</td>\n",
       "      <td>0</td>\n",
       "      <td>0</td>\n",
       "      <td>0</td>\n",
       "      <td>0</td>\n",
       "      <td>1</td>\n",
       "      <td>0</td>\n",
       "      <td>0</td>\n",
       "      <td>0</td>\n",
       "      <td>0</td>\n",
       "      <td>1</td>\n",
       "      <td>0</td>\n",
       "      <td>0</td>\n",
       "      <td>0</td>\n",
       "      <td>1</td>\n",
       "      <td>0</td>\n",
       "      <td>0</td>\n",
       "      <td>0</td>\n",
       "      <td>1</td>\n",
       "      <td>0</td>\n",
       "      <td>0</td>\n",
       "      <td>0</td>\n",
       "      <td>0</td>\n",
       "      <td>0</td>\n",
       "      <td>0</td>\n",
       "      <td>0</td>\n",
       "      <td>1</td>\n",
       "      <td>1</td>\n",
       "      <td>0</td>\n",
       "      <td>0</td>\n",
       "      <td>0</td>\n",
       "      <td>1</td>\n",
       "      <td>0</td>\n",
       "      <td>0</td>\n",
       "      <td>nan</td>\n",
       "      <td>Manual</td>\n",
       "      <td>NaN</td>\n",
       "      <td>Grey</td>\n",
       "      <td>116.00</td>\n",
       "      <td>1229.00</td>\n",
       "      <td>Euro 6</td>\n",
       "      <td>2.00</td>\n",
       "      <td>Benzine</td>\n",
       "      <td>5.00</td>\n",
       "      <td>nan</td>\n",
       "      <td>51</td>\n",
       "    </tr>\n",
       "  </tbody>\n",
       "</table>\n",
       "</div>"
      ],
      "text/plain": [
       "      make_model body_type  price             vat       km  type        paint type    upholstery  gears  previous_owner  inspection_new_bool next_inspection paint_type country emission_label  cc_air conditioning  cc_air suspension  cc_armrest  cc_automatic climate control  cc_auxiliary heating  cc_cruise control  cc_electric starter  cc_electric tailgate  cc_electrical side mirrors  cc_electrically adjustable seats  cc_electrically heated windshield  cc_heads-up display  cc_heated steering wheel  cc_hill holder  cc_keyless central door lock  cc_leather seats  cc_leather steering wheel  cc_light sensor  cc_lumbar support  cc_massage seats  cc_multi-function steering wheel  cc_navigation system  cc_panorama roof  cc_park distance control  cc_parking assist system camera  cc_parking assist system self-steering  cc_parking assist system sensors front  cc_parking assist system sensors rear  cc_power windows  cc_rain sensor  cc_seat heating  cc_seat ventilation  cc_split rear seats  cc_start-stop system  cc_sunroof  cc_tinted windows  cc_wind deflector  cc_windshield  em_bluetooth  em_cd player  em_digital radio  em_hands-free equipment  em_mp3  em_on-board computer  em_radio  em_sound system  em_television  em_usb  ex_alloy wheels  ex_cab or rented car  ex_catalytic converter  ex_handicapped enabled  ex_right hand drive  ex_roof rack  ex_shift paddles  ex_ski bag  ex_sliding door  ex_sport package  ex_sport seats  ex_sport suspension  ex_touch screen  ex_trailer hitch  ex_tuned car  ex_voice control  ex_winter tyres  ss_abs  ss_adaptive cruise control  ss_adaptive headlights  ss_alarm system  ss_blind spot monitor  ss_central door lock  ss_central door lock with remote control  ss_daytime running lights  ss_driver drowsiness detection  ss_driver-side airbag  ss_electronic stability control  ss_emergency brake assistant  ss_emergency system  ss_fog lights  ss_head airbag  ss_immobilizer  ss_isofix  ss_led daytime running lights  ss_led headlights  \\\n",
       "9812  Opel Corsa    Sedans   9880  VAT deductible 19247.00  Used  ['\\nMetallic\\n']  Cloth, Black   2.00               1                    0             NaN   Metallic     NaN            NaN                    1                  0           0                             0                     0                  0                    0                     0                           0                                 0                                  0                    0                         0               0                             0                 0                          0                1                  0                 0                                 0                     1                 0                         0                                0                                       0                                       0                                      0                 1               1                0                    0                    0                     0           0                  0                  0              0             1             0                 0                        0       0                     1         0                0              0       0                1                     0                       0                       0                    0             0                 0           0                0                 0               0                    0                0                 0             0                 0                0       1                           0                       0                0                      0                     1                                         0                          0                               0                      1                                0                             0                    0              1               0               0          0                              0                  0   \n",
       "\n",
       "      ss_lane departure warning system  ss_night view assist  ss_passenger-side airbag  ss_power steering  ss_rear airbag  ss_side airbag  ss_tire pressure monitoring system  ss_traction control  ss_traffic sign recognition  ss_xenon headlights  consumption_comb gear_type drive_chain body_color  co2_emission  displacement_cc emission_class  register_age fuel_new  nr_doors  nr_seats  hp_kw  \n",
       "9812                                 0                     0                         1                  1               0               0                                   0                    1                            0                    0               nan    Manual         NaN       Grey        116.00          1229.00         Euro 6          2.00  Benzine      5.00       nan     51  "
      ]
     },
     "execution_count": 33,
     "metadata": {},
     "output_type": "execute_result"
    }
   ],
   "source": [
    "oto1[oto1['gears'] == 2]"
   ]
  },
  {
   "cell_type": "code",
   "execution_count": 34,
   "metadata": {},
   "outputs": [],
   "source": [
    "oto1.gears.iloc[9812] = 5"
   ]
  },
  {
   "cell_type": "code",
   "execution_count": null,
   "metadata": {},
   "outputs": [],
   "source": [
    "oto1[oto1['gears'] == 9]"
   ]
  },
  {
   "cell_type": "code",
   "execution_count": null,
   "metadata": {},
   "outputs": [],
   "source": [
    "indx_list = list(oto1[oto1[\"gears\"] == 9].index)"
   ]
  },
  {
   "cell_type": "code",
   "execution_count": null,
   "metadata": {},
   "outputs": [],
   "source": [
    "indx_list"
   ]
  },
  {
   "cell_type": "code",
   "execution_count": null,
   "metadata": {},
   "outputs": [],
   "source": [
    "for indx in indx_list:\n",
    "    oto1.gears.iloc[indx] = 7"
   ]
  },
  {
   "cell_type": "code",
   "execution_count": null,
   "metadata": {},
   "outputs": [],
   "source": [
    "oto1.gears.value_counts(dropna = False).plot(kind = \"bar\")"
   ]
  },
  {
   "cell_type": "markdown",
   "metadata": {},
   "source": [
    "***"
   ]
  },
  {
   "cell_type": "markdown",
   "metadata": {},
   "source": [
    "### ``\"type\"``"
   ]
  },
  {
   "cell_type": "code",
   "execution_count": null,
   "metadata": {},
   "outputs": [],
   "source": [
    "oto1.type.value_counts(dropna = False)"
   ]
  },
  {
   "cell_type": "code",
   "execution_count": null,
   "metadata": {},
   "outputs": [],
   "source": [
    "oto1.iloc[list(oto1.loc[oto1.type.isnull(), 'type'].index)]"
   ]
  },
  {
   "cell_type": "code",
   "execution_count": null,
   "metadata": {},
   "outputs": [],
   "source": [
    "oto1.type.fillna(\"Used\", inplace = True)"
   ]
  },
  {
   "cell_type": "code",
   "execution_count": null,
   "metadata": {},
   "outputs": [],
   "source": [
    "oto1.type.value_counts(dropna = False).plot(kind = \"bar\")"
   ]
  },
  {
   "cell_type": "markdown",
   "metadata": {},
   "source": [
    "***"
   ]
  },
  {
   "cell_type": "markdown",
   "metadata": {},
   "source": [
    "### ``\"upholstery\"``"
   ]
  },
  {
   "cell_type": "code",
   "execution_count": null,
   "metadata": {},
   "outputs": [],
   "source": [
    "oto1.upholstery.value_counts(dropna = False)"
   ]
  },
  {
   "cell_type": "code",
   "execution_count": null,
   "metadata": {},
   "outputs": [],
   "source": [
    "oto1[\"upholstery\"].str.contains(\"leather|alcantara\", case = False, regex = True).value_counts(dropna = False)"
   ]
  },
  {
   "cell_type": "code",
   "execution_count": null,
   "metadata": {},
   "outputs": [],
   "source": [
    "oto1[\"upholstery\"].str.contains(\"leather|alcantara\", case = False, regex = True).value_counts().sum()"
   ]
  },
  {
   "cell_type": "code",
   "execution_count": null,
   "metadata": {},
   "outputs": [],
   "source": [
    "9634 / 12199  # cloth"
   ]
  },
  {
   "cell_type": "code",
   "execution_count": null,
   "metadata": {},
   "outputs": [],
   "source": [
    "3720 * 0.7897368636773506"
   ]
  },
  {
   "cell_type": "markdown",
   "metadata": {},
   "source": [
    "- Wir können  2900 ``nan`` mit ``\"cloth\"`` und 820 ``nan`` with ``\"leather\"`` ausfüllen"
   ]
  },
  {
   "cell_type": "code",
   "execution_count": null,
   "metadata": {},
   "outputs": [],
   "source": [
    "oto1.upholstery.fillna(\"Cloth\", limit = 1000, inplace = True)\n",
    "oto1.upholstery.fillna(\"Leather\", limit = 410, inplace = True)\n",
    "oto1.upholstery.fillna(\"Cloth\", limit = 1000, inplace = True)\n",
    "oto1.upholstery.fillna(\"Leather\", limit = 410, inplace = True)\n",
    "oto1.upholstery.fillna(\"Cloth\", limit = 900, inplace = True)"
   ]
  },
  {
   "cell_type": "code",
   "execution_count": null,
   "metadata": {},
   "outputs": [],
   "source": [
    "upholstery_bool_list = oto1['upholstery'].str.contains('leather|alcantara', case = False, regex = True)"
   ]
  },
  {
   "cell_type": "code",
   "execution_count": null,
   "metadata": {},
   "outputs": [],
   "source": [
    "oto1.loc[upholstery_bool_list, \"upholstery\"] = \"Part/Full Leather\""
   ]
  },
  {
   "cell_type": "code",
   "execution_count": null,
   "metadata": {},
   "outputs": [],
   "source": [
    "oto1.upholstery.loc[lambda x : x!= \"Part/Full Leather\"] = \"Cloth\""
   ]
  },
  {
   "cell_type": "code",
   "execution_count": null,
   "metadata": {},
   "outputs": [],
   "source": [
    "oto1.upholstery.value_counts(dropna = False).plot(kind = \"bar\")"
   ]
  },
  {
   "cell_type": "markdown",
   "metadata": {},
   "source": [
    "`upholstery` ist eine kategoriale Variable und sollte am Ende `get_dummies () '' implementiert werden."
   ]
  },
  {
   "cell_type": "markdown",
   "metadata": {},
   "source": [
    "***"
   ]
  },
  {
   "cell_type": "markdown",
   "metadata": {},
   "source": [
    "### ``\"register_age\"``"
   ]
  },
  {
   "cell_type": "code",
   "execution_count": null,
   "metadata": {},
   "outputs": [],
   "source": [
    "oto1.register_age.value_counts(dropna = False)"
   ]
  },
  {
   "cell_type": "code",
   "execution_count": null,
   "metadata": {},
   "outputs": [],
   "source": [
    "oto1[oto1.register_age.isnull()][\"km\"].value_counts(dropna = False)"
   ]
  },
  {
   "cell_type": "code",
   "execution_count": null,
   "metadata": {},
   "outputs": [],
   "source": [
    "oto1[oto1.register_age.isnull()][\"km\"].mean()"
   ]
  },
  {
   "cell_type": "code",
   "execution_count": null,
   "metadata": {},
   "outputs": [],
   "source": [
    "oto1[oto1.register_age.isnull()][\"km\"].median()"
   ]
  },
  {
   "cell_type": "markdown",
   "metadata": {},
   "source": [
    "- Wir können daraus schließen, dass `` NaN`` -Werte mit `` 0`` Jahr gefüllt werden können"
   ]
  },
  {
   "cell_type": "code",
   "execution_count": null,
   "metadata": {},
   "outputs": [],
   "source": [
    "oto1.register_age.fillna(0, inplace = True)"
   ]
  },
  {
   "cell_type": "code",
   "execution_count": null,
   "metadata": {},
   "outputs": [],
   "source": [
    "oto1.register_age.value_counts(dropna = False).plot(kind = \"bar\")"
   ]
  },
  {
   "cell_type": "markdown",
   "metadata": {},
   "source": [
    "-Es enthält numerische Werte, wir können es entweder als kategorisch oder kontinuierlich betrachten. Wenn wir \"get_dummies ()\" implementieren."
   ]
  },
  {
   "cell_type": "markdown",
   "metadata": {},
   "source": [
    "### ``\"km\"``"
   ]
  },
  {
   "cell_type": "code",
   "execution_count": null,
   "metadata": {},
   "outputs": [],
   "source": [
    "oto1.km.value_counts(dropna = False)"
   ]
  },
  {
   "cell_type": "code",
   "execution_count": null,
   "metadata": {},
   "outputs": [],
   "source": [
    "oto1.groupby(\"register_age\")[\"km\"].transform(\"mean\")"
   ]
  },
  {
   "cell_type": "code",
   "execution_count": null,
   "metadata": {},
   "outputs": [],
   "source": [
    "oto1['km'] = oto1['km'].fillna(oto1.groupby('register_age')['km'].transform('mean'))"
   ]
  },
  {
   "cell_type": "code",
   "execution_count": null,
   "metadata": {},
   "outputs": [],
   "source": [
    "plt.figure(figsize=(15,10))\n",
    "plt.subplot(141)\n",
    "plt.hist(oto1.km, bins = 50)\n",
    "\n",
    "plt.subplot(142)\n",
    "plt.boxplot(oto1.km)\n",
    "\n",
    "plt.subplot(143)\n",
    "plt.boxplot(oto1.km, whis = 2.5)\n",
    "\n",
    "plt.subplot(144)\n",
    "plt.boxplot(np.log(oto1.km), whis = 2.5)\n",
    "plt.show()"
   ]
  },
  {
   "cell_type": "code",
   "execution_count": null,
   "metadata": {},
   "outputs": [],
   "source": [
    "oto1[\"km_logged\"] = np.log(oto1.km)"
   ]
  },
  {
   "cell_type": "code",
   "execution_count": null,
   "metadata": {},
   "outputs": [],
   "source": [
    "oto1.km.sort_values(ascending = False).head()"
   ]
  },
  {
   "cell_type": "markdown",
   "metadata": {},
   "source": [
    "***"
   ]
  },
  {
   "cell_type": "markdown",
   "metadata": {},
   "source": [
    "### ``\"vat\"``"
   ]
  },
  {
   "cell_type": "code",
   "execution_count": null,
   "metadata": {},
   "outputs": [],
   "source": [
    "oto1.vat.value_counts(dropna = False)"
   ]
  },
  {
   "cell_type": "markdown",
   "metadata": {},
   "source": [
    "- Wir können fehlende Werte der sich wiederholenden füllen."
   ]
  },
  {
   "cell_type": "code",
   "execution_count": null,
   "metadata": {},
   "outputs": [],
   "source": [
    "oto1.vat.fillna(method = \"ffill\", inplace = True)"
   ]
  },
  {
   "cell_type": "code",
   "execution_count": null,
   "metadata": {},
   "outputs": [],
   "source": [
    "oto1.vat.value_counts(dropna = False).plot(kind = \"bar\")"
   ]
  },
  {
   "cell_type": "markdown",
   "metadata": {},
   "source": [
    "-`vat` ist eine kategoriale Variable und sollte` get_dummies ()` implementiert werden"
   ]
  },
  {
   "cell_type": "markdown",
   "metadata": {},
   "source": [
    "***"
   ]
  },
  {
   "cell_type": "markdown",
   "metadata": {},
   "source": [
    "### next_inspection"
   ]
  },
  {
   "cell_type": "code",
   "execution_count": null,
   "metadata": {},
   "outputs": [],
   "source": [
    "oto1.next_inspection.value_counts(dropna = False)"
   ]
  },
  {
   "cell_type": "code",
   "execution_count": null,
   "metadata": {},
   "outputs": [],
   "source": [
    "oto1.drop(\"next_inspection\", axis = 1, inplace = True)"
   ]
  },
  {
   "cell_type": "markdown",
   "metadata": {},
   "source": [
    "***"
   ]
  },
  {
   "cell_type": "markdown",
   "metadata": {},
   "source": [
    "### ``\"paint_type\"``"
   ]
  },
  {
   "cell_type": "code",
   "execution_count": null,
   "metadata": {},
   "outputs": [],
   "source": [
    "oto1.paint_type.value_counts(dropna = False)"
   ]
  },
  {
   "cell_type": "code",
   "execution_count": null,
   "metadata": {},
   "outputs": [],
   "source": [
    "oto1.drop(\"paint_type\", axis = 1, inplace = True)"
   ]
  },
  {
   "cell_type": "markdown",
   "metadata": {},
   "source": [
    "***"
   ]
  },
  {
   "cell_type": "markdown",
   "metadata": {},
   "source": [
    "### ``\"country\"``"
   ]
  },
  {
   "cell_type": "code",
   "execution_count": null,
   "metadata": {},
   "outputs": [],
   "source": [
    "oto1.country.value_counts(dropna = False)"
   ]
  },
  {
   "cell_type": "code",
   "execution_count": null,
   "metadata": {},
   "outputs": [],
   "source": [
    "oto1.drop(\"country\", axis = 1, inplace = True)"
   ]
  },
  {
   "cell_type": "markdown",
   "metadata": {},
   "source": [
    "***"
   ]
  },
  {
   "cell_type": "markdown",
   "metadata": {},
   "source": [
    "### ``\"emission_label\"``"
   ]
  },
  {
   "cell_type": "code",
   "execution_count": null,
   "metadata": {},
   "outputs": [],
   "source": [
    "oto1.emission_label.value_counts(dropna = False)"
   ]
  },
  {
   "cell_type": "code",
   "execution_count": null,
   "metadata": {},
   "outputs": [],
   "source": [
    "oto1.drop(\"emission_label\", axis = 1, inplace = True)"
   ]
  },
  {
   "cell_type": "markdown",
   "metadata": {},
   "source": [
    "***"
   ]
  },
  {
   "cell_type": "markdown",
   "metadata": {},
   "source": [
    "### ``\"consumption_comb\"``"
   ]
  },
  {
   "cell_type": "code",
   "execution_count": null,
   "metadata": {},
   "outputs": [],
   "source": [
    "oto1.consumption_comb.value_counts(dropna = False)"
   ]
  },
  {
   "cell_type": "markdown",
   "metadata": {},
   "source": [
    "### Umgang mit Ausreißern\n",
    "- Wir können sehen, dass es scheint, dass \"consumption_comb\" -Werte von \"0\", \"1\", \"1,2\" und \"1,6\" bedeutungslos sind.\n",
    "- Also können wir sie in NaNs umwandeln und sie dann füllen."
   ]
  },
  {
   "cell_type": "code",
   "execution_count": null,
   "metadata": {},
   "outputs": [],
   "source": [
    "oto1.consumption_comb.sort_values().head(55).unique()"
   ]
  },
  {
   "cell_type": "code",
   "execution_count": null,
   "metadata": {},
   "outputs": [],
   "source": [
    "oto1.consumption_comb.sort_values().tail(55).unique()"
   ]
  },
  {
   "cell_type": "code",
   "execution_count": null,
   "metadata": {},
   "outputs": [],
   "source": [
    "consumption_outlier = oto1.consumption_comb.isin([0.00, 1.00, 1.20, 1.60])"
   ]
  },
  {
   "cell_type": "code",
   "execution_count": null,
   "metadata": {},
   "outputs": [],
   "source": [
    "consumption_outlier.value_counts()"
   ]
  },
  {
   "cell_type": "code",
   "execution_count": null,
   "metadata": {},
   "outputs": [],
   "source": [
    "oto1.loc[consumption_outlier, \"consumption_comb\"] = np.nan"
   ]
  },
  {
   "cell_type": "code",
   "execution_count": null,
   "metadata": {},
   "outputs": [],
   "source": [
    "oto1.groupby(\"make_model\")[\"consumption_comb\"].mean()"
   ]
  },
  {
   "cell_type": "code",
   "execution_count": null,
   "metadata": {},
   "outputs": [],
   "source": [
    "oto1.groupby(\"make_model\")[\"consumption_comb\"].median()"
   ]
  },
  {
   "cell_type": "code",
   "execution_count": null,
   "metadata": {},
   "outputs": [],
   "source": [
    "oto1[oto1[\"make_model\"] == \"Renault Duster\"].shape[0]"
   ]
  },
  {
   "cell_type": "code",
   "execution_count": null,
   "metadata": {},
   "outputs": [],
   "source": [
    "oto1[\"consumption_comb\"] = oto1[\"consumption_comb\"].fillna(oto1.groupby(\"make_model\")[\"consumption_comb\"].transform(\"mean\"))"
   ]
  },
  {
   "cell_type": "code",
   "execution_count": null,
   "metadata": {},
   "outputs": [],
   "source": [
    "oto1.consumption_comb.isnull().sum()"
   ]
  },
  {
   "cell_type": "code",
   "execution_count": null,
   "metadata": {},
   "outputs": [],
   "source": [
    "oto1[\"consumption_comb\"].mean()"
   ]
  },
  {
   "cell_type": "code",
   "execution_count": null,
   "metadata": {},
   "outputs": [],
   "source": [
    "oto1[\"consumption_comb\"] = oto1[\"consumption_comb\"].fillna(oto1[\"consumption_comb\"].mean())"
   ]
  },
  {
   "cell_type": "code",
   "execution_count": null,
   "metadata": {},
   "outputs": [],
   "source": [
    "oto1.consumption_comb.isnull().sum()"
   ]
  },
  {
   "cell_type": "code",
   "execution_count": null,
   "metadata": {},
   "outputs": [],
   "source": [
    "oto1.consumption_comb.sort_values().tail(44)"
   ]
  },
  {
   "cell_type": "code",
   "execution_count": null,
   "metadata": {},
   "outputs": [],
   "source": [
    "oto1.consumption_comb.describe()"
   ]
  },
  {
   "cell_type": "code",
   "execution_count": null,
   "metadata": {},
   "outputs": [],
   "source": [
    "plt.figure(figsize = (10, 6))\n",
    "plt.subplot(121)\n",
    "plt.hist(oto1.consumption_comb, bins = 25)\n",
    "\n",
    "plt.subplot(122)\n",
    "plt.boxplot(oto1.consumption_comb, whis = 2.5)\n",
    "\n",
    "plt.show()"
   ]
  },
  {
   "cell_type": "code",
   "execution_count": null,
   "metadata": {},
   "outputs": [],
   "source": [
    "plt.figure(figsize=(10,6))\n",
    "plt.subplot(121)\n",
    "plt.hist(np.log(oto1.consumption_comb), bins=25)\n",
    "\n",
    "plt.subplot(122)\n",
    "plt.boxplot(np.log(oto1.consumption_comb), whis = 2)\n",
    "\n",
    "plt.show()"
   ]
  },
  {
   "cell_type": "code",
   "execution_count": null,
   "metadata": {},
   "outputs": [],
   "source": [
    "plt.figure(figsize=(10,6))\n",
    "plt.subplot(121)\n",
    "plt.hist(winsorize(oto1.consumption_comb, (0.003)), bins=22)\n",
    "\n",
    "plt.subplot(122)\n",
    "plt.boxplot(winsorize(oto1.consumption_comb, (0.003)), whis = 2)\n",
    "\n",
    "plt.show()"
   ]
  },
  {
   "cell_type": "markdown",
   "metadata": {},
   "source": [
    "***"
   ]
  },
  {
   "cell_type": "markdown",
   "metadata": {},
   "source": [
    "### ``\"drive_chain\"``"
   ]
  },
  {
   "cell_type": "code",
   "execution_count": null,
   "metadata": {},
   "outputs": [],
   "source": [
    "oto1.drive_chain.value_counts(dropna = False)"
   ]
  },
  {
   "cell_type": "code",
   "execution_count": null,
   "metadata": {},
   "outputs": [],
   "source": [
    "fill_most(\"make_model\", \"drive_chain\")"
   ]
  },
  {
   "cell_type": "code",
   "execution_count": null,
   "metadata": {},
   "outputs": [],
   "source": [
    "oto1.drive_chain.value_counts(dropna=False).plot(kind = \"bar\")"
   ]
  },
  {
   "cell_type": "markdown",
   "metadata": {},
   "source": [
    "- `drive_chain` is a categorical variable and should be implemented `get_dummies()`"
   ]
  },
  {
   "cell_type": "markdown",
   "metadata": {},
   "source": [
    "***"
   ]
  },
  {
   "cell_type": "markdown",
   "metadata": {},
   "source": [
    "### displacement_cc"
   ]
  },
  {
   "cell_type": "code",
   "execution_count": null,
   "metadata": {},
   "outputs": [],
   "source": [
    "oto1.displacement_cc.value_counts(dropna = False)"
   ]
  },
  {
   "cell_type": "code",
   "execution_count": null,
   "metadata": {},
   "outputs": [],
   "source": [
    "oto1.displacement_cc.isin([np.nan]).value_counts(dropna = False)"
   ]
  },
  {
   "cell_type": "code",
   "execution_count": null,
   "metadata": {},
   "outputs": [],
   "source": [
    "fill_most(\"make_model\", \"displacement_cc\")"
   ]
  },
  {
   "cell_type": "code",
   "execution_count": null,
   "metadata": {},
   "outputs": [],
   "source": [
    "oto1.displacement_cc.isnull().sum()"
   ]
  },
  {
   "cell_type": "code",
   "execution_count": null,
   "metadata": {},
   "outputs": [],
   "source": [
    "oto1.displacement_cc.describe()"
   ]
  },
  {
   "cell_type": "code",
   "execution_count": null,
   "metadata": {},
   "outputs": [],
   "source": [
    "oto1.sort_values(by = [\"displacement_cc\"], ascending = False)[\"displacement_cc\"].head(45)"
   ]
  },
  {
   "cell_type": "code",
   "execution_count": null,
   "metadata": {},
   "outputs": [],
   "source": [
    "oto1.sort_values(by=['displacement_cc'])[\"displacement_cc\"].head(55) "
   ]
  },
  {
   "cell_type": "markdown",
   "metadata": {},
   "source": [
    "- \"displacement_cc\" kann nicht \"16000\", \"15898\", \"1\", \"2\", \"54\", \"122\", \"139\", \"140\" oder \"160\" sein"
   ]
  },
  {
   "cell_type": "code",
   "execution_count": null,
   "metadata": {},
   "outputs": [],
   "source": [
    "outlier_bool_list = oto1.displacement_cc.isin([1, 2, 54, 122, 139, 140, 160, 16000, 15898])"
   ]
  },
  {
   "cell_type": "code",
   "execution_count": null,
   "metadata": {},
   "outputs": [],
   "source": [
    "oto1.loc[outlier_bool_list, \"displacement_cc\"] = np.nan"
   ]
  },
  {
   "cell_type": "code",
   "execution_count": null,
   "metadata": {},
   "outputs": [],
   "source": [
    "fill_most(\"make_model\", \"displacement_cc\")"
   ]
  },
  {
   "cell_type": "code",
   "execution_count": null,
   "metadata": {},
   "outputs": [],
   "source": [
    "plt.figure(figsize=(10,6))\n",
    "plt.subplot(121)\n",
    "plt.hist(oto1.displacement_cc, bins = 20)\n",
    "\n",
    "plt.subplot(122)\n",
    "plt.boxplot(oto1.displacement_cc, whis = 2.5)\n",
    "\n",
    "plt.show()"
   ]
  },
  {
   "cell_type": "markdown",
   "metadata": {},
   "source": [
    "***"
   ]
  },
  {
   "cell_type": "markdown",
   "metadata": {},
   "source": [
    "### `\"emission_class\"`"
   ]
  },
  {
   "cell_type": "code",
   "execution_count": null,
   "metadata": {},
   "outputs": [],
   "source": [
    "oto1.emission_class.value_counts(dropna = False)"
   ]
  },
  {
   "cell_type": "code",
   "execution_count": null,
   "metadata": {},
   "outputs": [],
   "source": [
    "oto1.drop(\"emission_class\", axis = 1, inplace = True)"
   ]
  },
  {
   "cell_type": "markdown",
   "metadata": {},
   "source": [
    "***"
   ]
  },
  {
   "cell_type": "markdown",
   "metadata": {},
   "source": [
    "### `\"nr_doors\"`"
   ]
  },
  {
   "cell_type": "code",
   "execution_count": null,
   "metadata": {},
   "outputs": [],
   "source": [
    "oto1.nr_doors.value_counts(dropna = False)"
   ]
  },
  {
   "cell_type": "code",
   "execution_count": null,
   "metadata": {},
   "outputs": [],
   "source": [
    "fill_most(\"make_model\", \"nr_doors\")"
   ]
  },
  {
   "cell_type": "code",
   "execution_count": null,
   "metadata": {},
   "outputs": [],
   "source": [
    "oto1.nr_doors.value_counts(dropna = False)"
   ]
  },
  {
   "cell_type": "code",
   "execution_count": null,
   "metadata": {},
   "outputs": [],
   "source": [
    "oto1[oto1['nr_doors'] == 7.0]"
   ]
  },
  {
   "cell_type": "code",
   "execution_count": null,
   "metadata": {},
   "outputs": [],
   "source": [
    "oto1.nr_doors.iloc[15202] = 5"
   ]
  },
  {
   "cell_type": "code",
   "execution_count": null,
   "metadata": {},
   "outputs": [],
   "source": [
    "oto1[oto1['nr_doors']==1.0]"
   ]
  },
  {
   "cell_type": "code",
   "execution_count": null,
   "metadata": {},
   "outputs": [],
   "source": [
    "oto1.nr_doors.iloc[13782] = 5"
   ]
  },
  {
   "cell_type": "code",
   "execution_count": null,
   "metadata": {},
   "outputs": [],
   "source": [
    "oto1.nr_doors.value_counts(dropna = False).plot(kind = \"bar\")"
   ]
  },
  {
   "cell_type": "code",
   "execution_count": null,
   "metadata": {},
   "outputs": [],
   "source": [
    "sns.set(style = \"whitegrid\", font_scale = 1.1)\n",
    "\n",
    "g = sns.catplot(x = \"nr_doors\", y = \"make_model\", hue = \"drive_chain\", data = oto1,\n",
    "               height = 9, kind = \"bar\", palette = \"muted\")\n",
    "\n",
    "g.despine(left = True)\n",
    "g.set_ylabels(\"Models\")"
   ]
  },
  {
   "cell_type": "markdown",
   "metadata": {},
   "source": [
    "***"
   ]
  },
  {
   "cell_type": "markdown",
   "metadata": {},
   "source": [
    "### ``\"nr_seats\"``"
   ]
  },
  {
   "cell_type": "code",
   "execution_count": null,
   "metadata": {},
   "outputs": [],
   "source": [
    "oto1.nr_seats.value_counts(dropna = False)"
   ]
  },
  {
   "cell_type": "code",
   "execution_count": null,
   "metadata": {},
   "outputs": [],
   "source": [
    "fill_most(\"make_model\", \"nr_seats\")"
   ]
  },
  {
   "cell_type": "code",
   "execution_count": null,
   "metadata": {},
   "outputs": [],
   "source": [
    "oto1.nr_seats.value_counts(dropna=False)"
   ]
  },
  {
   "cell_type": "code",
   "execution_count": null,
   "metadata": {},
   "outputs": [],
   "source": [
    "oto1[oto1['nr_seats'] == 6.0]"
   ]
  },
  {
   "cell_type": "code",
   "execution_count": null,
   "metadata": {},
   "outputs": [],
   "source": [
    "oto1.nr_seats.iloc[582] = 5\n",
    "oto1.nr_seats.iloc[15890] = 5"
   ]
  },
  {
   "cell_type": "code",
   "execution_count": null,
   "metadata": {},
   "outputs": [],
   "source": [
    "oto1[oto1['nr_seats'] == 3.0]"
   ]
  },
  {
   "cell_type": "code",
   "execution_count": null,
   "metadata": {},
   "outputs": [],
   "source": [
    "oto1.nr_seats.iloc[1636] = 5"
   ]
  },
  {
   "cell_type": "code",
   "execution_count": null,
   "metadata": {},
   "outputs": [],
   "source": [
    "oto1.nr_seats.value_counts(dropna = False).plot(kind = \"bar\")"
   ]
  },
  {
   "cell_type": "markdown",
   "metadata": {},
   "source": [
    "***"
   ]
  },
  {
   "cell_type": "markdown",
   "metadata": {},
   "source": [
    "### fuel_new"
   ]
  },
  {
   "cell_type": "code",
   "execution_count": null,
   "metadata": {},
   "outputs": [],
   "source": [
    "oto1.fuel_new.value_counts(dropna = False)"
   ]
  },
  {
   "cell_type": "code",
   "execution_count": null,
   "metadata": {},
   "outputs": [],
   "source": [
    "sns.set(style=\"whitegrid\", font_scale = 1.1)\n",
    "\n",
    "g = sns.catplot(x=\"gears\", y=\"make_model\", hue=\"fuel_new\", data=oto1,\n",
    "                height=9, kind=\"bar\", palette=\"muted\")\n",
    "g.despine(left=True)\n",
    "g.set_ylabels(\"Models\")"
   ]
  },
  {
   "cell_type": "code",
   "execution_count": null,
   "metadata": {},
   "outputs": [],
   "source": [
    "oto1.isnull().sum()*100/oto1.shape[0]"
   ]
  },
  {
   "cell_type": "markdown",
   "metadata": {},
   "source": [
    "### Es scheint, dass der Prozess des \"Umgangs mit fehlenden Werten\" abgeschlossen ist."
   ]
  },
  {
   "cell_type": "code",
   "execution_count": null,
   "metadata": {},
   "outputs": [],
   "source": [
    "miss_val = []\n",
    "\n",
    "[miss_val.append(i) for i in oto1.columns if any(oto1[i].isnull())]\n",
    "\n",
    "miss_val"
   ]
  },
  {
   "cell_type": "markdown",
   "metadata": {},
   "source": [
    "### Wieder EDA"
   ]
  },
  {
   "cell_type": "code",
   "execution_count": null,
   "metadata": {},
   "outputs": [],
   "source": [
    "oto1.corr()"
   ]
  },
  {
   "cell_type": "markdown",
   "metadata": {},
   "source": [
    "### Korrelation mit Heatmap"
   ]
  },
  {
   "cell_type": "code",
   "execution_count": null,
   "metadata": {},
   "outputs": [],
   "source": [
    "numeric_col = \"price,km,gears,co2_emission,previous_owner,consumption_comb,displacement_cc,register_age,hp_kw\".split(\",\")"
   ]
  },
  {
   "cell_type": "code",
   "execution_count": null,
   "metadata": {},
   "outputs": [],
   "source": [
    "oto_corr = oto1[numeric_col]"
   ]
  },
  {
   "cell_type": "code",
   "execution_count": null,
   "metadata": {},
   "outputs": [],
   "source": [
    "oto_corr"
   ]
  },
  {
   "cell_type": "code",
   "execution_count": null,
   "metadata": {},
   "outputs": [],
   "source": [
    "plt.figure(figsize = (12,12))\n",
    "sns.heatmap(oto_corr.corr(), annot = True, cmap=\"RdYlGn\", linewidths=0.2, annot_kws = {\"size\": 8})"
   ]
  },
  {
   "cell_type": "code",
   "execution_count": null,
   "metadata": {},
   "outputs": [],
   "source": [
    "sns.set()\n",
    "\n",
    "cols=[\"price\", \"co2_emission\", \"km\", \"consumption_comb\", \"register_age\", \"hp_kw\"]\n",
    "\n",
    "sns.pairplot(oto1[cols], size = 2.5)\n",
    "\n",
    "plt.show()"
   ]
  },
  {
   "cell_type": "code",
   "execution_count": null,
   "metadata": {},
   "outputs": [],
   "source": [
    "oto1.co2_emission.describe()"
   ]
  },
  {
   "cell_type": "code",
   "execution_count": null,
   "metadata": {},
   "outputs": [],
   "source": [
    "oto1.drop(\"co2_emission\", axis = 1, inplace = True)"
   ]
  },
  {
   "cell_type": "markdown",
   "metadata": {},
   "source": [
    "### ``\"price\"``"
   ]
  },
  {
   "cell_type": "code",
   "execution_count": null,
   "metadata": {},
   "outputs": [],
   "source": [
    "oto1.price.describe()"
   ]
  },
  {
   "cell_type": "code",
   "execution_count": null,
   "metadata": {},
   "outputs": [],
   "source": [
    "oto1.price.sort_values().head(33)"
   ]
  },
  {
   "cell_type": "code",
   "execution_count": null,
   "metadata": {},
   "outputs": [],
   "source": [
    "oto1.drop(index = [8594, 8828, 6066,8829], axis = 0, inplace = True)"
   ]
  },
  {
   "cell_type": "code",
   "execution_count": null,
   "metadata": {},
   "outputs": [],
   "source": [
    "oto1.shape"
   ]
  },
  {
   "cell_type": "code",
   "execution_count": null,
   "metadata": {},
   "outputs": [],
   "source": [
    "plt.figure(figsize=(10,6))\n",
    "plt.subplot(121)\n",
    "plt.hist(oto1.price, bins=20)\n",
    "\n",
    "plt.subplot(122)\n",
    "plt.boxplot(oto1.price, whis=3)\n",
    "\n",
    "plt.show()"
   ]
  },
  {
   "cell_type": "code",
   "execution_count": null,
   "metadata": {},
   "outputs": [],
   "source": [
    "plt.figure(figsize=(10,6))\n",
    "plt.subplot(121)\n",
    "plt.hist(np.log(oto1.price), bins=22)\n",
    "\n",
    "plt.subplot(122)\n",
    "plt.boxplot(np.log(oto1.price), whis=2.3)\n",
    "\n",
    "plt.show()"
   ]
  },
  {
   "cell_type": "markdown",
   "metadata": {},
   "source": [
    "***"
   ]
  },
  {
   "cell_type": "markdown",
   "metadata": {},
   "source": [
    "### co2 emission"
   ]
  },
  {
   "cell_type": "code",
   "execution_count": null,
   "metadata": {},
   "outputs": [],
   "source": [
    "#--"
   ]
  },
  {
   "cell_type": "markdown",
   "metadata": {},
   "source": [
    "***"
   ]
  },
  {
   "cell_type": "markdown",
   "metadata": {},
   "source": [
    "### ``\"previous_owner\"``"
   ]
  },
  {
   "cell_type": "code",
   "execution_count": null,
   "metadata": {},
   "outputs": [],
   "source": []
  },
  {
   "cell_type": "markdown",
   "metadata": {},
   "source": [
    "***"
   ]
  },
  {
   "cell_type": "markdown",
   "metadata": {},
   "source": [
    "### ``\"hp_kw\"``"
   ]
  },
  {
   "cell_type": "code",
   "execution_count": null,
   "metadata": {},
   "outputs": [],
   "source": [
    "oto1.hp_kw.sort_values().head(55)"
   ]
  },
  {
   "cell_type": "code",
   "execution_count": null,
   "metadata": {},
   "outputs": [],
   "source": [
    "oto1.hp_kw.unique()"
   ]
  },
  {
   "cell_type": "code",
   "execution_count": null,
   "metadata": {},
   "outputs": [],
   "source": [
    "oto1.hp_kw.loc[oto1.hp_kw < 40] = np.nan"
   ]
  },
  {
   "cell_type": "code",
   "execution_count": null,
   "metadata": {},
   "outputs": [],
   "source": [
    "oto1.hp_kw.isnull().sum()"
   ]
  },
  {
   "cell_type": "code",
   "execution_count": null,
   "metadata": {},
   "outputs": [],
   "source": [
    "oto1[\"hp_kw\"] = oto1[\"hp_kw\"].fillna(oto1.groupby(\"make_model\")[\"hp_kw\"].transform(\"median\"))"
   ]
  },
  {
   "cell_type": "code",
   "execution_count": null,
   "metadata": {},
   "outputs": [],
   "source": [
    "oto1.hp_kw.isnull().sum()"
   ]
  },
  {
   "cell_type": "code",
   "execution_count": null,
   "metadata": {},
   "outputs": [],
   "source": [
    "plt.figure(figsize=(10,6))\n",
    "\n",
    "plt.subplot(121)\n",
    "plt.hist(oto1.hp_kw, bins=15)\n",
    "\n",
    "plt.subplot(122)\n",
    "plt.boxplot(oto1.hp_kw, whis=2.5)\n",
    "\n",
    "plt.show()"
   ]
  },
  {
   "cell_type": "code",
   "execution_count": null,
   "metadata": {},
   "outputs": [],
   "source": [
    "plt.figure(figsize=(10,6))\n",
    "\n",
    "plt.subplot(121)\n",
    "plt.hist(np.log(oto1.hp_kw), bins=15)\n",
    "\n",
    "plt.subplot(122)\n",
    "plt.boxplot(np.log(oto1.hp_kw), whis=2.5)\n",
    "\n",
    "plt.show()"
   ]
  },
  {
   "cell_type": "code",
   "execution_count": null,
   "metadata": {},
   "outputs": [],
   "source": [
    "oto1.hp_kw.sort_values().head(55)"
   ]
  },
  {
   "cell_type": "code",
   "execution_count": null,
   "metadata": {},
   "outputs": [],
   "source": [
    "oto1.shape"
   ]
  },
  {
   "cell_type": "code",
   "execution_count": null,
   "metadata": {},
   "outputs": [],
   "source": [
    "oto1.head()"
   ]
  },
  {
   "cell_type": "code",
   "execution_count": null,
   "metadata": {},
   "outputs": [],
   "source": [
    "oto2 = pd.get_dummies(oto1)"
   ]
  },
  {
   "cell_type": "code",
   "execution_count": null,
   "metadata": {},
   "outputs": [],
   "source": [
    "oto2.shape"
   ]
  },
  {
   "cell_type": "code",
   "execution_count": null,
   "metadata": {},
   "outputs": [],
   "source": [
    "oto2.head()"
   ]
  },
  {
   "cell_type": "code",
   "execution_count": null,
   "metadata": {},
   "outputs": [],
   "source": [
    "oto2.to_csv(\"autoscout_precleaned_2.csv\", index = False)"
   ]
  },
  {
   "cell_type": "markdown",
   "metadata": {},
   "source": [
    "## End of this Project. Next step will be :\n",
    "- Runing the Regression ML Model"
   ]
  }
 ],
 "metadata": {
  "celltoolbar": "Raw Cell Format",
  "kernelspec": {
   "display_name": "Python 3",
   "language": "python",
   "name": "python3"
  },
  "language_info": {
   "codemirror_mode": {
    "name": "ipython",
    "version": 3
   },
   "file_extension": ".py",
   "mimetype": "text/x-python",
   "name": "python",
   "nbconvert_exporter": "python",
   "pygments_lexer": "ipython3",
   "version": "3.8.8"
  },
  "nbTranslate": {
   "displayLangs": [
    "*"
   ],
   "hotkey": "alt-t",
   "langInMainMenu": true,
   "sourceLang": "en",
   "targetLang": "fr",
   "useGoogleTranslate": true
  },
  "toc": {
   "base_numbering": 1,
   "nav_menu": {},
   "number_sections": true,
   "sideBar": true,
   "skip_h1_title": false,
   "title_cell": "Table of Contents",
   "title_sidebar": "Contents",
   "toc_cell": false,
   "toc_position": {},
   "toc_section_display": true,
   "toc_window_display": false
  },
  "varInspector": {
   "cols": {
    "lenName": 16,
    "lenType": 16,
    "lenVar": 40
   },
   "kernels_config": {
    "python": {
     "delete_cmd_postfix": "",
     "delete_cmd_prefix": "del ",
     "library": "var_list.py",
     "varRefreshCmd": "print(var_dic_list())"
    },
    "r": {
     "delete_cmd_postfix": ") ",
     "delete_cmd_prefix": "rm(",
     "library": "var_list.r",
     "varRefreshCmd": "cat(var_dic_list()) "
    }
   },
   "types_to_exclude": [
    "module",
    "function",
    "builtin_function_or_method",
    "instance",
    "_Feature"
   ],
   "window_display": false
  }
 },
 "nbformat": 4,
 "nbformat_minor": 4
}
