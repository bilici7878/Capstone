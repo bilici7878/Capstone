{
 "cells": [
  {
   "cell_type": "markdown",
   "metadata": {},
   "source": [
    "  # ELEKTROAUTOS\n",
    "\n",
    "\n",
    "    Brand:           Manufacturer of the vehicle\n",
    "    Model:           Model name\n",
    "    AccelSec:        Acceleration as 0-100 km/h\n",
    "    TopSpeed_KmH:    The top speed in km/h\n",
    "    Rang_Km:         Reichweite in km\n",
    "    Efficiency_WhKm: Efficiency Wh/km --> wie viel kw brauch ich pro km bzw. Stromverbrauch pro km\n",
    "    FastCharge_KmH:  Charge km/h --> Reichweite in km nach einer Stunde Schnellladen (=theoretischer Wert)\n",
    "    RapidCharge:     Yes / No --> besitzt Schnellladefunktion ja/nein\n",
    "    PowerTrain:      Front (FWD), rear (RWD) , or all wheel drive (AWD)\n",
    "    PlugType:        Plug type (Stecktyp Laden an Ladesäule; abhängig vom Land in dem das Auto späterfährt)\n",
    "    BodyStyle:       Basic size or style (SUV, Schrägdach etc.)\n",
    "    Seats:           Number of seats\n",
    "    PriceEuro:       Price in Germany before tax incentives\n",
    "    connector:       unique identifier für die Verbindung der Daten"
   ]
  },
  {
   "cell_type": "markdown",
   "metadata": {},
   "source": [
    "## DATA PREPROCESSING"
   ]
  },
  {
   "cell_type": "markdown",
   "metadata": {},
   "source": [
    "<font color='black'>**Importieren von benötigten Bibliotheken**</font>"
   ]
  },
  {
   "cell_type": "code",
   "execution_count": 1,
   "metadata": {},
   "outputs": [
    {
     "data": {
      "text/html": [
       "        <script type=\"text/javascript\">\n",
       "        window.PlotlyConfig = {MathJaxConfig: 'local'};\n",
       "        if (window.MathJax) {MathJax.Hub.Config({SVG: {font: \"STIX-Web\"}});}\n",
       "        if (typeof require !== 'undefined') {\n",
       "        require.undef(\"plotly\");\n",
       "        requirejs.config({\n",
       "            paths: {\n",
       "                'plotly': ['https://cdn.plot.ly/plotly-2.6.3.min']\n",
       "            }\n",
       "        });\n",
       "        require(['plotly'], function(Plotly) {\n",
       "            window._Plotly = Plotly;\n",
       "        });\n",
       "        }\n",
       "        </script>\n",
       "        "
      ]
     },
     "metadata": {},
     "output_type": "display_data"
    }
   ],
   "source": [
    "import pandas as pd \n",
    "import numpy as np\n",
    "import matplotlib.pyplot as plt\n",
    "import seaborn as sns\n",
    "\n",
    "import plotly.express as px\n",
    "from plotly.offline import init_notebook_mode, iplot\n",
    "init_notebook_mode(connected=True)"
   ]
  },
  {
   "cell_type": "markdown",
   "metadata": {},
   "source": [
    "### Datensatz einlesen"
   ]
  },
  {
   "cell_type": "code",
   "execution_count": 2,
   "metadata": {},
   "outputs": [
    {
     "data": {
      "text/html": [
       "<div>\n",
       "<style scoped>\n",
       "    .dataframe tbody tr th:only-of-type {\n",
       "        vertical-align: middle;\n",
       "    }\n",
       "\n",
       "    .dataframe tbody tr th {\n",
       "        vertical-align: top;\n",
       "    }\n",
       "\n",
       "    .dataframe thead th {\n",
       "        text-align: right;\n",
       "    }\n",
       "</style>\n",
       "<table border=\"1\" class=\"dataframe\">\n",
       "  <thead>\n",
       "    <tr style=\"text-align: right;\">\n",
       "      <th></th>\n",
       "      <th>Brand</th>\n",
       "      <th>Model</th>\n",
       "      <th>AccelSec</th>\n",
       "      <th>TopSpeed_KmH</th>\n",
       "      <th>Range_Km</th>\n",
       "      <th>Efficiency_WhKm</th>\n",
       "      <th>connector</th>\n",
       "    </tr>\n",
       "  </thead>\n",
       "  <tbody>\n",
       "    <tr>\n",
       "      <th>0</th>\n",
       "      <td>Tesla</td>\n",
       "      <td>Model 3 Long Range Dual Motor</td>\n",
       "      <td>4.6</td>\n",
       "      <td>233</td>\n",
       "      <td>450</td>\n",
       "      <td>161</td>\n",
       "      <td>100</td>\n",
       "    </tr>\n",
       "    <tr>\n",
       "      <th>1</th>\n",
       "      <td>Volkswagen</td>\n",
       "      <td>ID.3 Pure</td>\n",
       "      <td>10.0</td>\n",
       "      <td>160</td>\n",
       "      <td>270</td>\n",
       "      <td>167</td>\n",
       "      <td>101</td>\n",
       "    </tr>\n",
       "    <tr>\n",
       "      <th>2</th>\n",
       "      <td>Polestar</td>\n",
       "      <td>2</td>\n",
       "      <td>4.7</td>\n",
       "      <td>210</td>\n",
       "      <td>400</td>\n",
       "      <td>181</td>\n",
       "      <td>102</td>\n",
       "    </tr>\n",
       "    <tr>\n",
       "      <th>3</th>\n",
       "      <td>BMW</td>\n",
       "      <td>iX3</td>\n",
       "      <td>6.8</td>\n",
       "      <td>180</td>\n",
       "      <td>360</td>\n",
       "      <td>206</td>\n",
       "      <td>103</td>\n",
       "    </tr>\n",
       "    <tr>\n",
       "      <th>4</th>\n",
       "      <td>Honda</td>\n",
       "      <td>e</td>\n",
       "      <td>9.5</td>\n",
       "      <td>145</td>\n",
       "      <td>170</td>\n",
       "      <td>168</td>\n",
       "      <td>104</td>\n",
       "    </tr>\n",
       "  </tbody>\n",
       "</table>\n",
       "</div>"
      ],
      "text/plain": [
       "         Brand                          Model  AccelSec  TopSpeed_KmH  \\\n",
       "0       Tesla   Model 3 Long Range Dual Motor       4.6           233   \n",
       "1  Volkswagen                       ID.3 Pure      10.0           160   \n",
       "2    Polestar                               2       4.7           210   \n",
       "3         BMW                            iX3        6.8           180   \n",
       "4       Honda                              e        9.5           145   \n",
       "\n",
       "   Range_Km  Efficiency_WhKm  connector  \n",
       "0       450              161        100  \n",
       "1       270              167        101  \n",
       "2       400              181        102  \n",
       "3       360              206        103  \n",
       "4       170              168        104  "
      ]
     },
     "execution_count": 2,
     "metadata": {},
     "output_type": "execute_result"
    }
   ],
   "source": [
    "df1 = pd.read_csv(\"ecar_part1.csv\", engine='python', index_col=0)   \n",
    "\n",
    "df1.head(5)  "
   ]
  },
  {
   "cell_type": "code",
   "execution_count": 3,
   "metadata": {},
   "outputs": [
    {
     "data": {
      "text/html": [
       "<div>\n",
       "<style scoped>\n",
       "    .dataframe tbody tr th:only-of-type {\n",
       "        vertical-align: middle;\n",
       "    }\n",
       "\n",
       "    .dataframe tbody tr th {\n",
       "        vertical-align: top;\n",
       "    }\n",
       "\n",
       "    .dataframe thead th {\n",
       "        text-align: right;\n",
       "    }\n",
       "</style>\n",
       "<table border=\"1\" class=\"dataframe\">\n",
       "  <thead>\n",
       "    <tr style=\"text-align: right;\">\n",
       "      <th></th>\n",
       "      <th>FastCharge_KmH</th>\n",
       "      <th>RapidCharge</th>\n",
       "      <th>PowerTrain</th>\n",
       "      <th>PlugType</th>\n",
       "      <th>BodyStyle</th>\n",
       "      <th>Seats</th>\n",
       "      <th>PriceEuro</th>\n",
       "      <th>connector</th>\n",
       "    </tr>\n",
       "  </thead>\n",
       "  <tbody>\n",
       "    <tr>\n",
       "      <th>0</th>\n",
       "      <td>940.0</td>\n",
       "      <td>Yes</td>\n",
       "      <td>AWD</td>\n",
       "      <td>Type 2 CCS</td>\n",
       "      <td>Sedan</td>\n",
       "      <td>5.0</td>\n",
       "      <td>55480</td>\n",
       "      <td>100</td>\n",
       "    </tr>\n",
       "    <tr>\n",
       "      <th>1</th>\n",
       "      <td>250.0</td>\n",
       "      <td>Yes</td>\n",
       "      <td>RWD</td>\n",
       "      <td>Type 2 CCS</td>\n",
       "      <td>Hatchback</td>\n",
       "      <td>?</td>\n",
       "      <td>30000</td>\n",
       "      <td>101</td>\n",
       "    </tr>\n",
       "    <tr>\n",
       "      <th>2</th>\n",
       "      <td>620.0</td>\n",
       "      <td>Yes</td>\n",
       "      <td>AWD</td>\n",
       "      <td>Type 2 CCS</td>\n",
       "      <td>Liftback</td>\n",
       "      <td>5.0</td>\n",
       "      <td>56440</td>\n",
       "      <td>102</td>\n",
       "    </tr>\n",
       "    <tr>\n",
       "      <th>3</th>\n",
       "      <td>560.0</td>\n",
       "      <td>Yes</td>\n",
       "      <td>RWD</td>\n",
       "      <td>Type 2 CCS</td>\n",
       "      <td>SUV</td>\n",
       "      <td>5.0</td>\n",
       "      <td>68040</td>\n",
       "      <td>103</td>\n",
       "    </tr>\n",
       "    <tr>\n",
       "      <th>4</th>\n",
       "      <td>190.0</td>\n",
       "      <td>Yes</td>\n",
       "      <td>RWD</td>\n",
       "      <td>Type 2 CCS</td>\n",
       "      <td>Hatchback</td>\n",
       "      <td>4.0</td>\n",
       "      <td>32997</td>\n",
       "      <td>104</td>\n",
       "    </tr>\n",
       "  </tbody>\n",
       "</table>\n",
       "</div>"
      ],
      "text/plain": [
       "   FastCharge_KmH RapidCharge PowerTrain    PlugType  BodyStyle Seats  \\\n",
       "0           940.0         Yes        AWD  Type 2 CCS      Sedan   5.0   \n",
       "1           250.0         Yes        RWD  Type 2 CCS  Hatchback     ?   \n",
       "2           620.0         Yes        AWD  Type 2 CCS   Liftback   5.0   \n",
       "3           560.0         Yes        RWD  Type 2 CCS        SUV   5.0   \n",
       "4           190.0         Yes        RWD  Type 2 CCS  Hatchback   4.0   \n",
       "\n",
       "   PriceEuro  connector  \n",
       "0      55480        100  \n",
       "1      30000        101  \n",
       "2      56440        102  \n",
       "3      68040        103  \n",
       "4      32997        104  "
      ]
     },
     "execution_count": 3,
     "metadata": {},
     "output_type": "execute_result"
    }
   ],
   "source": [
    "df2 = pd.read_csv(\"ecar_part2.csv\", sep='|',engine='python', index_col=0)\n",
    "\n",
    "df2.head(5)  "
   ]
  },
  {
   "cell_type": "markdown",
   "metadata": {},
   "source": [
    "### Zusammenführen von DataFrames"
   ]
  },
  {
   "cell_type": "code",
   "execution_count": 4,
   "metadata": {},
   "outputs": [
    {
     "data": {
      "text/plain": [
       "True"
      ]
     },
     "execution_count": 4,
     "metadata": {},
     "output_type": "execute_result"
    }
   ],
   "source": [
    "# check länge der daten \n",
    "\n",
    "len(df1) == len(df2)\n",
    "\n",
    "# --> gleich lang"
   ]
  },
  {
   "cell_type": "markdown",
   "metadata": {},
   "source": [
    "<font color='red'>Beide Datensätze enthalten die gleiche Anzahl der Zeilen und ergänzen einander. Daher werden die Datensätze über die Spalten zusammengefügt. Man kann hier die Spalte **\"connector\"** als key verwenden.</font>\n"
   ]
  },
  {
   "cell_type": "code",
   "execution_count": 5,
   "metadata": {},
   "outputs": [
    {
     "data": {
      "text/html": [
       "<div>\n",
       "<style scoped>\n",
       "    .dataframe tbody tr th:only-of-type {\n",
       "        vertical-align: middle;\n",
       "    }\n",
       "\n",
       "    .dataframe tbody tr th {\n",
       "        vertical-align: top;\n",
       "    }\n",
       "\n",
       "    .dataframe thead th {\n",
       "        text-align: right;\n",
       "    }\n",
       "</style>\n",
       "<table border=\"1\" class=\"dataframe\">\n",
       "  <thead>\n",
       "    <tr style=\"text-align: right;\">\n",
       "      <th></th>\n",
       "      <th>Brand</th>\n",
       "      <th>Model</th>\n",
       "      <th>AccelSec</th>\n",
       "      <th>TopSpeed_KmH</th>\n",
       "      <th>Range_Km</th>\n",
       "      <th>Efficiency_WhKm</th>\n",
       "      <th>connector</th>\n",
       "      <th>FastCharge_KmH</th>\n",
       "      <th>RapidCharge</th>\n",
       "      <th>PowerTrain</th>\n",
       "      <th>PlugType</th>\n",
       "      <th>BodyStyle</th>\n",
       "      <th>Seats</th>\n",
       "      <th>PriceEuro</th>\n",
       "    </tr>\n",
       "  </thead>\n",
       "  <tbody>\n",
       "    <tr>\n",
       "      <th>0</th>\n",
       "      <td>Tesla</td>\n",
       "      <td>Model 3 Long Range Dual Motor</td>\n",
       "      <td>4.6</td>\n",
       "      <td>233</td>\n",
       "      <td>450</td>\n",
       "      <td>161</td>\n",
       "      <td>100</td>\n",
       "      <td>940.0</td>\n",
       "      <td>Yes</td>\n",
       "      <td>AWD</td>\n",
       "      <td>Type 2 CCS</td>\n",
       "      <td>Sedan</td>\n",
       "      <td>5.0</td>\n",
       "      <td>55480</td>\n",
       "    </tr>\n",
       "    <tr>\n",
       "      <th>1</th>\n",
       "      <td>Volkswagen</td>\n",
       "      <td>ID.3 Pure</td>\n",
       "      <td>10.0</td>\n",
       "      <td>160</td>\n",
       "      <td>270</td>\n",
       "      <td>167</td>\n",
       "      <td>101</td>\n",
       "      <td>250.0</td>\n",
       "      <td>Yes</td>\n",
       "      <td>RWD</td>\n",
       "      <td>Type 2 CCS</td>\n",
       "      <td>Hatchback</td>\n",
       "      <td>?</td>\n",
       "      <td>30000</td>\n",
       "    </tr>\n",
       "    <tr>\n",
       "      <th>2</th>\n",
       "      <td>Polestar</td>\n",
       "      <td>2</td>\n",
       "      <td>4.7</td>\n",
       "      <td>210</td>\n",
       "      <td>400</td>\n",
       "      <td>181</td>\n",
       "      <td>102</td>\n",
       "      <td>620.0</td>\n",
       "      <td>Yes</td>\n",
       "      <td>AWD</td>\n",
       "      <td>Type 2 CCS</td>\n",
       "      <td>Liftback</td>\n",
       "      <td>5.0</td>\n",
       "      <td>56440</td>\n",
       "    </tr>\n",
       "    <tr>\n",
       "      <th>3</th>\n",
       "      <td>BMW</td>\n",
       "      <td>iX3</td>\n",
       "      <td>6.8</td>\n",
       "      <td>180</td>\n",
       "      <td>360</td>\n",
       "      <td>206</td>\n",
       "      <td>103</td>\n",
       "      <td>560.0</td>\n",
       "      <td>Yes</td>\n",
       "      <td>RWD</td>\n",
       "      <td>Type 2 CCS</td>\n",
       "      <td>SUV</td>\n",
       "      <td>5.0</td>\n",
       "      <td>68040</td>\n",
       "    </tr>\n",
       "    <tr>\n",
       "      <th>4</th>\n",
       "      <td>Honda</td>\n",
       "      <td>e</td>\n",
       "      <td>9.5</td>\n",
       "      <td>145</td>\n",
       "      <td>170</td>\n",
       "      <td>168</td>\n",
       "      <td>104</td>\n",
       "      <td>190.0</td>\n",
       "      <td>Yes</td>\n",
       "      <td>RWD</td>\n",
       "      <td>Type 2 CCS</td>\n",
       "      <td>Hatchback</td>\n",
       "      <td>4.0</td>\n",
       "      <td>32997</td>\n",
       "    </tr>\n",
       "    <tr>\n",
       "      <th>...</th>\n",
       "      <td>...</td>\n",
       "      <td>...</td>\n",
       "      <td>...</td>\n",
       "      <td>...</td>\n",
       "      <td>...</td>\n",
       "      <td>...</td>\n",
       "      <td>...</td>\n",
       "      <td>...</td>\n",
       "      <td>...</td>\n",
       "      <td>...</td>\n",
       "      <td>...</td>\n",
       "      <td>...</td>\n",
       "      <td>...</td>\n",
       "      <td>...</td>\n",
       "    </tr>\n",
       "    <tr>\n",
       "      <th>98</th>\n",
       "      <td>Nissan</td>\n",
       "      <td>Ariya 63kWh</td>\n",
       "      <td>7.5</td>\n",
       "      <td>160</td>\n",
       "      <td>330</td>\n",
       "      <td>191</td>\n",
       "      <td>198</td>\n",
       "      <td>440.0</td>\n",
       "      <td>Yes</td>\n",
       "      <td>FWD</td>\n",
       "      <td>Type 2 CCS</td>\n",
       "      <td>Hatchback</td>\n",
       "      <td>5.0</td>\n",
       "      <td>45000</td>\n",
       "    </tr>\n",
       "    <tr>\n",
       "      <th>99</th>\n",
       "      <td>Audi</td>\n",
       "      <td>e-tron S Sportback 55 quattro</td>\n",
       "      <td>4.5</td>\n",
       "      <td>210</td>\n",
       "      <td>335</td>\n",
       "      <td>258</td>\n",
       "      <td>199</td>\n",
       "      <td>540.0</td>\n",
       "      <td>Yes</td>\n",
       "      <td>AWD</td>\n",
       "      <td>Type 2 CCS</td>\n",
       "      <td>SUV</td>\n",
       "      <td>?</td>\n",
       "      <td>96050</td>\n",
       "    </tr>\n",
       "    <tr>\n",
       "      <th>100</th>\n",
       "      <td>Nissan</td>\n",
       "      <td>Ariya e-4ORCE 63kWh</td>\n",
       "      <td>5.9</td>\n",
       "      <td>200</td>\n",
       "      <td>325</td>\n",
       "      <td>194</td>\n",
       "      <td>200</td>\n",
       "      <td>440.0</td>\n",
       "      <td>Yes</td>\n",
       "      <td>AWD</td>\n",
       "      <td>missing_type</td>\n",
       "      <td>Hatchback</td>\n",
       "      <td>5.0</td>\n",
       "      <td>50000</td>\n",
       "    </tr>\n",
       "    <tr>\n",
       "      <th>101</th>\n",
       "      <td>Nissan</td>\n",
       "      <td>Ariya e-4ORCE 87kWh Performance</td>\n",
       "      <td>5.1</td>\n",
       "      <td>200</td>\n",
       "      <td>375</td>\n",
       "      <td>232</td>\n",
       "      <td>201</td>\n",
       "      <td>450.0</td>\n",
       "      <td>Yes</td>\n",
       "      <td>AWD</td>\n",
       "      <td>Type 2 CCS</td>\n",
       "      <td>Hatchback</td>\n",
       "      <td>5.0</td>\n",
       "      <td>65000</td>\n",
       "    </tr>\n",
       "    <tr>\n",
       "      <th>102</th>\n",
       "      <td>Byton</td>\n",
       "      <td>M-Byte 95 kWh 2WD</td>\n",
       "      <td>7.5</td>\n",
       "      <td>190</td>\n",
       "      <td>400</td>\n",
       "      <td>238</td>\n",
       "      <td>202</td>\n",
       "      <td>480.0</td>\n",
       "      <td>Yes</td>\n",
       "      <td>AWD</td>\n",
       "      <td>missing_type</td>\n",
       "      <td>SUV</td>\n",
       "      <td>5.0</td>\n",
       "      <td>62000</td>\n",
       "    </tr>\n",
       "  </tbody>\n",
       "</table>\n",
       "<p>103 rows × 14 columns</p>\n",
       "</div>"
      ],
      "text/plain": [
       "           Brand                            Model  AccelSec  TopSpeed_KmH  \\\n",
       "0         Tesla     Model 3 Long Range Dual Motor       4.6           233   \n",
       "1    Volkswagen                         ID.3 Pure      10.0           160   \n",
       "2      Polestar                                 2       4.7           210   \n",
       "3           BMW                              iX3        6.8           180   \n",
       "4         Honda                                e        9.5           145   \n",
       "..           ...                              ...       ...           ...   \n",
       "98       Nissan                       Ariya 63kWh       7.5           160   \n",
       "99         Audi     e-tron S Sportback 55 quattro       4.5           210   \n",
       "100      Nissan               Ariya e-4ORCE 63kWh       5.9           200   \n",
       "101      Nissan   Ariya e-4ORCE 87kWh Performance       5.1           200   \n",
       "102       Byton                 M-Byte 95 kWh 2WD       7.5           190   \n",
       "\n",
       "     Range_Km  Efficiency_WhKm  connector  FastCharge_KmH RapidCharge  \\\n",
       "0         450              161        100           940.0         Yes   \n",
       "1         270              167        101           250.0         Yes   \n",
       "2         400              181        102           620.0         Yes   \n",
       "3         360              206        103           560.0         Yes   \n",
       "4         170              168        104           190.0         Yes   \n",
       "..        ...              ...        ...             ...         ...   \n",
       "98        330              191        198           440.0         Yes   \n",
       "99        335              258        199           540.0         Yes   \n",
       "100       325              194        200           440.0         Yes   \n",
       "101       375              232        201           450.0         Yes   \n",
       "102       400              238        202           480.0         Yes   \n",
       "\n",
       "    PowerTrain      PlugType  BodyStyle Seats  PriceEuro  \n",
       "0          AWD    Type 2 CCS      Sedan   5.0      55480  \n",
       "1          RWD    Type 2 CCS  Hatchback     ?      30000  \n",
       "2          AWD    Type 2 CCS   Liftback   5.0      56440  \n",
       "3          RWD    Type 2 CCS        SUV   5.0      68040  \n",
       "4          RWD    Type 2 CCS  Hatchback   4.0      32997  \n",
       "..         ...           ...        ...   ...        ...  \n",
       "98         FWD    Type 2 CCS  Hatchback   5.0      45000  \n",
       "99         AWD    Type 2 CCS        SUV     ?      96050  \n",
       "100        AWD  missing_type  Hatchback   5.0      50000  \n",
       "101        AWD    Type 2 CCS  Hatchback   5.0      65000  \n",
       "102        AWD  missing_type        SUV   5.0      62000  \n",
       "\n",
       "[103 rows x 14 columns]"
      ]
     },
     "execution_count": 5,
     "metadata": {},
     "output_type": "execute_result"
    }
   ],
   "source": [
    "df_autos = df1.merge(df2, on='connector')\n",
    "df_autos"
   ]
  },
  {
   "cell_type": "code",
   "execution_count": 6,
   "metadata": {},
   "outputs": [
    {
     "data": {
      "text/plain": [
       "True"
      ]
     },
     "execution_count": 6,
     "metadata": {},
     "output_type": "execute_result"
    }
   ],
   "source": [
    "# check, ob merge erfolgreich\n",
    "\n",
    "len(df_autos) == len(df1)"
   ]
  },
  {
   "cell_type": "markdown",
   "metadata": {},
   "source": [
    "### Overview"
   ]
  },
  {
   "cell_type": "code",
   "execution_count": 7,
   "metadata": {},
   "outputs": [
    {
     "name": "stdout",
     "output_type": "stream",
     "text": [
      "<class 'pandas.core.frame.DataFrame'>\n",
      "Int64Index: 103 entries, 0 to 102\n",
      "Data columns (total 14 columns):\n",
      " #   Column           Non-Null Count  Dtype  \n",
      "---  ------           --------------  -----  \n",
      " 0   Brand            103 non-null    object \n",
      " 1   Model            103 non-null    object \n",
      " 2   AccelSec         103 non-null    float64\n",
      " 3   TopSpeed_KmH     103 non-null    int64  \n",
      " 4   Range_Km         103 non-null    int64  \n",
      " 5   Efficiency_WhKm  103 non-null    int64  \n",
      " 6   connector        103 non-null    int64  \n",
      " 7   FastCharge_KmH   98 non-null     float64\n",
      " 8   RapidCharge      103 non-null    object \n",
      " 9   PowerTrain       103 non-null    object \n",
      " 10  PlugType         103 non-null    object \n",
      " 11  BodyStyle        103 non-null    object \n",
      " 12  Seats            103 non-null    object \n",
      " 13  PriceEuro        103 non-null    int64  \n",
      "dtypes: float64(2), int64(5), object(7)\n",
      "memory usage: 12.1+ KB\n"
     ]
    }
   ],
   "source": [
    "df_autos.info()"
   ]
  },
  {
   "cell_type": "code",
   "execution_count": 8,
   "metadata": {},
   "outputs": [
    {
     "data": {
      "text/plain": [
       "(103, 14)"
      ]
     },
     "execution_count": 8,
     "metadata": {},
     "output_type": "execute_result"
    }
   ],
   "source": [
    "df_autos.shape"
   ]
  },
  {
   "cell_type": "code",
   "execution_count": 9,
   "metadata": {},
   "outputs": [
    {
     "data": {
      "text/html": [
       "<div>\n",
       "<style scoped>\n",
       "    .dataframe tbody tr th:only-of-type {\n",
       "        vertical-align: middle;\n",
       "    }\n",
       "\n",
       "    .dataframe tbody tr th {\n",
       "        vertical-align: top;\n",
       "    }\n",
       "\n",
       "    .dataframe thead th {\n",
       "        text-align: right;\n",
       "    }\n",
       "</style>\n",
       "<table border=\"1\" class=\"dataframe\">\n",
       "  <thead>\n",
       "    <tr style=\"text-align: right;\">\n",
       "      <th></th>\n",
       "      <th>AccelSec</th>\n",
       "      <th>TopSpeed_KmH</th>\n",
       "      <th>Range_Km</th>\n",
       "      <th>Efficiency_WhKm</th>\n",
       "      <th>connector</th>\n",
       "      <th>FastCharge_KmH</th>\n",
       "      <th>PriceEuro</th>\n",
       "    </tr>\n",
       "  </thead>\n",
       "  <tbody>\n",
       "    <tr>\n",
       "      <th>count</th>\n",
       "      <td>103.000000</td>\n",
       "      <td>103.000000</td>\n",
       "      <td>103.000000</td>\n",
       "      <td>103.000000</td>\n",
       "      <td>103.000000</td>\n",
       "      <td>98.000000</td>\n",
       "      <td>103.000000</td>\n",
       "    </tr>\n",
       "    <tr>\n",
       "      <th>mean</th>\n",
       "      <td>7.396117</td>\n",
       "      <td>179.194175</td>\n",
       "      <td>338.786408</td>\n",
       "      <td>189.165049</td>\n",
       "      <td>151.000000</td>\n",
       "      <td>456.734694</td>\n",
       "      <td>55811.563107</td>\n",
       "    </tr>\n",
       "    <tr>\n",
       "      <th>std</th>\n",
       "      <td>3.017430</td>\n",
       "      <td>43.573030</td>\n",
       "      <td>126.014444</td>\n",
       "      <td>29.566839</td>\n",
       "      <td>29.877528</td>\n",
       "      <td>201.262897</td>\n",
       "      <td>34134.665280</td>\n",
       "    </tr>\n",
       "    <tr>\n",
       "      <th>min</th>\n",
       "      <td>2.100000</td>\n",
       "      <td>123.000000</td>\n",
       "      <td>95.000000</td>\n",
       "      <td>104.000000</td>\n",
       "      <td>100.000000</td>\n",
       "      <td>170.000000</td>\n",
       "      <td>20129.000000</td>\n",
       "    </tr>\n",
       "    <tr>\n",
       "      <th>25%</th>\n",
       "      <td>5.100000</td>\n",
       "      <td>150.000000</td>\n",
       "      <td>250.000000</td>\n",
       "      <td>168.000000</td>\n",
       "      <td>125.500000</td>\n",
       "      <td>275.000000</td>\n",
       "      <td>34429.500000</td>\n",
       "    </tr>\n",
       "    <tr>\n",
       "      <th>50%</th>\n",
       "      <td>7.300000</td>\n",
       "      <td>160.000000</td>\n",
       "      <td>340.000000</td>\n",
       "      <td>180.000000</td>\n",
       "      <td>151.000000</td>\n",
       "      <td>440.000000</td>\n",
       "      <td>45000.000000</td>\n",
       "    </tr>\n",
       "    <tr>\n",
       "      <th>75%</th>\n",
       "      <td>9.000000</td>\n",
       "      <td>200.000000</td>\n",
       "      <td>400.000000</td>\n",
       "      <td>203.000000</td>\n",
       "      <td>176.500000</td>\n",
       "      <td>560.000000</td>\n",
       "      <td>65000.000000</td>\n",
       "    </tr>\n",
       "    <tr>\n",
       "      <th>max</th>\n",
       "      <td>22.400000</td>\n",
       "      <td>410.000000</td>\n",
       "      <td>970.000000</td>\n",
       "      <td>273.000000</td>\n",
       "      <td>202.000000</td>\n",
       "      <td>940.000000</td>\n",
       "      <td>215000.000000</td>\n",
       "    </tr>\n",
       "  </tbody>\n",
       "</table>\n",
       "</div>"
      ],
      "text/plain": [
       "         AccelSec  TopSpeed_KmH    Range_Km  Efficiency_WhKm   connector  \\\n",
       "count  103.000000    103.000000  103.000000       103.000000  103.000000   \n",
       "mean     7.396117    179.194175  338.786408       189.165049  151.000000   \n",
       "std      3.017430     43.573030  126.014444        29.566839   29.877528   \n",
       "min      2.100000    123.000000   95.000000       104.000000  100.000000   \n",
       "25%      5.100000    150.000000  250.000000       168.000000  125.500000   \n",
       "50%      7.300000    160.000000  340.000000       180.000000  151.000000   \n",
       "75%      9.000000    200.000000  400.000000       203.000000  176.500000   \n",
       "max     22.400000    410.000000  970.000000       273.000000  202.000000   \n",
       "\n",
       "       FastCharge_KmH      PriceEuro  \n",
       "count       98.000000     103.000000  \n",
       "mean       456.734694   55811.563107  \n",
       "std        201.262897   34134.665280  \n",
       "min        170.000000   20129.000000  \n",
       "25%        275.000000   34429.500000  \n",
       "50%        440.000000   45000.000000  \n",
       "75%        560.000000   65000.000000  \n",
       "max        940.000000  215000.000000  "
      ]
     },
     "execution_count": 9,
     "metadata": {},
     "output_type": "execute_result"
    }
   ],
   "source": [
    "df_autos.describe()"
   ]
  },
  {
   "cell_type": "markdown",
   "metadata": {},
   "source": [
    "<font color='red'>Eindeutige Werte in den Spalten</font>"
   ]
  },
  {
   "cell_type": "code",
   "execution_count": 10,
   "metadata": {},
   "outputs": [
    {
     "name": "stdout",
     "output_type": "stream",
     "text": [
      "['Tesla ' 'Volkswagen ' 'Polestar ' 'BMW ' 'Honda ' 'Lucid ' 'Peugeot '\n",
      " 'Audi ' 'Mercedes ' 'Nissan ' 'Hyundai ' 'Porsche ' 'MG ' 'Mini ' 'Opel '\n",
      " 'Skoda ' 'Volvo ' 'Kia ' 'Renault ' 'Mazda ' 'Lexus ' 'CUPRA ' 'SEAT '\n",
      " 'Lightyear ' 'Aiways ' 'DS ' 'Citroen ' 'Jaguar ' 'Ford ' 'Byton '\n",
      " 'Sono ' 'Smart ' 'Fiat ']\n",
      "['Model 3 Long Range Dual Motor' 'ID.3 Pure' '2' 'iX3 ' 'e ' 'Air '\n",
      " 'e-Golf ' 'e-208 ' 'Model 3 Standard Range Plus' 'Q4 e-tron '\n",
      " 'EQC 400 4MATIC' 'Leaf ' 'Kona Electric 64 kWh' 'i4 ' 'IONIQ Electric'\n",
      " 'ID.3 Pro S' 'Taycan Turbo S' 'e-Up! ' 'ZS EV' 'Cooper SE ' 'Corsa-e '\n",
      " 'Model Y Long Range Dual Motor' 'Enyaq iV 50' 'e-tron GT '\n",
      " 'Model 3 Long Range Performance' 'ID.4 ' 'ID.3 Pro'\n",
      " 'XC40 P8 AWD Recharge' 'i3 120 Ah' 'e-2008 SUV ' 'e-tron 50 quattro'\n",
      " 'e-Niro 64 kWh' 'Zoe ZE50 R110' 'Cybertruck Tri Motor' 'MX-30 ' 'Leaf e+'\n",
      " 'UX 300e' 'el-Born ' 'Zoe ZE50 R135' 'EQA ' 'Model S Long Range'\n",
      " 'Kona Electric 39 kWh' 'e-tron Sportback 55 quattro' 'CITIGOe iV '\n",
      " 'Mii Electric ' 'e-Soul 64 kWh' 'Ampera-e ' 'Taycan 4S' 'One ' 'U5 '\n",
      " 'e-tron 55 quattro' 'Roadster ' 'Mokka-e ' 'Enyaq iV 80'\n",
      " 'Model X Long Range' 'e Advance' '3 Crossback E-Tense' 'Twingo ZE'\n",
      " 'e-C4 ' 'Model S Performance' 'Zoe ZE40 R110'\n",
      " 'Model Y Long Range Performance' 'Ariya 87kWh' 'I-Pace '\n",
      " 'Mustang Mach-E ER RWD' 'Taycan 4S Plus' 'e-NV200 Evalia '\n",
      " 'Cybertruck Dual Motor' 'Kangoo Maxi ZE 33' 'Mustang Mach-E ER AWD'\n",
      " 'i3s 120 Ah' 'Enyaq iV 80X' 'Taycan Cross Turismo ' 'M-Byte 95 kWh 4WD'\n",
      " 'Sion ' 'e-Niro 39 kWh' 'Q4 Sportback e-tron ' 'EQ forfour '\n",
      " 'Mustang Mach-E SR AWD' 'Taycan Turbo' 'ID.3 1st' 'Model X Performance'\n",
      " 'EQ fortwo coupe' 'Mustang Mach-E SR RWD' 'EQV 300 Long' '500e Hatchback'\n",
      " 'Cybertruck Single Motor' 'e-tron Sportback 50 quattro' 'Enyaq iV vRS'\n",
      " 'Enyaq iV 60' 'e-tron S 55 quattro' 'EQ fortwo cabrio'\n",
      " 'Ariya e-4ORCE 87kWh' '500e Convertible' 'ID.3 Pro Performance'\n",
      " 'e-Soul 39 kWh' 'M-Byte 72 kWh 2WD' 'Ariya 63kWh'\n",
      " 'e-tron S Sportback 55 quattro' 'Ariya e-4ORCE 63kWh'\n",
      " 'Ariya e-4ORCE 87kWh Performance' 'M-Byte 95 kWh 2WD']\n",
      "[ 4.6 10.   4.7  6.8  9.5  2.8  9.6  8.1  5.6  6.3  5.1  7.9  4.   9.7\n",
      " 11.9  8.2  7.3  3.5  3.4  7.5  9.   4.9  8.5  7.8 11.4  3.   6.5  5.\n",
      "  3.8  9.9  5.7 12.3  2.1  8.8  8.3  8.7 12.6  2.5  3.7  7.6  4.8  7.\n",
      " 14.  22.4  6.   6.9  5.5  9.8 12.7  3.2 11.6  6.6  6.2  4.5  5.9]\n",
      "[233 160 210 180 145 250 150 225 144 167 200 165 260 130 140 217 240 261\n",
      " 190 135 157 155 410 241 123]\n",
      "[450 270 400 360 170 610 190 275 310 370 220 250 440 375 195 185 425 290\n",
      " 435 420 350 235 280 315 750 180 325 515 255 380 365 335 575 970 130 505\n",
      " 410 460 160 430 230 385 390 225  95 340 100 330 295 320]\n",
      "[161 167 181 206 168 180 164 153 193 216 160 178 175 223 166 156 171 179\n",
      " 197 183 200 231 173 165 267 172 184 154 228 195 104 188 237 176 211 177\n",
      " 198 232 261 194 209 217 244 215 273 256 219 270 207 170 222 191 258 238]\n",
      "[100 101 102 103 104 105 106 107 108 109 110 111 112 113 114 115 116 117\n",
      " 118 119 120 121 122 123 124 125 126 127 128 129 130 131 132 133 134 135\n",
      " 136 137 138 139 140 141 142 143 144 145 146 147 148 149 150 151 152 153\n",
      " 154 155 156 157 158 159 160 161 162 163 164 165 166 167 168 169 170 171\n",
      " 172 173 174 175 176 177 178 179 180 181 182 183 184 185 186 187 188 189\n",
      " 190 191 192 193 194 195 196 197 198 199 200 201 202]\n",
      "[940. 250. 620. 560. 190. 220. 420. 650. 540. 440. 230. 380. 210. 590.\n",
      " 780. 170. 260. 930. 850. 910. 490. 470. 270. 450. 350. 710. 240. 390.\n",
      " 570. 610. 340. 730. 920.  nan 550. 900. 520. 430. 890. 410. 770. 460.\n",
      " 360. 810. 480. 290. 330. 740. 510. 320. 500.]\n",
      "['Yes' 'No']\n",
      "['AWD' 'RWD' 'FWD']\n",
      "['Type 2 CCS' 'missing_type' 'Type 2 CHAdeMO' 'Type 2' 'Type 1 CHAdeMO']\n",
      "['Sedan' 'Hatchback' 'Liftback' 'SUV' 'Pickup' 'MPV' 'Cabrio' 'SPV'\n",
      " 'Station']\n",
      "['5.0' '?' '4.0' '7.0' '6.0' '2.0']\n",
      "[ 55480  30000  56440  68040  32997 105000  31900  29682  46380  55000\n",
      "  69484  29234  40795  65000  34459  40936 180781  21421  31681  29146\n",
      "  58620  35000 125000  61480  45000  33000  60437  38017  34361  67358\n",
      "  38105  31184  75000  32646  37237  50000  33133  79990  33971  81639\n",
      "  24534  20129  36837  41906 102945 149000  36057  79445 215000  40000\n",
      "  85990  35921  37422  24790  96990  65620  75351  54475 109302  33246\n",
      "  38000  62900  41526 150000  64000  25500  34400  57500  22030  54000\n",
      " 148301  38987 102990  21387  46900  70631  34900  69551  47500  37500\n",
      "  93800  24565  37900  35575  53500  96050  62000]\n"
     ]
    }
   ],
   "source": [
    "for i in df_autos:\n",
    "    print(df_autos[i].unique())"
   ]
  },
  {
   "cell_type": "markdown",
   "metadata": {},
   "source": [
    "<font color='red'>Was fällt in den Spalten auf? </font>"
   ]
  },
  {
   "cell_type": "markdown",
   "metadata": {},
   "source": [
    "        \"missing_type\"     =>    PlugType\n",
    "        \"?\"                =>    Seats\n",
    "        Leerzeichen        =>    Brand "
   ]
  },
  {
   "cell_type": "markdown",
   "metadata": {},
   "source": [
    "### Fehlende Werte"
   ]
  },
  {
   "cell_type": "code",
   "execution_count": 11,
   "metadata": {},
   "outputs": [],
   "source": [
    "def null_values(x):\n",
    "    a = x.isnull().sum()\n",
    "    b = 100 * x.isnull().sum()/x.shape[0]\n",
    "    nv = pd.concat([a, round(b,2)], axis=1).rename(columns={0:'Missing_Values', 1:'Percentage (%)'})\n",
    "    return nv[nv.Missing_Values>0].sort_values('Missing_Values', ascending=False)"
   ]
  },
  {
   "cell_type": "code",
   "execution_count": 12,
   "metadata": {},
   "outputs": [
    {
     "data": {
      "text/html": [
       "<div>\n",
       "<style scoped>\n",
       "    .dataframe tbody tr th:only-of-type {\n",
       "        vertical-align: middle;\n",
       "    }\n",
       "\n",
       "    .dataframe tbody tr th {\n",
       "        vertical-align: top;\n",
       "    }\n",
       "\n",
       "    .dataframe thead th {\n",
       "        text-align: right;\n",
       "    }\n",
       "</style>\n",
       "<table border=\"1\" class=\"dataframe\">\n",
       "  <thead>\n",
       "    <tr style=\"text-align: right;\">\n",
       "      <th></th>\n",
       "      <th>Missing_Values</th>\n",
       "      <th>Percentage (%)</th>\n",
       "    </tr>\n",
       "  </thead>\n",
       "  <tbody>\n",
       "    <tr>\n",
       "      <th>FastCharge_KmH</th>\n",
       "      <td>5</td>\n",
       "      <td>4.85</td>\n",
       "    </tr>\n",
       "  </tbody>\n",
       "</table>\n",
       "</div>"
      ],
      "text/plain": [
       "                Missing_Values  Percentage (%)\n",
       "FastCharge_KmH               5            4.85"
      ]
     },
     "execution_count": 12,
     "metadata": {},
     "output_type": "execute_result"
    }
   ],
   "source": [
    "null_values(df_autos)"
   ]
  },
  {
   "cell_type": "markdown",
   "metadata": {},
   "source": [
    "#### FastCharge_KmH"
   ]
  },
  {
   "cell_type": "code",
   "execution_count": 13,
   "metadata": {},
   "outputs": [
    {
     "data": {
      "text/plain": [
       "230.0    6\n",
       "540.0    5\n",
       "440.0    5\n",
       "380.0    5\n",
       "560.0    4\n",
       "Name: FastCharge_KmH, dtype: int64"
      ]
     },
     "execution_count": 13,
     "metadata": {},
     "output_type": "execute_result"
    }
   ],
   "source": [
    "df_autos[\"FastCharge_KmH\"].value_counts().head(5)"
   ]
  },
  {
   "cell_type": "code",
   "execution_count": 14,
   "metadata": {},
   "outputs": [
    {
     "data": {
      "text/html": [
       "<div>\n",
       "<style scoped>\n",
       "    .dataframe tbody tr th:only-of-type {\n",
       "        vertical-align: middle;\n",
       "    }\n",
       "\n",
       "    .dataframe tbody tr th {\n",
       "        vertical-align: top;\n",
       "    }\n",
       "\n",
       "    .dataframe thead th {\n",
       "        text-align: right;\n",
       "    }\n",
       "</style>\n",
       "<table border=\"1\" class=\"dataframe\">\n",
       "  <thead>\n",
       "    <tr style=\"text-align: right;\">\n",
       "      <th></th>\n",
       "      <th>Brand</th>\n",
       "      <th>Model</th>\n",
       "      <th>AccelSec</th>\n",
       "      <th>TopSpeed_KmH</th>\n",
       "      <th>Range_Km</th>\n",
       "      <th>Efficiency_WhKm</th>\n",
       "      <th>connector</th>\n",
       "      <th>FastCharge_KmH</th>\n",
       "      <th>RapidCharge</th>\n",
       "      <th>PowerTrain</th>\n",
       "      <th>PlugType</th>\n",
       "      <th>BodyStyle</th>\n",
       "      <th>Seats</th>\n",
       "      <th>PriceEuro</th>\n",
       "    </tr>\n",
       "  </thead>\n",
       "  <tbody>\n",
       "    <tr>\n",
       "      <th>57</th>\n",
       "      <td>Renault</td>\n",
       "      <td>Twingo ZE</td>\n",
       "      <td>12.6</td>\n",
       "      <td>135</td>\n",
       "      <td>130</td>\n",
       "      <td>164</td>\n",
       "      <td>157</td>\n",
       "      <td>NaN</td>\n",
       "      <td>No</td>\n",
       "      <td>RWD</td>\n",
       "      <td>Type 2</td>\n",
       "      <td>Hatchback</td>\n",
       "      <td>4.0</td>\n",
       "      <td>24790</td>\n",
       "    </tr>\n",
       "    <tr>\n",
       "      <th>68</th>\n",
       "      <td>Renault</td>\n",
       "      <td>Kangoo Maxi ZE 33</td>\n",
       "      <td>22.4</td>\n",
       "      <td>130</td>\n",
       "      <td>160</td>\n",
       "      <td>194</td>\n",
       "      <td>168</td>\n",
       "      <td>NaN</td>\n",
       "      <td>No</td>\n",
       "      <td>FWD</td>\n",
       "      <td>Type 2</td>\n",
       "      <td>SPV</td>\n",
       "      <td>5.0</td>\n",
       "      <td>38000</td>\n",
       "    </tr>\n",
       "    <tr>\n",
       "      <th>77</th>\n",
       "      <td>Smart</td>\n",
       "      <td>EQ forfour</td>\n",
       "      <td>12.7</td>\n",
       "      <td>130</td>\n",
       "      <td>95</td>\n",
       "      <td>176</td>\n",
       "      <td>177</td>\n",
       "      <td>NaN</td>\n",
       "      <td>No</td>\n",
       "      <td>RWD</td>\n",
       "      <td>Type 2</td>\n",
       "      <td>Hatchback</td>\n",
       "      <td>?</td>\n",
       "      <td>22030</td>\n",
       "    </tr>\n",
       "    <tr>\n",
       "      <th>82</th>\n",
       "      <td>Smart</td>\n",
       "      <td>EQ fortwo coupe</td>\n",
       "      <td>11.6</td>\n",
       "      <td>130</td>\n",
       "      <td>100</td>\n",
       "      <td>167</td>\n",
       "      <td>182</td>\n",
       "      <td>NaN</td>\n",
       "      <td>No</td>\n",
       "      <td>RWD</td>\n",
       "      <td>Type 2</td>\n",
       "      <td>Hatchback</td>\n",
       "      <td>2.0</td>\n",
       "      <td>21387</td>\n",
       "    </tr>\n",
       "    <tr>\n",
       "      <th>91</th>\n",
       "      <td>Smart</td>\n",
       "      <td>EQ fortwo cabrio</td>\n",
       "      <td>11.9</td>\n",
       "      <td>130</td>\n",
       "      <td>95</td>\n",
       "      <td>176</td>\n",
       "      <td>191</td>\n",
       "      <td>NaN</td>\n",
       "      <td>No</td>\n",
       "      <td>RWD</td>\n",
       "      <td>Type 2</td>\n",
       "      <td>Cabrio</td>\n",
       "      <td>2.0</td>\n",
       "      <td>24565</td>\n",
       "    </tr>\n",
       "  </tbody>\n",
       "</table>\n",
       "</div>"
      ],
      "text/plain": [
       "       Brand              Model  AccelSec  TopSpeed_KmH  Range_Km  \\\n",
       "57  Renault           Twingo ZE      12.6           135       130   \n",
       "68  Renault   Kangoo Maxi ZE 33      22.4           130       160   \n",
       "77    Smart         EQ forfour       12.7           130        95   \n",
       "82    Smart     EQ fortwo coupe      11.6           130       100   \n",
       "91    Smart    EQ fortwo cabrio      11.9           130        95   \n",
       "\n",
       "    Efficiency_WhKm  connector  FastCharge_KmH RapidCharge PowerTrain  \\\n",
       "57              164        157             NaN          No        RWD   \n",
       "68              194        168             NaN          No        FWD   \n",
       "77              176        177             NaN          No        RWD   \n",
       "82              167        182             NaN          No        RWD   \n",
       "91              176        191             NaN          No        RWD   \n",
       "\n",
       "   PlugType  BodyStyle Seats  PriceEuro  \n",
       "57   Type 2  Hatchback   4.0      24790  \n",
       "68   Type 2        SPV   5.0      38000  \n",
       "77   Type 2  Hatchback     ?      22030  \n",
       "82   Type 2  Hatchback   2.0      21387  \n",
       "91   Type 2     Cabrio   2.0      24565  "
      ]
     },
     "execution_count": 14,
     "metadata": {},
     "output_type": "execute_result"
    }
   ],
   "source": [
    "df_autos[df_autos[\"FastCharge_KmH\"].isnull()]"
   ]
  },
  {
   "cell_type": "markdown",
   "metadata": {},
   "source": [
    "<font color='red'>**\"Wir haben festgestellt, dass \"RapidCharge\" auch \"Nein\" ist, wenn \"FastCharge_KmH\" null ist. </font>"
   ]
  },
  {
   "cell_type": "code",
   "execution_count": 15,
   "metadata": {},
   "outputs": [
    {
     "data": {
      "text/html": [
       "<div>\n",
       "<style scoped>\n",
       "    .dataframe tbody tr th:only-of-type {\n",
       "        vertical-align: middle;\n",
       "    }\n",
       "\n",
       "    .dataframe tbody tr th {\n",
       "        vertical-align: top;\n",
       "    }\n",
       "\n",
       "    .dataframe thead th {\n",
       "        text-align: right;\n",
       "    }\n",
       "</style>\n",
       "<table border=\"1\" class=\"dataframe\">\n",
       "  <thead>\n",
       "    <tr style=\"text-align: right;\">\n",
       "      <th></th>\n",
       "      <th>FastCharge_KmH</th>\n",
       "    </tr>\n",
       "    <tr>\n",
       "      <th>RapidCharge</th>\n",
       "      <th></th>\n",
       "    </tr>\n",
       "  </thead>\n",
       "  <tbody>\n",
       "    <tr>\n",
       "      <th>No</th>\n",
       "      <td>5</td>\n",
       "    </tr>\n",
       "    <tr>\n",
       "      <th>Yes</th>\n",
       "      <td>98</td>\n",
       "    </tr>\n",
       "  </tbody>\n",
       "</table>\n",
       "</div>"
      ],
      "text/plain": [
       "             FastCharge_KmH\n",
       "RapidCharge                \n",
       "No                        5\n",
       "Yes                      98"
      ]
     },
     "execution_count": 15,
     "metadata": {},
     "output_type": "execute_result"
    }
   ],
   "source": [
    "df_autos.groupby(\"RapidCharge\").agg({\"FastCharge_KmH\":\"size\"})"
   ]
  },
  {
   "cell_type": "code",
   "execution_count": 16,
   "metadata": {},
   "outputs": [
    {
     "data": {
      "text/html": [
       "<div>\n",
       "<style scoped>\n",
       "    .dataframe tbody tr th:only-of-type {\n",
       "        vertical-align: middle;\n",
       "    }\n",
       "\n",
       "    .dataframe tbody tr th {\n",
       "        vertical-align: top;\n",
       "    }\n",
       "\n",
       "    .dataframe thead th {\n",
       "        text-align: right;\n",
       "    }\n",
       "</style>\n",
       "<table border=\"1\" class=\"dataframe\">\n",
       "  <thead>\n",
       "    <tr style=\"text-align: right;\">\n",
       "      <th>FastCharge_KmH</th>\n",
       "      <th>False</th>\n",
       "      <th>True</th>\n",
       "    </tr>\n",
       "    <tr>\n",
       "      <th>RapidCharge</th>\n",
       "      <th></th>\n",
       "      <th></th>\n",
       "    </tr>\n",
       "  </thead>\n",
       "  <tbody>\n",
       "    <tr>\n",
       "      <th>No</th>\n",
       "      <td>0</td>\n",
       "      <td>5</td>\n",
       "    </tr>\n",
       "    <tr>\n",
       "      <th>Yes</th>\n",
       "      <td>98</td>\n",
       "      <td>0</td>\n",
       "    </tr>\n",
       "  </tbody>\n",
       "</table>\n",
       "</div>"
      ],
      "text/plain": [
       "FastCharge_KmH  False  True \n",
       "RapidCharge                 \n",
       "No                  0      5\n",
       "Yes                98      0"
      ]
     },
     "execution_count": 16,
     "metadata": {},
     "output_type": "execute_result"
    }
   ],
   "source": [
    "# alternativ\n",
    "\n",
    "pd.crosstab(df_autos['RapidCharge'], df_autos['FastCharge_KmH'].isnull())"
   ]
  },
  {
   "cell_type": "markdown",
   "metadata": {},
   "source": [
    "<font color='red'>\"Wir füllen die fehlenden Werte in der Spalte **\"Fast Charge KmH\"** mit **\"0\"** auf </font>"
   ]
  },
  {
   "cell_type": "code",
   "execution_count": 17,
   "metadata": {},
   "outputs": [],
   "source": [
    "df_autos[\"FastCharge_KmH\"].fillna(0,inplace=True)"
   ]
  },
  {
   "cell_type": "code",
   "execution_count": 18,
   "metadata": {},
   "outputs": [
    {
     "data": {
      "text/plain": [
       "230.0    6\n",
       "540.0    5\n",
       "0.0      5\n",
       "380.0    5\n",
       "440.0    5\n",
       "Name: FastCharge_KmH, dtype: int64"
      ]
     },
     "execution_count": 18,
     "metadata": {},
     "output_type": "execute_result"
    }
   ],
   "source": [
    "df_autos[\"FastCharge_KmH\"].value_counts().head(5)"
   ]
  },
  {
   "cell_type": "markdown",
   "metadata": {},
   "source": [
    "#### Seats"
   ]
  },
  {
   "cell_type": "markdown",
   "metadata": {},
   "source": [
    "<font color='red'>Seats hängt mit bodysteyle zusammen </font>"
   ]
  },
  {
   "cell_type": "code",
   "execution_count": 19,
   "metadata": {},
   "outputs": [
    {
     "data": {
      "text/plain": [
       "array(['Hatchback', 'Sedan', 'SUV'], dtype=object)"
      ]
     },
     "execution_count": 19,
     "metadata": {},
     "output_type": "execute_result"
    }
   ],
   "source": [
    "mask  = df_autos[\"Seats\"]=='?'\n",
    "list_bs_un = pd.unique(df_autos.loc[mask,\"BodyStyle\"])\n",
    "list_bs_un"
   ]
  },
  {
   "cell_type": "code",
   "execution_count": 20,
   "metadata": {},
   "outputs": [
    {
     "data": {
      "text/html": [
       "<div>\n",
       "<style scoped>\n",
       "    .dataframe tbody tr th:only-of-type {\n",
       "        vertical-align: middle;\n",
       "    }\n",
       "\n",
       "    .dataframe tbody tr th {\n",
       "        vertical-align: top;\n",
       "    }\n",
       "\n",
       "    .dataframe thead th {\n",
       "        text-align: right;\n",
       "    }\n",
       "</style>\n",
       "<table border=\"1\" class=\"dataframe\">\n",
       "  <thead>\n",
       "    <tr style=\"text-align: right;\">\n",
       "      <th></th>\n",
       "      <th>Seats</th>\n",
       "      <th>BodyStyle</th>\n",
       "    </tr>\n",
       "  </thead>\n",
       "  <tbody>\n",
       "    <tr>\n",
       "      <th>1</th>\n",
       "      <td>?</td>\n",
       "      <td>Hatchback</td>\n",
       "    </tr>\n",
       "    <tr>\n",
       "      <th>8</th>\n",
       "      <td>?</td>\n",
       "      <td>Sedan</td>\n",
       "    </tr>\n",
       "    <tr>\n",
       "      <th>20</th>\n",
       "      <td>?</td>\n",
       "      <td>Hatchback</td>\n",
       "    </tr>\n",
       "    <tr>\n",
       "      <th>31</th>\n",
       "      <td>?</td>\n",
       "      <td>SUV</td>\n",
       "    </tr>\n",
       "    <tr>\n",
       "      <th>36</th>\n",
       "      <td>?</td>\n",
       "      <td>SUV</td>\n",
       "    </tr>\n",
       "  </tbody>\n",
       "</table>\n",
       "</div>"
      ],
      "text/plain": [
       "   Seats  BodyStyle\n",
       "1      ?  Hatchback\n",
       "8      ?      Sedan\n",
       "20     ?  Hatchback\n",
       "31     ?        SUV\n",
       "36     ?        SUV"
      ]
     },
     "execution_count": 20,
     "metadata": {},
     "output_type": "execute_result"
    }
   ],
   "source": [
    "df_autos.loc[mask,[\"Seats\",\"BodyStyle\"]].head(5)"
   ]
  },
  {
   "cell_type": "markdown",
   "metadata": {},
   "source": [
    "<font color='red'>wir füllen die Fehlende Werte in der Spalte **\"Seats\"** mit der häufig verwendete Werte der bodystyle auf.</font>"
   ]
  },
  {
   "cell_type": "code",
   "execution_count": 21,
   "metadata": {},
   "outputs": [
    {
     "data": {
      "text/plain": [
       "array(['4.0', '5.0', '6.0', '7.0', '2.0'], dtype=object)"
      ]
     },
     "execution_count": 21,
     "metadata": {},
     "output_type": "execute_result"
    }
   ],
   "source": [
    "for i in list_bs_un:\n",
    "    tMask  = df_autos.BodyStyle ==i\n",
    "    df_autos.loc[tMask,\"Seats\"] = df_autos.loc[tMask,\"Seats\"].value_counts().idxmax()\n",
    "pd.unique(df_autos.Seats)"
   ]
  },
  {
   "cell_type": "markdown",
   "metadata": {},
   "source": [
    "#### \"PlugType\""
   ]
  },
  {
   "cell_type": "code",
   "execution_count": 22,
   "metadata": {},
   "outputs": [
    {
     "data": {
      "text/plain": [
       "array(['Type 2 CCS', 'missing_type', 'Type 2 CHAdeMO', 'Type 2',\n",
       "       'Type 1 CHAdeMO'], dtype=object)"
      ]
     },
     "execution_count": 22,
     "metadata": {},
     "output_type": "execute_result"
    }
   ],
   "source": [
    "df_autos[\"PlugType\"].unique()"
   ]
  },
  {
   "cell_type": "code",
   "execution_count": 23,
   "metadata": {},
   "outputs": [
    {
     "data": {
      "text/html": [
       "<div>\n",
       "<style scoped>\n",
       "    .dataframe tbody tr th:only-of-type {\n",
       "        vertical-align: middle;\n",
       "    }\n",
       "\n",
       "    .dataframe tbody tr th {\n",
       "        vertical-align: top;\n",
       "    }\n",
       "\n",
       "    .dataframe thead th {\n",
       "        text-align: right;\n",
       "    }\n",
       "</style>\n",
       "<table border=\"1\" class=\"dataframe\">\n",
       "  <thead>\n",
       "    <tr style=\"text-align: right;\">\n",
       "      <th></th>\n",
       "      <th>Anzahl</th>\n",
       "    </tr>\n",
       "    <tr>\n",
       "      <th>RapidCharge</th>\n",
       "      <th></th>\n",
       "    </tr>\n",
       "  </thead>\n",
       "  <tbody>\n",
       "    <tr>\n",
       "      <th>Yes</th>\n",
       "      <td>15</td>\n",
       "    </tr>\n",
       "  </tbody>\n",
       "</table>\n",
       "</div>"
      ],
      "text/plain": [
       "             Anzahl\n",
       "RapidCharge        \n",
       "Yes              15"
      ]
     },
     "execution_count": 23,
     "metadata": {},
     "output_type": "execute_result"
    }
   ],
   "source": [
    "df_autos.loc[df_autos[\"PlugType\"]==\"missing_type\",:].groupby(\"RapidCharge\").agg(Anzahl=(\"RapidCharge\",\"size\"))"
   ]
  },
  {
   "cell_type": "markdown",
   "metadata": {},
   "source": [
    "<span style='color:red'> Alle Autos, die \"missing_type\" haben, sind RapidCharge</span>"
   ]
  },
  {
   "cell_type": "code",
   "execution_count": 24,
   "metadata": {},
   "outputs": [
    {
     "data": {
      "text/plain": [
       "0      False\n",
       "1      False\n",
       "2      False\n",
       "3      False\n",
       "4      False\n",
       "       ...  \n",
       "98     False\n",
       "99     False\n",
       "100     True\n",
       "101    False\n",
       "102     True\n",
       "Name: PlugType, Length: 103, dtype: bool"
      ]
     },
     "execution_count": 24,
     "metadata": {},
     "output_type": "execute_result"
    }
   ],
   "source": [
    "mask3 = df_autos[\"PlugType\"]==\"missing_type\" \n",
    "mask3"
   ]
  },
  {
   "cell_type": "code",
   "execution_count": 25,
   "metadata": {},
   "outputs": [
    {
     "data": {
      "text/plain": [
       "'Type 2 CCS'"
      ]
     },
     "execution_count": 25,
     "metadata": {},
     "output_type": "execute_result"
    }
   ],
   "source": [
    "mode_plugtype = df_autos[\"PlugType\"].value_counts().idxmax()\n",
    "mode_plugtype"
   ]
  },
  {
   "cell_type": "code",
   "execution_count": 26,
   "metadata": {},
   "outputs": [],
   "source": [
    "types = df_autos.loc[(df_autos['Seats']=='?'), 'BodyStyle'].unique()\n",
    "\n",
    "frequencies = []\n",
    "\n",
    "for element in types:\n",
    "    frequence = df_autos.loc[(df_autos['BodyStyle']==element), 'Seats'].value_counts().idxmax()\n",
    "    frequencies.append((element,frequence))"
   ]
  },
  {
   "cell_type": "code",
   "execution_count": 27,
   "metadata": {},
   "outputs": [
    {
     "data": {
      "text/html": [
       "<div>\n",
       "<style scoped>\n",
       "    .dataframe tbody tr th:only-of-type {\n",
       "        vertical-align: middle;\n",
       "    }\n",
       "\n",
       "    .dataframe tbody tr th {\n",
       "        vertical-align: top;\n",
       "    }\n",
       "\n",
       "    .dataframe thead th {\n",
       "        text-align: right;\n",
       "    }\n",
       "</style>\n",
       "<table border=\"1\" class=\"dataframe\">\n",
       "  <thead>\n",
       "    <tr style=\"text-align: right;\">\n",
       "      <th>BodyStyle</th>\n",
       "      <th>Cabrio</th>\n",
       "      <th>Hatchback</th>\n",
       "      <th>Liftback</th>\n",
       "      <th>MPV</th>\n",
       "      <th>Pickup</th>\n",
       "      <th>SPV</th>\n",
       "      <th>SUV</th>\n",
       "      <th>Sedan</th>\n",
       "      <th>Station</th>\n",
       "    </tr>\n",
       "    <tr>\n",
       "      <th>Seats</th>\n",
       "      <th></th>\n",
       "      <th></th>\n",
       "      <th></th>\n",
       "      <th></th>\n",
       "      <th></th>\n",
       "      <th></th>\n",
       "      <th></th>\n",
       "      <th></th>\n",
       "      <th></th>\n",
       "    </tr>\n",
       "  </thead>\n",
       "  <tbody>\n",
       "    <tr>\n",
       "      <th>2.0</th>\n",
       "      <td>1</td>\n",
       "      <td>0</td>\n",
       "      <td>0</td>\n",
       "      <td>0</td>\n",
       "      <td>0</td>\n",
       "      <td>0</td>\n",
       "      <td>0</td>\n",
       "      <td>0</td>\n",
       "      <td>0</td>\n",
       "    </tr>\n",
       "    <tr>\n",
       "      <th>4.0</th>\n",
       "      <td>2</td>\n",
       "      <td>0</td>\n",
       "      <td>0</td>\n",
       "      <td>0</td>\n",
       "      <td>0</td>\n",
       "      <td>0</td>\n",
       "      <td>0</td>\n",
       "      <td>10</td>\n",
       "      <td>1</td>\n",
       "    </tr>\n",
       "    <tr>\n",
       "      <th>5.0</th>\n",
       "      <td>0</td>\n",
       "      <td>32</td>\n",
       "      <td>5</td>\n",
       "      <td>1</td>\n",
       "      <td>0</td>\n",
       "      <td>1</td>\n",
       "      <td>45</td>\n",
       "      <td>0</td>\n",
       "      <td>0</td>\n",
       "    </tr>\n",
       "    <tr>\n",
       "      <th>6.0</th>\n",
       "      <td>0</td>\n",
       "      <td>0</td>\n",
       "      <td>0</td>\n",
       "      <td>0</td>\n",
       "      <td>3</td>\n",
       "      <td>0</td>\n",
       "      <td>0</td>\n",
       "      <td>0</td>\n",
       "      <td>0</td>\n",
       "    </tr>\n",
       "    <tr>\n",
       "      <th>7.0</th>\n",
       "      <td>0</td>\n",
       "      <td>0</td>\n",
       "      <td>0</td>\n",
       "      <td>0</td>\n",
       "      <td>0</td>\n",
       "      <td>2</td>\n",
       "      <td>0</td>\n",
       "      <td>0</td>\n",
       "      <td>0</td>\n",
       "    </tr>\n",
       "  </tbody>\n",
       "</table>\n",
       "</div>"
      ],
      "text/plain": [
       "BodyStyle  Cabrio  Hatchback  Liftback  MPV  Pickup  SPV  SUV  Sedan  Station\n",
       "Seats                                                                        \n",
       "2.0             1          0         0    0       0    0    0      0        0\n",
       "4.0             2          0         0    0       0    0    0     10        1\n",
       "5.0             0         32         5    1       0    1   45      0        0\n",
       "6.0             0          0         0    0       3    0    0      0        0\n",
       "7.0             0          0         0    0       0    2    0      0        0"
      ]
     },
     "execution_count": 27,
     "metadata": {},
     "output_type": "execute_result"
    }
   ],
   "source": [
    "pd.crosstab(df_autos['Seats'],df_autos['BodyStyle'])"
   ]
  },
  {
   "cell_type": "markdown",
   "metadata": {},
   "source": [
    "<span style='color:red'> Wir füllen \"missing_type\" in der Spalte \"PlugType\" mit **Mode** auf.</span>"
   ]
  },
  {
   "cell_type": "code",
   "execution_count": 28,
   "metadata": {},
   "outputs": [],
   "source": [
    "df_autos[\"PlugType\"].replace({\"missing_type\":mode_plugtype}, inplace=True)"
   ]
  },
  {
   "cell_type": "markdown",
   "metadata": {},
   "source": [
    "#### Leerzeichen"
   ]
  },
  {
   "cell_type": "code",
   "execution_count": 29,
   "metadata": {},
   "outputs": [
    {
     "name": "stdout",
     "output_type": "stream",
     "text": [
      "['Tesla ' 'Volkswagen ' 'Polestar ' 'BMW ' 'Honda ' 'Lucid ' 'Peugeot '\n",
      " 'Audi ' 'Mercedes ' 'Nissan ' 'Hyundai ' 'Porsche ' 'MG ' 'Mini ' 'Opel '\n",
      " 'Skoda ' 'Volvo ' 'Kia ' 'Renault ' 'Mazda ' 'Lexus ' 'CUPRA ' 'SEAT '\n",
      " 'Lightyear ' 'Aiways ' 'DS ' 'Citroen ' 'Jaguar ' 'Ford ' 'Byton '\n",
      " 'Sono ' 'Smart ' 'Fiat ']\n",
      "['Model 3 Long Range Dual Motor' 'ID.3 Pure' '2' 'iX3 ' 'e ' 'Air '\n",
      " 'e-Golf ' 'e-208 ' 'Model 3 Standard Range Plus' 'Q4 e-tron '\n",
      " 'EQC 400 4MATIC' 'Leaf ' 'Kona Electric 64 kWh' 'i4 ' 'IONIQ Electric'\n",
      " 'ID.3 Pro S' 'Taycan Turbo S' 'e-Up! ' 'ZS EV' 'Cooper SE ' 'Corsa-e '\n",
      " 'Model Y Long Range Dual Motor' 'Enyaq iV 50' 'e-tron GT '\n",
      " 'Model 3 Long Range Performance' 'ID.4 ' 'ID.3 Pro'\n",
      " 'XC40 P8 AWD Recharge' 'i3 120 Ah' 'e-2008 SUV ' 'e-tron 50 quattro'\n",
      " 'e-Niro 64 kWh' 'Zoe ZE50 R110' 'Cybertruck Tri Motor' 'MX-30 ' 'Leaf e+'\n",
      " 'UX 300e' 'el-Born ' 'Zoe ZE50 R135' 'EQA ' 'Model S Long Range'\n",
      " 'Kona Electric 39 kWh' 'e-tron Sportback 55 quattro' 'CITIGOe iV '\n",
      " 'Mii Electric ' 'e-Soul 64 kWh' 'Ampera-e ' 'Taycan 4S' 'One ' 'U5 '\n",
      " 'e-tron 55 quattro' 'Roadster ' 'Mokka-e ' 'Enyaq iV 80'\n",
      " 'Model X Long Range' 'e Advance' '3 Crossback E-Tense' 'Twingo ZE'\n",
      " 'e-C4 ' 'Model S Performance' 'Zoe ZE40 R110'\n",
      " 'Model Y Long Range Performance' 'Ariya 87kWh' 'I-Pace '\n",
      " 'Mustang Mach-E ER RWD' 'Taycan 4S Plus' 'e-NV200 Evalia '\n",
      " 'Cybertruck Dual Motor' 'Kangoo Maxi ZE 33' 'Mustang Mach-E ER AWD'\n",
      " 'i3s 120 Ah' 'Enyaq iV 80X' 'Taycan Cross Turismo ' 'M-Byte 95 kWh 4WD'\n",
      " 'Sion ' 'e-Niro 39 kWh' 'Q4 Sportback e-tron ' 'EQ forfour '\n",
      " 'Mustang Mach-E SR AWD' 'Taycan Turbo' 'ID.3 1st' 'Model X Performance'\n",
      " 'EQ fortwo coupe' 'Mustang Mach-E SR RWD' 'EQV 300 Long' '500e Hatchback'\n",
      " 'Cybertruck Single Motor' 'e-tron Sportback 50 quattro' 'Enyaq iV vRS'\n",
      " 'Enyaq iV 60' 'e-tron S 55 quattro' 'EQ fortwo cabrio'\n",
      " 'Ariya e-4ORCE 87kWh' '500e Convertible' 'ID.3 Pro Performance'\n",
      " 'e-Soul 39 kWh' 'M-Byte 72 kWh 2WD' 'Ariya 63kWh'\n",
      " 'e-tron S Sportback 55 quattro' 'Ariya e-4ORCE 63kWh'\n",
      " 'Ariya e-4ORCE 87kWh Performance' 'M-Byte 95 kWh 2WD']\n"
     ]
    }
   ],
   "source": [
    "print(df_autos[\"Brand\"].unique())\n",
    "print(df_autos[\"Model\"].unique())"
   ]
  },
  {
   "cell_type": "markdown",
   "metadata": {},
   "source": [
    "<font color='red'>Wir haben festgestellt, dass die Zeilen in den Spalten **\"Brand\"** und **\"Model\"**Leerzeichen enthalten. Jetzt löschen wir diese Leerzeichen</font>"
   ]
  },
  {
   "cell_type": "code",
   "execution_count": 30,
   "metadata": {},
   "outputs": [],
   "source": [
    "df_autos[\"Brand\"] = df_autos[\"Brand\"].str.lstrip(\" \").str.rstrip(\" \")\n",
    "df_autos[\"Model\"] = df_autos[\"Model\"].str.lstrip(\" \").str.rstrip(\" \")"
   ]
  },
  {
   "cell_type": "markdown",
   "metadata": {},
   "source": [
    "#### Duplicate Finden"
   ]
  },
  {
   "cell_type": "code",
   "execution_count": 31,
   "metadata": {},
   "outputs": [
    {
     "data": {
      "text/plain": [
       "102"
      ]
     },
     "execution_count": 31,
     "metadata": {},
     "output_type": "execute_result"
    }
   ],
   "source": [
    "df_autos['Model'].nunique() "
   ]
  },
  {
   "cell_type": "markdown",
   "metadata": {},
   "source": [
    "<font color='red'>103 Zeilen, aber 102 Modelle. </font>"
   ]
  },
  {
   "cell_type": "code",
   "execution_count": 32,
   "metadata": {},
   "outputs": [
    {
     "data": {
      "text/html": [
       "<div>\n",
       "<style scoped>\n",
       "    .dataframe tbody tr th:only-of-type {\n",
       "        vertical-align: middle;\n",
       "    }\n",
       "\n",
       "    .dataframe tbody tr th {\n",
       "        vertical-align: top;\n",
       "    }\n",
       "\n",
       "    .dataframe thead th {\n",
       "        text-align: right;\n",
       "    }\n",
       "</style>\n",
       "<table border=\"1\" class=\"dataframe\">\n",
       "  <thead>\n",
       "    <tr style=\"text-align: right;\">\n",
       "      <th></th>\n",
       "      <th>Brand</th>\n",
       "      <th>Model</th>\n",
       "      <th>AccelSec</th>\n",
       "      <th>TopSpeed_KmH</th>\n",
       "      <th>Range_Km</th>\n",
       "      <th>Efficiency_WhKm</th>\n",
       "      <th>connector</th>\n",
       "      <th>FastCharge_KmH</th>\n",
       "      <th>RapidCharge</th>\n",
       "      <th>PowerTrain</th>\n",
       "      <th>PlugType</th>\n",
       "      <th>BodyStyle</th>\n",
       "      <th>Seats</th>\n",
       "      <th>PriceEuro</th>\n",
       "    </tr>\n",
       "  </thead>\n",
       "  <tbody>\n",
       "    <tr>\n",
       "      <th>92</th>\n",
       "      <td>Kia</td>\n",
       "      <td>e-Soul 64 kWh</td>\n",
       "      <td>7.9</td>\n",
       "      <td>167</td>\n",
       "      <td>365</td>\n",
       "      <td>175</td>\n",
       "      <td>192</td>\n",
       "      <td>320.0</td>\n",
       "      <td>Yes</td>\n",
       "      <td>FWD</td>\n",
       "      <td>Type 2 CCS</td>\n",
       "      <td>SUV</td>\n",
       "      <td>5.0</td>\n",
       "      <td>36837</td>\n",
       "    </tr>\n",
       "  </tbody>\n",
       "</table>\n",
       "</div>"
      ],
      "text/plain": [
       "   Brand          Model  AccelSec  TopSpeed_KmH  Range_Km  Efficiency_WhKm  \\\n",
       "92   Kia  e-Soul 64 kWh       7.9           167       365              175   \n",
       "\n",
       "    connector  FastCharge_KmH RapidCharge PowerTrain    PlugType BodyStyle  \\\n",
       "92        192           320.0         Yes        FWD  Type 2 CCS       SUV   \n",
       "\n",
       "   Seats  PriceEuro  \n",
       "92   5.0      36837  "
      ]
     },
     "execution_count": 32,
     "metadata": {},
     "output_type": "execute_result"
    }
   ],
   "source": [
    "df_autos.loc[df_autos['Model'].duplicated()==True,:]"
   ]
  },
  {
   "cell_type": "code",
   "execution_count": 33,
   "metadata": {},
   "outputs": [
    {
     "data": {
      "text/html": [
       "<div>\n",
       "<style scoped>\n",
       "    .dataframe tbody tr th:only-of-type {\n",
       "        vertical-align: middle;\n",
       "    }\n",
       "\n",
       "    .dataframe tbody tr th {\n",
       "        vertical-align: top;\n",
       "    }\n",
       "\n",
       "    .dataframe thead th {\n",
       "        text-align: right;\n",
       "    }\n",
       "</style>\n",
       "<table border=\"1\" class=\"dataframe\">\n",
       "  <thead>\n",
       "    <tr style=\"text-align: right;\">\n",
       "      <th></th>\n",
       "      <th>Brand</th>\n",
       "      <th>Model</th>\n",
       "      <th>AccelSec</th>\n",
       "      <th>TopSpeed_KmH</th>\n",
       "      <th>Range_Km</th>\n",
       "      <th>Efficiency_WhKm</th>\n",
       "      <th>connector</th>\n",
       "      <th>FastCharge_KmH</th>\n",
       "      <th>RapidCharge</th>\n",
       "      <th>PowerTrain</th>\n",
       "      <th>PlugType</th>\n",
       "      <th>BodyStyle</th>\n",
       "      <th>Seats</th>\n",
       "      <th>PriceEuro</th>\n",
       "    </tr>\n",
       "  </thead>\n",
       "  <tbody>\n",
       "    <tr>\n",
       "      <th>92</th>\n",
       "      <td>Kia</td>\n",
       "      <td>e-Soul 64 kWh</td>\n",
       "      <td>7.9</td>\n",
       "      <td>167</td>\n",
       "      <td>365</td>\n",
       "      <td>175</td>\n",
       "      <td>192</td>\n",
       "      <td>320.0</td>\n",
       "      <td>Yes</td>\n",
       "      <td>FWD</td>\n",
       "      <td>Type 2 CCS</td>\n",
       "      <td>SUV</td>\n",
       "      <td>5.0</td>\n",
       "      <td>36837</td>\n",
       "    </tr>\n",
       "  </tbody>\n",
       "</table>\n",
       "</div>"
      ],
      "text/plain": [
       "   Brand          Model  AccelSec  TopSpeed_KmH  Range_Km  Efficiency_WhKm  \\\n",
       "92   Kia  e-Soul 64 kWh       7.9           167       365              175   \n",
       "\n",
       "    connector  FastCharge_KmH RapidCharge PowerTrain    PlugType BodyStyle  \\\n",
       "92        192           320.0         Yes        FWD  Type 2 CCS       SUV   \n",
       "\n",
       "   Seats  PriceEuro  \n",
       "92   5.0      36837  "
      ]
     },
     "execution_count": 33,
     "metadata": {},
     "output_type": "execute_result"
    }
   ],
   "source": [
    "df_autos.loc[df_autos['Model'].duplicated()==True,:]\n",
    "\n",
    "# das Model e_Soul 64 kWh ist doppelt enthalten --> check, was sich unterscheidet"
   ]
  },
  {
   "cell_type": "code",
   "execution_count": 34,
   "metadata": {},
   "outputs": [
    {
     "data": {
      "text/html": [
       "<div>\n",
       "<style scoped>\n",
       "    .dataframe tbody tr th:only-of-type {\n",
       "        vertical-align: middle;\n",
       "    }\n",
       "\n",
       "    .dataframe tbody tr th {\n",
       "        vertical-align: top;\n",
       "    }\n",
       "\n",
       "    .dataframe thead th {\n",
       "        text-align: right;\n",
       "    }\n",
       "</style>\n",
       "<table border=\"1\" class=\"dataframe\">\n",
       "  <thead>\n",
       "    <tr style=\"text-align: right;\">\n",
       "      <th></th>\n",
       "      <th>Brand</th>\n",
       "      <th>Model</th>\n",
       "      <th>AccelSec</th>\n",
       "      <th>TopSpeed_KmH</th>\n",
       "      <th>Range_Km</th>\n",
       "      <th>Efficiency_WhKm</th>\n",
       "      <th>connector</th>\n",
       "      <th>FastCharge_KmH</th>\n",
       "      <th>RapidCharge</th>\n",
       "      <th>PowerTrain</th>\n",
       "      <th>PlugType</th>\n",
       "      <th>BodyStyle</th>\n",
       "      <th>Seats</th>\n",
       "      <th>PriceEuro</th>\n",
       "    </tr>\n",
       "  </thead>\n",
       "  <tbody>\n",
       "    <tr>\n",
       "      <th>45</th>\n",
       "      <td>Kia</td>\n",
       "      <td>e-Soul 64 kWh</td>\n",
       "      <td>7.9</td>\n",
       "      <td>167</td>\n",
       "      <td>365</td>\n",
       "      <td>175</td>\n",
       "      <td>145</td>\n",
       "      <td>340.0</td>\n",
       "      <td>Yes</td>\n",
       "      <td>FWD</td>\n",
       "      <td>Type 2 CCS</td>\n",
       "      <td>SUV</td>\n",
       "      <td>5.0</td>\n",
       "      <td>36837</td>\n",
       "    </tr>\n",
       "    <tr>\n",
       "      <th>92</th>\n",
       "      <td>Kia</td>\n",
       "      <td>e-Soul 64 kWh</td>\n",
       "      <td>7.9</td>\n",
       "      <td>167</td>\n",
       "      <td>365</td>\n",
       "      <td>175</td>\n",
       "      <td>192</td>\n",
       "      <td>320.0</td>\n",
       "      <td>Yes</td>\n",
       "      <td>FWD</td>\n",
       "      <td>Type 2 CCS</td>\n",
       "      <td>SUV</td>\n",
       "      <td>5.0</td>\n",
       "      <td>36837</td>\n",
       "    </tr>\n",
       "  </tbody>\n",
       "</table>\n",
       "</div>"
      ],
      "text/plain": [
       "   Brand          Model  AccelSec  TopSpeed_KmH  Range_Km  Efficiency_WhKm  \\\n",
       "45   Kia  e-Soul 64 kWh       7.9           167       365              175   \n",
       "92   Kia  e-Soul 64 kWh       7.9           167       365              175   \n",
       "\n",
       "    connector  FastCharge_KmH RapidCharge PowerTrain    PlugType BodyStyle  \\\n",
       "45        145           340.0         Yes        FWD  Type 2 CCS       SUV   \n",
       "92        192           320.0         Yes        FWD  Type 2 CCS       SUV   \n",
       "\n",
       "   Seats  PriceEuro  \n",
       "45   5.0      36837  \n",
       "92   5.0      36837  "
      ]
     },
     "execution_count": 34,
     "metadata": {},
     "output_type": "execute_result"
    }
   ],
   "source": [
    "df_autos.loc[df_autos['Model']=='e-Soul 64 kWh',:]"
   ]
  },
  {
   "cell_type": "markdown",
   "metadata": {},
   "source": [
    "<font color='red'>Die beiden aufgelisteten Modell unterscheiden sich im FastCharge_KmH minimal. Daher scheint es ein tatsächliches Duplikat zu sein. Ich lösche diejenige Zeile bei der wir kürzer fahren können nach 1h Schnellladen und resette den Index.</font>"
   ]
  },
  {
   "cell_type": "code",
   "execution_count": 35,
   "metadata": {},
   "outputs": [],
   "source": [
    "df_autos.drop(index=92, inplace=True)"
   ]
  },
  {
   "cell_type": "code",
   "execution_count": 36,
   "metadata": {},
   "outputs": [],
   "source": [
    "df_autos.reset_index(inplace=True)"
   ]
  },
  {
   "cell_type": "markdown",
   "metadata": {},
   "source": [
    "### Ausreißer"
   ]
  },
  {
   "cell_type": "code",
   "execution_count": 37,
   "metadata": {},
   "outputs": [
    {
     "data": {
      "text/html": [
       "<div>\n",
       "<style scoped>\n",
       "    .dataframe tbody tr th:only-of-type {\n",
       "        vertical-align: middle;\n",
       "    }\n",
       "\n",
       "    .dataframe tbody tr th {\n",
       "        vertical-align: top;\n",
       "    }\n",
       "\n",
       "    .dataframe thead th {\n",
       "        text-align: right;\n",
       "    }\n",
       "</style>\n",
       "<table border=\"1\" class=\"dataframe\">\n",
       "  <thead>\n",
       "    <tr style=\"text-align: right;\">\n",
       "      <th></th>\n",
       "      <th>index</th>\n",
       "      <th>AccelSec</th>\n",
       "      <th>TopSpeed_KmH</th>\n",
       "      <th>Range_Km</th>\n",
       "      <th>Efficiency_WhKm</th>\n",
       "      <th>connector</th>\n",
       "      <th>FastCharge_KmH</th>\n",
       "      <th>PriceEuro</th>\n",
       "    </tr>\n",
       "  </thead>\n",
       "  <tbody>\n",
       "    <tr>\n",
       "      <th>count</th>\n",
       "      <td>102.000000</td>\n",
       "      <td>102.000000</td>\n",
       "      <td>102.000000</td>\n",
       "      <td>102.000000</td>\n",
       "      <td>102.000000</td>\n",
       "      <td>102.000000</td>\n",
       "      <td>102.000000</td>\n",
       "      <td>102.000000</td>\n",
       "    </tr>\n",
       "    <tr>\n",
       "      <th>mean</th>\n",
       "      <td>50.598039</td>\n",
       "      <td>7.391176</td>\n",
       "      <td>179.313725</td>\n",
       "      <td>338.529412</td>\n",
       "      <td>189.303922</td>\n",
       "      <td>150.598039</td>\n",
       "      <td>435.686275</td>\n",
       "      <td>55997.588235</td>\n",
       "    </tr>\n",
       "    <tr>\n",
       "      <th>std</th>\n",
       "      <td>29.743877</td>\n",
       "      <td>3.031913</td>\n",
       "      <td>43.771228</td>\n",
       "      <td>126.609613</td>\n",
       "      <td>29.679072</td>\n",
       "      <td>29.743877</td>\n",
       "      <td>220.447384</td>\n",
       "      <td>34250.724403</td>\n",
       "    </tr>\n",
       "    <tr>\n",
       "      <th>min</th>\n",
       "      <td>0.000000</td>\n",
       "      <td>2.100000</td>\n",
       "      <td>123.000000</td>\n",
       "      <td>95.000000</td>\n",
       "      <td>104.000000</td>\n",
       "      <td>100.000000</td>\n",
       "      <td>0.000000</td>\n",
       "      <td>20129.000000</td>\n",
       "    </tr>\n",
       "    <tr>\n",
       "      <th>25%</th>\n",
       "      <td>25.250000</td>\n",
       "      <td>5.100000</td>\n",
       "      <td>150.000000</td>\n",
       "      <td>250.000000</td>\n",
       "      <td>168.000000</td>\n",
       "      <td>125.250000</td>\n",
       "      <td>260.000000</td>\n",
       "      <td>34414.750000</td>\n",
       "    </tr>\n",
       "    <tr>\n",
       "      <th>50%</th>\n",
       "      <td>50.500000</td>\n",
       "      <td>7.300000</td>\n",
       "      <td>160.000000</td>\n",
       "      <td>340.000000</td>\n",
       "      <td>180.500000</td>\n",
       "      <td>150.500000</td>\n",
       "      <td>440.000000</td>\n",
       "      <td>45000.000000</td>\n",
       "    </tr>\n",
       "    <tr>\n",
       "      <th>75%</th>\n",
       "      <td>75.750000</td>\n",
       "      <td>9.000000</td>\n",
       "      <td>200.000000</td>\n",
       "      <td>400.000000</td>\n",
       "      <td>204.500000</td>\n",
       "      <td>175.750000</td>\n",
       "      <td>557.500000</td>\n",
       "      <td>65000.000000</td>\n",
       "    </tr>\n",
       "    <tr>\n",
       "      <th>max</th>\n",
       "      <td>102.000000</td>\n",
       "      <td>22.400000</td>\n",
       "      <td>410.000000</td>\n",
       "      <td>970.000000</td>\n",
       "      <td>273.000000</td>\n",
       "      <td>202.000000</td>\n",
       "      <td>940.000000</td>\n",
       "      <td>215000.000000</td>\n",
       "    </tr>\n",
       "  </tbody>\n",
       "</table>\n",
       "</div>"
      ],
      "text/plain": [
       "            index    AccelSec  TopSpeed_KmH    Range_Km  Efficiency_WhKm  \\\n",
       "count  102.000000  102.000000    102.000000  102.000000       102.000000   \n",
       "mean    50.598039    7.391176    179.313725  338.529412       189.303922   \n",
       "std     29.743877    3.031913     43.771228  126.609613        29.679072   \n",
       "min      0.000000    2.100000    123.000000   95.000000       104.000000   \n",
       "25%     25.250000    5.100000    150.000000  250.000000       168.000000   \n",
       "50%     50.500000    7.300000    160.000000  340.000000       180.500000   \n",
       "75%     75.750000    9.000000    200.000000  400.000000       204.500000   \n",
       "max    102.000000   22.400000    410.000000  970.000000       273.000000   \n",
       "\n",
       "        connector  FastCharge_KmH      PriceEuro  \n",
       "count  102.000000      102.000000     102.000000  \n",
       "mean   150.598039      435.686275   55997.588235  \n",
       "std     29.743877      220.447384   34250.724403  \n",
       "min    100.000000        0.000000   20129.000000  \n",
       "25%    125.250000      260.000000   34414.750000  \n",
       "50%    150.500000      440.000000   45000.000000  \n",
       "75%    175.750000      557.500000   65000.000000  \n",
       "max    202.000000      940.000000  215000.000000  "
      ]
     },
     "execution_count": 37,
     "metadata": {},
     "output_type": "execute_result"
    }
   ],
   "source": [
    "df_autos.describe()"
   ]
  },
  {
   "cell_type": "markdown",
   "metadata": {},
   "source": [
    "<span style='color:red'> Aus der Tabelle ist ersichtlich, dass Standartabweichung von **\"PriceEuro\"** sehr groß ist.</span>"
   ]
  },
  {
   "cell_type": "code",
   "execution_count": 38,
   "metadata": {},
   "outputs": [],
   "source": [
    "columns_numeric = ['AccelSec','TopSpeed_KmH', 'Range_Km','Efficiency_WhKm', 'connector', 'FastCharge_KmH','PriceEuro']"
   ]
  },
  {
   "cell_type": "code",
   "execution_count": 39,
   "metadata": {},
   "outputs": [
    {
     "data": {
      "image/png": "[encoded data removed]",
      "text/plain": [
       "<Figure size 1080x432 with 4 Axes>"
      ]
     },
     "metadata": {
      "needs_background": "light"
     },
     "output_type": "display_data"
    }
   ],
   "source": [
    "plt.figure(figsize=(15,6))\n",
    "\n",
    "plt.subplot(141)\n",
    "plt.boxplot(df_autos.AccelSec)\n",
    "plt.gca().title.set_text(\"AccelSec\")\n",
    "\n",
    "plt.subplot(142)\n",
    "plt.boxplot(df_autos.TopSpeed_KmH)\n",
    "plt.gca().title.set_text(\"TopSpeed_KmH\")\n",
    "\n",
    "plt.subplot(143)\n",
    "plt.boxplot(df_autos.Range_Km)\n",
    "plt.gca().title.set_text(\"Range_Km\")\n",
    "\n",
    "plt.subplot(144)\n",
    "plt.boxplot(df_autos.Efficiency_WhKm)\n",
    "plt.gca().title.set_text(\"Efficiency_WhKm\")\n",
    "\n",
    "plt.show()\n"
   ]
  },
  {
   "cell_type": "code",
   "execution_count": 40,
   "metadata": {},
   "outputs": [
    {
     "data": {
      "image/png": "[encoded data removed]",
      "text/plain": [
       "<Figure size 864x432 with 1 Axes>"
      ]
     },
     "metadata": {
      "needs_background": "light"
     },
     "output_type": "display_data"
    }
   ],
   "source": [
    "plt.figure(figsize=(12,6))\n",
    "\n",
    "sns.set_theme(style=\"whitegrid\")\n",
    "\n",
    "ax = sns.boxplot(x=df_autos[\"PriceEuro\"])\n"
   ]
  },
  {
   "cell_type": "markdown",
   "metadata": {},
   "source": [
    "### Pairplot - erste visuelle Inspektion"
   ]
  },
  {
   "cell_type": "code",
   "execution_count": 41,
   "metadata": {},
   "outputs": [
    {
     "data": {
      "text/plain": [
       "<seaborn.axisgrid.PairGrid at 0x1ac863a39d0>"
      ]
     },
     "execution_count": 41,
     "metadata": {},
     "output_type": "execute_result"
    },
    {
     "data": {
      "image/png": "[encoded data removed]",
      "text/plain": [
       "<Figure size 1260x1260 with 35 Axes>"
      ]
     },
     "metadata": {},
     "output_type": "display_data"
    }
   ],
   "source": [
    "sns.pairplot(df_autos[columns_numeric],palette=\"husl\",corner=True)"
   ]
  },
  {
   "cell_type": "code",
   "execution_count": 42,
   "metadata": {},
   "outputs": [
    {
     "data": {
      "image/png": "[encoded data removed]",
      "text/plain": [
       "<Figure size 720x720 with 2 Axes>"
      ]
     },
     "metadata": {},
     "output_type": "display_data"
    }
   ],
   "source": [
    "corr_df =df_autos[columns_numeric].corr(method='pearson')\n",
    "\n",
    "plt.figure(figsize=(10,10))\n",
    "sns.heatmap(corr_df, annot=True)\n",
    "plt.show()"
   ]
  },
  {
   "cell_type": "markdown",
   "metadata": {},
   "source": [
    "### FEATURE ENGINEERING"
   ]
  },
  {
   "cell_type": "markdown",
   "metadata": {},
   "source": [
    "#### Feature 1: Wie viele Minuten dauert, das Auto vollständig aufzuladen?"
   ]
  },
  {
   "cell_type": "markdown",
   "metadata": {},
   "source": [
    "<span style='color:blue'> Berechnung :         \\\n",
    "                **Full_charge_minute = (RangeKm/FasChargeKmH)*60**             </span>"
   ]
  },
  {
   "cell_type": "code",
   "execution_count": 43,
   "metadata": {},
   "outputs": [],
   "source": [
    "yes_charging = df_autos[\"RapidCharge\"]=='Yes'"
   ]
  },
  {
   "cell_type": "code",
   "execution_count": 44,
   "metadata": {},
   "outputs": [
    {
     "data": {
      "text/plain": [
       "0      29.0\n",
       "1      65.0\n",
       "2      39.0\n",
       "3      39.0\n",
       "4      54.0\n",
       "       ... \n",
       "97     45.0\n",
       "98     37.0\n",
       "99     44.0\n",
       "100    50.0\n",
       "101    50.0\n",
       "Name: Full_charge_minute, Length: 102, dtype: float64"
      ]
     },
     "execution_count": 44,
     "metadata": {},
     "output_type": "execute_result"
    }
   ],
   "source": [
    "df_autos[\"Full_charge_minute\"] = round(df_autos.loc[yes_charging,\"Range_Km\"]/df_autos.loc[yes_charging,\"FastCharge_KmH\"]*60)\n",
    "df_autos[\"Full_charge_minute\"]"
   ]
  },
  {
   "cell_type": "markdown",
   "metadata": {},
   "source": [
    "<span style='color:red'>10 Fahrzeuge mit der niedrigsten Vollladezeit</span>"
   ]
  },
  {
   "cell_type": "code",
   "execution_count": 45,
   "metadata": {},
   "outputs": [
    {
     "data": {
      "text/html": [
       "<div>\n",
       "<style scoped>\n",
       "    .dataframe tbody tr th:only-of-type {\n",
       "        vertical-align: middle;\n",
       "    }\n",
       "\n",
       "    .dataframe tbody tr th {\n",
       "        vertical-align: top;\n",
       "    }\n",
       "\n",
       "    .dataframe thead th {\n",
       "        text-align: right;\n",
       "    }\n",
       "</style>\n",
       "<table border=\"1\" class=\"dataframe\">\n",
       "  <thead>\n",
       "    <tr style=\"text-align: right;\">\n",
       "      <th></th>\n",
       "      <th>Brand</th>\n",
       "      <th>Model</th>\n",
       "      <th>Range_Km</th>\n",
       "      <th>Full_charge_minute</th>\n",
       "    </tr>\n",
       "  </thead>\n",
       "  <tbody>\n",
       "    <tr>\n",
       "      <th>61</th>\n",
       "      <td>Tesla</td>\n",
       "      <td>Model Y Long Range Performance</td>\n",
       "      <td>410</td>\n",
       "      <td>27.0</td>\n",
       "    </tr>\n",
       "    <tr>\n",
       "      <th>21</th>\n",
       "      <td>Tesla</td>\n",
       "      <td>Model Y Long Range Dual Motor</td>\n",
       "      <td>425</td>\n",
       "      <td>27.0</td>\n",
       "    </tr>\n",
       "    <tr>\n",
       "      <th>0</th>\n",
       "      <td>Tesla</td>\n",
       "      <td>Model 3 Long Range Dual Motor</td>\n",
       "      <td>450</td>\n",
       "      <td>29.0</td>\n",
       "    </tr>\n",
       "    <tr>\n",
       "      <th>65</th>\n",
       "      <td>Porsche</td>\n",
       "      <td>Taycan 4S Plus</td>\n",
       "      <td>425</td>\n",
       "      <td>29.0</td>\n",
       "    </tr>\n",
       "    <tr>\n",
       "      <th>79</th>\n",
       "      <td>Porsche</td>\n",
       "      <td>Taycan Turbo</td>\n",
       "      <td>390</td>\n",
       "      <td>29.0</td>\n",
       "    </tr>\n",
       "    <tr>\n",
       "      <th>8</th>\n",
       "      <td>Tesla</td>\n",
       "      <td>Model 3 Standard Range Plus</td>\n",
       "      <td>310</td>\n",
       "      <td>29.0</td>\n",
       "    </tr>\n",
       "    <tr>\n",
       "      <th>24</th>\n",
       "      <td>Tesla</td>\n",
       "      <td>Model 3 Long Range Performance</td>\n",
       "      <td>435</td>\n",
       "      <td>29.0</td>\n",
       "    </tr>\n",
       "    <tr>\n",
       "      <th>16</th>\n",
       "      <td>Porsche</td>\n",
       "      <td>Taycan Turbo S</td>\n",
       "      <td>375</td>\n",
       "      <td>29.0</td>\n",
       "    </tr>\n",
       "    <tr>\n",
       "      <th>47</th>\n",
       "      <td>Porsche</td>\n",
       "      <td>Taycan 4S</td>\n",
       "      <td>365</td>\n",
       "      <td>30.0</td>\n",
       "    </tr>\n",
       "    <tr>\n",
       "      <th>72</th>\n",
       "      <td>Porsche</td>\n",
       "      <td>Taycan Cross Turismo</td>\n",
       "      <td>385</td>\n",
       "      <td>30.0</td>\n",
       "    </tr>\n",
       "  </tbody>\n",
       "</table>\n",
       "</div>"
      ],
      "text/plain": [
       "      Brand                           Model  Range_Km  Full_charge_minute\n",
       "61    Tesla  Model Y Long Range Performance       410                27.0\n",
       "21    Tesla   Model Y Long Range Dual Motor       425                27.0\n",
       "0     Tesla   Model 3 Long Range Dual Motor       450                29.0\n",
       "65  Porsche                  Taycan 4S Plus       425                29.0\n",
       "79  Porsche                    Taycan Turbo       390                29.0\n",
       "8     Tesla     Model 3 Standard Range Plus       310                29.0\n",
       "24    Tesla  Model 3 Long Range Performance       435                29.0\n",
       "16  Porsche                  Taycan Turbo S       375                29.0\n",
       "47  Porsche                       Taycan 4S       365                30.0\n",
       "72  Porsche            Taycan Cross Turismo       385                30.0"
      ]
     },
     "execution_count": 45,
     "metadata": {},
     "output_type": "execute_result"
    }
   ],
   "source": [
    "df_autos[[\"Brand\",\"Model\",\"Range_Km\",\"Full_charge_minute\"]].sort_values(by=\"Full_charge_minute\", ascending=True).head(10)"
   ]
  },
  {
   "cell_type": "markdown",
   "metadata": {},
   "source": [
    "#### Feature 2: Wie viele Minuten dauert, das Auto  aufzuladen, um 100 km zu fahren?"
   ]
  },
  {
   "cell_type": "markdown",
   "metadata": {},
   "source": [
    "<span style='color:blue'> Berechnung :         \\\n",
    "                **charging_100km = (Full_charge_minute/RangeKm)*100**             </span>"
   ]
  },
  {
   "cell_type": "code",
   "execution_count": 46,
   "metadata": {},
   "outputs": [
    {
     "data": {
      "text/html": [
       "<div>\n",
       "<style scoped>\n",
       "    .dataframe tbody tr th:only-of-type {\n",
       "        vertical-align: middle;\n",
       "    }\n",
       "\n",
       "    .dataframe tbody tr th {\n",
       "        vertical-align: top;\n",
       "    }\n",
       "\n",
       "    .dataframe thead th {\n",
       "        text-align: right;\n",
       "    }\n",
       "</style>\n",
       "<table border=\"1\" class=\"dataframe\">\n",
       "  <thead>\n",
       "    <tr style=\"text-align: right;\">\n",
       "      <th></th>\n",
       "      <th>index</th>\n",
       "      <th>Brand</th>\n",
       "      <th>Model</th>\n",
       "      <th>AccelSec</th>\n",
       "      <th>TopSpeed_KmH</th>\n",
       "      <th>Range_Km</th>\n",
       "      <th>Efficiency_WhKm</th>\n",
       "      <th>connector</th>\n",
       "      <th>FastCharge_KmH</th>\n",
       "      <th>RapidCharge</th>\n",
       "      <th>PowerTrain</th>\n",
       "      <th>PlugType</th>\n",
       "      <th>BodyStyle</th>\n",
       "      <th>Seats</th>\n",
       "      <th>PriceEuro</th>\n",
       "      <th>Full_charge_minute</th>\n",
       "    </tr>\n",
       "  </thead>\n",
       "  <tbody>\n",
       "    <tr>\n",
       "      <th>0</th>\n",
       "      <td>0</td>\n",
       "      <td>Tesla</td>\n",
       "      <td>Model 3 Long Range Dual Motor</td>\n",
       "      <td>4.6</td>\n",
       "      <td>233</td>\n",
       "      <td>450</td>\n",
       "      <td>161</td>\n",
       "      <td>100</td>\n",
       "      <td>940.0</td>\n",
       "      <td>Yes</td>\n",
       "      <td>AWD</td>\n",
       "      <td>Type 2 CCS</td>\n",
       "      <td>Sedan</td>\n",
       "      <td>4.0</td>\n",
       "      <td>55480</td>\n",
       "      <td>29.0</td>\n",
       "    </tr>\n",
       "    <tr>\n",
       "      <th>1</th>\n",
       "      <td>1</td>\n",
       "      <td>Volkswagen</td>\n",
       "      <td>ID.3 Pure</td>\n",
       "      <td>10.0</td>\n",
       "      <td>160</td>\n",
       "      <td>270</td>\n",
       "      <td>167</td>\n",
       "      <td>101</td>\n",
       "      <td>250.0</td>\n",
       "      <td>Yes</td>\n",
       "      <td>RWD</td>\n",
       "      <td>Type 2 CCS</td>\n",
       "      <td>Hatchback</td>\n",
       "      <td>5.0</td>\n",
       "      <td>30000</td>\n",
       "      <td>65.0</td>\n",
       "    </tr>\n",
       "    <tr>\n",
       "      <th>2</th>\n",
       "      <td>2</td>\n",
       "      <td>Polestar</td>\n",
       "      <td>2</td>\n",
       "      <td>4.7</td>\n",
       "      <td>210</td>\n",
       "      <td>400</td>\n",
       "      <td>181</td>\n",
       "      <td>102</td>\n",
       "      <td>620.0</td>\n",
       "      <td>Yes</td>\n",
       "      <td>AWD</td>\n",
       "      <td>Type 2 CCS</td>\n",
       "      <td>Liftback</td>\n",
       "      <td>5.0</td>\n",
       "      <td>56440</td>\n",
       "      <td>39.0</td>\n",
       "    </tr>\n",
       "    <tr>\n",
       "      <th>3</th>\n",
       "      <td>3</td>\n",
       "      <td>BMW</td>\n",
       "      <td>iX3</td>\n",
       "      <td>6.8</td>\n",
       "      <td>180</td>\n",
       "      <td>360</td>\n",
       "      <td>206</td>\n",
       "      <td>103</td>\n",
       "      <td>560.0</td>\n",
       "      <td>Yes</td>\n",
       "      <td>RWD</td>\n",
       "      <td>Type 2 CCS</td>\n",
       "      <td>SUV</td>\n",
       "      <td>5.0</td>\n",
       "      <td>68040</td>\n",
       "      <td>39.0</td>\n",
       "    </tr>\n",
       "    <tr>\n",
       "      <th>4</th>\n",
       "      <td>4</td>\n",
       "      <td>Honda</td>\n",
       "      <td>e</td>\n",
       "      <td>9.5</td>\n",
       "      <td>145</td>\n",
       "      <td>170</td>\n",
       "      <td>168</td>\n",
       "      <td>104</td>\n",
       "      <td>190.0</td>\n",
       "      <td>Yes</td>\n",
       "      <td>RWD</td>\n",
       "      <td>Type 2 CCS</td>\n",
       "      <td>Hatchback</td>\n",
       "      <td>5.0</td>\n",
       "      <td>32997</td>\n",
       "      <td>54.0</td>\n",
       "    </tr>\n",
       "  </tbody>\n",
       "</table>\n",
       "</div>"
      ],
      "text/plain": [
       "   index       Brand                          Model  AccelSec  TopSpeed_KmH  \\\n",
       "0      0       Tesla  Model 3 Long Range Dual Motor       4.6           233   \n",
       "1      1  Volkswagen                      ID.3 Pure      10.0           160   \n",
       "2      2    Polestar                              2       4.7           210   \n",
       "3      3         BMW                            iX3       6.8           180   \n",
       "4      4       Honda                              e       9.5           145   \n",
       "\n",
       "   Range_Km  Efficiency_WhKm  connector  FastCharge_KmH RapidCharge  \\\n",
       "0       450              161        100           940.0         Yes   \n",
       "1       270              167        101           250.0         Yes   \n",
       "2       400              181        102           620.0         Yes   \n",
       "3       360              206        103           560.0         Yes   \n",
       "4       170              168        104           190.0         Yes   \n",
       "\n",
       "  PowerTrain    PlugType  BodyStyle Seats  PriceEuro  Full_charge_minute  \n",
       "0        AWD  Type 2 CCS      Sedan   4.0      55480                29.0  \n",
       "1        RWD  Type 2 CCS  Hatchback   5.0      30000                65.0  \n",
       "2        AWD  Type 2 CCS   Liftback   5.0      56440                39.0  \n",
       "3        RWD  Type 2 CCS        SUV   5.0      68040                39.0  \n",
       "4        RWD  Type 2 CCS  Hatchback   5.0      32997                54.0  "
      ]
     },
     "execution_count": 46,
     "metadata": {},
     "output_type": "execute_result"
    }
   ],
   "source": [
    "df_autos.head(5)"
   ]
  },
  {
   "cell_type": "code",
   "execution_count": 47,
   "metadata": {},
   "outputs": [],
   "source": [
    "yes_charging = df_autos[\"RapidCharge\"]=='Yes'"
   ]
  },
  {
   "cell_type": "code",
   "execution_count": 48,
   "metadata": {},
   "outputs": [
    {
     "data": {
      "text/plain": [
       "0       6.4\n",
       "1      24.1\n",
       "2       9.8\n",
       "3      10.8\n",
       "4      31.8\n",
       "       ... \n",
       "97     13.6\n",
       "98     11.0\n",
       "99     13.5\n",
       "100    13.3\n",
       "101    12.5\n",
       "Name: charging_100km, Length: 102, dtype: float64"
      ]
     },
     "execution_count": 48,
     "metadata": {},
     "output_type": "execute_result"
    }
   ],
   "source": [
    "df_autos[\"charging_100km\"] = round((df_autos.loc[yes_charging,:].Full_charge_minute)/(df_autos[\"Range_Km\"])*100,1)\n",
    "df_autos[\"charging_100km\"]"
   ]
  },
  {
   "cell_type": "markdown",
   "metadata": {},
   "source": [
    "<span style='color:red'>10 Fahrzeuge mit kürzester Ladezeit pro 100 km</span>"
   ]
  },
  {
   "cell_type": "code",
   "execution_count": 49,
   "metadata": {},
   "outputs": [
    {
     "data": {
      "text/html": [
       "<div>\n",
       "<style scoped>\n",
       "    .dataframe tbody tr th:only-of-type {\n",
       "        vertical-align: middle;\n",
       "    }\n",
       "\n",
       "    .dataframe tbody tr th {\n",
       "        vertical-align: top;\n",
       "    }\n",
       "\n",
       "    .dataframe thead th {\n",
       "        text-align: right;\n",
       "    }\n",
       "</style>\n",
       "<table border=\"1\" class=\"dataframe\">\n",
       "  <thead>\n",
       "    <tr style=\"text-align: right;\">\n",
       "      <th></th>\n",
       "      <th>Brand</th>\n",
       "      <th>Model</th>\n",
       "      <th>Full_charge_minute</th>\n",
       "      <th>charging_100km</th>\n",
       "    </tr>\n",
       "  </thead>\n",
       "  <tbody>\n",
       "    <tr>\n",
       "      <th>0</th>\n",
       "      <td>Tesla</td>\n",
       "      <td>Model 3 Long Range Dual Motor</td>\n",
       "      <td>29.0</td>\n",
       "      <td>6.4</td>\n",
       "    </tr>\n",
       "    <tr>\n",
       "      <th>21</th>\n",
       "      <td>Tesla</td>\n",
       "      <td>Model Y Long Range Dual Motor</td>\n",
       "      <td>27.0</td>\n",
       "      <td>6.4</td>\n",
       "    </tr>\n",
       "    <tr>\n",
       "      <th>51</th>\n",
       "      <td>Tesla</td>\n",
       "      <td>Roadster</td>\n",
       "      <td>63.0</td>\n",
       "      <td>6.5</td>\n",
       "    </tr>\n",
       "    <tr>\n",
       "      <th>61</th>\n",
       "      <td>Tesla</td>\n",
       "      <td>Model Y Long Range Performance</td>\n",
       "      <td>27.0</td>\n",
       "      <td>6.6</td>\n",
       "    </tr>\n",
       "    <tr>\n",
       "      <th>24</th>\n",
       "      <td>Tesla</td>\n",
       "      <td>Model 3 Long Range Performance</td>\n",
       "      <td>29.0</td>\n",
       "      <td>6.7</td>\n",
       "    </tr>\n",
       "    <tr>\n",
       "      <th>65</th>\n",
       "      <td>Porsche</td>\n",
       "      <td>Taycan 4S Plus</td>\n",
       "      <td>29.0</td>\n",
       "      <td>6.8</td>\n",
       "    </tr>\n",
       "    <tr>\n",
       "      <th>23</th>\n",
       "      <td>Audi</td>\n",
       "      <td>e-tron GT</td>\n",
       "      <td>30.0</td>\n",
       "      <td>7.1</td>\n",
       "    </tr>\n",
       "    <tr>\n",
       "      <th>79</th>\n",
       "      <td>Porsche</td>\n",
       "      <td>Taycan Turbo</td>\n",
       "      <td>29.0</td>\n",
       "      <td>7.4</td>\n",
       "    </tr>\n",
       "    <tr>\n",
       "      <th>16</th>\n",
       "      <td>Porsche</td>\n",
       "      <td>Taycan Turbo S</td>\n",
       "      <td>29.0</td>\n",
       "      <td>7.7</td>\n",
       "    </tr>\n",
       "    <tr>\n",
       "      <th>72</th>\n",
       "      <td>Porsche</td>\n",
       "      <td>Taycan Cross Turismo</td>\n",
       "      <td>30.0</td>\n",
       "      <td>7.8</td>\n",
       "    </tr>\n",
       "  </tbody>\n",
       "</table>\n",
       "</div>"
      ],
      "text/plain": [
       "      Brand                           Model  Full_charge_minute  \\\n",
       "0     Tesla   Model 3 Long Range Dual Motor                29.0   \n",
       "21    Tesla   Model Y Long Range Dual Motor                27.0   \n",
       "51    Tesla                        Roadster                63.0   \n",
       "61    Tesla  Model Y Long Range Performance                27.0   \n",
       "24    Tesla  Model 3 Long Range Performance                29.0   \n",
       "65  Porsche                  Taycan 4S Plus                29.0   \n",
       "23     Audi                       e-tron GT                30.0   \n",
       "79  Porsche                    Taycan Turbo                29.0   \n",
       "16  Porsche                  Taycan Turbo S                29.0   \n",
       "72  Porsche            Taycan Cross Turismo                30.0   \n",
       "\n",
       "    charging_100km  \n",
       "0              6.4  \n",
       "21             6.4  \n",
       "51             6.5  \n",
       "61             6.6  \n",
       "24             6.7  \n",
       "65             6.8  \n",
       "23             7.1  \n",
       "79             7.4  \n",
       "16             7.7  \n",
       "72             7.8  "
      ]
     },
     "execution_count": 49,
     "metadata": {},
     "output_type": "execute_result"
    }
   ],
   "source": [
    "df_autos[[\"Brand\",\"Model\",\"Full_charge_minute\",\"charging_100km\"]].sort_values(by=\"charging_100km\", ascending=True).head(10)"
   ]
  },
  {
   "cell_type": "markdown",
   "metadata": {},
   "source": [
    "#### Feature 3: Kilowattberbrauch pro 100 km"
   ]
  },
  {
   "cell_type": "code",
   "execution_count": 50,
   "metadata": {},
   "outputs": [
    {
     "data": {
      "text/plain": [
       "Index(['index', 'Brand', 'Model', 'AccelSec', 'TopSpeed_KmH', 'Range_Km',\n",
       "       'Efficiency_WhKm', 'connector', 'FastCharge_KmH', 'RapidCharge',\n",
       "       'PowerTrain', 'PlugType', 'BodyStyle', 'Seats', 'PriceEuro',\n",
       "       'Full_charge_minute', 'charging_100km'],\n",
       "      dtype='object')"
      ]
     },
     "execution_count": 50,
     "metadata": {},
     "output_type": "execute_result"
    }
   ],
   "source": [
    "df_autos.columns"
   ]
  },
  {
   "cell_type": "code",
   "execution_count": 51,
   "metadata": {},
   "outputs": [
    {
     "data": {
      "text/html": [
       "<div>\n",
       "<style scoped>\n",
       "    .dataframe tbody tr th:only-of-type {\n",
       "        vertical-align: middle;\n",
       "    }\n",
       "\n",
       "    .dataframe tbody tr th {\n",
       "        vertical-align: top;\n",
       "    }\n",
       "\n",
       "    .dataframe thead th {\n",
       "        text-align: right;\n",
       "    }\n",
       "</style>\n",
       "<table border=\"1\" class=\"dataframe\">\n",
       "  <thead>\n",
       "    <tr style=\"text-align: right;\">\n",
       "      <th></th>\n",
       "      <th>index</th>\n",
       "      <th>Brand</th>\n",
       "      <th>Model</th>\n",
       "      <th>AccelSec</th>\n",
       "      <th>TopSpeed_KmH</th>\n",
       "      <th>Range_Km</th>\n",
       "      <th>Efficiency_WhKm</th>\n",
       "      <th>connector</th>\n",
       "      <th>FastCharge_KmH</th>\n",
       "      <th>RapidCharge</th>\n",
       "      <th>PowerTrain</th>\n",
       "      <th>PlugType</th>\n",
       "      <th>BodyStyle</th>\n",
       "      <th>Seats</th>\n",
       "      <th>PriceEuro</th>\n",
       "      <th>Full_charge_minute</th>\n",
       "      <th>charging_100km</th>\n",
       "      <th>Efficiency_kWh_100km</th>\n",
       "    </tr>\n",
       "  </thead>\n",
       "  <tbody>\n",
       "    <tr>\n",
       "      <th>0</th>\n",
       "      <td>0</td>\n",
       "      <td>Tesla</td>\n",
       "      <td>Model 3 Long Range Dual Motor</td>\n",
       "      <td>4.6</td>\n",
       "      <td>233</td>\n",
       "      <td>450</td>\n",
       "      <td>161</td>\n",
       "      <td>100</td>\n",
       "      <td>940.0</td>\n",
       "      <td>Yes</td>\n",
       "      <td>AWD</td>\n",
       "      <td>Type 2 CCS</td>\n",
       "      <td>Sedan</td>\n",
       "      <td>4.0</td>\n",
       "      <td>55480</td>\n",
       "      <td>29.0</td>\n",
       "      <td>6.4</td>\n",
       "      <td>16.1</td>\n",
       "    </tr>\n",
       "    <tr>\n",
       "      <th>1</th>\n",
       "      <td>1</td>\n",
       "      <td>Volkswagen</td>\n",
       "      <td>ID.3 Pure</td>\n",
       "      <td>10.0</td>\n",
       "      <td>160</td>\n",
       "      <td>270</td>\n",
       "      <td>167</td>\n",
       "      <td>101</td>\n",
       "      <td>250.0</td>\n",
       "      <td>Yes</td>\n",
       "      <td>RWD</td>\n",
       "      <td>Type 2 CCS</td>\n",
       "      <td>Hatchback</td>\n",
       "      <td>5.0</td>\n",
       "      <td>30000</td>\n",
       "      <td>65.0</td>\n",
       "      <td>24.1</td>\n",
       "      <td>16.7</td>\n",
       "    </tr>\n",
       "    <tr>\n",
       "      <th>2</th>\n",
       "      <td>2</td>\n",
       "      <td>Polestar</td>\n",
       "      <td>2</td>\n",
       "      <td>4.7</td>\n",
       "      <td>210</td>\n",
       "      <td>400</td>\n",
       "      <td>181</td>\n",
       "      <td>102</td>\n",
       "      <td>620.0</td>\n",
       "      <td>Yes</td>\n",
       "      <td>AWD</td>\n",
       "      <td>Type 2 CCS</td>\n",
       "      <td>Liftback</td>\n",
       "      <td>5.0</td>\n",
       "      <td>56440</td>\n",
       "      <td>39.0</td>\n",
       "      <td>9.8</td>\n",
       "      <td>18.1</td>\n",
       "    </tr>\n",
       "    <tr>\n",
       "      <th>3</th>\n",
       "      <td>3</td>\n",
       "      <td>BMW</td>\n",
       "      <td>iX3</td>\n",
       "      <td>6.8</td>\n",
       "      <td>180</td>\n",
       "      <td>360</td>\n",
       "      <td>206</td>\n",
       "      <td>103</td>\n",
       "      <td>560.0</td>\n",
       "      <td>Yes</td>\n",
       "      <td>RWD</td>\n",
       "      <td>Type 2 CCS</td>\n",
       "      <td>SUV</td>\n",
       "      <td>5.0</td>\n",
       "      <td>68040</td>\n",
       "      <td>39.0</td>\n",
       "      <td>10.8</td>\n",
       "      <td>20.6</td>\n",
       "    </tr>\n",
       "    <tr>\n",
       "      <th>4</th>\n",
       "      <td>4</td>\n",
       "      <td>Honda</td>\n",
       "      <td>e</td>\n",
       "      <td>9.5</td>\n",
       "      <td>145</td>\n",
       "      <td>170</td>\n",
       "      <td>168</td>\n",
       "      <td>104</td>\n",
       "      <td>190.0</td>\n",
       "      <td>Yes</td>\n",
       "      <td>RWD</td>\n",
       "      <td>Type 2 CCS</td>\n",
       "      <td>Hatchback</td>\n",
       "      <td>5.0</td>\n",
       "      <td>32997</td>\n",
       "      <td>54.0</td>\n",
       "      <td>31.8</td>\n",
       "      <td>16.8</td>\n",
       "    </tr>\n",
       "    <tr>\n",
       "      <th>...</th>\n",
       "      <td>...</td>\n",
       "      <td>...</td>\n",
       "      <td>...</td>\n",
       "      <td>...</td>\n",
       "      <td>...</td>\n",
       "      <td>...</td>\n",
       "      <td>...</td>\n",
       "      <td>...</td>\n",
       "      <td>...</td>\n",
       "      <td>...</td>\n",
       "      <td>...</td>\n",
       "      <td>...</td>\n",
       "      <td>...</td>\n",
       "      <td>...</td>\n",
       "      <td>...</td>\n",
       "      <td>...</td>\n",
       "      <td>...</td>\n",
       "      <td>...</td>\n",
       "    </tr>\n",
       "    <tr>\n",
       "      <th>97</th>\n",
       "      <td>98</td>\n",
       "      <td>Nissan</td>\n",
       "      <td>Ariya 63kWh</td>\n",
       "      <td>7.5</td>\n",
       "      <td>160</td>\n",
       "      <td>330</td>\n",
       "      <td>191</td>\n",
       "      <td>198</td>\n",
       "      <td>440.0</td>\n",
       "      <td>Yes</td>\n",
       "      <td>FWD</td>\n",
       "      <td>Type 2 CCS</td>\n",
       "      <td>Hatchback</td>\n",
       "      <td>5.0</td>\n",
       "      <td>45000</td>\n",
       "      <td>45.0</td>\n",
       "      <td>13.6</td>\n",
       "      <td>19.1</td>\n",
       "    </tr>\n",
       "    <tr>\n",
       "      <th>98</th>\n",
       "      <td>99</td>\n",
       "      <td>Audi</td>\n",
       "      <td>e-tron S Sportback 55 quattro</td>\n",
       "      <td>4.5</td>\n",
       "      <td>210</td>\n",
       "      <td>335</td>\n",
       "      <td>258</td>\n",
       "      <td>199</td>\n",
       "      <td>540.0</td>\n",
       "      <td>Yes</td>\n",
       "      <td>AWD</td>\n",
       "      <td>Type 2 CCS</td>\n",
       "      <td>SUV</td>\n",
       "      <td>5.0</td>\n",
       "      <td>96050</td>\n",
       "      <td>37.0</td>\n",
       "      <td>11.0</td>\n",
       "      <td>25.8</td>\n",
       "    </tr>\n",
       "    <tr>\n",
       "      <th>99</th>\n",
       "      <td>100</td>\n",
       "      <td>Nissan</td>\n",
       "      <td>Ariya e-4ORCE 63kWh</td>\n",
       "      <td>5.9</td>\n",
       "      <td>200</td>\n",
       "      <td>325</td>\n",
       "      <td>194</td>\n",
       "      <td>200</td>\n",
       "      <td>440.0</td>\n",
       "      <td>Yes</td>\n",
       "      <td>AWD</td>\n",
       "      <td>Type 2 CCS</td>\n",
       "      <td>Hatchback</td>\n",
       "      <td>5.0</td>\n",
       "      <td>50000</td>\n",
       "      <td>44.0</td>\n",
       "      <td>13.5</td>\n",
       "      <td>19.4</td>\n",
       "    </tr>\n",
       "    <tr>\n",
       "      <th>100</th>\n",
       "      <td>101</td>\n",
       "      <td>Nissan</td>\n",
       "      <td>Ariya e-4ORCE 87kWh Performance</td>\n",
       "      <td>5.1</td>\n",
       "      <td>200</td>\n",
       "      <td>375</td>\n",
       "      <td>232</td>\n",
       "      <td>201</td>\n",
       "      <td>450.0</td>\n",
       "      <td>Yes</td>\n",
       "      <td>AWD</td>\n",
       "      <td>Type 2 CCS</td>\n",
       "      <td>Hatchback</td>\n",
       "      <td>5.0</td>\n",
       "      <td>65000</td>\n",
       "      <td>50.0</td>\n",
       "      <td>13.3</td>\n",
       "      <td>23.2</td>\n",
       "    </tr>\n",
       "    <tr>\n",
       "      <th>101</th>\n",
       "      <td>102</td>\n",
       "      <td>Byton</td>\n",
       "      <td>M-Byte 95 kWh 2WD</td>\n",
       "      <td>7.5</td>\n",
       "      <td>190</td>\n",
       "      <td>400</td>\n",
       "      <td>238</td>\n",
       "      <td>202</td>\n",
       "      <td>480.0</td>\n",
       "      <td>Yes</td>\n",
       "      <td>AWD</td>\n",
       "      <td>Type 2 CCS</td>\n",
       "      <td>SUV</td>\n",
       "      <td>5.0</td>\n",
       "      <td>62000</td>\n",
       "      <td>50.0</td>\n",
       "      <td>12.5</td>\n",
       "      <td>23.8</td>\n",
       "    </tr>\n",
       "  </tbody>\n",
       "</table>\n",
       "<p>102 rows × 18 columns</p>\n",
       "</div>"
      ],
      "text/plain": [
       "     index       Brand                            Model  AccelSec  \\\n",
       "0        0       Tesla    Model 3 Long Range Dual Motor       4.6   \n",
       "1        1  Volkswagen                        ID.3 Pure      10.0   \n",
       "2        2    Polestar                                2       4.7   \n",
       "3        3         BMW                              iX3       6.8   \n",
       "4        4       Honda                                e       9.5   \n",
       "..     ...         ...                              ...       ...   \n",
       "97      98      Nissan                      Ariya 63kWh       7.5   \n",
       "98      99        Audi    e-tron S Sportback 55 quattro       4.5   \n",
       "99     100      Nissan              Ariya e-4ORCE 63kWh       5.9   \n",
       "100    101      Nissan  Ariya e-4ORCE 87kWh Performance       5.1   \n",
       "101    102       Byton                M-Byte 95 kWh 2WD       7.5   \n",
       "\n",
       "     TopSpeed_KmH  Range_Km  Efficiency_WhKm  connector  FastCharge_KmH  \\\n",
       "0             233       450              161        100           940.0   \n",
       "1             160       270              167        101           250.0   \n",
       "2             210       400              181        102           620.0   \n",
       "3             180       360              206        103           560.0   \n",
       "4             145       170              168        104           190.0   \n",
       "..            ...       ...              ...        ...             ...   \n",
       "97            160       330              191        198           440.0   \n",
       "98            210       335              258        199           540.0   \n",
       "99            200       325              194        200           440.0   \n",
       "100           200       375              232        201           450.0   \n",
       "101           190       400              238        202           480.0   \n",
       "\n",
       "    RapidCharge PowerTrain    PlugType  BodyStyle Seats  PriceEuro  \\\n",
       "0           Yes        AWD  Type 2 CCS      Sedan   4.0      55480   \n",
       "1           Yes        RWD  Type 2 CCS  Hatchback   5.0      30000   \n",
       "2           Yes        AWD  Type 2 CCS   Liftback   5.0      56440   \n",
       "3           Yes        RWD  Type 2 CCS        SUV   5.0      68040   \n",
       "4           Yes        RWD  Type 2 CCS  Hatchback   5.0      32997   \n",
       "..          ...        ...         ...        ...   ...        ...   \n",
       "97          Yes        FWD  Type 2 CCS  Hatchback   5.0      45000   \n",
       "98          Yes        AWD  Type 2 CCS        SUV   5.0      96050   \n",
       "99          Yes        AWD  Type 2 CCS  Hatchback   5.0      50000   \n",
       "100         Yes        AWD  Type 2 CCS  Hatchback   5.0      65000   \n",
       "101         Yes        AWD  Type 2 CCS        SUV   5.0      62000   \n",
       "\n",
       "     Full_charge_minute  charging_100km  Efficiency_kWh_100km  \n",
       "0                  29.0             6.4                  16.1  \n",
       "1                  65.0            24.1                  16.7  \n",
       "2                  39.0             9.8                  18.1  \n",
       "3                  39.0            10.8                  20.6  \n",
       "4                  54.0            31.8                  16.8  \n",
       "..                  ...             ...                   ...  \n",
       "97                 45.0            13.6                  19.1  \n",
       "98                 37.0            11.0                  25.8  \n",
       "99                 44.0            13.5                  19.4  \n",
       "100                50.0            13.3                  23.2  \n",
       "101                50.0            12.5                  23.8  \n",
       "\n",
       "[102 rows x 18 columns]"
      ]
     },
     "execution_count": 51,
     "metadata": {},
     "output_type": "execute_result"
    }
   ],
   "source": [
    "df_autos[\"Efficiency_kWh_100km\"] = df_autos.loc[yes_charging,\"Efficiency_WhKm\"]*100/1000\n",
    "df_autos"
   ]
  },
  {
   "cell_type": "code",
   "execution_count": 52,
   "metadata": {},
   "outputs": [
    {
     "data": {
      "text/html": [
       "<div>\n",
       "<style scoped>\n",
       "    .dataframe tbody tr th:only-of-type {\n",
       "        vertical-align: middle;\n",
       "    }\n",
       "\n",
       "    .dataframe tbody tr th {\n",
       "        vertical-align: top;\n",
       "    }\n",
       "\n",
       "    .dataframe thead th {\n",
       "        text-align: right;\n",
       "    }\n",
       "</style>\n",
       "<table border=\"1\" class=\"dataframe\">\n",
       "  <thead>\n",
       "    <tr style=\"text-align: right;\">\n",
       "      <th></th>\n",
       "      <th>Brand</th>\n",
       "      <th>Model</th>\n",
       "      <th>Full_charge_minute</th>\n",
       "      <th>charging_100km</th>\n",
       "      <th>Efficiency_kWh_100km</th>\n",
       "    </tr>\n",
       "  </thead>\n",
       "  <tbody>\n",
       "    <tr>\n",
       "      <th>48</th>\n",
       "      <td>Lightyear</td>\n",
       "      <td>One</td>\n",
       "      <td>64.0</td>\n",
       "      <td>11.1</td>\n",
       "      <td>10.4</td>\n",
       "    </tr>\n",
       "    <tr>\n",
       "      <th>14</th>\n",
       "      <td>Hyundai</td>\n",
       "      <td>IONIQ Electric</td>\n",
       "      <td>71.0</td>\n",
       "      <td>28.4</td>\n",
       "      <td>15.3</td>\n",
       "    </tr>\n",
       "    <tr>\n",
       "      <th>8</th>\n",
       "      <td>Tesla</td>\n",
       "      <td>Model 3 Standard Range Plus</td>\n",
       "      <td>29.0</td>\n",
       "      <td>9.4</td>\n",
       "      <td>15.3</td>\n",
       "    </tr>\n",
       "    <tr>\n",
       "      <th>41</th>\n",
       "      <td>Hyundai</td>\n",
       "      <td>Kona Electric 39 kWh</td>\n",
       "      <td>73.0</td>\n",
       "      <td>28.6</td>\n",
       "      <td>15.4</td>\n",
       "    </tr>\n",
       "    <tr>\n",
       "      <th>74</th>\n",
       "      <td>Sono</td>\n",
       "      <td>Sion</td>\n",
       "      <td>50.0</td>\n",
       "      <td>22.2</td>\n",
       "      <td>15.6</td>\n",
       "    </tr>\n",
       "    <tr>\n",
       "      <th>19</th>\n",
       "      <td>Mini</td>\n",
       "      <td>Cooper SE</td>\n",
       "      <td>43.0</td>\n",
       "      <td>23.2</td>\n",
       "      <td>15.6</td>\n",
       "    </tr>\n",
       "    <tr>\n",
       "      <th>12</th>\n",
       "      <td>Hyundai</td>\n",
       "      <td>Kona Electric 64 kWh</td>\n",
       "      <td>63.0</td>\n",
       "      <td>15.8</td>\n",
       "      <td>16.0</td>\n",
       "    </tr>\n",
       "    <tr>\n",
       "      <th>60</th>\n",
       "      <td>Renault</td>\n",
       "      <td>Zoe ZE40 R110</td>\n",
       "      <td>67.0</td>\n",
       "      <td>26.3</td>\n",
       "      <td>16.1</td>\n",
       "    </tr>\n",
       "    <tr>\n",
       "      <th>28</th>\n",
       "      <td>BMW</td>\n",
       "      <td>i3 120 Ah</td>\n",
       "      <td>52.0</td>\n",
       "      <td>22.1</td>\n",
       "      <td>16.1</td>\n",
       "    </tr>\n",
       "    <tr>\n",
       "      <th>0</th>\n",
       "      <td>Tesla</td>\n",
       "      <td>Model 3 Long Range Dual Motor</td>\n",
       "      <td>29.0</td>\n",
       "      <td>6.4</td>\n",
       "      <td>16.1</td>\n",
       "    </tr>\n",
       "  </tbody>\n",
       "</table>\n",
       "</div>"
      ],
      "text/plain": [
       "        Brand                          Model  Full_charge_minute  \\\n",
       "48  Lightyear                            One                64.0   \n",
       "14    Hyundai                 IONIQ Electric                71.0   \n",
       "8       Tesla    Model 3 Standard Range Plus                29.0   \n",
       "41    Hyundai           Kona Electric 39 kWh                73.0   \n",
       "74       Sono                           Sion                50.0   \n",
       "19       Mini                      Cooper SE                43.0   \n",
       "12    Hyundai           Kona Electric 64 kWh                63.0   \n",
       "60    Renault                  Zoe ZE40 R110                67.0   \n",
       "28        BMW                      i3 120 Ah                52.0   \n",
       "0       Tesla  Model 3 Long Range Dual Motor                29.0   \n",
       "\n",
       "    charging_100km  Efficiency_kWh_100km  \n",
       "48            11.1                  10.4  \n",
       "14            28.4                  15.3  \n",
       "8              9.4                  15.3  \n",
       "41            28.6                  15.4  \n",
       "74            22.2                  15.6  \n",
       "19            23.2                  15.6  \n",
       "12            15.8                  16.0  \n",
       "60            26.3                  16.1  \n",
       "28            22.1                  16.1  \n",
       "0              6.4                  16.1  "
      ]
     },
     "execution_count": 52,
     "metadata": {},
     "output_type": "execute_result"
    }
   ],
   "source": [
    "df_autos[[\"Brand\",\"Model\",\"Full_charge_minute\",\"charging_100km\",\"Efficiency_kWh_100km\"]].sort_values(by=\"Efficiency_kWh_100km\", ascending=True).head(10)"
   ]
  },
  {
   "cell_type": "markdown",
   "metadata": {},
   "source": [
    "#### Feature 4: Kategorisierung nach Price Euro"
   ]
  },
  {
   "cell_type": "code",
   "execution_count": 53,
   "metadata": {},
   "outputs": [],
   "source": [
    "kategorie = [\"billig\", \"normal\",\"teuer\", \"sehr teuer\"]\n",
    "\n",
    "max = df_autos[\"PriceEuro\"].max()\n",
    "percentile_25 = np.percentile(df_autos[\"PriceEuro\"],25)\n",
    "percentile_50 = np.percentile(df_autos[\"PriceEuro\"],50)\n",
    "percentile_75 = np.percentile(df_autos[\"PriceEuro\"],75)\n",
    "\n",
    "x = percentile_75 + 1.5 * (percentile_75-percentile_25)\n",
    "\n",
    "bins = [0, percentile_25, percentile_50, x, max]\n",
    "\n",
    "df_autos[\"PriceCat\"] = pd.cut(df_autos[\"PriceEuro\"], bins=bins, labels=kategorie)"
   ]
  },
  {
   "cell_type": "code",
   "execution_count": 54,
   "metadata": {},
   "outputs": [
    {
     "data": {
      "text/html": [
       "<div>\n",
       "<style scoped>\n",
       "    .dataframe tbody tr th:only-of-type {\n",
       "        vertical-align: middle;\n",
       "    }\n",
       "\n",
       "    .dataframe tbody tr th {\n",
       "        vertical-align: top;\n",
       "    }\n",
       "\n",
       "    .dataframe thead th {\n",
       "        text-align: right;\n",
       "    }\n",
       "</style>\n",
       "<table border=\"1\" class=\"dataframe\">\n",
       "  <thead>\n",
       "    <tr style=\"text-align: right;\">\n",
       "      <th></th>\n",
       "      <th>index</th>\n",
       "      <th>Brand</th>\n",
       "      <th>Model</th>\n",
       "      <th>AccelSec</th>\n",
       "      <th>TopSpeed_KmH</th>\n",
       "      <th>Range_Km</th>\n",
       "      <th>Efficiency_WhKm</th>\n",
       "      <th>connector</th>\n",
       "      <th>FastCharge_KmH</th>\n",
       "      <th>RapidCharge</th>\n",
       "      <th>PowerTrain</th>\n",
       "      <th>PlugType</th>\n",
       "      <th>BodyStyle</th>\n",
       "      <th>Seats</th>\n",
       "      <th>PriceEuro</th>\n",
       "      <th>Full_charge_minute</th>\n",
       "      <th>charging_100km</th>\n",
       "      <th>Efficiency_kWh_100km</th>\n",
       "      <th>PriceCat</th>\n",
       "    </tr>\n",
       "  </thead>\n",
       "  <tbody>\n",
       "    <tr>\n",
       "      <th>0</th>\n",
       "      <td>0</td>\n",
       "      <td>Tesla</td>\n",
       "      <td>Model 3 Long Range Dual Motor</td>\n",
       "      <td>4.6</td>\n",
       "      <td>233</td>\n",
       "      <td>450</td>\n",
       "      <td>161</td>\n",
       "      <td>100</td>\n",
       "      <td>940.0</td>\n",
       "      <td>Yes</td>\n",
       "      <td>AWD</td>\n",
       "      <td>Type 2 CCS</td>\n",
       "      <td>Sedan</td>\n",
       "      <td>4.0</td>\n",
       "      <td>55480</td>\n",
       "      <td>29.0</td>\n",
       "      <td>6.4</td>\n",
       "      <td>16.1</td>\n",
       "      <td>teuer</td>\n",
       "    </tr>\n",
       "    <tr>\n",
       "      <th>1</th>\n",
       "      <td>1</td>\n",
       "      <td>Volkswagen</td>\n",
       "      <td>ID.3 Pure</td>\n",
       "      <td>10.0</td>\n",
       "      <td>160</td>\n",
       "      <td>270</td>\n",
       "      <td>167</td>\n",
       "      <td>101</td>\n",
       "      <td>250.0</td>\n",
       "      <td>Yes</td>\n",
       "      <td>RWD</td>\n",
       "      <td>Type 2 CCS</td>\n",
       "      <td>Hatchback</td>\n",
       "      <td>5.0</td>\n",
       "      <td>30000</td>\n",
       "      <td>65.0</td>\n",
       "      <td>24.1</td>\n",
       "      <td>16.7</td>\n",
       "      <td>billig</td>\n",
       "    </tr>\n",
       "    <tr>\n",
       "      <th>2</th>\n",
       "      <td>2</td>\n",
       "      <td>Polestar</td>\n",
       "      <td>2</td>\n",
       "      <td>4.7</td>\n",
       "      <td>210</td>\n",
       "      <td>400</td>\n",
       "      <td>181</td>\n",
       "      <td>102</td>\n",
       "      <td>620.0</td>\n",
       "      <td>Yes</td>\n",
       "      <td>AWD</td>\n",
       "      <td>Type 2 CCS</td>\n",
       "      <td>Liftback</td>\n",
       "      <td>5.0</td>\n",
       "      <td>56440</td>\n",
       "      <td>39.0</td>\n",
       "      <td>9.8</td>\n",
       "      <td>18.1</td>\n",
       "      <td>teuer</td>\n",
       "    </tr>\n",
       "    <tr>\n",
       "      <th>3</th>\n",
       "      <td>3</td>\n",
       "      <td>BMW</td>\n",
       "      <td>iX3</td>\n",
       "      <td>6.8</td>\n",
       "      <td>180</td>\n",
       "      <td>360</td>\n",
       "      <td>206</td>\n",
       "      <td>103</td>\n",
       "      <td>560.0</td>\n",
       "      <td>Yes</td>\n",
       "      <td>RWD</td>\n",
       "      <td>Type 2 CCS</td>\n",
       "      <td>SUV</td>\n",
       "      <td>5.0</td>\n",
       "      <td>68040</td>\n",
       "      <td>39.0</td>\n",
       "      <td>10.8</td>\n",
       "      <td>20.6</td>\n",
       "      <td>teuer</td>\n",
       "    </tr>\n",
       "    <tr>\n",
       "      <th>4</th>\n",
       "      <td>4</td>\n",
       "      <td>Honda</td>\n",
       "      <td>e</td>\n",
       "      <td>9.5</td>\n",
       "      <td>145</td>\n",
       "      <td>170</td>\n",
       "      <td>168</td>\n",
       "      <td>104</td>\n",
       "      <td>190.0</td>\n",
       "      <td>Yes</td>\n",
       "      <td>RWD</td>\n",
       "      <td>Type 2 CCS</td>\n",
       "      <td>Hatchback</td>\n",
       "      <td>5.0</td>\n",
       "      <td>32997</td>\n",
       "      <td>54.0</td>\n",
       "      <td>31.8</td>\n",
       "      <td>16.8</td>\n",
       "      <td>billig</td>\n",
       "    </tr>\n",
       "  </tbody>\n",
       "</table>\n",
       "</div>"
      ],
      "text/plain": [
       "   index       Brand                          Model  AccelSec  TopSpeed_KmH  \\\n",
       "0      0       Tesla  Model 3 Long Range Dual Motor       4.6           233   \n",
       "1      1  Volkswagen                      ID.3 Pure      10.0           160   \n",
       "2      2    Polestar                              2       4.7           210   \n",
       "3      3         BMW                            iX3       6.8           180   \n",
       "4      4       Honda                              e       9.5           145   \n",
       "\n",
       "   Range_Km  Efficiency_WhKm  connector  FastCharge_KmH RapidCharge  \\\n",
       "0       450              161        100           940.0         Yes   \n",
       "1       270              167        101           250.0         Yes   \n",
       "2       400              181        102           620.0         Yes   \n",
       "3       360              206        103           560.0         Yes   \n",
       "4       170              168        104           190.0         Yes   \n",
       "\n",
       "  PowerTrain    PlugType  BodyStyle Seats  PriceEuro  Full_charge_minute  \\\n",
       "0        AWD  Type 2 CCS      Sedan   4.0      55480                29.0   \n",
       "1        RWD  Type 2 CCS  Hatchback   5.0      30000                65.0   \n",
       "2        AWD  Type 2 CCS   Liftback   5.0      56440                39.0   \n",
       "3        RWD  Type 2 CCS        SUV   5.0      68040                39.0   \n",
       "4        RWD  Type 2 CCS  Hatchback   5.0      32997                54.0   \n",
       "\n",
       "   charging_100km  Efficiency_kWh_100km PriceCat  \n",
       "0             6.4                  16.1    teuer  \n",
       "1            24.1                  16.7   billig  \n",
       "2             9.8                  18.1    teuer  \n",
       "3            10.8                  20.6    teuer  \n",
       "4            31.8                  16.8   billig  "
      ]
     },
     "execution_count": 54,
     "metadata": {},
     "output_type": "execute_result"
    }
   ],
   "source": [
    "df_autos.head(5)"
   ]
  },
  {
   "cell_type": "code",
   "execution_count": 55,
   "metadata": {},
   "outputs": [
    {
     "data": {
      "text/html": [
       "<div>\n",
       "<style scoped>\n",
       "    .dataframe tbody tr th:only-of-type {\n",
       "        vertical-align: middle;\n",
       "    }\n",
       "\n",
       "    .dataframe tbody tr th {\n",
       "        vertical-align: top;\n",
       "    }\n",
       "\n",
       "    .dataframe thead th {\n",
       "        text-align: right;\n",
       "    }\n",
       "</style>\n",
       "<table border=\"1\" class=\"dataframe\">\n",
       "  <thead>\n",
       "    <tr style=\"text-align: right;\">\n",
       "      <th></th>\n",
       "      <th></th>\n",
       "      <th>Efficiency_WhKm</th>\n",
       "      <th>charging_100km</th>\n",
       "    </tr>\n",
       "    <tr>\n",
       "      <th>Brand</th>\n",
       "      <th>PriceCat</th>\n",
       "      <th></th>\n",
       "      <th></th>\n",
       "    </tr>\n",
       "  </thead>\n",
       "  <tbody>\n",
       "    <tr>\n",
       "      <th rowspan=\"4\" valign=\"top\">Aiways</th>\n",
       "      <th>billig</th>\n",
       "      <td>0</td>\n",
       "      <td>0</td>\n",
       "    </tr>\n",
       "    <tr>\n",
       "      <th>normal</th>\n",
       "      <td>1</td>\n",
       "      <td>1</td>\n",
       "    </tr>\n",
       "    <tr>\n",
       "      <th>teuer</th>\n",
       "      <td>0</td>\n",
       "      <td>0</td>\n",
       "    </tr>\n",
       "    <tr>\n",
       "      <th>sehr teuer</th>\n",
       "      <td>0</td>\n",
       "      <td>0</td>\n",
       "    </tr>\n",
       "    <tr>\n",
       "      <th>Audi</th>\n",
       "      <th>billig</th>\n",
       "      <td>0</td>\n",
       "      <td>0</td>\n",
       "    </tr>\n",
       "    <tr>\n",
       "      <th>...</th>\n",
       "      <th>...</th>\n",
       "      <td>...</td>\n",
       "      <td>...</td>\n",
       "    </tr>\n",
       "    <tr>\n",
       "      <th>Volkswagen</th>\n",
       "      <th>sehr teuer</th>\n",
       "      <td>0</td>\n",
       "      <td>0</td>\n",
       "    </tr>\n",
       "    <tr>\n",
       "      <th rowspan=\"4\" valign=\"top\">Volvo</th>\n",
       "      <th>billig</th>\n",
       "      <td>0</td>\n",
       "      <td>0</td>\n",
       "    </tr>\n",
       "    <tr>\n",
       "      <th>normal</th>\n",
       "      <td>0</td>\n",
       "      <td>0</td>\n",
       "    </tr>\n",
       "    <tr>\n",
       "      <th>teuer</th>\n",
       "      <td>1</td>\n",
       "      <td>1</td>\n",
       "    </tr>\n",
       "    <tr>\n",
       "      <th>sehr teuer</th>\n",
       "      <td>0</td>\n",
       "      <td>0</td>\n",
       "    </tr>\n",
       "  </tbody>\n",
       "</table>\n",
       "<p>132 rows × 2 columns</p>\n",
       "</div>"
      ],
      "text/plain": [
       "                       Efficiency_WhKm  charging_100km\n",
       "Brand      PriceCat                                   \n",
       "Aiways     billig                    0               0\n",
       "           normal                    1               1\n",
       "           teuer                     0               0\n",
       "           sehr teuer                0               0\n",
       "Audi       billig                    0               0\n",
       "...                                ...             ...\n",
       "Volkswagen sehr teuer                0               0\n",
       "Volvo      billig                    0               0\n",
       "           normal                    0               0\n",
       "           teuer                     1               1\n",
       "           sehr teuer                0               0\n",
       "\n",
       "[132 rows x 2 columns]"
      ]
     },
     "execution_count": 55,
     "metadata": {},
     "output_type": "execute_result"
    }
   ],
   "source": [
    "df_autos.groupby([\"Brand\",\"PriceCat\"], as_index=True).agg({\"Efficiency_WhKm\":\"size\", \"charging_100km\":\"size\"})"
   ]
  },
  {
   "cell_type": "markdown",
   "metadata": {},
   "source": [
    "### Speicherplatz"
   ]
  },
  {
   "cell_type": "markdown",
   "metadata": {},
   "source": [
    "Datentypen anpassen, um diese in der visualisierung auch geplottet zu bekommen ( bsp. seats ist aktuell string --> int; FastCharge_kmh --> int)"
   ]
  },
  {
   "cell_type": "code",
   "execution_count": 56,
   "metadata": {},
   "outputs": [
    {
     "data": {
      "text/plain": [
       "index                      int64\n",
       "Brand                     object\n",
       "Model                     object\n",
       "AccelSec                 float64\n",
       "TopSpeed_KmH               int64\n",
       "Range_Km                   int64\n",
       "Efficiency_WhKm            int64\n",
       "connector                  int64\n",
       "FastCharge_KmH           float64\n",
       "RapidCharge               object\n",
       "PowerTrain                object\n",
       "PlugType                  object\n",
       "BodyStyle                 object\n",
       "Seats                    float64\n",
       "PriceEuro                  int64\n",
       "Full_charge_minute       float64\n",
       "charging_100km           float64\n",
       "Efficiency_kWh_100km     float64\n",
       "PriceCat                category\n",
       "dtype: object"
      ]
     },
     "execution_count": 56,
     "metadata": {},
     "output_type": "execute_result"
    }
   ],
   "source": [
    "# umwandlung von object in den int\n",
    "\n",
    "# wir können ein object nicht direkt als int umwandeln  -->\n",
    "# erst umwandeln in float und danach vom float zu int\n",
    "# da astype kein inplace hat, müssen wir über die Wertzuweisung den Datentyp ändern\n",
    "\n",
    "df_autos['Seats'] = df_autos['Seats'].astype('float')\n",
    "df_autos.dtypes "
   ]
  },
  {
   "cell_type": "markdown",
   "metadata": {},
   "source": [
    "<span style='color:red'>**Jetzt kommen wir Speicherplatzreduzierung**</span>"
   ]
  },
  {
   "cell_type": "code",
   "execution_count": 57,
   "metadata": {},
   "outputs": [
    {
     "data": {
      "text/plain": [
       "index                      int64\n",
       "Brand                     object\n",
       "Model                     object\n",
       "AccelSec                 float64\n",
       "TopSpeed_KmH               int64\n",
       "Range_Km                   int64\n",
       "Efficiency_WhKm            int64\n",
       "connector                  int64\n",
       "FastCharge_KmH           float64\n",
       "RapidCharge               object\n",
       "PowerTrain                object\n",
       "PlugType                  object\n",
       "BodyStyle                 object\n",
       "Seats                    float64\n",
       "PriceEuro                  int64\n",
       "Full_charge_minute       float64\n",
       "charging_100km           float64\n",
       "Efficiency_kWh_100km     float64\n",
       "PriceCat                category\n",
       "dtype: object"
      ]
     },
     "execution_count": 57,
     "metadata": {},
     "output_type": "execute_result"
    }
   ],
   "source": [
    "df_autos.dtypes "
   ]
  },
  {
   "cell_type": "code",
   "execution_count": 58,
   "metadata": {},
   "outputs": [
    {
     "data": {
      "text/plain": [
       "Index                    128\n",
       "index                    816\n",
       "Brand                   6379\n",
       "Model                   7184\n",
       "AccelSec                 816\n",
       "TopSpeed_KmH             816\n",
       "Range_Km                 816\n",
       "Efficiency_WhKm          816\n",
       "connector                816\n",
       "FastCharge_KmH           816\n",
       "RapidCharge             6115\n",
       "PowerTrain              6120\n",
       "PlugType                6814\n",
       "BodyStyle               6379\n",
       "Seats                    816\n",
       "PriceEuro                816\n",
       "Full_charge_minute       816\n",
       "charging_100km           816\n",
       "Efficiency_kWh_100km     816\n",
       "PriceCat                 529\n",
       "dtype: int64"
      ]
     },
     "execution_count": 58,
     "metadata": {},
     "output_type": "execute_result"
    }
   ],
   "source": [
    "# schauen, ob der richtige Speicherplatz festgelegt ist  - memory_usage() --> Rückgabewert: speicherplatz in bytes\n",
    "\n",
    "df_autos.memory_usage(deep=True) \n",
    "\n",
    "# hier werden Spalten mit dem Datentyp Object näher angeschaut und geprüft wie groß deren \n",
    "# \"system-level memory consumption\" ist."
   ]
  },
  {
   "cell_type": "markdown",
   "metadata": {},
   "source": [
    "<span style='color:red'>Anzahl eindeutiger Werte und Datentyp der Spalten</span>"
   ]
  },
  {
   "cell_type": "code",
   "execution_count": 59,
   "metadata": {},
   "outputs": [
    {
     "data": {
      "text/html": [
       "<div>\n",
       "<style scoped>\n",
       "    .dataframe tbody tr th:only-of-type {\n",
       "        vertical-align: middle;\n",
       "    }\n",
       "\n",
       "    .dataframe tbody tr th {\n",
       "        vertical-align: top;\n",
       "    }\n",
       "\n",
       "    .dataframe thead th {\n",
       "        text-align: right;\n",
       "    }\n",
       "</style>\n",
       "<table border=\"1\" class=\"dataframe\">\n",
       "  <thead>\n",
       "    <tr style=\"text-align: right;\">\n",
       "      <th></th>\n",
       "      <th>dtypes</th>\n",
       "      <th>unique</th>\n",
       "    </tr>\n",
       "  </thead>\n",
       "  <tbody>\n",
       "    <tr>\n",
       "      <th>index</th>\n",
       "      <td>int64</td>\n",
       "      <td>102</td>\n",
       "    </tr>\n",
       "    <tr>\n",
       "      <th>Brand</th>\n",
       "      <td>object</td>\n",
       "      <td>33</td>\n",
       "    </tr>\n",
       "    <tr>\n",
       "      <th>Model</th>\n",
       "      <td>object</td>\n",
       "      <td>102</td>\n",
       "    </tr>\n",
       "    <tr>\n",
       "      <th>AccelSec</th>\n",
       "      <td>float64</td>\n",
       "      <td>55</td>\n",
       "    </tr>\n",
       "    <tr>\n",
       "      <th>TopSpeed_KmH</th>\n",
       "      <td>int64</td>\n",
       "      <td>25</td>\n",
       "    </tr>\n",
       "    <tr>\n",
       "      <th>Range_Km</th>\n",
       "      <td>int64</td>\n",
       "      <td>50</td>\n",
       "    </tr>\n",
       "    <tr>\n",
       "      <th>Efficiency_WhKm</th>\n",
       "      <td>int64</td>\n",
       "      <td>54</td>\n",
       "    </tr>\n",
       "    <tr>\n",
       "      <th>connector</th>\n",
       "      <td>int64</td>\n",
       "      <td>102</td>\n",
       "    </tr>\n",
       "    <tr>\n",
       "      <th>FastCharge_KmH</th>\n",
       "      <td>float64</td>\n",
       "      <td>50</td>\n",
       "    </tr>\n",
       "    <tr>\n",
       "      <th>RapidCharge</th>\n",
       "      <td>object</td>\n",
       "      <td>2</td>\n",
       "    </tr>\n",
       "    <tr>\n",
       "      <th>PowerTrain</th>\n",
       "      <td>object</td>\n",
       "      <td>3</td>\n",
       "    </tr>\n",
       "    <tr>\n",
       "      <th>PlugType</th>\n",
       "      <td>object</td>\n",
       "      <td>4</td>\n",
       "    </tr>\n",
       "    <tr>\n",
       "      <th>BodyStyle</th>\n",
       "      <td>object</td>\n",
       "      <td>9</td>\n",
       "    </tr>\n",
       "    <tr>\n",
       "      <th>Seats</th>\n",
       "      <td>float64</td>\n",
       "      <td>5</td>\n",
       "    </tr>\n",
       "    <tr>\n",
       "      <th>PriceEuro</th>\n",
       "      <td>int64</td>\n",
       "      <td>87</td>\n",
       "    </tr>\n",
       "    <tr>\n",
       "      <th>Full_charge_minute</th>\n",
       "      <td>float64</td>\n",
       "      <td>36</td>\n",
       "    </tr>\n",
       "    <tr>\n",
       "      <th>charging_100km</th>\n",
       "      <td>float64</td>\n",
       "      <td>70</td>\n",
       "    </tr>\n",
       "    <tr>\n",
       "      <th>Efficiency_kWh_100km</th>\n",
       "      <td>float64</td>\n",
       "      <td>54</td>\n",
       "    </tr>\n",
       "    <tr>\n",
       "      <th>PriceCat</th>\n",
       "      <td>category</td>\n",
       "      <td>4</td>\n",
       "    </tr>\n",
       "  </tbody>\n",
       "</table>\n",
       "</div>"
      ],
      "text/plain": [
       "                        dtypes  unique\n",
       "index                    int64     102\n",
       "Brand                   object      33\n",
       "Model                   object     102\n",
       "AccelSec               float64      55\n",
       "TopSpeed_KmH             int64      25\n",
       "Range_Km                 int64      50\n",
       "Efficiency_WhKm          int64      54\n",
       "connector                int64     102\n",
       "FastCharge_KmH         float64      50\n",
       "RapidCharge             object       2\n",
       "PowerTrain              object       3\n",
       "PlugType                object       4\n",
       "BodyStyle               object       9\n",
       "Seats                  float64       5\n",
       "PriceEuro                int64      87\n",
       "Full_charge_minute     float64      36\n",
       "charging_100km         float64      70\n",
       "Efficiency_kWh_100km   float64      54\n",
       "PriceCat              category       4"
      ]
     },
     "execution_count": 59,
     "metadata": {},
     "output_type": "execute_result"
    }
   ],
   "source": [
    "df_types = pd.concat([df_autos.dtypes, df_autos.nunique()], axis=1).rename(columns={0:\"dtypes\",1:\"unique\"})\n",
    "df_types"
   ]
  },
  {
   "cell_type": "markdown",
   "metadata": {},
   "source": [
    "<span style='color:red'>Für \"categorie\" Datentypen geeignete Spalten:\\\n",
    "    \\\n",
    "    RapidCharge:2,   PowerTrain:3,    PlugType:4,   Seats:5,    BodyStyle:9 </span>"
   ]
  },
  {
   "cell_type": "code",
   "execution_count": 60,
   "metadata": {},
   "outputs": [],
   "source": [
    "# Um später die Speicherplatzersparniss errechnen zu können, arbeiten wir im weiteren mit einer Kopie. \n",
    "# Diese Kopie enthält die optimalen Speicherplätze und Datentypen\n",
    "\n",
    "df_opti = df_autos.copy()"
   ]
  },
  {
   "cell_type": "code",
   "execution_count": 61,
   "metadata": {},
   "outputs": [
    {
     "data": {
      "text/plain": [
       "index                      int64\n",
       "Brand                     object\n",
       "Model                     object\n",
       "AccelSec                 float64\n",
       "TopSpeed_KmH               int64\n",
       "Range_Km                   int64\n",
       "Efficiency_WhKm            int64\n",
       "connector                  int64\n",
       "FastCharge_KmH           float64\n",
       "RapidCharge             category\n",
       "PowerTrain              category\n",
       "PlugType                category\n",
       "BodyStyle               category\n",
       "Seats                   category\n",
       "PriceEuro                  int64\n",
       "Full_charge_minute       float64\n",
       "charging_100km           float64\n",
       "Efficiency_kWh_100km     float64\n",
       "PriceCat                category\n",
       "dtype: object"
      ]
     },
     "execution_count": 61,
     "metadata": {},
     "output_type": "execute_result"
    }
   ],
   "source": [
    "# Datentyp von species anpassen\n",
    "\n",
    "df_opti['RapidCharge'] = df_opti['RapidCharge'].astype('category')\n",
    "df_opti['PowerTrain'] = df_opti['PowerTrain'].astype('category')\n",
    "df_opti['PlugType'] = df_opti['PlugType'].astype('category')\n",
    "df_opti['Seats'] = df_opti['Seats'].astype('category')\n",
    "df_opti['BodyStyle'] = df_opti['BodyStyle'].astype('category')\n",
    "\n",
    "\n",
    "df_opti.dtypes "
   ]
  },
  {
   "cell_type": "code",
   "execution_count": 62,
   "metadata": {},
   "outputs": [
    {
     "data": {
      "text/plain": [
       "Index                    128\n",
       "index                    816\n",
       "Brand                   6379\n",
       "Model                   7184\n",
       "AccelSec                 816\n",
       "TopSpeed_KmH             816\n",
       "Range_Km                 816\n",
       "Efficiency_WhKm          816\n",
       "connector                816\n",
       "FastCharge_KmH           816\n",
       "RapidCharge              329\n",
       "PowerTrain               390\n",
       "PlugType                 546\n",
       "BodyStyle                965\n",
       "Seats                    314\n",
       "PriceEuro                816\n",
       "Full_charge_minute       816\n",
       "charging_100km           816\n",
       "Efficiency_kWh_100km     816\n",
       "PriceCat                 529\n",
       "dtype: int64"
      ]
     },
     "execution_count": 62,
     "metadata": {},
     "output_type": "execute_result"
    }
   ],
   "source": [
    "# erster Check zur Optimierung\n",
    "\n",
    "df_opti.memory_usage(deep=True)\n",
    "\n",
    "# wow von 6881 auf 547 (PlugType) ! Eine Reduzierung des Speicherplatzes um 92% (bezogen auf diese eine Spalte)!"
   ]
  },
  {
   "cell_type": "code",
   "execution_count": 63,
   "metadata": {},
   "outputs": [
    {
     "data": {
      "text/plain": [
       "index                      int64\n",
       "Brand                     object\n",
       "Model                     object\n",
       "AccelSec                 float32\n",
       "TopSpeed_KmH               int64\n",
       "Range_Km                   int64\n",
       "Efficiency_WhKm            int64\n",
       "connector                  int64\n",
       "FastCharge_KmH           float32\n",
       "RapidCharge             category\n",
       "PowerTrain              category\n",
       "PlugType                category\n",
       "BodyStyle               category\n",
       "Seats                   category\n",
       "PriceEuro                  int64\n",
       "Full_charge_minute       float32\n",
       "charging_100km           float32\n",
       "Efficiency_kWh_100km     float32\n",
       "PriceCat                category\n",
       "dtype: object"
      ]
     },
     "execution_count": 63,
     "metadata": {},
     "output_type": "execute_result"
    }
   ],
   "source": [
    "# Optimierung des Speicherplatzes bei den floats\n",
    "\n",
    "df_opti.loc[:,[\"AccelSec\",\"FastCharge_KmH\",\"Full_charge_minute\",\"charging_100km\",\"Efficiency_kWh_100km\"]] = df_opti.loc[:,[\"AccelSec\",\"FastCharge_KmH\",\"Full_charge_minute\",\"charging_100km\",\"Efficiency_kWh_100km\"]].apply(pd.to_numeric, downcast=\"float\")\n",
    "df_opti.dtypes"
   ]
  },
  {
   "cell_type": "markdown",
   "metadata": {},
   "source": [
    "<span style='color:red'>**Erkenntnis**:Der Speicherplatz wurde von 64 auf 32 angepasst!</span>"
   ]
  },
  {
   "cell_type": "code",
   "execution_count": 64,
   "metadata": {},
   "outputs": [
    {
     "data": {
      "text/plain": [
       "index                      int64\n",
       "Brand                     object\n",
       "Model                     object\n",
       "AccelSec                 float32\n",
       "TopSpeed_KmH               int16\n",
       "Range_Km                   int16\n",
       "Efficiency_WhKm            int16\n",
       "connector                  int16\n",
       "FastCharge_KmH           float32\n",
       "RapidCharge             category\n",
       "PowerTrain              category\n",
       "PlugType                category\n",
       "BodyStyle               category\n",
       "Seats                       int8\n",
       "PriceEuro                  int32\n",
       "Full_charge_minute       float32\n",
       "charging_100km           float32\n",
       "Efficiency_kWh_100km     float32\n",
       "PriceCat                category\n",
       "dtype: object"
      ]
     },
     "execution_count": 64,
     "metadata": {},
     "output_type": "execute_result"
    }
   ],
   "source": [
    "# Optimierung des Speicherplatzes bei den integer\n",
    "\n",
    "df_opti.loc[:,[\"TopSpeed_KmH\",\"Range_Km\",\"Efficiency_WhKm\",\"connector\",\"PriceEuro\",\"Seats\"]] = df_opti.loc[:,[\"TopSpeed_KmH\",\"Range_Km\",\"Efficiency_WhKm\",\"connector\",\"PriceEuro\",\"Seats\"]].apply(pd.to_numeric, downcast=\"integer\")\n",
    "df_opti.dtypes"
   ]
  },
  {
   "cell_type": "markdown",
   "metadata": {},
   "source": [
    "<span style='color:red'>**Erkenntnis**:Der Speicherplatz wurde von 64 auf 16/32 angepasst!</span>"
   ]
  },
  {
   "cell_type": "code",
   "execution_count": 77,
   "metadata": {},
   "outputs": [
    {
     "name": "stdout",
     "output_type": "stream",
     "text": [
      "Speicherplatzreduzierung : 58.3 %\n"
     ]
    }
   ],
   "source": [
    "# gesamte in-memory-Speicherplatzreduzierung\n",
    "\n",
    "reduction = (df_autos.memory_usage(deep=True).sum()-df_opti.memory_usage(deep=True).sum())/df_autos.memory_usage(deep=True).sum()*100\n",
    "\n",
    "print(f\"Speicherplatzreduzierung : {reduction:0.1f} %\")"
   ]
  },
  {
   "cell_type": "markdown",
   "metadata": {},
   "source": [
    "## VISUALISIERUNG"
   ]
  },
  {
   "cell_type": "markdown",
   "metadata": {},
   "source": [
    "<span style='color:red'>**5% der Autos haben kein RapidCharge.**</span>"
   ]
  },
  {
   "cell_type": "code",
   "execution_count": 82,
   "metadata": {},
   "outputs": [
    {
     "data": {
      "text/html": [
       "<div>\n",
       "<style scoped>\n",
       "    .dataframe tbody tr th:only-of-type {\n",
       "        vertical-align: middle;\n",
       "    }\n",
       "\n",
       "    .dataframe tbody tr th {\n",
       "        vertical-align: top;\n",
       "    }\n",
       "\n",
       "    .dataframe thead th {\n",
       "        text-align: right;\n",
       "    }\n",
       "</style>\n",
       "<table border=\"1\" class=\"dataframe\">\n",
       "  <thead>\n",
       "    <tr style=\"text-align: right;\">\n",
       "      <th></th>\n",
       "      <th>index</th>\n",
       "      <th>Brand</th>\n",
       "      <th>Model</th>\n",
       "      <th>AccelSec</th>\n",
       "      <th>TopSpeed_KmH</th>\n",
       "      <th>Range_Km</th>\n",
       "      <th>Efficiency_WhKm</th>\n",
       "      <th>connector</th>\n",
       "      <th>FastCharge_KmH</th>\n",
       "      <th>RapidCharge</th>\n",
       "      <th>PowerTrain</th>\n",
       "      <th>PlugType</th>\n",
       "      <th>BodyStyle</th>\n",
       "      <th>Seats</th>\n",
       "      <th>PriceEuro</th>\n",
       "      <th>Full_charge_minute</th>\n",
       "      <th>charging_100km</th>\n",
       "      <th>Efficiency_kWh_100km</th>\n",
       "      <th>PriceCat</th>\n",
       "    </tr>\n",
       "  </thead>\n",
       "  <tbody>\n",
       "    <tr>\n",
       "      <th>0</th>\n",
       "      <td>0</td>\n",
       "      <td>Tesla</td>\n",
       "      <td>Model 3 Long Range Dual Motor</td>\n",
       "      <td>4.6</td>\n",
       "      <td>233</td>\n",
       "      <td>450</td>\n",
       "      <td>161</td>\n",
       "      <td>100</td>\n",
       "      <td>940.0</td>\n",
       "      <td>Yes</td>\n",
       "      <td>AWD</td>\n",
       "      <td>Type 2 CCS</td>\n",
       "      <td>Sedan</td>\n",
       "      <td>4</td>\n",
       "      <td>55480</td>\n",
       "      <td>29.0</td>\n",
       "      <td>6.4</td>\n",
       "      <td>16.100000</td>\n",
       "      <td>teuer</td>\n",
       "    </tr>\n",
       "    <tr>\n",
       "      <th>1</th>\n",
       "      <td>1</td>\n",
       "      <td>Volkswagen</td>\n",
       "      <td>ID.3 Pure</td>\n",
       "      <td>10.0</td>\n",
       "      <td>160</td>\n",
       "      <td>270</td>\n",
       "      <td>167</td>\n",
       "      <td>101</td>\n",
       "      <td>250.0</td>\n",
       "      <td>Yes</td>\n",
       "      <td>RWD</td>\n",
       "      <td>Type 2 CCS</td>\n",
       "      <td>Hatchback</td>\n",
       "      <td>5</td>\n",
       "      <td>30000</td>\n",
       "      <td>65.0</td>\n",
       "      <td>24.1</td>\n",
       "      <td>16.700001</td>\n",
       "      <td>billig</td>\n",
       "    </tr>\n",
       "    <tr>\n",
       "      <th>2</th>\n",
       "      <td>2</td>\n",
       "      <td>Polestar</td>\n",
       "      <td>2</td>\n",
       "      <td>4.7</td>\n",
       "      <td>210</td>\n",
       "      <td>400</td>\n",
       "      <td>181</td>\n",
       "      <td>102</td>\n",
       "      <td>620.0</td>\n",
       "      <td>Yes</td>\n",
       "      <td>AWD</td>\n",
       "      <td>Type 2 CCS</td>\n",
       "      <td>Liftback</td>\n",
       "      <td>5</td>\n",
       "      <td>56440</td>\n",
       "      <td>39.0</td>\n",
       "      <td>9.8</td>\n",
       "      <td>18.100000</td>\n",
       "      <td>teuer</td>\n",
       "    </tr>\n",
       "  </tbody>\n",
       "</table>\n",
       "</div>"
      ],
      "text/plain": [
       "   index       Brand                          Model  AccelSec  TopSpeed_KmH  \\\n",
       "0      0       Tesla  Model 3 Long Range Dual Motor       4.6           233   \n",
       "1      1  Volkswagen                      ID.3 Pure      10.0           160   \n",
       "2      2    Polestar                              2       4.7           210   \n",
       "\n",
       "   Range_Km  Efficiency_WhKm  connector  FastCharge_KmH RapidCharge  \\\n",
       "0       450              161        100           940.0         Yes   \n",
       "1       270              167        101           250.0         Yes   \n",
       "2       400              181        102           620.0         Yes   \n",
       "\n",
       "  PowerTrain    PlugType  BodyStyle  Seats  PriceEuro  Full_charge_minute  \\\n",
       "0        AWD  Type 2 CCS      Sedan      4      55480                29.0   \n",
       "1        RWD  Type 2 CCS  Hatchback      5      30000                65.0   \n",
       "2        AWD  Type 2 CCS   Liftback      5      56440                39.0   \n",
       "\n",
       "   charging_100km  Efficiency_kWh_100km PriceCat  \n",
       "0             6.4             16.100000    teuer  \n",
       "1            24.1             16.700001   billig  \n",
       "2             9.8             18.100000    teuer  "
      ]
     },
     "execution_count": 82,
     "metadata": {},
     "output_type": "execute_result"
    }
   ],
   "source": [
    "df_opti.head(3)"
   ]
  },
  {
   "cell_type": "code",
   "execution_count": 99,
   "metadata": {},
   "outputs": [],
   "source": [
    "df_mod = df_opti.groupby([\"Brand\", \"PriceCat\"],as_index=False).agg('size')"
   ]
  },
  {
   "cell_type": "code",
   "execution_count": 100,
   "metadata": {},
   "outputs": [],
   "source": [
    "df_mod1 = df_mod.loc[df_mod[\"size\"]>0]"
   ]
  },
  {
   "cell_type": "code",
   "execution_count": 104,
   "metadata": {},
   "outputs": [
    {
     "data": {
      "application/vnd.plotly.v1+json": {
       "config": {
        "plotlyServerURL": "https://plot.ly"
       },
       "data": [
        {
         "branchvalues": "total",
         "customdata": [
          [
           null
          ],
          [
           "Aiways"
          ],
          [
           null
          ],
          [
           null
          ],
          [
           null
          ],
          [
           null
          ],
          [
           "Audi"
          ],
          [
           "Audi"
          ],
          [
           null
          ],
          [
           "BMW"
          ],
          [
           "BMW"
          ],
          [
           null
          ],
          [
           null
          ],
          [
           null
          ],
          [
           "Byton"
          ],
          [
           null
          ],
          [
           null
          ],
          [
           "CUPRA"
          ],
          [
           null
          ],
          [
           null
          ],
          [
           null
          ],
          [
           "Citroen"
          ],
          [
           null
          ],
          [
           null
          ],
          [
           null
          ],
          [
           "DS"
          ],
          [
           null
          ],
          [
           null
          ],
          [
           null
          ],
          [
           "Fiat"
          ],
          [
           null
          ],
          [
           null
          ],
          [
           null
          ],
          [
           "Ford"
          ],
          [
           null
          ],
          [
           "Honda"
          ],
          [
           null
          ],
          [
           "Honda"
          ],
          [
           null
          ],
          [
           null
          ],
          [
           "Hyundai"
          ],
          [
           "Hyundai"
          ],
          [
           null
          ],
          [
           null
          ],
          [
           null
          ],
          [
           null
          ],
          [
           null
          ],
          [
           "Jaguar"
          ],
          [
           "Kia"
          ],
          [
           "Kia"
          ],
          [
           null
          ],
          [
           null
          ],
          [
           null
          ],
          [
           null
          ],
          [
           "Lexus"
          ],
          [
           null
          ],
          [
           null
          ],
          [
           null
          ],
          [
           null
          ],
          [
           "Lightyear"
          ],
          [
           null
          ],
          [
           null
          ],
          [
           "Lucid"
          ],
          [
           null
          ],
          [
           "MG"
          ],
          [
           null
          ],
          [
           null
          ],
          [
           null
          ],
          [
           "Mazda"
          ],
          [
           null
          ],
          [
           null
          ],
          [
           null
          ],
          [
           null
          ],
          [
           "Mercedes"
          ],
          [
           "Mercedes"
          ],
          [
           null
          ],
          [
           "Mini"
          ],
          [
           null
          ],
          [
           null
          ],
          [
           null
          ],
          [
           "Nissan"
          ],
          [
           "Nissan"
          ],
          [
           "Nissan"
          ],
          [
           null
          ],
          [
           "Opel"
          ],
          [
           "Opel"
          ],
          [
           null
          ],
          [
           null
          ],
          [
           "Peugeot"
          ],
          [
           null
          ],
          [
           null
          ],
          [
           null
          ],
          [
           null
          ],
          [
           null
          ],
          [
           "Polestar"
          ],
          [
           null
          ],
          [
           null
          ],
          [
           null
          ],
          [
           "Porsche"
          ],
          [
           "Porsche"
          ],
          [
           "Renault"
          ],
          [
           "Renault"
          ],
          [
           null
          ],
          [
           null
          ],
          [
           "SEAT"
          ],
          [
           null
          ],
          [
           null
          ],
          [
           null
          ],
          [
           "Skoda"
          ],
          [
           "Skoda"
          ],
          [
           "Skoda"
          ],
          [
           null
          ],
          [
           "Smart"
          ],
          [
           null
          ],
          [
           null
          ],
          [
           null
          ],
          [
           "Sono"
          ],
          [
           null
          ],
          [
           null
          ],
          [
           null
          ],
          [
           null
          ],
          [
           "Tesla"
          ],
          [
           "Tesla"
          ],
          [
           "Tesla"
          ],
          [
           "Volkswagen"
          ],
          [
           "Volkswagen"
          ],
          [
           null
          ],
          [
           null
          ],
          [
           null
          ],
          [
           null
          ],
          [
           "Volvo"
          ],
          [
           null
          ],
          [
           "(?)"
          ],
          [
           "(?)"
          ],
          [
           "(?)"
          ],
          [
           "(?)"
          ]
         ],
         "domain": {
          "x": [
           0,
           1
          ],
          "y": [
           0,
           1
          ]
         },
         "hovertemplate": "labels=%{label}<br>size=%{value}<br>parent=%{parent}<br>id=%{id}<br>Brand=%{customdata[0]}<extra></extra>",
         "ids": [
          "billig/Aiways",
          "normal/Aiways",
          "teuer/Aiways",
          "sehr teuer/Aiways",
          "billig/Audi",
          "normal/Audi",
          "teuer/Audi",
          "sehr teuer/Audi",
          "billig/BMW",
          "normal/BMW",
          "teuer/BMW",
          "billig/Byton",
          "sehr teuer/BMW",
          "normal/Byton",
          "teuer/Byton",
          "sehr teuer/Byton",
          "billig/CUPRA",
          "normal/CUPRA",
          "teuer/CUPRA",
          "sehr teuer/CUPRA",
          "billig/Citroen",
          "normal/Citroen",
          "teuer/Citroen",
          "billig/DS",
          "sehr teuer/Citroen",
          "normal/DS",
          "teuer/DS",
          "sehr teuer/DS",
          "billig/Fiat",
          "normal/Fiat",
          "teuer/Fiat",
          "sehr teuer/Fiat",
          "billig/Ford",
          "teuer/Ford",
          "normal/Ford",
          "billig/Honda",
          "sehr teuer/Ford",
          "normal/Honda",
          "teuer/Honda",
          "sehr teuer/Honda",
          "billig/Hyundai",
          "normal/Hyundai",
          "teuer/Hyundai",
          "billig/Jaguar",
          "sehr teuer/Hyundai",
          "normal/Jaguar",
          "sehr teuer/Jaguar",
          "teuer/Jaguar",
          "billig/Kia",
          "normal/Kia",
          "teuer/Kia",
          "sehr teuer/Kia",
          "billig/Lexus",
          "normal/Lexus",
          "teuer/Lexus",
          "sehr teuer/Lexus",
          "billig/Lightyear",
          "normal/Lightyear",
          "teuer/Lightyear",
          "sehr teuer/Lightyear",
          "billig/Lucid",
          "normal/Lucid",
          "teuer/Lucid",
          "sehr teuer/Lucid",
          "billig/MG",
          "normal/MG",
          "teuer/MG",
          "sehr teuer/MG",
          "billig/Mazda",
          "normal/Mazda",
          "teuer/Mazda",
          "sehr teuer/Mazda",
          "billig/Mercedes",
          "normal/Mercedes",
          "teuer/Mercedes",
          "sehr teuer/Mercedes",
          "billig/Mini",
          "normal/Mini",
          "teuer/Mini",
          "sehr teuer/Mini",
          "billig/Nissan",
          "normal/Nissan",
          "teuer/Nissan",
          "sehr teuer/Nissan",
          "billig/Opel",
          "normal/Opel",
          "teuer/Opel",
          "sehr teuer/Opel",
          "billig/Peugeot",
          "normal/Peugeot",
          "teuer/Peugeot",
          "sehr teuer/Peugeot",
          "billig/Polestar",
          "normal/Polestar",
          "teuer/Polestar",
          "sehr teuer/Polestar",
          "billig/Porsche",
          "normal/Porsche",
          "teuer/Porsche",
          "sehr teuer/Porsche",
          "billig/Renault",
          "normal/Renault",
          "teuer/Renault",
          "sehr teuer/Renault",
          "billig/SEAT",
          "normal/SEAT",
          "teuer/SEAT",
          "sehr teuer/SEAT",
          "billig/Skoda",
          "normal/Skoda",
          "teuer/Skoda",
          "sehr teuer/Skoda",
          "billig/Smart",
          "normal/Smart",
          "teuer/Smart",
          "sehr teuer/Smart",
          "billig/Sono",
          "normal/Sono",
          "teuer/Sono",
          "sehr teuer/Sono",
          "billig/Tesla",
          "normal/Tesla",
          "teuer/Tesla",
          "sehr teuer/Tesla",
          "billig/Volkswagen",
          "normal/Volkswagen",
          "teuer/Volkswagen",
          "sehr teuer/Volkswagen",
          "billig/Volvo",
          "normal/Volvo",
          "teuer/Volvo",
          "sehr teuer/Volvo",
          "billig",
          "normal",
          "teuer",
          "sehr teuer"
         ],
         "labels": [
          "Aiways",
          "Aiways",
          "Aiways",
          "Aiways",
          "Audi",
          "Audi",
          "Audi",
          "Audi",
          "BMW",
          "BMW",
          "BMW",
          "Byton",
          "BMW",
          "Byton",
          "Byton",
          "Byton",
          "CUPRA",
          "CUPRA",
          "CUPRA",
          "CUPRA",
          "Citroen",
          "Citroen",
          "Citroen",
          "DS",
          "Citroen",
          "DS",
          "DS",
          "DS",
          "Fiat",
          "Fiat",
          "Fiat",
          "Fiat",
          "Ford",
          "Ford",
          "Ford",
          "Honda",
          "Ford",
          "Honda",
          "Honda",
          "Honda",
          "Hyundai",
          "Hyundai",
          "Hyundai",
          "Jaguar",
          "Hyundai",
          "Jaguar",
          "Jaguar",
          "Jaguar",
          "Kia",
          "Kia",
          "Kia",
          "Kia",
          "Lexus",
          "Lexus",
          "Lexus",
          "Lexus",
          "Lightyear",
          "Lightyear",
          "Lightyear",
          "Lightyear",
          "Lucid",
          "Lucid",
          "Lucid",
          "Lucid",
          "MG",
          "MG",
          "MG",
          "MG",
          "Mazda",
          "Mazda",
          "Mazda",
          "Mazda",
          "Mercedes",
          "Mercedes",
          "Mercedes",
          "Mercedes",
          "Mini",
          "Mini",
          "Mini",
          "Mini",
          "Nissan",
          "Nissan",
          "Nissan",
          "Nissan",
          "Opel",
          "Opel",
          "Opel",
          "Opel",
          "Peugeot",
          "Peugeot",
          "Peugeot",
          "Peugeot",
          "Polestar",
          "Polestar",
          "Polestar",
          "Polestar",
          "Porsche",
          "Porsche",
          "Porsche",
          "Porsche",
          "Renault",
          "Renault",
          "Renault",
          "Renault",
          "SEAT",
          "SEAT",
          "SEAT",
          "SEAT",
          "Skoda",
          "Skoda",
          "Skoda",
          "Skoda",
          "Smart",
          "Smart",
          "Smart",
          "Smart",
          "Sono",
          "Sono",
          "Sono",
          "Sono",
          "Tesla",
          "Tesla",
          "Tesla",
          "Tesla",
          "Volkswagen",
          "Volkswagen",
          "Volkswagen",
          "Volkswagen",
          "Volvo",
          "Volvo",
          "Volvo",
          "Volvo",
          "billig",
          "normal",
          "teuer",
          "sehr teuer"
         ],
         "marker": {
          "colors": [
           "#636efa",
           "#EF553B",
           "#636efa",
           "#636efa",
           "#636efa",
           "#636efa",
           "#00cc96",
           "#00cc96",
           "#636efa",
           "#ab63fa",
           "#ab63fa",
           "#636efa",
           "#636efa",
           "#636efa",
           "#FFA15A",
           "#636efa",
           "#636efa",
           "#19d3f3",
           "#636efa",
           "#636efa",
           "#636efa",
           "#FF6692",
           "#636efa",
           "#636efa",
           "#636efa",
           "#B6E880",
           "#636efa",
           "#636efa",
           "#636efa",
           "#FF97FF",
           "#636efa",
           "#636efa",
           "#636efa",
           "#FECB52",
           "#636efa",
           "#636efa",
           "#636efa",
           "#636efa",
           "#636efa",
           "#636efa",
           "#EF553B",
           "#EF553B",
           "#636efa",
           "#636efa",
           "#636efa",
           "#636efa",
           "#636efa",
           "#00cc96",
           "#ab63fa",
           "#ab63fa",
           "#636efa",
           "#636efa",
           "#636efa",
           "#636efa",
           "#FFA15A",
           "#636efa",
           "#636efa",
           "#636efa",
           "#636efa",
           "#19d3f3",
           "#636efa",
           "#636efa",
           "#FF6692",
           "#636efa",
           "#B6E880",
           "#636efa",
           "#636efa",
           "#636efa",
           "#FF97FF",
           "#636efa",
           "#636efa",
           "#636efa",
           "#636efa",
           "#FECB52",
           "#FECB52",
           "#636efa",
           "#636efa",
           "#636efa",
           "#636efa",
           "#636efa",
           "#EF553B",
           "#EF553B",
           "#EF553B",
           "#636efa",
           "#00cc96",
           "#00cc96",
           "#636efa",
           "#636efa",
           "#ab63fa",
           "#636efa",
           "#636efa",
           "#636efa",
           "#636efa",
           "#636efa",
           "#FFA15A",
           "#636efa",
           "#636efa",
           "#636efa",
           "#19d3f3",
           "#19d3f3",
           "#FF6692",
           "#FF6692",
           "#636efa",
           "#636efa",
           "#B6E880",
           "#636efa",
           "#636efa",
           "#636efa",
           "#FF97FF",
           "#FF97FF",
           "#FF97FF",
           "#636efa",
           "#FECB52",
           "#636efa",
           "#636efa",
           "#636efa",
           "#636efa",
           "#636efa",
           "#636efa",
           "#636efa",
           "#636efa",
           "#EF553B",
           "#EF553B",
           "#EF553B",
           "#00cc96",
           "#00cc96",
           "#636efa",
           "#636efa",
           "#636efa",
           "#636efa",
           "#ab63fa",
           "#636efa",
           "#FFA15A",
           "#FFA15A",
           "#FFA15A",
           "#FFA15A"
          ]
         },
         "name": "",
         "parents": [
          "billig",
          "normal",
          "teuer",
          "sehr teuer",
          "billig",
          "normal",
          "teuer",
          "sehr teuer",
          "billig",
          "normal",
          "teuer",
          "billig",
          "sehr teuer",
          "normal",
          "teuer",
          "sehr teuer",
          "billig",
          "normal",
          "teuer",
          "sehr teuer",
          "billig",
          "normal",
          "teuer",
          "billig",
          "sehr teuer",
          "normal",
          "teuer",
          "sehr teuer",
          "billig",
          "normal",
          "teuer",
          "sehr teuer",
          "billig",
          "teuer",
          "normal",
          "billig",
          "sehr teuer",
          "normal",
          "teuer",
          "sehr teuer",
          "billig",
          "normal",
          "teuer",
          "billig",
          "sehr teuer",
          "normal",
          "sehr teuer",
          "teuer",
          "billig",
          "normal",
          "teuer",
          "sehr teuer",
          "billig",
          "normal",
          "teuer",
          "sehr teuer",
          "billig",
          "normal",
          "teuer",
          "sehr teuer",
          "billig",
          "normal",
          "teuer",
          "sehr teuer",
          "billig",
          "normal",
          "teuer",
          "sehr teuer",
          "billig",
          "normal",
          "teuer",
          "sehr teuer",
          "billig",
          "normal",
          "teuer",
          "sehr teuer",
          "billig",
          "normal",
          "teuer",
          "sehr teuer",
          "billig",
          "normal",
          "teuer",
          "sehr teuer",
          "billig",
          "normal",
          "teuer",
          "sehr teuer",
          "billig",
          "normal",
          "teuer",
          "sehr teuer",
          "billig",
          "normal",
          "teuer",
          "sehr teuer",
          "billig",
          "normal",
          "teuer",
          "sehr teuer",
          "billig",
          "normal",
          "teuer",
          "sehr teuer",
          "billig",
          "normal",
          "teuer",
          "sehr teuer",
          "billig",
          "normal",
          "teuer",
          "sehr teuer",
          "billig",
          "normal",
          "teuer",
          "sehr teuer",
          "billig",
          "normal",
          "teuer",
          "sehr teuer",
          "billig",
          "normal",
          "teuer",
          "sehr teuer",
          "billig",
          "normal",
          "teuer",
          "sehr teuer",
          "billig",
          "normal",
          "teuer",
          "sehr teuer",
          "",
          "",
          "",
          ""
         ],
         "type": "sunburst",
         "values": [
          0,
          1,
          0,
          0,
          0,
          0,
          8,
          1,
          0,
          2,
          2,
          0,
          0,
          0,
          3,
          0,
          0,
          1,
          0,
          0,
          0,
          1,
          0,
          0,
          0,
          1,
          0,
          0,
          0,
          2,
          0,
          0,
          0,
          4,
          0,
          1,
          0,
          1,
          0,
          0,
          1,
          2,
          0,
          0,
          0,
          0,
          0,
          1,
          2,
          2,
          0,
          0,
          0,
          0,
          1,
          0,
          0,
          0,
          0,
          1,
          0,
          0,
          1,
          0,
          1,
          0,
          0,
          0,
          1,
          0,
          0,
          0,
          0,
          1,
          2,
          0,
          1,
          0,
          0,
          0,
          2,
          2,
          4,
          0,
          1,
          2,
          0,
          0,
          2,
          0,
          0,
          0,
          0,
          0,
          1,
          0,
          0,
          0,
          2,
          3,
          4,
          1,
          0,
          0,
          1,
          0,
          0,
          0,
          1,
          4,
          1,
          0,
          3,
          0,
          0,
          0,
          1,
          0,
          0,
          0,
          0,
          1,
          11,
          1,
          4,
          4,
          0,
          0,
          0,
          0,
          1,
          0,
          26,
          28,
          42,
          6
         ]
        }
       ],
       "layout": {
        "legend": {
         "tracegroupgap": 0
        },
        "margin": {
         "t": 60
        },
        "template": {
         "data": {
          "bar": [
           {
            "error_x": {
             "color": "#2a3f5f"
            },
            "error_y": {
             "color": "#2a3f5f"
            },
            "marker": {
             "line": {
              "color": "#E5ECF6",
              "width": 0.5
             },
             "pattern": {
              "fillmode": "overlay",
              "size": 10,
              "solidity": 0.2
             }
            },
            "type": "bar"
           }
          ],
          "barpolar": [
           {
            "marker": {
             "line": {
              "color": "#E5ECF6",
              "width": 0.5
             },
             "pattern": {
              "fillmode": "overlay",
              "size": 10,
              "solidity": 0.2
             }
            },
            "type": "barpolar"
           }
          ],
          "carpet": [
           {
            "aaxis": {
             "endlinecolor": "#2a3f5f",
             "gridcolor": "white",
             "linecolor": "white",
             "minorgridcolor": "white",
             "startlinecolor": "#2a3f5f"
            },
            "baxis": {
             "endlinecolor": "#2a3f5f",
             "gridcolor": "white",
             "linecolor": "white",
             "minorgridcolor": "white",
             "startlinecolor": "#2a3f5f"
            },
            "type": "carpet"
           }
          ],
          "choropleth": [
           {
            "colorbar": {
             "outlinewidth": 0,
             "ticks": ""
            },
            "type": "choropleth"
           }
          ],
          "contour": [
           {
            "colorbar": {
             "outlinewidth": 0,
             "ticks": ""
            },
            "colorscale": [
             [
              0,
              "#0d0887"
             ],
             [
              0.1111111111111111,
              "#46039f"
             ],
             [
              0.2222222222222222,
              "#7201a8"
             ],
             [
              0.3333333333333333,
              "#9c179e"
             ],
             [
              0.4444444444444444,
              "#bd3786"
             ],
             [
              0.5555555555555556,
              "#d8576b"
             ],
             [
              0.6666666666666666,
              "#ed7953"
             ],
             [
              0.7777777777777778,
              "#fb9f3a"
             ],
             [
              0.8888888888888888,
              "#fdca26"
             ],
             [
              1,
              "#f0f921"
             ]
            ],
            "type": "contour"
           }
          ],
          "contourcarpet": [
           {
            "colorbar": {
             "outlinewidth": 0,
             "ticks": ""
            },
            "type": "contourcarpet"
           }
          ],
          "heatmap": [
           {
            "colorbar": {
             "outlinewidth": 0,
             "ticks": ""
            },
            "colorscale": [
             [
              0,
              "#0d0887"
             ],
             [
              0.1111111111111111,
              "#46039f"
             ],
             [
              0.2222222222222222,
              "#7201a8"
             ],
             [
              0.3333333333333333,
              "#9c179e"
             ],
             [
              0.4444444444444444,
              "#bd3786"
             ],
             [
              0.5555555555555556,
              "#d8576b"
             ],
             [
              0.6666666666666666,
              "#ed7953"
             ],
             [
              0.7777777777777778,
              "#fb9f3a"
             ],
             [
              0.8888888888888888,
              "#fdca26"
             ],
             [
              1,
              "#f0f921"
             ]
            ],
            "type": "heatmap"
           }
          ],
          "heatmapgl": [
           {
            "colorbar": {
             "outlinewidth": 0,
             "ticks": ""
            },
            "colorscale": [
             [
              0,
              "#0d0887"
             ],
             [
              0.1111111111111111,
              "#46039f"
             ],
             [
              0.2222222222222222,
              "#7201a8"
             ],
             [
              0.3333333333333333,
              "#9c179e"
             ],
             [
              0.4444444444444444,
              "#bd3786"
             ],
             [
              0.5555555555555556,
              "#d8576b"
             ],
             [
              0.6666666666666666,
              "#ed7953"
             ],
             [
              0.7777777777777778,
              "#fb9f3a"
             ],
             [
              0.8888888888888888,
              "#fdca26"
             ],
             [
              1,
              "#f0f921"
             ]
            ],
            "type": "heatmapgl"
           }
          ],
          "histogram": [
           {
            "marker": {
             "pattern": {
              "fillmode": "overlay",
              "size": 10,
              "solidity": 0.2
             }
            },
            "type": "histogram"
           }
          ],
          "histogram2d": [
           {
            "colorbar": {
             "outlinewidth": 0,
             "ticks": ""
            },
            "colorscale": [
             [
              0,
              "#0d0887"
             ],
             [
              0.1111111111111111,
              "#46039f"
             ],
             [
              0.2222222222222222,
              "#7201a8"
             ],
             [
              0.3333333333333333,
              "#9c179e"
             ],
             [
              0.4444444444444444,
              "#bd3786"
             ],
             [
              0.5555555555555556,
              "#d8576b"
             ],
             [
              0.6666666666666666,
              "#ed7953"
             ],
             [
              0.7777777777777778,
              "#fb9f3a"
             ],
             [
              0.8888888888888888,
              "#fdca26"
             ],
             [
              1,
              "#f0f921"
             ]
            ],
            "type": "histogram2d"
           }
          ],
          "histogram2dcontour": [
           {
            "colorbar": {
             "outlinewidth": 0,
             "ticks": ""
            },
            "colorscale": [
             [
              0,
              "#0d0887"
             ],
             [
              0.1111111111111111,
              "#46039f"
             ],
             [
              0.2222222222222222,
              "#7201a8"
             ],
             [
              0.3333333333333333,
              "#9c179e"
             ],
             [
              0.4444444444444444,
              "#bd3786"
             ],
             [
              0.5555555555555556,
              "#d8576b"
             ],
             [
              0.6666666666666666,
              "#ed7953"
             ],
             [
              0.7777777777777778,
              "#fb9f3a"
             ],
             [
              0.8888888888888888,
              "#fdca26"
             ],
             [
              1,
              "#f0f921"
             ]
            ],
            "type": "histogram2dcontour"
           }
          ],
          "mesh3d": [
           {
            "colorbar": {
             "outlinewidth": 0,
             "ticks": ""
            },
            "type": "mesh3d"
           }
          ],
          "parcoords": [
           {
            "line": {
             "colorbar": {
              "outlinewidth": 0,
              "ticks": ""
             }
            },
            "type": "parcoords"
           }
          ],
          "pie": [
           {
            "automargin": true,
            "type": "pie"
           }
          ],
          "scatter": [
           {
            "marker": {
             "colorbar": {
              "outlinewidth": 0,
              "ticks": ""
             }
            },
            "type": "scatter"
           }
          ],
          "scatter3d": [
           {
            "line": {
             "colorbar": {
              "outlinewidth": 0,
              "ticks": ""
             }
            },
            "marker": {
             "colorbar": {
              "outlinewidth": 0,
              "ticks": ""
             }
            },
            "type": "scatter3d"
           }
          ],
          "scattercarpet": [
           {
            "marker": {
             "colorbar": {
              "outlinewidth": 0,
              "ticks": ""
             }
            },
            "type": "scattercarpet"
           }
          ],
          "scattergeo": [
           {
            "marker": {
             "colorbar": {
              "outlinewidth": 0,
              "ticks": ""
             }
            },
            "type": "scattergeo"
           }
          ],
          "scattergl": [
           {
            "marker": {
             "colorbar": {
              "outlinewidth": 0,
              "ticks": ""
             }
            },
            "type": "scattergl"
           }
          ],
          "scattermapbox": [
           {
            "marker": {
             "colorbar": {
              "outlinewidth": 0,
              "ticks": ""
             }
            },
            "type": "scattermapbox"
           }
          ],
          "scatterpolar": [
           {
            "marker": {
             "colorbar": {
              "outlinewidth": 0,
              "ticks": ""
             }
            },
            "type": "scatterpolar"
           }
          ],
          "scatterpolargl": [
           {
            "marker": {
             "colorbar": {
              "outlinewidth": 0,
              "ticks": ""
             }
            },
            "type": "scatterpolargl"
           }
          ],
          "scatterternary": [
           {
            "marker": {
             "colorbar": {
              "outlinewidth": 0,
              "ticks": ""
             }
            },
            "type": "scatterternary"
           }
          ],
          "surface": [
           {
            "colorbar": {
             "outlinewidth": 0,
             "ticks": ""
            },
            "colorscale": [
             [
              0,
              "#0d0887"
             ],
             [
              0.1111111111111111,
              "#46039f"
             ],
             [
              0.2222222222222222,
              "#7201a8"
             ],
             [
              0.3333333333333333,
              "#9c179e"
             ],
             [
              0.4444444444444444,
              "#bd3786"
             ],
             [
              0.5555555555555556,
              "#d8576b"
             ],
             [
              0.6666666666666666,
              "#ed7953"
             ],
             [
              0.7777777777777778,
              "#fb9f3a"
             ],
             [
              0.8888888888888888,
              "#fdca26"
             ],
             [
              1,
              "#f0f921"
             ]
            ],
            "type": "surface"
           }
          ],
          "table": [
           {
            "cells": {
             "fill": {
              "color": "#EBF0F8"
             },
             "line": {
              "color": "white"
             }
            },
            "header": {
             "fill": {
              "color": "#C8D4E3"
             },
             "line": {
              "color": "white"
             }
            },
            "type": "table"
           }
          ]
         },
         "layout": {
          "annotationdefaults": {
           "arrowcolor": "#2a3f5f",
           "arrowhead": 0,
           "arrowwidth": 1
          },
          "autotypenumbers": "strict",
          "coloraxis": {
           "colorbar": {
            "outlinewidth": 0,
            "ticks": ""
           }
          },
          "colorscale": {
           "diverging": [
            [
             0,
             "#8e0152"
            ],
            [
             0.1,
             "#c51b7d"
            ],
            [
             0.2,
             "#de77ae"
            ],
            [
             0.3,
             "#f1b6da"
            ],
            [
             0.4,
             "#fde0ef"
            ],
            [
             0.5,
             "#f7f7f7"
            ],
            [
             0.6,
             "#e6f5d0"
            ],
            [
             0.7,
             "#b8e186"
            ],
            [
             0.8,
             "#7fbc41"
            ],
            [
             0.9,
             "#4d9221"
            ],
            [
             1,
             "#276419"
            ]
           ],
           "sequential": [
            [
             0,
             "#0d0887"
            ],
            [
             0.1111111111111111,
             "#46039f"
            ],
            [
             0.2222222222222222,
             "#7201a8"
            ],
            [
             0.3333333333333333,
             "#9c179e"
            ],
            [
             0.4444444444444444,
             "#bd3786"
            ],
            [
             0.5555555555555556,
             "#d8576b"
            ],
            [
             0.6666666666666666,
             "#ed7953"
            ],
            [
             0.7777777777777778,
             "#fb9f3a"
            ],
            [
             0.8888888888888888,
             "#fdca26"
            ],
            [
             1,
             "#f0f921"
            ]
           ],
           "sequentialminus": [
            [
             0,
             "#0d0887"
            ],
            [
             0.1111111111111111,
             "#46039f"
            ],
            [
             0.2222222222222222,
             "#7201a8"
            ],
            [
             0.3333333333333333,
             "#9c179e"
            ],
            [
             0.4444444444444444,
             "#bd3786"
            ],
            [
             0.5555555555555556,
             "#d8576b"
            ],
            [
             0.6666666666666666,
             "#ed7953"
            ],
            [
             0.7777777777777778,
             "#fb9f3a"
            ],
            [
             0.8888888888888888,
             "#fdca26"
            ],
            [
             1,
             "#f0f921"
            ]
           ]
          },
          "colorway": [
           "#636efa",
           "#EF553B",
           "#00cc96",
           "#ab63fa",
           "#FFA15A",
           "#19d3f3",
           "#FF6692",
           "#B6E880",
           "#FF97FF",
           "#FECB52"
          ],
          "font": {
           "color": "#2a3f5f"
          },
          "geo": {
           "bgcolor": "white",
           "lakecolor": "white",
           "landcolor": "#E5ECF6",
           "showlakes": true,
           "showland": true,
           "subunitcolor": "white"
          },
          "hoverlabel": {
           "align": "left"
          },
          "hovermode": "closest",
          "mapbox": {
           "style": "light"
          },
          "paper_bgcolor": "white",
          "plot_bgcolor": "#E5ECF6",
          "polar": {
           "angularaxis": {
            "gridcolor": "white",
            "linecolor": "white",
            "ticks": ""
           },
           "bgcolor": "#E5ECF6",
           "radialaxis": {
            "gridcolor": "white",
            "linecolor": "white",
            "ticks": ""
           }
          },
          "scene": {
           "xaxis": {
            "backgroundcolor": "#E5ECF6",
            "gridcolor": "white",
            "gridwidth": 2,
            "linecolor": "white",
            "showbackground": true,
            "ticks": "",
            "zerolinecolor": "white"
           },
           "yaxis": {
            "backgroundcolor": "#E5ECF6",
            "gridcolor": "white",
            "gridwidth": 2,
            "linecolor": "white",
            "showbackground": true,
            "ticks": "",
            "zerolinecolor": "white"
           },
           "zaxis": {
            "backgroundcolor": "#E5ECF6",
            "gridcolor": "white",
            "gridwidth": 2,
            "linecolor": "white",
            "showbackground": true,
            "ticks": "",
            "zerolinecolor": "white"
           }
          },
          "shapedefaults": {
           "line": {
            "color": "#2a3f5f"
           }
          },
          "ternary": {
           "aaxis": {
            "gridcolor": "white",
            "linecolor": "white",
            "ticks": ""
           },
           "baxis": {
            "gridcolor": "white",
            "linecolor": "white",
            "ticks": ""
           },
           "bgcolor": "#E5ECF6",
           "caxis": {
            "gridcolor": "white",
            "linecolor": "white",
            "ticks": ""
           }
          },
          "title": {
           "x": 0.05
          },
          "xaxis": {
           "automargin": true,
           "gridcolor": "white",
           "linecolor": "white",
           "ticks": "",
           "title": {
            "standoff": 15
           },
           "zerolinecolor": "white",
           "zerolinewidth": 2
          },
          "yaxis": {
           "automargin": true,
           "gridcolor": "white",
           "linecolor": "white",
           "ticks": "",
           "title": {
            "standoff": 15
           },
           "zerolinecolor": "white",
           "zerolinewidth": 2
          }
         }
        }
       }
      },
      "text/html": [
       "<div>                            <div id=\"636ebe54-2d58-4e1b-83fd-4dfe1c442eea\" class=\"plotly-graph-div\" style=\"height:525px; width:100%;\"></div>            <script type=\"text/javascript\">                require([\"plotly\"], function(Plotly) {                    window.PLOTLYENV=window.PLOTLYENV || {};                                    if (document.getElementById(\"636ebe54-2d58-4e1b-83fd-4dfe1c442eea\")) {                    Plotly.newPlot(                        \"636ebe54-2d58-4e1b-83fd-4dfe1c442eea\",                        [{\"branchvalues\":\"total\",\"customdata\":[[null],[\"Aiways\"],[null],[null],[null],[null],[\"Audi\"],[\"Audi\"],[null],[\"BMW\"],[\"BMW\"],[null],[null],[null],[\"Byton\"],[null],[null],[\"CUPRA\"],[null],[null],[null],[\"Citroen\"],[null],[null],[null],[\"DS\"],[null],[null],[null],[\"Fiat\"],[null],[null],[null],[\"Ford\"],[null],[\"Honda\"],[null],[\"Honda\"],[null],[null],[\"Hyundai\"],[\"Hyundai\"],[null],[null],[null],[null],[null],[\"Jaguar\"],[\"Kia\"],[\"Kia\"],[null],[null],[null],[null],[\"Lexus\"],[null],[null],[null],[null],[\"Lightyear\"],[null],[null],[\"Lucid\"],[null],[\"MG\"],[null],[null],[null],[\"Mazda\"],[null],[null],[null],[null],[\"Mercedes\"],[\"Mercedes\"],[null],[\"Mini\"],[null],[null],[null],[\"Nissan\"],[\"Nissan\"],[\"Nissan\"],[null],[\"Opel\"],[\"Opel\"],[null],[null],[\"Peugeot\"],[null],[null],[null],[null],[null],[\"Polestar\"],[null],[null],[null],[\"Porsche\"],[\"Porsche\"],[\"Renault\"],[\"Renault\"],[null],[null],[\"SEAT\"],[null],[null],[null],[\"Skoda\"],[\"Skoda\"],[\"Skoda\"],[null],[\"Smart\"],[null],[null],[null],[\"Sono\"],[null],[null],[null],[null],[\"Tesla\"],[\"Tesla\"],[\"Tesla\"],[\"Volkswagen\"],[\"Volkswagen\"],[null],[null],[null],[null],[\"Volvo\"],[null],[\"(?)\"],[\"(?)\"],[\"(?)\"],[\"(?)\"]],\"domain\":{\"x\":[0.0,1.0],\"y\":[0.0,1.0]},\"hovertemplate\":\"labels=%{label}<br>size=%{value}<br>parent=%{parent}<br>id=%{id}<br>Brand=%{customdata[0]}<extra></extra>\",\"ids\":[\"billig/Aiways\",\"normal/Aiways\",\"teuer/Aiways\",\"sehr teuer/Aiways\",\"billig/Audi\",\"normal/Audi\",\"teuer/Audi\",\"sehr teuer/Audi\",\"billig/BMW\",\"normal/BMW\",\"teuer/BMW\",\"billig/Byton\",\"sehr teuer/BMW\",\"normal/Byton\",\"teuer/Byton\",\"sehr teuer/Byton\",\"billig/CUPRA\",\"normal/CUPRA\",\"teuer/CUPRA\",\"sehr teuer/CUPRA\",\"billig/Citroen\",\"normal/Citroen\",\"teuer/Citroen\",\"billig/DS\",\"sehr teuer/Citroen\",\"normal/DS\",\"teuer/DS\",\"sehr teuer/DS\",\"billig/Fiat\",\"normal/Fiat\",\"teuer/Fiat\",\"sehr teuer/Fiat\",\"billig/Ford\",\"teuer/Ford\",\"normal/Ford\",\"billig/Honda\",\"sehr teuer/Ford\",\"normal/Honda\",\"teuer/Honda\",\"sehr teuer/Honda\",\"billig/Hyundai\",\"normal/Hyundai\",\"teuer/Hyundai\",\"billig/Jaguar\",\"sehr teuer/Hyundai\",\"normal/Jaguar\",\"sehr teuer/Jaguar\",\"teuer/Jaguar\",\"billig/Kia\",\"normal/Kia\",\"teuer/Kia\",\"sehr teuer/Kia\",\"billig/Lexus\",\"normal/Lexus\",\"teuer/Lexus\",\"sehr teuer/Lexus\",\"billig/Lightyear\",\"normal/Lightyear\",\"teuer/Lightyear\",\"sehr teuer/Lightyear\",\"billig/Lucid\",\"normal/Lucid\",\"teuer/Lucid\",\"sehr teuer/Lucid\",\"billig/MG\",\"normal/MG\",\"teuer/MG\",\"sehr teuer/MG\",\"billig/Mazda\",\"normal/Mazda\",\"teuer/Mazda\",\"sehr teuer/Mazda\",\"billig/Mercedes\",\"normal/Mercedes\",\"teuer/Mercedes\",\"sehr teuer/Mercedes\",\"billig/Mini\",\"normal/Mini\",\"teuer/Mini\",\"sehr teuer/Mini\",\"billig/Nissan\",\"normal/Nissan\",\"teuer/Nissan\",\"sehr teuer/Nissan\",\"billig/Opel\",\"normal/Opel\",\"teuer/Opel\",\"sehr teuer/Opel\",\"billig/Peugeot\",\"normal/Peugeot\",\"teuer/Peugeot\",\"sehr teuer/Peugeot\",\"billig/Polestar\",\"normal/Polestar\",\"teuer/Polestar\",\"sehr teuer/Polestar\",\"billig/Porsche\",\"normal/Porsche\",\"teuer/Porsche\",\"sehr teuer/Porsche\",\"billig/Renault\",\"normal/Renault\",\"teuer/Renault\",\"sehr teuer/Renault\",\"billig/SEAT\",\"normal/SEAT\",\"teuer/SEAT\",\"sehr teuer/SEAT\",\"billig/Skoda\",\"normal/Skoda\",\"teuer/Skoda\",\"sehr teuer/Skoda\",\"billig/Smart\",\"normal/Smart\",\"teuer/Smart\",\"sehr teuer/Smart\",\"billig/Sono\",\"normal/Sono\",\"teuer/Sono\",\"sehr teuer/Sono\",\"billig/Tesla\",\"normal/Tesla\",\"teuer/Tesla\",\"sehr teuer/Tesla\",\"billig/Volkswagen\",\"normal/Volkswagen\",\"teuer/Volkswagen\",\"sehr teuer/Volkswagen\",\"billig/Volvo\",\"normal/Volvo\",\"teuer/Volvo\",\"sehr teuer/Volvo\",\"billig\",\"normal\",\"teuer\",\"sehr teuer\"],\"labels\":[\"Aiways\",\"Aiways\",\"Aiways\",\"Aiways\",\"Audi\",\"Audi\",\"Audi\",\"Audi\",\"BMW\",\"BMW\",\"BMW\",\"Byton\",\"BMW\",\"Byton\",\"Byton\",\"Byton\",\"CUPRA\",\"CUPRA\",\"CUPRA\",\"CUPRA\",\"Citroen\",\"Citroen\",\"Citroen\",\"DS\",\"Citroen\",\"DS\",\"DS\",\"DS\",\"Fiat\",\"Fiat\",\"Fiat\",\"Fiat\",\"Ford\",\"Ford\",\"Ford\",\"Honda\",\"Ford\",\"Honda\",\"Honda\",\"Honda\",\"Hyundai\",\"Hyundai\",\"Hyundai\",\"Jaguar\",\"Hyundai\",\"Jaguar\",\"Jaguar\",\"Jaguar\",\"Kia\",\"Kia\",\"Kia\",\"Kia\",\"Lexus\",\"Lexus\",\"Lexus\",\"Lexus\",\"Lightyear\",\"Lightyear\",\"Lightyear\",\"Lightyear\",\"Lucid\",\"Lucid\",\"Lucid\",\"Lucid\",\"MG\",\"MG\",\"MG\",\"MG\",\"Mazda\",\"Mazda\",\"Mazda\",\"Mazda\",\"Mercedes\",\"Mercedes\",\"Mercedes\",\"Mercedes\",\"Mini\",\"Mini\",\"Mini\",\"Mini\",\"Nissan\",\"Nissan\",\"Nissan\",\"Nissan\",\"Opel\",\"Opel\",\"Opel\",\"Opel\",\"Peugeot\",\"Peugeot\",\"Peugeot\",\"Peugeot\",\"Polestar\",\"Polestar\",\"Polestar\",\"Polestar\",\"Porsche\",\"Porsche\",\"Porsche\",\"Porsche\",\"Renault\",\"Renault\",\"Renault\",\"Renault\",\"SEAT\",\"SEAT\",\"SEAT\",\"SEAT\",\"Skoda\",\"Skoda\",\"Skoda\",\"Skoda\",\"Smart\",\"Smart\",\"Smart\",\"Smart\",\"Sono\",\"Sono\",\"Sono\",\"Sono\",\"Tesla\",\"Tesla\",\"Tesla\",\"Tesla\",\"Volkswagen\",\"Volkswagen\",\"Volkswagen\",\"Volkswagen\",\"Volvo\",\"Volvo\",\"Volvo\",\"Volvo\",\"billig\",\"normal\",\"teuer\",\"sehr teuer\"],\"marker\":{\"colors\":[\"#636efa\",\"#EF553B\",\"#636efa\",\"#636efa\",\"#636efa\",\"#636efa\",\"#00cc96\",\"#00cc96\",\"#636efa\",\"#ab63fa\",\"#ab63fa\",\"#636efa\",\"#636efa\",\"#636efa\",\"#FFA15A\",\"#636efa\",\"#636efa\",\"#19d3f3\",\"#636efa\",\"#636efa\",\"#636efa\",\"#FF6692\",\"#636efa\",\"#636efa\",\"#636efa\",\"#B6E880\",\"#636efa\",\"#636efa\",\"#636efa\",\"#FF97FF\",\"#636efa\",\"#636efa\",\"#636efa\",\"#FECB52\",\"#636efa\",\"#636efa\",\"#636efa\",\"#636efa\",\"#636efa\",\"#636efa\",\"#EF553B\",\"#EF553B\",\"#636efa\",\"#636efa\",\"#636efa\",\"#636efa\",\"#636efa\",\"#00cc96\",\"#ab63fa\",\"#ab63fa\",\"#636efa\",\"#636efa\",\"#636efa\",\"#636efa\",\"#FFA15A\",\"#636efa\",\"#636efa\",\"#636efa\",\"#636efa\",\"#19d3f3\",\"#636efa\",\"#636efa\",\"#FF6692\",\"#636efa\",\"#B6E880\",\"#636efa\",\"#636efa\",\"#636efa\",\"#FF97FF\",\"#636efa\",\"#636efa\",\"#636efa\",\"#636efa\",\"#FECB52\",\"#FECB52\",\"#636efa\",\"#636efa\",\"#636efa\",\"#636efa\",\"#636efa\",\"#EF553B\",\"#EF553B\",\"#EF553B\",\"#636efa\",\"#00cc96\",\"#00cc96\",\"#636efa\",\"#636efa\",\"#ab63fa\",\"#636efa\",\"#636efa\",\"#636efa\",\"#636efa\",\"#636efa\",\"#FFA15A\",\"#636efa\",\"#636efa\",\"#636efa\",\"#19d3f3\",\"#19d3f3\",\"#FF6692\",\"#FF6692\",\"#636efa\",\"#636efa\",\"#B6E880\",\"#636efa\",\"#636efa\",\"#636efa\",\"#FF97FF\",\"#FF97FF\",\"#FF97FF\",\"#636efa\",\"#FECB52\",\"#636efa\",\"#636efa\",\"#636efa\",\"#636efa\",\"#636efa\",\"#636efa\",\"#636efa\",\"#636efa\",\"#EF553B\",\"#EF553B\",\"#EF553B\",\"#00cc96\",\"#00cc96\",\"#636efa\",\"#636efa\",\"#636efa\",\"#636efa\",\"#ab63fa\",\"#636efa\",\"#FFA15A\",\"#FFA15A\",\"#FFA15A\",\"#FFA15A\"]},\"name\":\"\",\"parents\":[\"billig\",\"normal\",\"teuer\",\"sehr teuer\",\"billig\",\"normal\",\"teuer\",\"sehr teuer\",\"billig\",\"normal\",\"teuer\",\"billig\",\"sehr teuer\",\"normal\",\"teuer\",\"sehr teuer\",\"billig\",\"normal\",\"teuer\",\"sehr teuer\",\"billig\",\"normal\",\"teuer\",\"billig\",\"sehr teuer\",\"normal\",\"teuer\",\"sehr teuer\",\"billig\",\"normal\",\"teuer\",\"sehr teuer\",\"billig\",\"teuer\",\"normal\",\"billig\",\"sehr teuer\",\"normal\",\"teuer\",\"sehr teuer\",\"billig\",\"normal\",\"teuer\",\"billig\",\"sehr teuer\",\"normal\",\"sehr teuer\",\"teuer\",\"billig\",\"normal\",\"teuer\",\"sehr teuer\",\"billig\",\"normal\",\"teuer\",\"sehr teuer\",\"billig\",\"normal\",\"teuer\",\"sehr teuer\",\"billig\",\"normal\",\"teuer\",\"sehr teuer\",\"billig\",\"normal\",\"teuer\",\"sehr teuer\",\"billig\",\"normal\",\"teuer\",\"sehr teuer\",\"billig\",\"normal\",\"teuer\",\"sehr teuer\",\"billig\",\"normal\",\"teuer\",\"sehr teuer\",\"billig\",\"normal\",\"teuer\",\"sehr teuer\",\"billig\",\"normal\",\"teuer\",\"sehr teuer\",\"billig\",\"normal\",\"teuer\",\"sehr teuer\",\"billig\",\"normal\",\"teuer\",\"sehr teuer\",\"billig\",\"normal\",\"teuer\",\"sehr teuer\",\"billig\",\"normal\",\"teuer\",\"sehr teuer\",\"billig\",\"normal\",\"teuer\",\"sehr teuer\",\"billig\",\"normal\",\"teuer\",\"sehr teuer\",\"billig\",\"normal\",\"teuer\",\"sehr teuer\",\"billig\",\"normal\",\"teuer\",\"sehr teuer\",\"billig\",\"normal\",\"teuer\",\"sehr teuer\",\"billig\",\"normal\",\"teuer\",\"sehr teuer\",\"billig\",\"normal\",\"teuer\",\"sehr teuer\",\"\",\"\",\"\",\"\"],\"values\":[0,1,0,0,0,0,8,1,0,2,2,0,0,0,3,0,0,1,0,0,0,1,0,0,0,1,0,0,0,2,0,0,0,4,0,1,0,1,0,0,1,2,0,0,0,0,0,1,2,2,0,0,0,0,1,0,0,0,0,1,0,0,1,0,1,0,0,0,1,0,0,0,0,1,2,0,1,0,0,0,2,2,4,0,1,2,0,0,2,0,0,0,0,0,1,0,0,0,2,3,4,1,0,0,1,0,0,0,1,4,1,0,3,0,0,0,1,0,0,0,0,1,11,1,4,4,0,0,0,0,1,0,26,28,42,6],\"type\":\"sunburst\"}],                        {\"template\":{\"data\":{\"bar\":[{\"error_x\":{\"color\":\"#2a3f5f\"},\"error_y\":{\"color\":\"#2a3f5f\"},\"marker\":{\"line\":{\"color\":\"#E5ECF6\",\"width\":0.5},\"pattern\":{\"fillmode\":\"overlay\",\"size\":10,\"solidity\":0.2}},\"type\":\"bar\"}],\"barpolar\":[{\"marker\":{\"line\":{\"color\":\"#E5ECF6\",\"width\":0.5},\"pattern\":{\"fillmode\":\"overlay\",\"size\":10,\"solidity\":0.2}},\"type\":\"barpolar\"}],\"carpet\":[{\"aaxis\":{\"endlinecolor\":\"#2a3f5f\",\"gridcolor\":\"white\",\"linecolor\":\"white\",\"minorgridcolor\":\"white\",\"startlinecolor\":\"#2a3f5f\"},\"baxis\":{\"endlinecolor\":\"#2a3f5f\",\"gridcolor\":\"white\",\"linecolor\":\"white\",\"minorgridcolor\":\"white\",\"startlinecolor\":\"#2a3f5f\"},\"type\":\"carpet\"}],\"choropleth\":[{\"colorbar\":{\"outlinewidth\":0,\"ticks\":\"\"},\"type\":\"choropleth\"}],\"contour\":[{\"colorbar\":{\"outlinewidth\":0,\"ticks\":\"\"},\"colorscale\":[[0.0,\"#0d0887\"],[0.1111111111111111,\"#46039f\"],[0.2222222222222222,\"#7201a8\"],[0.3333333333333333,\"#9c179e\"],[0.4444444444444444,\"#bd3786\"],[0.5555555555555556,\"#d8576b\"],[0.6666666666666666,\"#ed7953\"],[0.7777777777777778,\"#fb9f3a\"],[0.8888888888888888,\"#fdca26\"],[1.0,\"#f0f921\"]],\"type\":\"contour\"}],\"contourcarpet\":[{\"colorbar\":{\"outlinewidth\":0,\"ticks\":\"\"},\"type\":\"contourcarpet\"}],\"heatmap\":[{\"colorbar\":{\"outlinewidth\":0,\"ticks\":\"\"},\"colorscale\":[[0.0,\"#0d0887\"],[0.1111111111111111,\"#46039f\"],[0.2222222222222222,\"#7201a8\"],[0.3333333333333333,\"#9c179e\"],[0.4444444444444444,\"#bd3786\"],[0.5555555555555556,\"#d8576b\"],[0.6666666666666666,\"#ed7953\"],[0.7777777777777778,\"#fb9f3a\"],[0.8888888888888888,\"#fdca26\"],[1.0,\"#f0f921\"]],\"type\":\"heatmap\"}],\"heatmapgl\":[{\"colorbar\":{\"outlinewidth\":0,\"ticks\":\"\"},\"colorscale\":[[0.0,\"#0d0887\"],[0.1111111111111111,\"#46039f\"],[0.2222222222222222,\"#7201a8\"],[0.3333333333333333,\"#9c179e\"],[0.4444444444444444,\"#bd3786\"],[0.5555555555555556,\"#d8576b\"],[0.6666666666666666,\"#ed7953\"],[0.7777777777777778,\"#fb9f3a\"],[0.8888888888888888,\"#fdca26\"],[1.0,\"#f0f921\"]],\"type\":\"heatmapgl\"}],\"histogram\":[{\"marker\":{\"pattern\":{\"fillmode\":\"overlay\",\"size\":10,\"solidity\":0.2}},\"type\":\"histogram\"}],\"histogram2d\":[{\"colorbar\":{\"outlinewidth\":0,\"ticks\":\"\"},\"colorscale\":[[0.0,\"#0d0887\"],[0.1111111111111111,\"#46039f\"],[0.2222222222222222,\"#7201a8\"],[0.3333333333333333,\"#9c179e\"],[0.4444444444444444,\"#bd3786\"],[0.5555555555555556,\"#d8576b\"],[0.6666666666666666,\"#ed7953\"],[0.7777777777777778,\"#fb9f3a\"],[0.8888888888888888,\"#fdca26\"],[1.0,\"#f0f921\"]],\"type\":\"histogram2d\"}],\"histogram2dcontour\":[{\"colorbar\":{\"outlinewidth\":0,\"ticks\":\"\"},\"colorscale\":[[0.0,\"#0d0887\"],[0.1111111111111111,\"#46039f\"],[0.2222222222222222,\"#7201a8\"],[0.3333333333333333,\"#9c179e\"],[0.4444444444444444,\"#bd3786\"],[0.5555555555555556,\"#d8576b\"],[0.6666666666666666,\"#ed7953\"],[0.7777777777777778,\"#fb9f3a\"],[0.8888888888888888,\"#fdca26\"],[1.0,\"#f0f921\"]],\"type\":\"histogram2dcontour\"}],\"mesh3d\":[{\"colorbar\":{\"outlinewidth\":0,\"ticks\":\"\"},\"type\":\"mesh3d\"}],\"parcoords\":[{\"line\":{\"colorbar\":{\"outlinewidth\":0,\"ticks\":\"\"}},\"type\":\"parcoords\"}],\"pie\":[{\"automargin\":true,\"type\":\"pie\"}],\"scatter\":[{\"marker\":{\"colorbar\":{\"outlinewidth\":0,\"ticks\":\"\"}},\"type\":\"scatter\"}],\"scatter3d\":[{\"line\":{\"colorbar\":{\"outlinewidth\":0,\"ticks\":\"\"}},\"marker\":{\"colorbar\":{\"outlinewidth\":0,\"ticks\":\"\"}},\"type\":\"scatter3d\"}],\"scattercarpet\":[{\"marker\":{\"colorbar\":{\"outlinewidth\":0,\"ticks\":\"\"}},\"type\":\"scattercarpet\"}],\"scattergeo\":[{\"marker\":{\"colorbar\":{\"outlinewidth\":0,\"ticks\":\"\"}},\"type\":\"scattergeo\"}],\"scattergl\":[{\"marker\":{\"colorbar\":{\"outlinewidth\":0,\"ticks\":\"\"}},\"type\":\"scattergl\"}],\"scattermapbox\":[{\"marker\":{\"colorbar\":{\"outlinewidth\":0,\"ticks\":\"\"}},\"type\":\"scattermapbox\"}],\"scatterpolar\":[{\"marker\":{\"colorbar\":{\"outlinewidth\":0,\"ticks\":\"\"}},\"type\":\"scatterpolar\"}],\"scatterpolargl\":[{\"marker\":{\"colorbar\":{\"outlinewidth\":0,\"ticks\":\"\"}},\"type\":\"scatterpolargl\"}],\"scatterternary\":[{\"marker\":{\"colorbar\":{\"outlinewidth\":0,\"ticks\":\"\"}},\"type\":\"scatterternary\"}],\"surface\":[{\"colorbar\":{\"outlinewidth\":0,\"ticks\":\"\"},\"colorscale\":[[0.0,\"#0d0887\"],[0.1111111111111111,\"#46039f\"],[0.2222222222222222,\"#7201a8\"],[0.3333333333333333,\"#9c179e\"],[0.4444444444444444,\"#bd3786\"],[0.5555555555555556,\"#d8576b\"],[0.6666666666666666,\"#ed7953\"],[0.7777777777777778,\"#fb9f3a\"],[0.8888888888888888,\"#fdca26\"],[1.0,\"#f0f921\"]],\"type\":\"surface\"}],\"table\":[{\"cells\":{\"fill\":{\"color\":\"#EBF0F8\"},\"line\":{\"color\":\"white\"}},\"header\":{\"fill\":{\"color\":\"#C8D4E3\"},\"line\":{\"color\":\"white\"}},\"type\":\"table\"}]},\"layout\":{\"annotationdefaults\":{\"arrowcolor\":\"#2a3f5f\",\"arrowhead\":0,\"arrowwidth\":1},\"autotypenumbers\":\"strict\",\"coloraxis\":{\"colorbar\":{\"outlinewidth\":0,\"ticks\":\"\"}},\"colorscale\":{\"diverging\":[[0,\"#8e0152\"],[0.1,\"#c51b7d\"],[0.2,\"#de77ae\"],[0.3,\"#f1b6da\"],[0.4,\"#fde0ef\"],[0.5,\"#f7f7f7\"],[0.6,\"#e6f5d0\"],[0.7,\"#b8e186\"],[0.8,\"#7fbc41\"],[0.9,\"#4d9221\"],[1,\"#276419\"]],\"sequential\":[[0.0,\"#0d0887\"],[0.1111111111111111,\"#46039f\"],[0.2222222222222222,\"#7201a8\"],[0.3333333333333333,\"#9c179e\"],[0.4444444444444444,\"#bd3786\"],[0.5555555555555556,\"#d8576b\"],[0.6666666666666666,\"#ed7953\"],[0.7777777777777778,\"#fb9f3a\"],[0.8888888888888888,\"#fdca26\"],[1.0,\"#f0f921\"]],\"sequentialminus\":[[0.0,\"#0d0887\"],[0.1111111111111111,\"#46039f\"],[0.2222222222222222,\"#7201a8\"],[0.3333333333333333,\"#9c179e\"],[0.4444444444444444,\"#bd3786\"],[0.5555555555555556,\"#d8576b\"],[0.6666666666666666,\"#ed7953\"],[0.7777777777777778,\"#fb9f3a\"],[0.8888888888888888,\"#fdca26\"],[1.0,\"#f0f921\"]]},\"colorway\":[\"#636efa\",\"#EF553B\",\"#00cc96\",\"#ab63fa\",\"#FFA15A\",\"#19d3f3\",\"#FF6692\",\"#B6E880\",\"#FF97FF\",\"#FECB52\"],\"font\":{\"color\":\"#2a3f5f\"},\"geo\":{\"bgcolor\":\"white\",\"lakecolor\":\"white\",\"landcolor\":\"#E5ECF6\",\"showlakes\":true,\"showland\":true,\"subunitcolor\":\"white\"},\"hoverlabel\":{\"align\":\"left\"},\"hovermode\":\"closest\",\"mapbox\":{\"style\":\"light\"},\"paper_bgcolor\":\"white\",\"plot_bgcolor\":\"#E5ECF6\",\"polar\":{\"angularaxis\":{\"gridcolor\":\"white\",\"linecolor\":\"white\",\"ticks\":\"\"},\"bgcolor\":\"#E5ECF6\",\"radialaxis\":{\"gridcolor\":\"white\",\"linecolor\":\"white\",\"ticks\":\"\"}},\"scene\":{\"xaxis\":{\"backgroundcolor\":\"#E5ECF6\",\"gridcolor\":\"white\",\"gridwidth\":2,\"linecolor\":\"white\",\"showbackground\":true,\"ticks\":\"\",\"zerolinecolor\":\"white\"},\"yaxis\":{\"backgroundcolor\":\"#E5ECF6\",\"gridcolor\":\"white\",\"gridwidth\":2,\"linecolor\":\"white\",\"showbackground\":true,\"ticks\":\"\",\"zerolinecolor\":\"white\"},\"zaxis\":{\"backgroundcolor\":\"#E5ECF6\",\"gridcolor\":\"white\",\"gridwidth\":2,\"linecolor\":\"white\",\"showbackground\":true,\"ticks\":\"\",\"zerolinecolor\":\"white\"}},\"shapedefaults\":{\"line\":{\"color\":\"#2a3f5f\"}},\"ternary\":{\"aaxis\":{\"gridcolor\":\"white\",\"linecolor\":\"white\",\"ticks\":\"\"},\"baxis\":{\"gridcolor\":\"white\",\"linecolor\":\"white\",\"ticks\":\"\"},\"bgcolor\":\"#E5ECF6\",\"caxis\":{\"gridcolor\":\"white\",\"linecolor\":\"white\",\"ticks\":\"\"}},\"title\":{\"x\":0.05},\"xaxis\":{\"automargin\":true,\"gridcolor\":\"white\",\"linecolor\":\"white\",\"ticks\":\"\",\"title\":{\"standoff\":15},\"zerolinecolor\":\"white\",\"zerolinewidth\":2},\"yaxis\":{\"automargin\":true,\"gridcolor\":\"white\",\"linecolor\":\"white\",\"ticks\":\"\",\"title\":{\"standoff\":15},\"zerolinecolor\":\"white\",\"zerolinewidth\":2}}},\"legend\":{\"tracegroupgap\":0},\"margin\":{\"t\":60}},                        {\"responsive\": true}                    ).then(function(){\n",
       "                            \n",
       "var gd = document.getElementById('636ebe54-2d58-4e1b-83fd-4dfe1c442eea');\n",
       "var x = new MutationObserver(function (mutations, observer) {{\n",
       "        var display = window.getComputedStyle(gd).display;\n",
       "        if (!display || display === 'none') {{\n",
       "            console.log([gd, 'removed!']);\n",
       "            Plotly.purge(gd);\n",
       "            observer.disconnect();\n",
       "        }}\n",
       "}});\n",
       "\n",
       "// Listen for the removal of the full notebook cells\n",
       "var notebookContainer = gd.closest('#notebook-container');\n",
       "if (notebookContainer) {{\n",
       "    x.observe(notebookContainer, {childList: true});\n",
       "}}\n",
       "\n",
       "// Listen for the clearing of the current output cell\n",
       "var outputEl = gd.closest('.output');\n",
       "if (outputEl) {{\n",
       "    x.observe(outputEl, {childList: true});\n",
       "}}\n",
       "\n",
       "                        })                };                });            </script>        </div>"
      ]
     },
     "metadata": {},
     "output_type": "display_data"
    }
   ],
   "source": [
    "fig = px.sunburst(df_mod1, path=[\"PriceCat\", \"Brand\"],\n",
    "                 values=\"size\",\n",
    "                 color = \"Brand\")\n",
    "fig.show()"
   ]
  },
  {
   "cell_type": "code",
   "execution_count": 106,
   "metadata": {},
   "outputs": [
    {
     "data": {
      "application/vnd.plotly.v1+json": {
       "config": {
        "plotlyServerURL": "https://plot.ly"
       },
       "data": [
        {
         "branchvalues": "total",
         "customdata": [
          [
           null
          ],
          [
           "billig"
          ],
          [
           "billig"
          ],
          [
           "normal"
          ],
          [
           null
          ],
          [
           null
          ],
          [
           "billig"
          ],
          [
           "normal"
          ],
          [
           "billig"
          ],
          [
           "billig"
          ],
          [
           "billig"
          ],
          [
           "normal"
          ],
          [
           "normal"
          ],
          [
           null
          ],
          [
           "billig"
          ],
          [
           "normal"
          ],
          [
           null
          ],
          [
           null
          ],
          [
           null
          ],
          [
           "billig"
          ],
          [
           null
          ],
          [
           "billig"
          ],
          [
           null
          ],
          [
           "billig"
          ],
          [
           "normal"
          ],
          [
           "billig"
          ],
          [
           null
          ],
          [
           null
          ],
          [
           null
          ],
          [
           null
          ],
          [
           null
          ],
          [
           "billig"
          ],
          [
           "normal"
          ],
          [
           null
          ],
          [
           null
          ],
          [
           null
          ],
          [
           "normal"
          ],
          [
           null
          ],
          [
           null
          ],
          [
           "billig"
          ],
          [
           "billig"
          ],
          [
           null
          ],
          [
           null
          ],
          [
           "billig"
          ],
          [
           null
          ],
          [
           null
          ],
          [
           null
          ],
          [
           "normal"
          ],
          [
           null
          ],
          [
           null
          ],
          [
           null
          ],
          [
           "normal"
          ],
          [
           null
          ],
          [
           "normal"
          ],
          [
           "normal"
          ],
          [
           null
          ],
          [
           null
          ],
          [
           null
          ],
          [
           "normal"
          ],
          [
           null
          ],
          [
           "normal"
          ],
          [
           null
          ],
          [
           null
          ],
          [
           "normal"
          ],
          [
           "normal"
          ],
          [
           null
          ],
          [
           null
          ],
          [
           "teuer"
          ],
          [
           "teuer"
          ],
          [
           "teuer"
          ],
          [
           null
          ],
          [
           null
          ],
          [
           null
          ],
          [
           null
          ],
          [
           "teuer"
          ],
          [
           null
          ],
          [
           null
          ],
          [
           "teuer"
          ],
          [
           null
          ],
          [
           "teuer"
          ],
          [
           null
          ],
          [
           "teuer"
          ],
          [
           null
          ],
          [
           null
          ],
          [
           "teuer"
          ],
          [
           null
          ],
          [
           "teuer"
          ],
          [
           null
          ],
          [
           null
          ],
          [
           "teuer"
          ],
          [
           "teuer"
          ],
          [
           null
          ],
          [
           null
          ],
          [
           "teuer"
          ],
          [
           null
          ],
          [
           null
          ],
          [
           "teuer"
          ],
          [
           null
          ],
          [
           "teuer"
          ],
          [
           null
          ],
          [
           "sehr teuer"
          ],
          [
           null
          ],
          [
           null
          ],
          [
           null
          ],
          [
           null
          ],
          [
           null
          ],
          [
           null
          ],
          [
           null
          ],
          [
           null
          ],
          [
           null
          ],
          [
           null
          ],
          [
           null
          ],
          [
           null
          ],
          [
           "sehr teuer"
          ],
          [
           null
          ],
          [
           null
          ],
          [
           null
          ],
          [
           null
          ],
          [
           null
          ],
          [
           null
          ],
          [
           null
          ],
          [
           null
          ],
          [
           null
          ],
          [
           "sehr teuer"
          ],
          [
           null
          ],
          [
           null
          ],
          [
           null
          ],
          [
           null
          ],
          [
           null
          ],
          [
           "sehr teuer"
          ],
          [
           null
          ],
          [
           null
          ],
          [
           "normal"
          ],
          [
           "(?)"
          ],
          [
           "(?)"
          ],
          [
           "teuer"
          ],
          [
           "normal"
          ],
          [
           "normal"
          ],
          [
           "normal"
          ],
          [
           "normal"
          ],
          [
           "teuer"
          ],
          [
           "(?)"
          ],
          [
           "(?)"
          ],
          [
           "teuer"
          ],
          [
           "(?)"
          ],
          [
           "teuer"
          ],
          [
           "sehr teuer"
          ],
          [
           "teuer"
          ],
          [
           "billig"
          ],
          [
           "billig"
          ],
          [
           "(?)"
          ],
          [
           "billig"
          ],
          [
           "(?)"
          ],
          [
           "(?)"
          ],
          [
           "billig"
          ],
          [
           "teuer"
          ],
          [
           "(?)"
          ],
          [
           "(?)"
          ],
          [
           "billig"
          ],
          [
           "(?)"
          ],
          [
           "billig"
          ],
          [
           "billig"
          ],
          [
           "(?)"
          ],
          [
           "(?)"
          ],
          [
           "teuer"
          ]
         ],
         "domain": {
          "x": [
           0,
           1
          ],
          "y": [
           0,
           1
          ]
         },
         "hovertemplate": "labels=%{label}<br>size=%{value}<br>parent=%{parent}<br>id=%{id}<br>PriceCat=%{customdata[0]}<extra></extra>",
         "ids": [
          "Ford/normal",
          "Peugeot/billig",
          "MG/billig",
          "Honda/normal",
          "Lexus/billig",
          "Jaguar/billig",
          "Renault/billig",
          "BMW/normal",
          "SEAT/billig",
          "Sono/billig",
          "Volkswagen/billig",
          "Citroen/normal",
          "CUPRA/normal",
          "Lexus/normal",
          "Opel/billig",
          "DS/normal",
          "Tesla/billig",
          "Lightyear/normal",
          "Polestar/billig",
          "Skoda/billig",
          "Aiways/billig",
          "Mazda/billig",
          "Lightyear/billig",
          "Kia/billig",
          "Hyundai/normal",
          "Honda/billig",
          "Ford/billig",
          "Fiat/billig",
          "DS/billig",
          "Byton/billig",
          "Byton/normal",
          "Mini/billig",
          "Kia/normal",
          "BMW/billig",
          "Audi/normal",
          "Jaguar/normal",
          "Fiat/normal",
          "Porsche/billig",
          "Volvo/billig",
          "Smart/billig",
          "Nissan/billig",
          "Mercedes/billig",
          "Lucid/billig",
          "Hyundai/billig",
          "Citroen/billig",
          "CUPRA/billig",
          "Audi/billig",
          "Aiways/normal",
          "Lucid/normal",
          "MG/normal",
          "Mazda/normal",
          "Mercedes/normal",
          "Mini/normal",
          "Nissan/normal",
          "Opel/normal",
          "Peugeot/normal",
          "Polestar/normal",
          "Porsche/normal",
          "Renault/normal",
          "SEAT/normal",
          "Skoda/normal",
          "Smart/normal",
          "Sono/normal",
          "Tesla/normal",
          "Volkswagen/normal",
          "Volvo/normal",
          "Aiways/teuer",
          "Audi/teuer",
          "BMW/teuer",
          "Byton/teuer",
          "CUPRA/teuer",
          "Citroen/teuer",
          "DS/teuer",
          "Fiat/teuer",
          "Ford/teuer",
          "Honda/teuer",
          "Hyundai/teuer",
          "Jaguar/teuer",
          "Kia/teuer",
          "Lexus/teuer",
          "Lightyear/teuer",
          "Lucid/teuer",
          "MG/teuer",
          "Mazda/teuer",
          "Mercedes/teuer",
          "Mini/teuer",
          "Nissan/teuer",
          "Opel/teuer",
          "Peugeot/teuer",
          "Polestar/teuer",
          "Porsche/teuer",
          "Renault/teuer",
          "SEAT/teuer",
          "Skoda/teuer",
          "Smart/teuer",
          "Sono/teuer",
          "Tesla/teuer",
          "Volkswagen/teuer",
          "Volvo/teuer",
          "Aiways/sehr teuer",
          "Audi/sehr teuer",
          "BMW/sehr teuer",
          "Byton/sehr teuer",
          "CUPRA/sehr teuer",
          "Citroen/sehr teuer",
          "DS/sehr teuer",
          "Fiat/sehr teuer",
          "Ford/sehr teuer",
          "Honda/sehr teuer",
          "Hyundai/sehr teuer",
          "Jaguar/sehr teuer",
          "Kia/sehr teuer",
          "Lexus/sehr teuer",
          "Lightyear/sehr teuer",
          "Lucid/sehr teuer",
          "MG/sehr teuer",
          "Mazda/sehr teuer",
          "Mercedes/sehr teuer",
          "Mini/sehr teuer",
          "Nissan/sehr teuer",
          "Opel/sehr teuer",
          "Peugeot/sehr teuer",
          "Polestar/sehr teuer",
          "Porsche/sehr teuer",
          "Renault/sehr teuer",
          "SEAT/sehr teuer",
          "Skoda/sehr teuer",
          "Smart/sehr teuer",
          "Sono/sehr teuer",
          "Tesla/sehr teuer",
          "Volkswagen/sehr teuer",
          "Volvo/sehr teuer",
          "Aiways",
          "Audi",
          "BMW",
          "Byton",
          "CUPRA",
          "Citroen",
          "DS",
          "Fiat",
          "Ford",
          "Honda",
          "Hyundai",
          "Jaguar",
          "Kia",
          "Lexus",
          "Lightyear",
          "Lucid",
          "MG",
          "Mazda",
          "Mercedes",
          "Mini",
          "Nissan",
          "Opel",
          "Peugeot",
          "Polestar",
          "Porsche",
          "Renault",
          "SEAT",
          "Skoda",
          "Smart",
          "Sono",
          "Tesla",
          "Volkswagen",
          "Volvo"
         ],
         "labels": [
          "normal",
          "billig",
          "billig",
          "normal",
          "billig",
          "billig",
          "billig",
          "normal",
          "billig",
          "billig",
          "billig",
          "normal",
          "normal",
          "normal",
          "billig",
          "normal",
          "billig",
          "normal",
          "billig",
          "billig",
          "billig",
          "billig",
          "billig",
          "billig",
          "normal",
          "billig",
          "billig",
          "billig",
          "billig",
          "billig",
          "normal",
          "billig",
          "normal",
          "billig",
          "normal",
          "normal",
          "normal",
          "billig",
          "billig",
          "billig",
          "billig",
          "billig",
          "billig",
          "billig",
          "billig",
          "billig",
          "billig",
          "normal",
          "normal",
          "normal",
          "normal",
          "normal",
          "normal",
          "normal",
          "normal",
          "normal",
          "normal",
          "normal",
          "normal",
          "normal",
          "normal",
          "normal",
          "normal",
          "normal",
          "normal",
          "normal",
          "teuer",
          "teuer",
          "teuer",
          "teuer",
          "teuer",
          "teuer",
          "teuer",
          "teuer",
          "teuer",
          "teuer",
          "teuer",
          "teuer",
          "teuer",
          "teuer",
          "teuer",
          "teuer",
          "teuer",
          "teuer",
          "teuer",
          "teuer",
          "teuer",
          "teuer",
          "teuer",
          "teuer",
          "teuer",
          "teuer",
          "teuer",
          "teuer",
          "teuer",
          "teuer",
          "teuer",
          "teuer",
          "teuer",
          "sehr teuer",
          "sehr teuer",
          "sehr teuer",
          "sehr teuer",
          "sehr teuer",
          "sehr teuer",
          "sehr teuer",
          "sehr teuer",
          "sehr teuer",
          "sehr teuer",
          "sehr teuer",
          "sehr teuer",
          "sehr teuer",
          "sehr teuer",
          "sehr teuer",
          "sehr teuer",
          "sehr teuer",
          "sehr teuer",
          "sehr teuer",
          "sehr teuer",
          "sehr teuer",
          "sehr teuer",
          "sehr teuer",
          "sehr teuer",
          "sehr teuer",
          "sehr teuer",
          "sehr teuer",
          "sehr teuer",
          "sehr teuer",
          "sehr teuer",
          "sehr teuer",
          "sehr teuer",
          "sehr teuer",
          "Aiways",
          "Audi",
          "BMW",
          "Byton",
          "CUPRA",
          "Citroen",
          "DS",
          "Fiat",
          "Ford",
          "Honda",
          "Hyundai",
          "Jaguar",
          "Kia",
          "Lexus",
          "Lightyear",
          "Lucid",
          "MG",
          "Mazda",
          "Mercedes",
          "Mini",
          "Nissan",
          "Opel",
          "Peugeot",
          "Polestar",
          "Porsche",
          "Renault",
          "SEAT",
          "Skoda",
          "Smart",
          "Sono",
          "Tesla",
          "Volkswagen",
          "Volvo"
         ],
         "marker": {
          "colors": [
           "#636efa",
           "#EF553B",
           "#EF553B",
           "#00cc96",
           "#636efa",
           "#636efa",
           "#EF553B",
           "#00cc96",
           "#EF553B",
           "#EF553B",
           "#EF553B",
           "#00cc96",
           "#00cc96",
           "#636efa",
           "#EF553B",
           "#00cc96",
           "#636efa",
           "#636efa",
           "#636efa",
           "#EF553B",
           "#636efa",
           "#EF553B",
           "#636efa",
           "#EF553B",
           "#00cc96",
           "#EF553B",
           "#636efa",
           "#636efa",
           "#636efa",
           "#636efa",
           "#636efa",
           "#EF553B",
           "#00cc96",
           "#636efa",
           "#636efa",
           "#636efa",
           "#00cc96",
           "#636efa",
           "#636efa",
           "#EF553B",
           "#EF553B",
           "#636efa",
           "#636efa",
           "#EF553B",
           "#636efa",
           "#636efa",
           "#636efa",
           "#00cc96",
           "#636efa",
           "#636efa",
           "#636efa",
           "#00cc96",
           "#636efa",
           "#00cc96",
           "#00cc96",
           "#636efa",
           "#636efa",
           "#636efa",
           "#00cc96",
           "#636efa",
           "#00cc96",
           "#636efa",
           "#636efa",
           "#00cc96",
           "#00cc96",
           "#636efa",
           "#636efa",
           "#ab63fa",
           "#ab63fa",
           "#ab63fa",
           "#636efa",
           "#636efa",
           "#636efa",
           "#636efa",
           "#ab63fa",
           "#636efa",
           "#636efa",
           "#ab63fa",
           "#636efa",
           "#ab63fa",
           "#636efa",
           "#ab63fa",
           "#636efa",
           "#636efa",
           "#ab63fa",
           "#636efa",
           "#ab63fa",
           "#636efa",
           "#636efa",
           "#ab63fa",
           "#ab63fa",
           "#636efa",
           "#636efa",
           "#ab63fa",
           "#636efa",
           "#636efa",
           "#ab63fa",
           "#636efa",
           "#ab63fa",
           "#636efa",
           "#FFA15A",
           "#636efa",
           "#636efa",
           "#636efa",
           "#636efa",
           "#636efa",
           "#636efa",
           "#636efa",
           "#636efa",
           "#636efa",
           "#636efa",
           "#636efa",
           "#636efa",
           "#FFA15A",
           "#636efa",
           "#636efa",
           "#636efa",
           "#636efa",
           "#636efa",
           "#636efa",
           "#636efa",
           "#636efa",
           "#636efa",
           "#FFA15A",
           "#636efa",
           "#636efa",
           "#636efa",
           "#636efa",
           "#636efa",
           "#FFA15A",
           "#636efa",
           "#636efa",
           "#00cc96",
           "#19d3f3",
           "#19d3f3",
           "#ab63fa",
           "#00cc96",
           "#00cc96",
           "#00cc96",
           "#00cc96",
           "#ab63fa",
           "#19d3f3",
           "#19d3f3",
           "#ab63fa",
           "#19d3f3",
           "#ab63fa",
           "#FFA15A",
           "#ab63fa",
           "#EF553B",
           "#EF553B",
           "#19d3f3",
           "#EF553B",
           "#19d3f3",
           "#19d3f3",
           "#EF553B",
           "#ab63fa",
           "#19d3f3",
           "#19d3f3",
           "#EF553B",
           "#19d3f3",
           "#EF553B",
           "#EF553B",
           "#19d3f3",
           "#19d3f3",
           "#ab63fa"
          ]
         },
         "name": "",
         "parents": [
          "Ford",
          "Peugeot",
          "MG",
          "Honda",
          "Lexus",
          "Jaguar",
          "Renault",
          "BMW",
          "SEAT",
          "Sono",
          "Volkswagen",
          "Citroen",
          "CUPRA",
          "Lexus",
          "Opel",
          "DS",
          "Tesla",
          "Lightyear",
          "Polestar",
          "Skoda",
          "Aiways",
          "Mazda",
          "Lightyear",
          "Kia",
          "Hyundai",
          "Honda",
          "Ford",
          "Fiat",
          "DS",
          "Byton",
          "Byton",
          "Mini",
          "Kia",
          "BMW",
          "Audi",
          "Jaguar",
          "Fiat",
          "Porsche",
          "Volvo",
          "Smart",
          "Nissan",
          "Mercedes",
          "Lucid",
          "Hyundai",
          "Citroen",
          "CUPRA",
          "Audi",
          "Aiways",
          "Lucid",
          "MG",
          "Mazda",
          "Mercedes",
          "Mini",
          "Nissan",
          "Opel",
          "Peugeot",
          "Polestar",
          "Porsche",
          "Renault",
          "SEAT",
          "Skoda",
          "Smart",
          "Sono",
          "Tesla",
          "Volkswagen",
          "Volvo",
          "Aiways",
          "Audi",
          "BMW",
          "Byton",
          "CUPRA",
          "Citroen",
          "DS",
          "Fiat",
          "Ford",
          "Honda",
          "Hyundai",
          "Jaguar",
          "Kia",
          "Lexus",
          "Lightyear",
          "Lucid",
          "MG",
          "Mazda",
          "Mercedes",
          "Mini",
          "Nissan",
          "Opel",
          "Peugeot",
          "Polestar",
          "Porsche",
          "Renault",
          "SEAT",
          "Skoda",
          "Smart",
          "Sono",
          "Tesla",
          "Volkswagen",
          "Volvo",
          "Aiways",
          "Audi",
          "BMW",
          "Byton",
          "CUPRA",
          "Citroen",
          "DS",
          "Fiat",
          "Ford",
          "Honda",
          "Hyundai",
          "Jaguar",
          "Kia",
          "Lexus",
          "Lightyear",
          "Lucid",
          "MG",
          "Mazda",
          "Mercedes",
          "Mini",
          "Nissan",
          "Opel",
          "Peugeot",
          "Polestar",
          "Porsche",
          "Renault",
          "SEAT",
          "Skoda",
          "Smart",
          "Sono",
          "Tesla",
          "Volkswagen",
          "Volvo",
          "",
          "",
          "",
          "",
          "",
          "",
          "",
          "",
          "",
          "",
          "",
          "",
          "",
          "",
          "",
          "",
          "",
          "",
          "",
          "",
          "",
          "",
          "",
          "",
          "",
          "",
          "",
          "",
          "",
          "",
          "",
          "",
          ""
         ],
         "type": "sunburst",
         "values": [
          0,
          2,
          1,
          1,
          0,
          0,
          4,
          2,
          1,
          1,
          4,
          1,
          1,
          0,
          1,
          1,
          0,
          0,
          0,
          1,
          0,
          1,
          0,
          2,
          2,
          1,
          0,
          0,
          0,
          0,
          0,
          1,
          2,
          0,
          0,
          0,
          2,
          0,
          0,
          3,
          2,
          0,
          0,
          1,
          0,
          0,
          0,
          1,
          0,
          0,
          0,
          1,
          0,
          2,
          2,
          0,
          0,
          0,
          1,
          0,
          4,
          0,
          0,
          1,
          4,
          0,
          0,
          8,
          2,
          3,
          0,
          0,
          0,
          0,
          4,
          0,
          0,
          1,
          0,
          1,
          0,
          1,
          0,
          0,
          2,
          0,
          4,
          0,
          0,
          1,
          2,
          0,
          0,
          1,
          0,
          0,
          11,
          0,
          1,
          0,
          1,
          0,
          0,
          0,
          0,
          0,
          0,
          0,
          0,
          0,
          0,
          0,
          0,
          1,
          0,
          0,
          0,
          0,
          0,
          0,
          0,
          0,
          0,
          3,
          0,
          0,
          0,
          0,
          0,
          1,
          0,
          0,
          1,
          9,
          4,
          3,
          1,
          1,
          1,
          2,
          4,
          2,
          3,
          1,
          4,
          1,
          1,
          1,
          1,
          1,
          3,
          1,
          8,
          3,
          2,
          1,
          5,
          5,
          1,
          6,
          3,
          1,
          13,
          8,
          1
         ]
        }
       ],
       "layout": {
        "legend": {
         "tracegroupgap": 0
        },
        "margin": {
         "t": 60
        },
        "template": {
         "data": {
          "bar": [
           {
            "error_x": {
             "color": "#2a3f5f"
            },
            "error_y": {
             "color": "#2a3f5f"
            },
            "marker": {
             "line": {
              "color": "#E5ECF6",
              "width": 0.5
             },
             "pattern": {
              "fillmode": "overlay",
              "size": 10,
              "solidity": 0.2
             }
            },
            "type": "bar"
           }
          ],
          "barpolar": [
           {
            "marker": {
             "line": {
              "color": "#E5ECF6",
              "width": 0.5
             },
             "pattern": {
              "fillmode": "overlay",
              "size": 10,
              "solidity": 0.2
             }
            },
            "type": "barpolar"
           }
          ],
          "carpet": [
           {
            "aaxis": {
             "endlinecolor": "#2a3f5f",
             "gridcolor": "white",
             "linecolor": "white",
             "minorgridcolor": "white",
             "startlinecolor": "#2a3f5f"
            },
            "baxis": {
             "endlinecolor": "#2a3f5f",
             "gridcolor": "white",
             "linecolor": "white",
             "minorgridcolor": "white",
             "startlinecolor": "#2a3f5f"
            },
            "type": "carpet"
           }
          ],
          "choropleth": [
           {
            "colorbar": {
             "outlinewidth": 0,
             "ticks": ""
            },
            "type": "choropleth"
           }
          ],
          "contour": [
           {
            "colorbar": {
             "outlinewidth": 0,
             "ticks": ""
            },
            "colorscale": [
             [
              0,
              "#0d0887"
             ],
             [
              0.1111111111111111,
              "#46039f"
             ],
             [
              0.2222222222222222,
              "#7201a8"
             ],
             [
              0.3333333333333333,
              "#9c179e"
             ],
             [
              0.4444444444444444,
              "#bd3786"
             ],
             [
              0.5555555555555556,
              "#d8576b"
             ],
             [
              0.6666666666666666,
              "#ed7953"
             ],
             [
              0.7777777777777778,
              "#fb9f3a"
             ],
             [
              0.8888888888888888,
              "#fdca26"
             ],
             [
              1,
              "#f0f921"
             ]
            ],
            "type": "contour"
           }
          ],
          "contourcarpet": [
           {
            "colorbar": {
             "outlinewidth": 0,
             "ticks": ""
            },
            "type": "contourcarpet"
           }
          ],
          "heatmap": [
           {
            "colorbar": {
             "outlinewidth": 0,
             "ticks": ""
            },
            "colorscale": [
             [
              0,
              "#0d0887"
             ],
             [
              0.1111111111111111,
              "#46039f"
             ],
             [
              0.2222222222222222,
              "#7201a8"
             ],
             [
              0.3333333333333333,
              "#9c179e"
             ],
             [
              0.4444444444444444,
              "#bd3786"
             ],
             [
              0.5555555555555556,
              "#d8576b"
             ],
             [
              0.6666666666666666,
              "#ed7953"
             ],
             [
              0.7777777777777778,
              "#fb9f3a"
             ],
             [
              0.8888888888888888,
              "#fdca26"
             ],
             [
              1,
              "#f0f921"
             ]
            ],
            "type": "heatmap"
           }
          ],
          "heatmapgl": [
           {
            "colorbar": {
             "outlinewidth": 0,
             "ticks": ""
            },
            "colorscale": [
             [
              0,
              "#0d0887"
             ],
             [
              0.1111111111111111,
              "#46039f"
             ],
             [
              0.2222222222222222,
              "#7201a8"
             ],
             [
              0.3333333333333333,
              "#9c179e"
             ],
             [
              0.4444444444444444,
              "#bd3786"
             ],
             [
              0.5555555555555556,
              "#d8576b"
             ],
             [
              0.6666666666666666,
              "#ed7953"
             ],
             [
              0.7777777777777778,
              "#fb9f3a"
             ],
             [
              0.8888888888888888,
              "#fdca26"
             ],
             [
              1,
              "#f0f921"
             ]
            ],
            "type": "heatmapgl"
           }
          ],
          "histogram": [
           {
            "marker": {
             "pattern": {
              "fillmode": "overlay",
              "size": 10,
              "solidity": 0.2
             }
            },
            "type": "histogram"
           }
          ],
          "histogram2d": [
           {
            "colorbar": {
             "outlinewidth": 0,
             "ticks": ""
            },
            "colorscale": [
             [
              0,
              "#0d0887"
             ],
             [
              0.1111111111111111,
              "#46039f"
             ],
             [
              0.2222222222222222,
              "#7201a8"
             ],
             [
              0.3333333333333333,
              "#9c179e"
             ],
             [
              0.4444444444444444,
              "#bd3786"
             ],
             [
              0.5555555555555556,
              "#d8576b"
             ],
             [
              0.6666666666666666,
              "#ed7953"
             ],
             [
              0.7777777777777778,
              "#fb9f3a"
             ],
             [
              0.8888888888888888,
              "#fdca26"
             ],
             [
              1,
              "#f0f921"
             ]
            ],
            "type": "histogram2d"
           }
          ],
          "histogram2dcontour": [
           {
            "colorbar": {
             "outlinewidth": 0,
             "ticks": ""
            },
            "colorscale": [
             [
              0,
              "#0d0887"
             ],
             [
              0.1111111111111111,
              "#46039f"
             ],
             [
              0.2222222222222222,
              "#7201a8"
             ],
             [
              0.3333333333333333,
              "#9c179e"
             ],
             [
              0.4444444444444444,
              "#bd3786"
             ],
             [
              0.5555555555555556,
              "#d8576b"
             ],
             [
              0.6666666666666666,
              "#ed7953"
             ],
             [
              0.7777777777777778,
              "#fb9f3a"
             ],
             [
              0.8888888888888888,
              "#fdca26"
             ],
             [
              1,
              "#f0f921"
             ]
            ],
            "type": "histogram2dcontour"
           }
          ],
          "mesh3d": [
           {
            "colorbar": {
             "outlinewidth": 0,
             "ticks": ""
            },
            "type": "mesh3d"
           }
          ],
          "parcoords": [
           {
            "line": {
             "colorbar": {
              "outlinewidth": 0,
              "ticks": ""
             }
            },
            "type": "parcoords"
           }
          ],
          "pie": [
           {
            "automargin": true,
            "type": "pie"
           }
          ],
          "scatter": [
           {
            "marker": {
             "colorbar": {
              "outlinewidth": 0,
              "ticks": ""
             }
            },
            "type": "scatter"
           }
          ],
          "scatter3d": [
           {
            "line": {
             "colorbar": {
              "outlinewidth": 0,
              "ticks": ""
             }
            },
            "marker": {
             "colorbar": {
              "outlinewidth": 0,
              "ticks": ""
             }
            },
            "type": "scatter3d"
           }
          ],
          "scattercarpet": [
           {
            "marker": {
             "colorbar": {
              "outlinewidth": 0,
              "ticks": ""
             }
            },
            "type": "scattercarpet"
           }
          ],
          "scattergeo": [
           {
            "marker": {
             "colorbar": {
              "outlinewidth": 0,
              "ticks": ""
             }
            },
            "type": "scattergeo"
           }
          ],
          "scattergl": [
           {
            "marker": {
             "colorbar": {
              "outlinewidth": 0,
              "ticks": ""
             }
            },
            "type": "scattergl"
           }
          ],
          "scattermapbox": [
           {
            "marker": {
             "colorbar": {
              "outlinewidth": 0,
              "ticks": ""
             }
            },
            "type": "scattermapbox"
           }
          ],
          "scatterpolar": [
           {
            "marker": {
             "colorbar": {
              "outlinewidth": 0,
              "ticks": ""
             }
            },
            "type": "scatterpolar"
           }
          ],
          "scatterpolargl": [
           {
            "marker": {
             "colorbar": {
              "outlinewidth": 0,
              "ticks": ""
             }
            },
            "type": "scatterpolargl"
           }
          ],
          "scatterternary": [
           {
            "marker": {
             "colorbar": {
              "outlinewidth": 0,
              "ticks": ""
             }
            },
            "type": "scatterternary"
           }
          ],
          "surface": [
           {
            "colorbar": {
             "outlinewidth": 0,
             "ticks": ""
            },
            "colorscale": [
             [
              0,
              "#0d0887"
             ],
             [
              0.1111111111111111,
              "#46039f"
             ],
             [
              0.2222222222222222,
              "#7201a8"
             ],
             [
              0.3333333333333333,
              "#9c179e"
             ],
             [
              0.4444444444444444,
              "#bd3786"
             ],
             [
              0.5555555555555556,
              "#d8576b"
             ],
             [
              0.6666666666666666,
              "#ed7953"
             ],
             [
              0.7777777777777778,
              "#fb9f3a"
             ],
             [
              0.8888888888888888,
              "#fdca26"
             ],
             [
              1,
              "#f0f921"
             ]
            ],
            "type": "surface"
           }
          ],
          "table": [
           {
            "cells": {
             "fill": {
              "color": "#EBF0F8"
             },
             "line": {
              "color": "white"
             }
            },
            "header": {
             "fill": {
              "color": "#C8D4E3"
             },
             "line": {
              "color": "white"
             }
            },
            "type": "table"
           }
          ]
         },
         "layout": {
          "annotationdefaults": {
           "arrowcolor": "#2a3f5f",
           "arrowhead": 0,
           "arrowwidth": 1
          },
          "autotypenumbers": "strict",
          "coloraxis": {
           "colorbar": {
            "outlinewidth": 0,
            "ticks": ""
           }
          },
          "colorscale": {
           "diverging": [
            [
             0,
             "#8e0152"
            ],
            [
             0.1,
             "#c51b7d"
            ],
            [
             0.2,
             "#de77ae"
            ],
            [
             0.3,
             "#f1b6da"
            ],
            [
             0.4,
             "#fde0ef"
            ],
            [
             0.5,
             "#f7f7f7"
            ],
            [
             0.6,
             "#e6f5d0"
            ],
            [
             0.7,
             "#b8e186"
            ],
            [
             0.8,
             "#7fbc41"
            ],
            [
             0.9,
             "#4d9221"
            ],
            [
             1,
             "#276419"
            ]
           ],
           "sequential": [
            [
             0,
             "#0d0887"
            ],
            [
             0.1111111111111111,
             "#46039f"
            ],
            [
             0.2222222222222222,
             "#7201a8"
            ],
            [
             0.3333333333333333,
             "#9c179e"
            ],
            [
             0.4444444444444444,
             "#bd3786"
            ],
            [
             0.5555555555555556,
             "#d8576b"
            ],
            [
             0.6666666666666666,
             "#ed7953"
            ],
            [
             0.7777777777777778,
             "#fb9f3a"
            ],
            [
             0.8888888888888888,
             "#fdca26"
            ],
            [
             1,
             "#f0f921"
            ]
           ],
           "sequentialminus": [
            [
             0,
             "#0d0887"
            ],
            [
             0.1111111111111111,
             "#46039f"
            ],
            [
             0.2222222222222222,
             "#7201a8"
            ],
            [
             0.3333333333333333,
             "#9c179e"
            ],
            [
             0.4444444444444444,
             "#bd3786"
            ],
            [
             0.5555555555555556,
             "#d8576b"
            ],
            [
             0.6666666666666666,
             "#ed7953"
            ],
            [
             0.7777777777777778,
             "#fb9f3a"
            ],
            [
             0.8888888888888888,
             "#fdca26"
            ],
            [
             1,
             "#f0f921"
            ]
           ]
          },
          "colorway": [
           "#636efa",
           "#EF553B",
           "#00cc96",
           "#ab63fa",
           "#FFA15A",
           "#19d3f3",
           "#FF6692",
           "#B6E880",
           "#FF97FF",
           "#FECB52"
          ],
          "font": {
           "color": "#2a3f5f"
          },
          "geo": {
           "bgcolor": "white",
           "lakecolor": "white",
           "landcolor": "#E5ECF6",
           "showlakes": true,
           "showland": true,
           "subunitcolor": "white"
          },
          "hoverlabel": {
           "align": "left"
          },
          "hovermode": "closest",
          "mapbox": {
           "style": "light"
          },
          "paper_bgcolor": "white",
          "plot_bgcolor": "#E5ECF6",
          "polar": {
           "angularaxis": {
            "gridcolor": "white",
            "linecolor": "white",
            "ticks": ""
           },
           "bgcolor": "#E5ECF6",
           "radialaxis": {
            "gridcolor": "white",
            "linecolor": "white",
            "ticks": ""
           }
          },
          "scene": {
           "xaxis": {
            "backgroundcolor": "#E5ECF6",
            "gridcolor": "white",
            "gridwidth": 2,
            "linecolor": "white",
            "showbackground": true,
            "ticks": "",
            "zerolinecolor": "white"
           },
           "yaxis": {
            "backgroundcolor": "#E5ECF6",
            "gridcolor": "white",
            "gridwidth": 2,
            "linecolor": "white",
            "showbackground": true,
            "ticks": "",
            "zerolinecolor": "white"
           },
           "zaxis": {
            "backgroundcolor": "#E5ECF6",
            "gridcolor": "white",
            "gridwidth": 2,
            "linecolor": "white",
            "showbackground": true,
            "ticks": "",
            "zerolinecolor": "white"
           }
          },
          "shapedefaults": {
           "line": {
            "color": "#2a3f5f"
           }
          },
          "ternary": {
           "aaxis": {
            "gridcolor": "white",
            "linecolor": "white",
            "ticks": ""
           },
           "baxis": {
            "gridcolor": "white",
            "linecolor": "white",
            "ticks": ""
           },
           "bgcolor": "#E5ECF6",
           "caxis": {
            "gridcolor": "white",
            "linecolor": "white",
            "ticks": ""
           }
          },
          "title": {
           "x": 0.05
          },
          "xaxis": {
           "automargin": true,
           "gridcolor": "white",
           "linecolor": "white",
           "ticks": "",
           "title": {
            "standoff": 15
           },
           "zerolinecolor": "white",
           "zerolinewidth": 2
          },
          "yaxis": {
           "automargin": true,
           "gridcolor": "white",
           "linecolor": "white",
           "ticks": "",
           "title": {
            "standoff": 15
           },
           "zerolinecolor": "white",
           "zerolinewidth": 2
          }
         }
        }
       }
      },
      "text/html": [
       "<div>                            <div id=\"fba28159-0e85-40cf-bd1a-aabdc6f2fd17\" class=\"plotly-graph-div\" style=\"height:525px; width:100%;\"></div>            <script type=\"text/javascript\">                require([\"plotly\"], function(Plotly) {                    window.PLOTLYENV=window.PLOTLYENV || {};                                    if (document.getElementById(\"fba28159-0e85-40cf-bd1a-aabdc6f2fd17\")) {                    Plotly.newPlot(                        \"fba28159-0e85-40cf-bd1a-aabdc6f2fd17\",                        [{\"branchvalues\":\"total\",\"customdata\":[[null],[\"billig\"],[\"billig\"],[\"normal\"],[null],[null],[\"billig\"],[\"normal\"],[\"billig\"],[\"billig\"],[\"billig\"],[\"normal\"],[\"normal\"],[null],[\"billig\"],[\"normal\"],[null],[null],[null],[\"billig\"],[null],[\"billig\"],[null],[\"billig\"],[\"normal\"],[\"billig\"],[null],[null],[null],[null],[null],[\"billig\"],[\"normal\"],[null],[null],[null],[\"normal\"],[null],[null],[\"billig\"],[\"billig\"],[null],[null],[\"billig\"],[null],[null],[null],[\"normal\"],[null],[null],[null],[\"normal\"],[null],[\"normal\"],[\"normal\"],[null],[null],[null],[\"normal\"],[null],[\"normal\"],[null],[null],[\"normal\"],[\"normal\"],[null],[null],[\"teuer\"],[\"teuer\"],[\"teuer\"],[null],[null],[null],[null],[\"teuer\"],[null],[null],[\"teuer\"],[null],[\"teuer\"],[null],[\"teuer\"],[null],[null],[\"teuer\"],[null],[\"teuer\"],[null],[null],[\"teuer\"],[\"teuer\"],[null],[null],[\"teuer\"],[null],[null],[\"teuer\"],[null],[\"teuer\"],[null],[\"sehr teuer\"],[null],[null],[null],[null],[null],[null],[null],[null],[null],[null],[null],[null],[\"sehr teuer\"],[null],[null],[null],[null],[null],[null],[null],[null],[null],[\"sehr teuer\"],[null],[null],[null],[null],[null],[\"sehr teuer\"],[null],[null],[\"normal\"],[\"(?)\"],[\"(?)\"],[\"teuer\"],[\"normal\"],[\"normal\"],[\"normal\"],[\"normal\"],[\"teuer\"],[\"(?)\"],[\"(?)\"],[\"teuer\"],[\"(?)\"],[\"teuer\"],[\"sehr teuer\"],[\"teuer\"],[\"billig\"],[\"billig\"],[\"(?)\"],[\"billig\"],[\"(?)\"],[\"(?)\"],[\"billig\"],[\"teuer\"],[\"(?)\"],[\"(?)\"],[\"billig\"],[\"(?)\"],[\"billig\"],[\"billig\"],[\"(?)\"],[\"(?)\"],[\"teuer\"]],\"domain\":{\"x\":[0.0,1.0],\"y\":[0.0,1.0]},\"hovertemplate\":\"labels=%{label}<br>size=%{value}<br>parent=%{parent}<br>id=%{id}<br>PriceCat=%{customdata[0]}<extra></extra>\",\"ids\":[\"Ford/normal\",\"Peugeot/billig\",\"MG/billig\",\"Honda/normal\",\"Lexus/billig\",\"Jaguar/billig\",\"Renault/billig\",\"BMW/normal\",\"SEAT/billig\",\"Sono/billig\",\"Volkswagen/billig\",\"Citroen/normal\",\"CUPRA/normal\",\"Lexus/normal\",\"Opel/billig\",\"DS/normal\",\"Tesla/billig\",\"Lightyear/normal\",\"Polestar/billig\",\"Skoda/billig\",\"Aiways/billig\",\"Mazda/billig\",\"Lightyear/billig\",\"Kia/billig\",\"Hyundai/normal\",\"Honda/billig\",\"Ford/billig\",\"Fiat/billig\",\"DS/billig\",\"Byton/billig\",\"Byton/normal\",\"Mini/billig\",\"Kia/normal\",\"BMW/billig\",\"Audi/normal\",\"Jaguar/normal\",\"Fiat/normal\",\"Porsche/billig\",\"Volvo/billig\",\"Smart/billig\",\"Nissan/billig\",\"Mercedes/billig\",\"Lucid/billig\",\"Hyundai/billig\",\"Citroen/billig\",\"CUPRA/billig\",\"Audi/billig\",\"Aiways/normal\",\"Lucid/normal\",\"MG/normal\",\"Mazda/normal\",\"Mercedes/normal\",\"Mini/normal\",\"Nissan/normal\",\"Opel/normal\",\"Peugeot/normal\",\"Polestar/normal\",\"Porsche/normal\",\"Renault/normal\",\"SEAT/normal\",\"Skoda/normal\",\"Smart/normal\",\"Sono/normal\",\"Tesla/normal\",\"Volkswagen/normal\",\"Volvo/normal\",\"Aiways/teuer\",\"Audi/teuer\",\"BMW/teuer\",\"Byton/teuer\",\"CUPRA/teuer\",\"Citroen/teuer\",\"DS/teuer\",\"Fiat/teuer\",\"Ford/teuer\",\"Honda/teuer\",\"Hyundai/teuer\",\"Jaguar/teuer\",\"Kia/teuer\",\"Lexus/teuer\",\"Lightyear/teuer\",\"Lucid/teuer\",\"MG/teuer\",\"Mazda/teuer\",\"Mercedes/teuer\",\"Mini/teuer\",\"Nissan/teuer\",\"Opel/teuer\",\"Peugeot/teuer\",\"Polestar/teuer\",\"Porsche/teuer\",\"Renault/teuer\",\"SEAT/teuer\",\"Skoda/teuer\",\"Smart/teuer\",\"Sono/teuer\",\"Tesla/teuer\",\"Volkswagen/teuer\",\"Volvo/teuer\",\"Aiways/sehr teuer\",\"Audi/sehr teuer\",\"BMW/sehr teuer\",\"Byton/sehr teuer\",\"CUPRA/sehr teuer\",\"Citroen/sehr teuer\",\"DS/sehr teuer\",\"Fiat/sehr teuer\",\"Ford/sehr teuer\",\"Honda/sehr teuer\",\"Hyundai/sehr teuer\",\"Jaguar/sehr teuer\",\"Kia/sehr teuer\",\"Lexus/sehr teuer\",\"Lightyear/sehr teuer\",\"Lucid/sehr teuer\",\"MG/sehr teuer\",\"Mazda/sehr teuer\",\"Mercedes/sehr teuer\",\"Mini/sehr teuer\",\"Nissan/sehr teuer\",\"Opel/sehr teuer\",\"Peugeot/sehr teuer\",\"Polestar/sehr teuer\",\"Porsche/sehr teuer\",\"Renault/sehr teuer\",\"SEAT/sehr teuer\",\"Skoda/sehr teuer\",\"Smart/sehr teuer\",\"Sono/sehr teuer\",\"Tesla/sehr teuer\",\"Volkswagen/sehr teuer\",\"Volvo/sehr teuer\",\"Aiways\",\"Audi\",\"BMW\",\"Byton\",\"CUPRA\",\"Citroen\",\"DS\",\"Fiat\",\"Ford\",\"Honda\",\"Hyundai\",\"Jaguar\",\"Kia\",\"Lexus\",\"Lightyear\",\"Lucid\",\"MG\",\"Mazda\",\"Mercedes\",\"Mini\",\"Nissan\",\"Opel\",\"Peugeot\",\"Polestar\",\"Porsche\",\"Renault\",\"SEAT\",\"Skoda\",\"Smart\",\"Sono\",\"Tesla\",\"Volkswagen\",\"Volvo\"],\"labels\":[\"normal\",\"billig\",\"billig\",\"normal\",\"billig\",\"billig\",\"billig\",\"normal\",\"billig\",\"billig\",\"billig\",\"normal\",\"normal\",\"normal\",\"billig\",\"normal\",\"billig\",\"normal\",\"billig\",\"billig\",\"billig\",\"billig\",\"billig\",\"billig\",\"normal\",\"billig\",\"billig\",\"billig\",\"billig\",\"billig\",\"normal\",\"billig\",\"normal\",\"billig\",\"normal\",\"normal\",\"normal\",\"billig\",\"billig\",\"billig\",\"billig\",\"billig\",\"billig\",\"billig\",\"billig\",\"billig\",\"billig\",\"normal\",\"normal\",\"normal\",\"normal\",\"normal\",\"normal\",\"normal\",\"normal\",\"normal\",\"normal\",\"normal\",\"normal\",\"normal\",\"normal\",\"normal\",\"normal\",\"normal\",\"normal\",\"normal\",\"teuer\",\"teuer\",\"teuer\",\"teuer\",\"teuer\",\"teuer\",\"teuer\",\"teuer\",\"teuer\",\"teuer\",\"teuer\",\"teuer\",\"teuer\",\"teuer\",\"teuer\",\"teuer\",\"teuer\",\"teuer\",\"teuer\",\"teuer\",\"teuer\",\"teuer\",\"teuer\",\"teuer\",\"teuer\",\"teuer\",\"teuer\",\"teuer\",\"teuer\",\"teuer\",\"teuer\",\"teuer\",\"teuer\",\"sehr teuer\",\"sehr teuer\",\"sehr teuer\",\"sehr teuer\",\"sehr teuer\",\"sehr teuer\",\"sehr teuer\",\"sehr teuer\",\"sehr teuer\",\"sehr teuer\",\"sehr teuer\",\"sehr teuer\",\"sehr teuer\",\"sehr teuer\",\"sehr teuer\",\"sehr teuer\",\"sehr teuer\",\"sehr teuer\",\"sehr teuer\",\"sehr teuer\",\"sehr teuer\",\"sehr teuer\",\"sehr teuer\",\"sehr teuer\",\"sehr teuer\",\"sehr teuer\",\"sehr teuer\",\"sehr teuer\",\"sehr teuer\",\"sehr teuer\",\"sehr teuer\",\"sehr teuer\",\"sehr teuer\",\"Aiways\",\"Audi\",\"BMW\",\"Byton\",\"CUPRA\",\"Citroen\",\"DS\",\"Fiat\",\"Ford\",\"Honda\",\"Hyundai\",\"Jaguar\",\"Kia\",\"Lexus\",\"Lightyear\",\"Lucid\",\"MG\",\"Mazda\",\"Mercedes\",\"Mini\",\"Nissan\",\"Opel\",\"Peugeot\",\"Polestar\",\"Porsche\",\"Renault\",\"SEAT\",\"Skoda\",\"Smart\",\"Sono\",\"Tesla\",\"Volkswagen\",\"Volvo\"],\"marker\":{\"colors\":[\"#636efa\",\"#EF553B\",\"#EF553B\",\"#00cc96\",\"#636efa\",\"#636efa\",\"#EF553B\",\"#00cc96\",\"#EF553B\",\"#EF553B\",\"#EF553B\",\"#00cc96\",\"#00cc96\",\"#636efa\",\"#EF553B\",\"#00cc96\",\"#636efa\",\"#636efa\",\"#636efa\",\"#EF553B\",\"#636efa\",\"#EF553B\",\"#636efa\",\"#EF553B\",\"#00cc96\",\"#EF553B\",\"#636efa\",\"#636efa\",\"#636efa\",\"#636efa\",\"#636efa\",\"#EF553B\",\"#00cc96\",\"#636efa\",\"#636efa\",\"#636efa\",\"#00cc96\",\"#636efa\",\"#636efa\",\"#EF553B\",\"#EF553B\",\"#636efa\",\"#636efa\",\"#EF553B\",\"#636efa\",\"#636efa\",\"#636efa\",\"#00cc96\",\"#636efa\",\"#636efa\",\"#636efa\",\"#00cc96\",\"#636efa\",\"#00cc96\",\"#00cc96\",\"#636efa\",\"#636efa\",\"#636efa\",\"#00cc96\",\"#636efa\",\"#00cc96\",\"#636efa\",\"#636efa\",\"#00cc96\",\"#00cc96\",\"#636efa\",\"#636efa\",\"#ab63fa\",\"#ab63fa\",\"#ab63fa\",\"#636efa\",\"#636efa\",\"#636efa\",\"#636efa\",\"#ab63fa\",\"#636efa\",\"#636efa\",\"#ab63fa\",\"#636efa\",\"#ab63fa\",\"#636efa\",\"#ab63fa\",\"#636efa\",\"#636efa\",\"#ab63fa\",\"#636efa\",\"#ab63fa\",\"#636efa\",\"#636efa\",\"#ab63fa\",\"#ab63fa\",\"#636efa\",\"#636efa\",\"#ab63fa\",\"#636efa\",\"#636efa\",\"#ab63fa\",\"#636efa\",\"#ab63fa\",\"#636efa\",\"#FFA15A\",\"#636efa\",\"#636efa\",\"#636efa\",\"#636efa\",\"#636efa\",\"#636efa\",\"#636efa\",\"#636efa\",\"#636efa\",\"#636efa\",\"#636efa\",\"#636efa\",\"#FFA15A\",\"#636efa\",\"#636efa\",\"#636efa\",\"#636efa\",\"#636efa\",\"#636efa\",\"#636efa\",\"#636efa\",\"#636efa\",\"#FFA15A\",\"#636efa\",\"#636efa\",\"#636efa\",\"#636efa\",\"#636efa\",\"#FFA15A\",\"#636efa\",\"#636efa\",\"#00cc96\",\"#19d3f3\",\"#19d3f3\",\"#ab63fa\",\"#00cc96\",\"#00cc96\",\"#00cc96\",\"#00cc96\",\"#ab63fa\",\"#19d3f3\",\"#19d3f3\",\"#ab63fa\",\"#19d3f3\",\"#ab63fa\",\"#FFA15A\",\"#ab63fa\",\"#EF553B\",\"#EF553B\",\"#19d3f3\",\"#EF553B\",\"#19d3f3\",\"#19d3f3\",\"#EF553B\",\"#ab63fa\",\"#19d3f3\",\"#19d3f3\",\"#EF553B\",\"#19d3f3\",\"#EF553B\",\"#EF553B\",\"#19d3f3\",\"#19d3f3\",\"#ab63fa\"]},\"name\":\"\",\"parents\":[\"Ford\",\"Peugeot\",\"MG\",\"Honda\",\"Lexus\",\"Jaguar\",\"Renault\",\"BMW\",\"SEAT\",\"Sono\",\"Volkswagen\",\"Citroen\",\"CUPRA\",\"Lexus\",\"Opel\",\"DS\",\"Tesla\",\"Lightyear\",\"Polestar\",\"Skoda\",\"Aiways\",\"Mazda\",\"Lightyear\",\"Kia\",\"Hyundai\",\"Honda\",\"Ford\",\"Fiat\",\"DS\",\"Byton\",\"Byton\",\"Mini\",\"Kia\",\"BMW\",\"Audi\",\"Jaguar\",\"Fiat\",\"Porsche\",\"Volvo\",\"Smart\",\"Nissan\",\"Mercedes\",\"Lucid\",\"Hyundai\",\"Citroen\",\"CUPRA\",\"Audi\",\"Aiways\",\"Lucid\",\"MG\",\"Mazda\",\"Mercedes\",\"Mini\",\"Nissan\",\"Opel\",\"Peugeot\",\"Polestar\",\"Porsche\",\"Renault\",\"SEAT\",\"Skoda\",\"Smart\",\"Sono\",\"Tesla\",\"Volkswagen\",\"Volvo\",\"Aiways\",\"Audi\",\"BMW\",\"Byton\",\"CUPRA\",\"Citroen\",\"DS\",\"Fiat\",\"Ford\",\"Honda\",\"Hyundai\",\"Jaguar\",\"Kia\",\"Lexus\",\"Lightyear\",\"Lucid\",\"MG\",\"Mazda\",\"Mercedes\",\"Mini\",\"Nissan\",\"Opel\",\"Peugeot\",\"Polestar\",\"Porsche\",\"Renault\",\"SEAT\",\"Skoda\",\"Smart\",\"Sono\",\"Tesla\",\"Volkswagen\",\"Volvo\",\"Aiways\",\"Audi\",\"BMW\",\"Byton\",\"CUPRA\",\"Citroen\",\"DS\",\"Fiat\",\"Ford\",\"Honda\",\"Hyundai\",\"Jaguar\",\"Kia\",\"Lexus\",\"Lightyear\",\"Lucid\",\"MG\",\"Mazda\",\"Mercedes\",\"Mini\",\"Nissan\",\"Opel\",\"Peugeot\",\"Polestar\",\"Porsche\",\"Renault\",\"SEAT\",\"Skoda\",\"Smart\",\"Sono\",\"Tesla\",\"Volkswagen\",\"Volvo\",\"\",\"\",\"\",\"\",\"\",\"\",\"\",\"\",\"\",\"\",\"\",\"\",\"\",\"\",\"\",\"\",\"\",\"\",\"\",\"\",\"\",\"\",\"\",\"\",\"\",\"\",\"\",\"\",\"\",\"\",\"\",\"\",\"\"],\"values\":[0,2,1,1,0,0,4,2,1,1,4,1,1,0,1,1,0,0,0,1,0,1,0,2,2,1,0,0,0,0,0,1,2,0,0,0,2,0,0,3,2,0,0,1,0,0,0,1,0,0,0,1,0,2,2,0,0,0,1,0,4,0,0,1,4,0,0,8,2,3,0,0,0,0,4,0,0,1,0,1,0,1,0,0,2,0,4,0,0,1,2,0,0,1,0,0,11,0,1,0,1,0,0,0,0,0,0,0,0,0,0,0,0,1,0,0,0,0,0,0,0,0,0,3,0,0,0,0,0,1,0,0,1,9,4,3,1,1,1,2,4,2,3,1,4,1,1,1,1,1,3,1,8,3,2,1,5,5,1,6,3,1,13,8,1],\"type\":\"sunburst\"}],                        {\"template\":{\"data\":{\"bar\":[{\"error_x\":{\"color\":\"#2a3f5f\"},\"error_y\":{\"color\":\"#2a3f5f\"},\"marker\":{\"line\":{\"color\":\"#E5ECF6\",\"width\":0.5},\"pattern\":{\"fillmode\":\"overlay\",\"size\":10,\"solidity\":0.2}},\"type\":\"bar\"}],\"barpolar\":[{\"marker\":{\"line\":{\"color\":\"#E5ECF6\",\"width\":0.5},\"pattern\":{\"fillmode\":\"overlay\",\"size\":10,\"solidity\":0.2}},\"type\":\"barpolar\"}],\"carpet\":[{\"aaxis\":{\"endlinecolor\":\"#2a3f5f\",\"gridcolor\":\"white\",\"linecolor\":\"white\",\"minorgridcolor\":\"white\",\"startlinecolor\":\"#2a3f5f\"},\"baxis\":{\"endlinecolor\":\"#2a3f5f\",\"gridcolor\":\"white\",\"linecolor\":\"white\",\"minorgridcolor\":\"white\",\"startlinecolor\":\"#2a3f5f\"},\"type\":\"carpet\"}],\"choropleth\":[{\"colorbar\":{\"outlinewidth\":0,\"ticks\":\"\"},\"type\":\"choropleth\"}],\"contour\":[{\"colorbar\":{\"outlinewidth\":0,\"ticks\":\"\"},\"colorscale\":[[0.0,\"#0d0887\"],[0.1111111111111111,\"#46039f\"],[0.2222222222222222,\"#7201a8\"],[0.3333333333333333,\"#9c179e\"],[0.4444444444444444,\"#bd3786\"],[0.5555555555555556,\"#d8576b\"],[0.6666666666666666,\"#ed7953\"],[0.7777777777777778,\"#fb9f3a\"],[0.8888888888888888,\"#fdca26\"],[1.0,\"#f0f921\"]],\"type\":\"contour\"}],\"contourcarpet\":[{\"colorbar\":{\"outlinewidth\":0,\"ticks\":\"\"},\"type\":\"contourcarpet\"}],\"heatmap\":[{\"colorbar\":{\"outlinewidth\":0,\"ticks\":\"\"},\"colorscale\":[[0.0,\"#0d0887\"],[0.1111111111111111,\"#46039f\"],[0.2222222222222222,\"#7201a8\"],[0.3333333333333333,\"#9c179e\"],[0.4444444444444444,\"#bd3786\"],[0.5555555555555556,\"#d8576b\"],[0.6666666666666666,\"#ed7953\"],[0.7777777777777778,\"#fb9f3a\"],[0.8888888888888888,\"#fdca26\"],[1.0,\"#f0f921\"]],\"type\":\"heatmap\"}],\"heatmapgl\":[{\"colorbar\":{\"outlinewidth\":0,\"ticks\":\"\"},\"colorscale\":[[0.0,\"#0d0887\"],[0.1111111111111111,\"#46039f\"],[0.2222222222222222,\"#7201a8\"],[0.3333333333333333,\"#9c179e\"],[0.4444444444444444,\"#bd3786\"],[0.5555555555555556,\"#d8576b\"],[0.6666666666666666,\"#ed7953\"],[0.7777777777777778,\"#fb9f3a\"],[0.8888888888888888,\"#fdca26\"],[1.0,\"#f0f921\"]],\"type\":\"heatmapgl\"}],\"histogram\":[{\"marker\":{\"pattern\":{\"fillmode\":\"overlay\",\"size\":10,\"solidity\":0.2}},\"type\":\"histogram\"}],\"histogram2d\":[{\"colorbar\":{\"outlinewidth\":0,\"ticks\":\"\"},\"colorscale\":[[0.0,\"#0d0887\"],[0.1111111111111111,\"#46039f\"],[0.2222222222222222,\"#7201a8\"],[0.3333333333333333,\"#9c179e\"],[0.4444444444444444,\"#bd3786\"],[0.5555555555555556,\"#d8576b\"],[0.6666666666666666,\"#ed7953\"],[0.7777777777777778,\"#fb9f3a\"],[0.8888888888888888,\"#fdca26\"],[1.0,\"#f0f921\"]],\"type\":\"histogram2d\"}],\"histogram2dcontour\":[{\"colorbar\":{\"outlinewidth\":0,\"ticks\":\"\"},\"colorscale\":[[0.0,\"#0d0887\"],[0.1111111111111111,\"#46039f\"],[0.2222222222222222,\"#7201a8\"],[0.3333333333333333,\"#9c179e\"],[0.4444444444444444,\"#bd3786\"],[0.5555555555555556,\"#d8576b\"],[0.6666666666666666,\"#ed7953\"],[0.7777777777777778,\"#fb9f3a\"],[0.8888888888888888,\"#fdca26\"],[1.0,\"#f0f921\"]],\"type\":\"histogram2dcontour\"}],\"mesh3d\":[{\"colorbar\":{\"outlinewidth\":0,\"ticks\":\"\"},\"type\":\"mesh3d\"}],\"parcoords\":[{\"line\":{\"colorbar\":{\"outlinewidth\":0,\"ticks\":\"\"}},\"type\":\"parcoords\"}],\"pie\":[{\"automargin\":true,\"type\":\"pie\"}],\"scatter\":[{\"marker\":{\"colorbar\":{\"outlinewidth\":0,\"ticks\":\"\"}},\"type\":\"scatter\"}],\"scatter3d\":[{\"line\":{\"colorbar\":{\"outlinewidth\":0,\"ticks\":\"\"}},\"marker\":{\"colorbar\":{\"outlinewidth\":0,\"ticks\":\"\"}},\"type\":\"scatter3d\"}],\"scattercarpet\":[{\"marker\":{\"colorbar\":{\"outlinewidth\":0,\"ticks\":\"\"}},\"type\":\"scattercarpet\"}],\"scattergeo\":[{\"marker\":{\"colorbar\":{\"outlinewidth\":0,\"ticks\":\"\"}},\"type\":\"scattergeo\"}],\"scattergl\":[{\"marker\":{\"colorbar\":{\"outlinewidth\":0,\"ticks\":\"\"}},\"type\":\"scattergl\"}],\"scattermapbox\":[{\"marker\":{\"colorbar\":{\"outlinewidth\":0,\"ticks\":\"\"}},\"type\":\"scattermapbox\"}],\"scatterpolar\":[{\"marker\":{\"colorbar\":{\"outlinewidth\":0,\"ticks\":\"\"}},\"type\":\"scatterpolar\"}],\"scatterpolargl\":[{\"marker\":{\"colorbar\":{\"outlinewidth\":0,\"ticks\":\"\"}},\"type\":\"scatterpolargl\"}],\"scatterternary\":[{\"marker\":{\"colorbar\":{\"outlinewidth\":0,\"ticks\":\"\"}},\"type\":\"scatterternary\"}],\"surface\":[{\"colorbar\":{\"outlinewidth\":0,\"ticks\":\"\"},\"colorscale\":[[0.0,\"#0d0887\"],[0.1111111111111111,\"#46039f\"],[0.2222222222222222,\"#7201a8\"],[0.3333333333333333,\"#9c179e\"],[0.4444444444444444,\"#bd3786\"],[0.5555555555555556,\"#d8576b\"],[0.6666666666666666,\"#ed7953\"],[0.7777777777777778,\"#fb9f3a\"],[0.8888888888888888,\"#fdca26\"],[1.0,\"#f0f921\"]],\"type\":\"surface\"}],\"table\":[{\"cells\":{\"fill\":{\"color\":\"#EBF0F8\"},\"line\":{\"color\":\"white\"}},\"header\":{\"fill\":{\"color\":\"#C8D4E3\"},\"line\":{\"color\":\"white\"}},\"type\":\"table\"}]},\"layout\":{\"annotationdefaults\":{\"arrowcolor\":\"#2a3f5f\",\"arrowhead\":0,\"arrowwidth\":1},\"autotypenumbers\":\"strict\",\"coloraxis\":{\"colorbar\":{\"outlinewidth\":0,\"ticks\":\"\"}},\"colorscale\":{\"diverging\":[[0,\"#8e0152\"],[0.1,\"#c51b7d\"],[0.2,\"#de77ae\"],[0.3,\"#f1b6da\"],[0.4,\"#fde0ef\"],[0.5,\"#f7f7f7\"],[0.6,\"#e6f5d0\"],[0.7,\"#b8e186\"],[0.8,\"#7fbc41\"],[0.9,\"#4d9221\"],[1,\"#276419\"]],\"sequential\":[[0.0,\"#0d0887\"],[0.1111111111111111,\"#46039f\"],[0.2222222222222222,\"#7201a8\"],[0.3333333333333333,\"#9c179e\"],[0.4444444444444444,\"#bd3786\"],[0.5555555555555556,\"#d8576b\"],[0.6666666666666666,\"#ed7953\"],[0.7777777777777778,\"#fb9f3a\"],[0.8888888888888888,\"#fdca26\"],[1.0,\"#f0f921\"]],\"sequentialminus\":[[0.0,\"#0d0887\"],[0.1111111111111111,\"#46039f\"],[0.2222222222222222,\"#7201a8\"],[0.3333333333333333,\"#9c179e\"],[0.4444444444444444,\"#bd3786\"],[0.5555555555555556,\"#d8576b\"],[0.6666666666666666,\"#ed7953\"],[0.7777777777777778,\"#fb9f3a\"],[0.8888888888888888,\"#fdca26\"],[1.0,\"#f0f921\"]]},\"colorway\":[\"#636efa\",\"#EF553B\",\"#00cc96\",\"#ab63fa\",\"#FFA15A\",\"#19d3f3\",\"#FF6692\",\"#B6E880\",\"#FF97FF\",\"#FECB52\"],\"font\":{\"color\":\"#2a3f5f\"},\"geo\":{\"bgcolor\":\"white\",\"lakecolor\":\"white\",\"landcolor\":\"#E5ECF6\",\"showlakes\":true,\"showland\":true,\"subunitcolor\":\"white\"},\"hoverlabel\":{\"align\":\"left\"},\"hovermode\":\"closest\",\"mapbox\":{\"style\":\"light\"},\"paper_bgcolor\":\"white\",\"plot_bgcolor\":\"#E5ECF6\",\"polar\":{\"angularaxis\":{\"gridcolor\":\"white\",\"linecolor\":\"white\",\"ticks\":\"\"},\"bgcolor\":\"#E5ECF6\",\"radialaxis\":{\"gridcolor\":\"white\",\"linecolor\":\"white\",\"ticks\":\"\"}},\"scene\":{\"xaxis\":{\"backgroundcolor\":\"#E5ECF6\",\"gridcolor\":\"white\",\"gridwidth\":2,\"linecolor\":\"white\",\"showbackground\":true,\"ticks\":\"\",\"zerolinecolor\":\"white\"},\"yaxis\":{\"backgroundcolor\":\"#E5ECF6\",\"gridcolor\":\"white\",\"gridwidth\":2,\"linecolor\":\"white\",\"showbackground\":true,\"ticks\":\"\",\"zerolinecolor\":\"white\"},\"zaxis\":{\"backgroundcolor\":\"#E5ECF6\",\"gridcolor\":\"white\",\"gridwidth\":2,\"linecolor\":\"white\",\"showbackground\":true,\"ticks\":\"\",\"zerolinecolor\":\"white\"}},\"shapedefaults\":{\"line\":{\"color\":\"#2a3f5f\"}},\"ternary\":{\"aaxis\":{\"gridcolor\":\"white\",\"linecolor\":\"white\",\"ticks\":\"\"},\"baxis\":{\"gridcolor\":\"white\",\"linecolor\":\"white\",\"ticks\":\"\"},\"bgcolor\":\"#E5ECF6\",\"caxis\":{\"gridcolor\":\"white\",\"linecolor\":\"white\",\"ticks\":\"\"}},\"title\":{\"x\":0.05},\"xaxis\":{\"automargin\":true,\"gridcolor\":\"white\",\"linecolor\":\"white\",\"ticks\":\"\",\"title\":{\"standoff\":15},\"zerolinecolor\":\"white\",\"zerolinewidth\":2},\"yaxis\":{\"automargin\":true,\"gridcolor\":\"white\",\"linecolor\":\"white\",\"ticks\":\"\",\"title\":{\"standoff\":15},\"zerolinecolor\":\"white\",\"zerolinewidth\":2}}},\"legend\":{\"tracegroupgap\":0},\"margin\":{\"t\":60}},                        {\"responsive\": true}                    ).then(function(){\n",
       "                            \n",
       "var gd = document.getElementById('fba28159-0e85-40cf-bd1a-aabdc6f2fd17');\n",
       "var x = new MutationObserver(function (mutations, observer) {{\n",
       "        var display = window.getComputedStyle(gd).display;\n",
       "        if (!display || display === 'none') {{\n",
       "            console.log([gd, 'removed!']);\n",
       "            Plotly.purge(gd);\n",
       "            observer.disconnect();\n",
       "        }}\n",
       "}});\n",
       "\n",
       "// Listen for the removal of the full notebook cells\n",
       "var notebookContainer = gd.closest('#notebook-container');\n",
       "if (notebookContainer) {{\n",
       "    x.observe(notebookContainer, {childList: true});\n",
       "}}\n",
       "\n",
       "// Listen for the clearing of the current output cell\n",
       "var outputEl = gd.closest('.output');\n",
       "if (outputEl) {{\n",
       "    x.observe(outputEl, {childList: true});\n",
       "}}\n",
       "\n",
       "                        })                };                });            </script>        </div>"
      ]
     },
     "metadata": {},
     "output_type": "display_data"
    }
   ],
   "source": [
    "fig = px.sunburst(df_mod1, path=[\"Brand\", \"PriceCat\"],\n",
    "                 values=\"size\",\n",
    "                 color = \"PriceCat\")\n",
    "fig.show()"
   ]
  },
  {
   "cell_type": "code",
   "execution_count": 123,
   "metadata": {},
   "outputs": [
    {
     "data": {
      "application/vnd.plotly.v1+json": {
       "config": {
        "plotlyServerURL": "https://plot.ly"
       },
       "data": [
        {
         "branchvalues": "total",
         "customdata": [
          [
           null
          ],
          [
           "billig"
          ],
          [
           "billig"
          ],
          [
           "normal"
          ],
          [
           null
          ],
          [
           null
          ],
          [
           "billig"
          ],
          [
           "normal"
          ],
          [
           "billig"
          ],
          [
           "billig"
          ],
          [
           "billig"
          ],
          [
           "normal"
          ],
          [
           "normal"
          ],
          [
           null
          ],
          [
           "billig"
          ],
          [
           "normal"
          ],
          [
           null
          ],
          [
           null
          ],
          [
           null
          ],
          [
           "billig"
          ],
          [
           null
          ],
          [
           "billig"
          ],
          [
           null
          ],
          [
           "billig"
          ],
          [
           "normal"
          ],
          [
           "billig"
          ],
          [
           null
          ],
          [
           null
          ],
          [
           null
          ],
          [
           null
          ],
          [
           null
          ],
          [
           "billig"
          ],
          [
           "normal"
          ],
          [
           null
          ],
          [
           null
          ],
          [
           null
          ],
          [
           "normal"
          ],
          [
           null
          ],
          [
           null
          ],
          [
           "billig"
          ],
          [
           "billig"
          ],
          [
           null
          ],
          [
           null
          ],
          [
           "billig"
          ],
          [
           null
          ],
          [
           null
          ],
          [
           null
          ],
          [
           "normal"
          ],
          [
           null
          ],
          [
           null
          ],
          [
           null
          ],
          [
           "normal"
          ],
          [
           null
          ],
          [
           "normal"
          ],
          [
           "normal"
          ],
          [
           null
          ],
          [
           null
          ],
          [
           null
          ],
          [
           "normal"
          ],
          [
           null
          ],
          [
           "normal"
          ],
          [
           null
          ],
          [
           null
          ],
          [
           "normal"
          ],
          [
           "normal"
          ],
          [
           null
          ],
          [
           null
          ],
          [
           "teuer"
          ],
          [
           "teuer"
          ],
          [
           "teuer"
          ],
          [
           null
          ],
          [
           null
          ],
          [
           null
          ],
          [
           null
          ],
          [
           "teuer"
          ],
          [
           null
          ],
          [
           null
          ],
          [
           "teuer"
          ],
          [
           null
          ],
          [
           "teuer"
          ],
          [
           null
          ],
          [
           "teuer"
          ],
          [
           null
          ],
          [
           null
          ],
          [
           "teuer"
          ],
          [
           null
          ],
          [
           "teuer"
          ],
          [
           null
          ],
          [
           null
          ],
          [
           "teuer"
          ],
          [
           "teuer"
          ],
          [
           null
          ],
          [
           null
          ],
          [
           "teuer"
          ],
          [
           null
          ],
          [
           null
          ],
          [
           "teuer"
          ],
          [
           null
          ],
          [
           "teuer"
          ],
          [
           null
          ],
          [
           "sehr teuer"
          ],
          [
           null
          ],
          [
           null
          ],
          [
           null
          ],
          [
           null
          ],
          [
           null
          ],
          [
           null
          ],
          [
           null
          ],
          [
           null
          ],
          [
           null
          ],
          [
           null
          ],
          [
           null
          ],
          [
           null
          ],
          [
           "sehr teuer"
          ],
          [
           null
          ],
          [
           null
          ],
          [
           null
          ],
          [
           null
          ],
          [
           null
          ],
          [
           null
          ],
          [
           null
          ],
          [
           null
          ],
          [
           null
          ],
          [
           "sehr teuer"
          ],
          [
           null
          ],
          [
           null
          ],
          [
           null
          ],
          [
           null
          ],
          [
           null
          ],
          [
           "sehr teuer"
          ],
          [
           null
          ],
          [
           null
          ],
          [
           "normal"
          ],
          [
           "(?)"
          ],
          [
           "(?)"
          ],
          [
           "teuer"
          ],
          [
           "normal"
          ],
          [
           "normal"
          ],
          [
           "normal"
          ],
          [
           "normal"
          ],
          [
           "teuer"
          ],
          [
           "(?)"
          ],
          [
           "(?)"
          ],
          [
           "teuer"
          ],
          [
           "(?)"
          ],
          [
           "teuer"
          ],
          [
           "sehr teuer"
          ],
          [
           "teuer"
          ],
          [
           "billig"
          ],
          [
           "billig"
          ],
          [
           "(?)"
          ],
          [
           "billig"
          ],
          [
           "(?)"
          ],
          [
           "(?)"
          ],
          [
           "billig"
          ],
          [
           "teuer"
          ],
          [
           "(?)"
          ],
          [
           "(?)"
          ],
          [
           "billig"
          ],
          [
           "(?)"
          ],
          [
           "billig"
          ],
          [
           "billig"
          ],
          [
           "(?)"
          ],
          [
           "(?)"
          ],
          [
           "teuer"
          ]
         ],
         "domain": {
          "x": [
           0,
           1
          ],
          "y": [
           0,
           1
          ]
         },
         "hovertemplate": "labels=%{label}<br>size=%{value}<br>parent=%{parent}<br>id=%{id}<br>PriceCat=%{customdata[0]}<extra></extra>",
         "ids": [
          "Ford/normal",
          "Peugeot/billig",
          "MG/billig",
          "Honda/normal",
          "Lexus/billig",
          "Jaguar/billig",
          "Renault/billig",
          "BMW/normal",
          "SEAT/billig",
          "Sono/billig",
          "Volkswagen/billig",
          "Citroen/normal",
          "CUPRA/normal",
          "Lexus/normal",
          "Opel/billig",
          "DS/normal",
          "Tesla/billig",
          "Lightyear/normal",
          "Polestar/billig",
          "Skoda/billig",
          "Aiways/billig",
          "Mazda/billig",
          "Lightyear/billig",
          "Kia/billig",
          "Hyundai/normal",
          "Honda/billig",
          "Ford/billig",
          "Fiat/billig",
          "DS/billig",
          "Byton/billig",
          "Byton/normal",
          "Mini/billig",
          "Kia/normal",
          "BMW/billig",
          "Audi/normal",
          "Jaguar/normal",
          "Fiat/normal",
          "Porsche/billig",
          "Volvo/billig",
          "Smart/billig",
          "Nissan/billig",
          "Mercedes/billig",
          "Lucid/billig",
          "Hyundai/billig",
          "Citroen/billig",
          "CUPRA/billig",
          "Audi/billig",
          "Aiways/normal",
          "Lucid/normal",
          "MG/normal",
          "Mazda/normal",
          "Mercedes/normal",
          "Mini/normal",
          "Nissan/normal",
          "Opel/normal",
          "Peugeot/normal",
          "Polestar/normal",
          "Porsche/normal",
          "Renault/normal",
          "SEAT/normal",
          "Skoda/normal",
          "Smart/normal",
          "Sono/normal",
          "Tesla/normal",
          "Volkswagen/normal",
          "Volvo/normal",
          "Aiways/teuer",
          "Audi/teuer",
          "BMW/teuer",
          "Byton/teuer",
          "CUPRA/teuer",
          "Citroen/teuer",
          "DS/teuer",
          "Fiat/teuer",
          "Ford/teuer",
          "Honda/teuer",
          "Hyundai/teuer",
          "Jaguar/teuer",
          "Kia/teuer",
          "Lexus/teuer",
          "Lightyear/teuer",
          "Lucid/teuer",
          "MG/teuer",
          "Mazda/teuer",
          "Mercedes/teuer",
          "Mini/teuer",
          "Nissan/teuer",
          "Opel/teuer",
          "Peugeot/teuer",
          "Polestar/teuer",
          "Porsche/teuer",
          "Renault/teuer",
          "SEAT/teuer",
          "Skoda/teuer",
          "Smart/teuer",
          "Sono/teuer",
          "Tesla/teuer",
          "Volkswagen/teuer",
          "Volvo/teuer",
          "Aiways/sehr teuer",
          "Audi/sehr teuer",
          "BMW/sehr teuer",
          "Byton/sehr teuer",
          "CUPRA/sehr teuer",
          "Citroen/sehr teuer",
          "DS/sehr teuer",
          "Fiat/sehr teuer",
          "Ford/sehr teuer",
          "Honda/sehr teuer",
          "Hyundai/sehr teuer",
          "Jaguar/sehr teuer",
          "Kia/sehr teuer",
          "Lexus/sehr teuer",
          "Lightyear/sehr teuer",
          "Lucid/sehr teuer",
          "MG/sehr teuer",
          "Mazda/sehr teuer",
          "Mercedes/sehr teuer",
          "Mini/sehr teuer",
          "Nissan/sehr teuer",
          "Opel/sehr teuer",
          "Peugeot/sehr teuer",
          "Polestar/sehr teuer",
          "Porsche/sehr teuer",
          "Renault/sehr teuer",
          "SEAT/sehr teuer",
          "Skoda/sehr teuer",
          "Smart/sehr teuer",
          "Sono/sehr teuer",
          "Tesla/sehr teuer",
          "Volkswagen/sehr teuer",
          "Volvo/sehr teuer",
          "Aiways",
          "Audi",
          "BMW",
          "Byton",
          "CUPRA",
          "Citroen",
          "DS",
          "Fiat",
          "Ford",
          "Honda",
          "Hyundai",
          "Jaguar",
          "Kia",
          "Lexus",
          "Lightyear",
          "Lucid",
          "MG",
          "Mazda",
          "Mercedes",
          "Mini",
          "Nissan",
          "Opel",
          "Peugeot",
          "Polestar",
          "Porsche",
          "Renault",
          "SEAT",
          "Skoda",
          "Smart",
          "Sono",
          "Tesla",
          "Volkswagen",
          "Volvo"
         ],
         "labels": [
          "normal",
          "billig",
          "billig",
          "normal",
          "billig",
          "billig",
          "billig",
          "normal",
          "billig",
          "billig",
          "billig",
          "normal",
          "normal",
          "normal",
          "billig",
          "normal",
          "billig",
          "normal",
          "billig",
          "billig",
          "billig",
          "billig",
          "billig",
          "billig",
          "normal",
          "billig",
          "billig",
          "billig",
          "billig",
          "billig",
          "normal",
          "billig",
          "normal",
          "billig",
          "normal",
          "normal",
          "normal",
          "billig",
          "billig",
          "billig",
          "billig",
          "billig",
          "billig",
          "billig",
          "billig",
          "billig",
          "billig",
          "normal",
          "normal",
          "normal",
          "normal",
          "normal",
          "normal",
          "normal",
          "normal",
          "normal",
          "normal",
          "normal",
          "normal",
          "normal",
          "normal",
          "normal",
          "normal",
          "normal",
          "normal",
          "normal",
          "teuer",
          "teuer",
          "teuer",
          "teuer",
          "teuer",
          "teuer",
          "teuer",
          "teuer",
          "teuer",
          "teuer",
          "teuer",
          "teuer",
          "teuer",
          "teuer",
          "teuer",
          "teuer",
          "teuer",
          "teuer",
          "teuer",
          "teuer",
          "teuer",
          "teuer",
          "teuer",
          "teuer",
          "teuer",
          "teuer",
          "teuer",
          "teuer",
          "teuer",
          "teuer",
          "teuer",
          "teuer",
          "teuer",
          "sehr teuer",
          "sehr teuer",
          "sehr teuer",
          "sehr teuer",
          "sehr teuer",
          "sehr teuer",
          "sehr teuer",
          "sehr teuer",
          "sehr teuer",
          "sehr teuer",
          "sehr teuer",
          "sehr teuer",
          "sehr teuer",
          "sehr teuer",
          "sehr teuer",
          "sehr teuer",
          "sehr teuer",
          "sehr teuer",
          "sehr teuer",
          "sehr teuer",
          "sehr teuer",
          "sehr teuer",
          "sehr teuer",
          "sehr teuer",
          "sehr teuer",
          "sehr teuer",
          "sehr teuer",
          "sehr teuer",
          "sehr teuer",
          "sehr teuer",
          "sehr teuer",
          "sehr teuer",
          "sehr teuer",
          "Aiways",
          "Audi",
          "BMW",
          "Byton",
          "CUPRA",
          "Citroen",
          "DS",
          "Fiat",
          "Ford",
          "Honda",
          "Hyundai",
          "Jaguar",
          "Kia",
          "Lexus",
          "Lightyear",
          "Lucid",
          "MG",
          "Mazda",
          "Mercedes",
          "Mini",
          "Nissan",
          "Opel",
          "Peugeot",
          "Polestar",
          "Porsche",
          "Renault",
          "SEAT",
          "Skoda",
          "Smart",
          "Sono",
          "Tesla",
          "Volkswagen",
          "Volvo"
         ],
         "marker": {
          "colors": [
           "#636efa",
           "#EF553B",
           "#EF553B",
           "#00cc96",
           "#636efa",
           "#636efa",
           "#EF553B",
           "#00cc96",
           "#EF553B",
           "#EF553B",
           "#EF553B",
           "#00cc96",
           "#00cc96",
           "#636efa",
           "#EF553B",
           "#00cc96",
           "#636efa",
           "#636efa",
           "#636efa",
           "#EF553B",
           "#636efa",
           "#EF553B",
           "#636efa",
           "#EF553B",
           "#00cc96",
           "#EF553B",
           "#636efa",
           "#636efa",
           "#636efa",
           "#636efa",
           "#636efa",
           "#EF553B",
           "#00cc96",
           "#636efa",
           "#636efa",
           "#636efa",
           "#00cc96",
           "#636efa",
           "#636efa",
           "#EF553B",
           "#EF553B",
           "#636efa",
           "#636efa",
           "#EF553B",
           "#636efa",
           "#636efa",
           "#636efa",
           "#00cc96",
           "#636efa",
           "#636efa",
           "#636efa",
           "#00cc96",
           "#636efa",
           "#00cc96",
           "#00cc96",
           "#636efa",
           "#636efa",
           "#636efa",
           "#00cc96",
           "#636efa",
           "#00cc96",
           "#636efa",
           "#636efa",
           "#00cc96",
           "#00cc96",
           "#636efa",
           "#636efa",
           "#ab63fa",
           "#ab63fa",
           "#ab63fa",
           "#636efa",
           "#636efa",
           "#636efa",
           "#636efa",
           "#ab63fa",
           "#636efa",
           "#636efa",
           "#ab63fa",
           "#636efa",
           "#ab63fa",
           "#636efa",
           "#ab63fa",
           "#636efa",
           "#636efa",
           "#ab63fa",
           "#636efa",
           "#ab63fa",
           "#636efa",
           "#636efa",
           "#ab63fa",
           "#ab63fa",
           "#636efa",
           "#636efa",
           "#ab63fa",
           "#636efa",
           "#636efa",
           "#ab63fa",
           "#636efa",
           "#ab63fa",
           "#636efa",
           "#FFA15A",
           "#636efa",
           "#636efa",
           "#636efa",
           "#636efa",
           "#636efa",
           "#636efa",
           "#636efa",
           "#636efa",
           "#636efa",
           "#636efa",
           "#636efa",
           "#636efa",
           "#FFA15A",
           "#636efa",
           "#636efa",
           "#636efa",
           "#636efa",
           "#636efa",
           "#636efa",
           "#636efa",
           "#636efa",
           "#636efa",
           "#FFA15A",
           "#636efa",
           "#636efa",
           "#636efa",
           "#636efa",
           "#636efa",
           "#FFA15A",
           "#636efa",
           "#636efa",
           "#00cc96",
           "#19d3f3",
           "#19d3f3",
           "#ab63fa",
           "#00cc96",
           "#00cc96",
           "#00cc96",
           "#00cc96",
           "#ab63fa",
           "#19d3f3",
           "#19d3f3",
           "#ab63fa",
           "#19d3f3",
           "#ab63fa",
           "#FFA15A",
           "#ab63fa",
           "#EF553B",
           "#EF553B",
           "#19d3f3",
           "#EF553B",
           "#19d3f3",
           "#19d3f3",
           "#EF553B",
           "#ab63fa",
           "#19d3f3",
           "#19d3f3",
           "#EF553B",
           "#19d3f3",
           "#EF553B",
           "#EF553B",
           "#19d3f3",
           "#19d3f3",
           "#ab63fa"
          ]
         },
         "name": "",
         "parents": [
          "Ford",
          "Peugeot",
          "MG",
          "Honda",
          "Lexus",
          "Jaguar",
          "Renault",
          "BMW",
          "SEAT",
          "Sono",
          "Volkswagen",
          "Citroen",
          "CUPRA",
          "Lexus",
          "Opel",
          "DS",
          "Tesla",
          "Lightyear",
          "Polestar",
          "Skoda",
          "Aiways",
          "Mazda",
          "Lightyear",
          "Kia",
          "Hyundai",
          "Honda",
          "Ford",
          "Fiat",
          "DS",
          "Byton",
          "Byton",
          "Mini",
          "Kia",
          "BMW",
          "Audi",
          "Jaguar",
          "Fiat",
          "Porsche",
          "Volvo",
          "Smart",
          "Nissan",
          "Mercedes",
          "Lucid",
          "Hyundai",
          "Citroen",
          "CUPRA",
          "Audi",
          "Aiways",
          "Lucid",
          "MG",
          "Mazda",
          "Mercedes",
          "Mini",
          "Nissan",
          "Opel",
          "Peugeot",
          "Polestar",
          "Porsche",
          "Renault",
          "SEAT",
          "Skoda",
          "Smart",
          "Sono",
          "Tesla",
          "Volkswagen",
          "Volvo",
          "Aiways",
          "Audi",
          "BMW",
          "Byton",
          "CUPRA",
          "Citroen",
          "DS",
          "Fiat",
          "Ford",
          "Honda",
          "Hyundai",
          "Jaguar",
          "Kia",
          "Lexus",
          "Lightyear",
          "Lucid",
          "MG",
          "Mazda",
          "Mercedes",
          "Mini",
          "Nissan",
          "Opel",
          "Peugeot",
          "Polestar",
          "Porsche",
          "Renault",
          "SEAT",
          "Skoda",
          "Smart",
          "Sono",
          "Tesla",
          "Volkswagen",
          "Volvo",
          "Aiways",
          "Audi",
          "BMW",
          "Byton",
          "CUPRA",
          "Citroen",
          "DS",
          "Fiat",
          "Ford",
          "Honda",
          "Hyundai",
          "Jaguar",
          "Kia",
          "Lexus",
          "Lightyear",
          "Lucid",
          "MG",
          "Mazda",
          "Mercedes",
          "Mini",
          "Nissan",
          "Opel",
          "Peugeot",
          "Polestar",
          "Porsche",
          "Renault",
          "SEAT",
          "Skoda",
          "Smart",
          "Sono",
          "Tesla",
          "Volkswagen",
          "Volvo",
          "",
          "",
          "",
          "",
          "",
          "",
          "",
          "",
          "",
          "",
          "",
          "",
          "",
          "",
          "",
          "",
          "",
          "",
          "",
          "",
          "",
          "",
          "",
          "",
          "",
          "",
          "",
          "",
          "",
          "",
          "",
          "",
          ""
         ],
         "root": {
          "color": "lightgrey"
         },
         "type": "treemap",
         "values": [
          0,
          2,
          1,
          1,
          0,
          0,
          4,
          2,
          1,
          1,
          4,
          1,
          1,
          0,
          1,
          1,
          0,
          0,
          0,
          1,
          0,
          1,
          0,
          2,
          2,
          1,
          0,
          0,
          0,
          0,
          0,
          1,
          2,
          0,
          0,
          0,
          2,
          0,
          0,
          3,
          2,
          0,
          0,
          1,
          0,
          0,
          0,
          1,
          0,
          0,
          0,
          1,
          0,
          2,
          2,
          0,
          0,
          0,
          1,
          0,
          4,
          0,
          0,
          1,
          4,
          0,
          0,
          8,
          2,
          3,
          0,
          0,
          0,
          0,
          4,
          0,
          0,
          1,
          0,
          1,
          0,
          1,
          0,
          0,
          2,
          0,
          4,
          0,
          0,
          1,
          2,
          0,
          0,
          1,
          0,
          0,
          11,
          0,
          1,
          0,
          1,
          0,
          0,
          0,
          0,
          0,
          0,
          0,
          0,
          0,
          0,
          0,
          0,
          1,
          0,
          0,
          0,
          0,
          0,
          0,
          0,
          0,
          0,
          3,
          0,
          0,
          0,
          0,
          0,
          1,
          0,
          0,
          1,
          9,
          4,
          3,
          1,
          1,
          1,
          2,
          4,
          2,
          3,
          1,
          4,
          1,
          1,
          1,
          1,
          1,
          3,
          1,
          8,
          3,
          2,
          1,
          5,
          5,
          1,
          6,
          3,
          1,
          13,
          8,
          1
         ]
        }
       ],
       "layout": {
        "legend": {
         "tracegroupgap": 0
        },
        "margin": {
         "b": 25,
         "l": 25,
         "r": 25,
         "t": 50
        },
        "template": {
         "data": {
          "bar": [
           {
            "error_x": {
             "color": "#2a3f5f"
            },
            "error_y": {
             "color": "#2a3f5f"
            },
            "marker": {
             "line": {
              "color": "#E5ECF6",
              "width": 0.5
             },
             "pattern": {
              "fillmode": "overlay",
              "size": 10,
              "solidity": 0.2
             }
            },
            "type": "bar"
           }
          ],
          "barpolar": [
           {
            "marker": {
             "line": {
              "color": "#E5ECF6",
              "width": 0.5
             },
             "pattern": {
              "fillmode": "overlay",
              "size": 10,
              "solidity": 0.2
             }
            },
            "type": "barpolar"
           }
          ],
          "carpet": [
           {
            "aaxis": {
             "endlinecolor": "#2a3f5f",
             "gridcolor": "white",
             "linecolor": "white",
             "minorgridcolor": "white",
             "startlinecolor": "#2a3f5f"
            },
            "baxis": {
             "endlinecolor": "#2a3f5f",
             "gridcolor": "white",
             "linecolor": "white",
             "minorgridcolor": "white",
             "startlinecolor": "#2a3f5f"
            },
            "type": "carpet"
           }
          ],
          "choropleth": [
           {
            "colorbar": {
             "outlinewidth": 0,
             "ticks": ""
            },
            "type": "choropleth"
           }
          ],
          "contour": [
           {
            "colorbar": {
             "outlinewidth": 0,
             "ticks": ""
            },
            "colorscale": [
             [
              0,
              "#0d0887"
             ],
             [
              0.1111111111111111,
              "#46039f"
             ],
             [
              0.2222222222222222,
              "#7201a8"
             ],
             [
              0.3333333333333333,
              "#9c179e"
             ],
             [
              0.4444444444444444,
              "#bd3786"
             ],
             [
              0.5555555555555556,
              "#d8576b"
             ],
             [
              0.6666666666666666,
              "#ed7953"
             ],
             [
              0.7777777777777778,
              "#fb9f3a"
             ],
             [
              0.8888888888888888,
              "#fdca26"
             ],
             [
              1,
              "#f0f921"
             ]
            ],
            "type": "contour"
           }
          ],
          "contourcarpet": [
           {
            "colorbar": {
             "outlinewidth": 0,
             "ticks": ""
            },
            "type": "contourcarpet"
           }
          ],
          "heatmap": [
           {
            "colorbar": {
             "outlinewidth": 0,
             "ticks": ""
            },
            "colorscale": [
             [
              0,
              "#0d0887"
             ],
             [
              0.1111111111111111,
              "#46039f"
             ],
             [
              0.2222222222222222,
              "#7201a8"
             ],
             [
              0.3333333333333333,
              "#9c179e"
             ],
             [
              0.4444444444444444,
              "#bd3786"
             ],
             [
              0.5555555555555556,
              "#d8576b"
             ],
             [
              0.6666666666666666,
              "#ed7953"
             ],
             [
              0.7777777777777778,
              "#fb9f3a"
             ],
             [
              0.8888888888888888,
              "#fdca26"
             ],
             [
              1,
              "#f0f921"
             ]
            ],
            "type": "heatmap"
           }
          ],
          "heatmapgl": [
           {
            "colorbar": {
             "outlinewidth": 0,
             "ticks": ""
            },
            "colorscale": [
             [
              0,
              "#0d0887"
             ],
             [
              0.1111111111111111,
              "#46039f"
             ],
             [
              0.2222222222222222,
              "#7201a8"
             ],
             [
              0.3333333333333333,
              "#9c179e"
             ],
             [
              0.4444444444444444,
              "#bd3786"
             ],
             [
              0.5555555555555556,
              "#d8576b"
             ],
             [
              0.6666666666666666,
              "#ed7953"
             ],
             [
              0.7777777777777778,
              "#fb9f3a"
             ],
             [
              0.8888888888888888,
              "#fdca26"
             ],
             [
              1,
              "#f0f921"
             ]
            ],
            "type": "heatmapgl"
           }
          ],
          "histogram": [
           {
            "marker": {
             "pattern": {
              "fillmode": "overlay",
              "size": 10,
              "solidity": 0.2
             }
            },
            "type": "histogram"
           }
          ],
          "histogram2d": [
           {
            "colorbar": {
             "outlinewidth": 0,
             "ticks": ""
            },
            "colorscale": [
             [
              0,
              "#0d0887"
             ],
             [
              0.1111111111111111,
              "#46039f"
             ],
             [
              0.2222222222222222,
              "#7201a8"
             ],
             [
              0.3333333333333333,
              "#9c179e"
             ],
             [
              0.4444444444444444,
              "#bd3786"
             ],
             [
              0.5555555555555556,
              "#d8576b"
             ],
             [
              0.6666666666666666,
              "#ed7953"
             ],
             [
              0.7777777777777778,
              "#fb9f3a"
             ],
             [
              0.8888888888888888,
              "#fdca26"
             ],
             [
              1,
              "#f0f921"
             ]
            ],
            "type": "histogram2d"
           }
          ],
          "histogram2dcontour": [
           {
            "colorbar": {
             "outlinewidth": 0,
             "ticks": ""
            },
            "colorscale": [
             [
              0,
              "#0d0887"
             ],
             [
              0.1111111111111111,
              "#46039f"
             ],
             [
              0.2222222222222222,
              "#7201a8"
             ],
             [
              0.3333333333333333,
              "#9c179e"
             ],
             [
              0.4444444444444444,
              "#bd3786"
             ],
             [
              0.5555555555555556,
              "#d8576b"
             ],
             [
              0.6666666666666666,
              "#ed7953"
             ],
             [
              0.7777777777777778,
              "#fb9f3a"
             ],
             [
              0.8888888888888888,
              "#fdca26"
             ],
             [
              1,
              "#f0f921"
             ]
            ],
            "type": "histogram2dcontour"
           }
          ],
          "mesh3d": [
           {
            "colorbar": {
             "outlinewidth": 0,
             "ticks": ""
            },
            "type": "mesh3d"
           }
          ],
          "parcoords": [
           {
            "line": {
             "colorbar": {
              "outlinewidth": 0,
              "ticks": ""
             }
            },
            "type": "parcoords"
           }
          ],
          "pie": [
           {
            "automargin": true,
            "type": "pie"
           }
          ],
          "scatter": [
           {
            "marker": {
             "colorbar": {
              "outlinewidth": 0,
              "ticks": ""
             }
            },
            "type": "scatter"
           }
          ],
          "scatter3d": [
           {
            "line": {
             "colorbar": {
              "outlinewidth": 0,
              "ticks": ""
             }
            },
            "marker": {
             "colorbar": {
              "outlinewidth": 0,
              "ticks": ""
             }
            },
            "type": "scatter3d"
           }
          ],
          "scattercarpet": [
           {
            "marker": {
             "colorbar": {
              "outlinewidth": 0,
              "ticks": ""
             }
            },
            "type": "scattercarpet"
           }
          ],
          "scattergeo": [
           {
            "marker": {
             "colorbar": {
              "outlinewidth": 0,
              "ticks": ""
             }
            },
            "type": "scattergeo"
           }
          ],
          "scattergl": [
           {
            "marker": {
             "colorbar": {
              "outlinewidth": 0,
              "ticks": ""
             }
            },
            "type": "scattergl"
           }
          ],
          "scattermapbox": [
           {
            "marker": {
             "colorbar": {
              "outlinewidth": 0,
              "ticks": ""
             }
            },
            "type": "scattermapbox"
           }
          ],
          "scatterpolar": [
           {
            "marker": {
             "colorbar": {
              "outlinewidth": 0,
              "ticks": ""
             }
            },
            "type": "scatterpolar"
           }
          ],
          "scatterpolargl": [
           {
            "marker": {
             "colorbar": {
              "outlinewidth": 0,
              "ticks": ""
             }
            },
            "type": "scatterpolargl"
           }
          ],
          "scatterternary": [
           {
            "marker": {
             "colorbar": {
              "outlinewidth": 0,
              "ticks": ""
             }
            },
            "type": "scatterternary"
           }
          ],
          "surface": [
           {
            "colorbar": {
             "outlinewidth": 0,
             "ticks": ""
            },
            "colorscale": [
             [
              0,
              "#0d0887"
             ],
             [
              0.1111111111111111,
              "#46039f"
             ],
             [
              0.2222222222222222,
              "#7201a8"
             ],
             [
              0.3333333333333333,
              "#9c179e"
             ],
             [
              0.4444444444444444,
              "#bd3786"
             ],
             [
              0.5555555555555556,
              "#d8576b"
             ],
             [
              0.6666666666666666,
              "#ed7953"
             ],
             [
              0.7777777777777778,
              "#fb9f3a"
             ],
             [
              0.8888888888888888,
              "#fdca26"
             ],
             [
              1,
              "#f0f921"
             ]
            ],
            "type": "surface"
           }
          ],
          "table": [
           {
            "cells": {
             "fill": {
              "color": "#EBF0F8"
             },
             "line": {
              "color": "white"
             }
            },
            "header": {
             "fill": {
              "color": "#C8D4E3"
             },
             "line": {
              "color": "white"
             }
            },
            "type": "table"
           }
          ]
         },
         "layout": {
          "annotationdefaults": {
           "arrowcolor": "#2a3f5f",
           "arrowhead": 0,
           "arrowwidth": 1
          },
          "autotypenumbers": "strict",
          "coloraxis": {
           "colorbar": {
            "outlinewidth": 0,
            "ticks": ""
           }
          },
          "colorscale": {
           "diverging": [
            [
             0,
             "#8e0152"
            ],
            [
             0.1,
             "#c51b7d"
            ],
            [
             0.2,
             "#de77ae"
            ],
            [
             0.3,
             "#f1b6da"
            ],
            [
             0.4,
             "#fde0ef"
            ],
            [
             0.5,
             "#f7f7f7"
            ],
            [
             0.6,
             "#e6f5d0"
            ],
            [
             0.7,
             "#b8e186"
            ],
            [
             0.8,
             "#7fbc41"
            ],
            [
             0.9,
             "#4d9221"
            ],
            [
             1,
             "#276419"
            ]
           ],
           "sequential": [
            [
             0,
             "#0d0887"
            ],
            [
             0.1111111111111111,
             "#46039f"
            ],
            [
             0.2222222222222222,
             "#7201a8"
            ],
            [
             0.3333333333333333,
             "#9c179e"
            ],
            [
             0.4444444444444444,
             "#bd3786"
            ],
            [
             0.5555555555555556,
             "#d8576b"
            ],
            [
             0.6666666666666666,
             "#ed7953"
            ],
            [
             0.7777777777777778,
             "#fb9f3a"
            ],
            [
             0.8888888888888888,
             "#fdca26"
            ],
            [
             1,
             "#f0f921"
            ]
           ],
           "sequentialminus": [
            [
             0,
             "#0d0887"
            ],
            [
             0.1111111111111111,
             "#46039f"
            ],
            [
             0.2222222222222222,
             "#7201a8"
            ],
            [
             0.3333333333333333,
             "#9c179e"
            ],
            [
             0.4444444444444444,
             "#bd3786"
            ],
            [
             0.5555555555555556,
             "#d8576b"
            ],
            [
             0.6666666666666666,
             "#ed7953"
            ],
            [
             0.7777777777777778,
             "#fb9f3a"
            ],
            [
             0.8888888888888888,
             "#fdca26"
            ],
            [
             1,
             "#f0f921"
            ]
           ]
          },
          "colorway": [
           "#636efa",
           "#EF553B",
           "#00cc96",
           "#ab63fa",
           "#FFA15A",
           "#19d3f3",
           "#FF6692",
           "#B6E880",
           "#FF97FF",
           "#FECB52"
          ],
          "font": {
           "color": "#2a3f5f"
          },
          "geo": {
           "bgcolor": "white",
           "lakecolor": "white",
           "landcolor": "#E5ECF6",
           "showlakes": true,
           "showland": true,
           "subunitcolor": "white"
          },
          "hoverlabel": {
           "align": "left"
          },
          "hovermode": "closest",
          "mapbox": {
           "style": "light"
          },
          "paper_bgcolor": "white",
          "plot_bgcolor": "#E5ECF6",
          "polar": {
           "angularaxis": {
            "gridcolor": "white",
            "linecolor": "white",
            "ticks": ""
           },
           "bgcolor": "#E5ECF6",
           "radialaxis": {
            "gridcolor": "white",
            "linecolor": "white",
            "ticks": ""
           }
          },
          "scene": {
           "xaxis": {
            "backgroundcolor": "#E5ECF6",
            "gridcolor": "white",
            "gridwidth": 2,
            "linecolor": "white",
            "showbackground": true,
            "ticks": "",
            "zerolinecolor": "white"
           },
           "yaxis": {
            "backgroundcolor": "#E5ECF6",
            "gridcolor": "white",
            "gridwidth": 2,
            "linecolor": "white",
            "showbackground": true,
            "ticks": "",
            "zerolinecolor": "white"
           },
           "zaxis": {
            "backgroundcolor": "#E5ECF6",
            "gridcolor": "white",
            "gridwidth": 2,
            "linecolor": "white",
            "showbackground": true,
            "ticks": "",
            "zerolinecolor": "white"
           }
          },
          "shapedefaults": {
           "line": {
            "color": "#2a3f5f"
           }
          },
          "ternary": {
           "aaxis": {
            "gridcolor": "white",
            "linecolor": "white",
            "ticks": ""
           },
           "baxis": {
            "gridcolor": "white",
            "linecolor": "white",
            "ticks": ""
           },
           "bgcolor": "#E5ECF6",
           "caxis": {
            "gridcolor": "white",
            "linecolor": "white",
            "ticks": ""
           }
          },
          "title": {
           "x": 0.05
          },
          "xaxis": {
           "automargin": true,
           "gridcolor": "white",
           "linecolor": "white",
           "ticks": "",
           "title": {
            "standoff": 15
           },
           "zerolinecolor": "white",
           "zerolinewidth": 2
          },
          "yaxis": {
           "automargin": true,
           "gridcolor": "white",
           "linecolor": "white",
           "ticks": "",
           "title": {
            "standoff": 15
           },
           "zerolinecolor": "white",
           "zerolinewidth": 2
          }
         }
        }
       }
      },
      "text/html": [
       "<div>                            <div id=\"5ed25b17-485c-4d7f-ace4-8cab495d2ee2\" class=\"plotly-graph-div\" style=\"height:525px; width:100%;\"></div>            <script type=\"text/javascript\">                require([\"plotly\"], function(Plotly) {                    window.PLOTLYENV=window.PLOTLYENV || {};                                    if (document.getElementById(\"5ed25b17-485c-4d7f-ace4-8cab495d2ee2\")) {                    Plotly.newPlot(                        \"5ed25b17-485c-4d7f-ace4-8cab495d2ee2\",                        [{\"branchvalues\":\"total\",\"customdata\":[[null],[\"billig\"],[\"billig\"],[\"normal\"],[null],[null],[\"billig\"],[\"normal\"],[\"billig\"],[\"billig\"],[\"billig\"],[\"normal\"],[\"normal\"],[null],[\"billig\"],[\"normal\"],[null],[null],[null],[\"billig\"],[null],[\"billig\"],[null],[\"billig\"],[\"normal\"],[\"billig\"],[null],[null],[null],[null],[null],[\"billig\"],[\"normal\"],[null],[null],[null],[\"normal\"],[null],[null],[\"billig\"],[\"billig\"],[null],[null],[\"billig\"],[null],[null],[null],[\"normal\"],[null],[null],[null],[\"normal\"],[null],[\"normal\"],[\"normal\"],[null],[null],[null],[\"normal\"],[null],[\"normal\"],[null],[null],[\"normal\"],[\"normal\"],[null],[null],[\"teuer\"],[\"teuer\"],[\"teuer\"],[null],[null],[null],[null],[\"teuer\"],[null],[null],[\"teuer\"],[null],[\"teuer\"],[null],[\"teuer\"],[null],[null],[\"teuer\"],[null],[\"teuer\"],[null],[null],[\"teuer\"],[\"teuer\"],[null],[null],[\"teuer\"],[null],[null],[\"teuer\"],[null],[\"teuer\"],[null],[\"sehr teuer\"],[null],[null],[null],[null],[null],[null],[null],[null],[null],[null],[null],[null],[\"sehr teuer\"],[null],[null],[null],[null],[null],[null],[null],[null],[null],[\"sehr teuer\"],[null],[null],[null],[null],[null],[\"sehr teuer\"],[null],[null],[\"normal\"],[\"(?)\"],[\"(?)\"],[\"teuer\"],[\"normal\"],[\"normal\"],[\"normal\"],[\"normal\"],[\"teuer\"],[\"(?)\"],[\"(?)\"],[\"teuer\"],[\"(?)\"],[\"teuer\"],[\"sehr teuer\"],[\"teuer\"],[\"billig\"],[\"billig\"],[\"(?)\"],[\"billig\"],[\"(?)\"],[\"(?)\"],[\"billig\"],[\"teuer\"],[\"(?)\"],[\"(?)\"],[\"billig\"],[\"(?)\"],[\"billig\"],[\"billig\"],[\"(?)\"],[\"(?)\"],[\"teuer\"]],\"domain\":{\"x\":[0.0,1.0],\"y\":[0.0,1.0]},\"hovertemplate\":\"labels=%{label}<br>size=%{value}<br>parent=%{parent}<br>id=%{id}<br>PriceCat=%{customdata[0]}<extra></extra>\",\"ids\":[\"Ford/normal\",\"Peugeot/billig\",\"MG/billig\",\"Honda/normal\",\"Lexus/billig\",\"Jaguar/billig\",\"Renault/billig\",\"BMW/normal\",\"SEAT/billig\",\"Sono/billig\",\"Volkswagen/billig\",\"Citroen/normal\",\"CUPRA/normal\",\"Lexus/normal\",\"Opel/billig\",\"DS/normal\",\"Tesla/billig\",\"Lightyear/normal\",\"Polestar/billig\",\"Skoda/billig\",\"Aiways/billig\",\"Mazda/billig\",\"Lightyear/billig\",\"Kia/billig\",\"Hyundai/normal\",\"Honda/billig\",\"Ford/billig\",\"Fiat/billig\",\"DS/billig\",\"Byton/billig\",\"Byton/normal\",\"Mini/billig\",\"Kia/normal\",\"BMW/billig\",\"Audi/normal\",\"Jaguar/normal\",\"Fiat/normal\",\"Porsche/billig\",\"Volvo/billig\",\"Smart/billig\",\"Nissan/billig\",\"Mercedes/billig\",\"Lucid/billig\",\"Hyundai/billig\",\"Citroen/billig\",\"CUPRA/billig\",\"Audi/billig\",\"Aiways/normal\",\"Lucid/normal\",\"MG/normal\",\"Mazda/normal\",\"Mercedes/normal\",\"Mini/normal\",\"Nissan/normal\",\"Opel/normal\",\"Peugeot/normal\",\"Polestar/normal\",\"Porsche/normal\",\"Renault/normal\",\"SEAT/normal\",\"Skoda/normal\",\"Smart/normal\",\"Sono/normal\",\"Tesla/normal\",\"Volkswagen/normal\",\"Volvo/normal\",\"Aiways/teuer\",\"Audi/teuer\",\"BMW/teuer\",\"Byton/teuer\",\"CUPRA/teuer\",\"Citroen/teuer\",\"DS/teuer\",\"Fiat/teuer\",\"Ford/teuer\",\"Honda/teuer\",\"Hyundai/teuer\",\"Jaguar/teuer\",\"Kia/teuer\",\"Lexus/teuer\",\"Lightyear/teuer\",\"Lucid/teuer\",\"MG/teuer\",\"Mazda/teuer\",\"Mercedes/teuer\",\"Mini/teuer\",\"Nissan/teuer\",\"Opel/teuer\",\"Peugeot/teuer\",\"Polestar/teuer\",\"Porsche/teuer\",\"Renault/teuer\",\"SEAT/teuer\",\"Skoda/teuer\",\"Smart/teuer\",\"Sono/teuer\",\"Tesla/teuer\",\"Volkswagen/teuer\",\"Volvo/teuer\",\"Aiways/sehr teuer\",\"Audi/sehr teuer\",\"BMW/sehr teuer\",\"Byton/sehr teuer\",\"CUPRA/sehr teuer\",\"Citroen/sehr teuer\",\"DS/sehr teuer\",\"Fiat/sehr teuer\",\"Ford/sehr teuer\",\"Honda/sehr teuer\",\"Hyundai/sehr teuer\",\"Jaguar/sehr teuer\",\"Kia/sehr teuer\",\"Lexus/sehr teuer\",\"Lightyear/sehr teuer\",\"Lucid/sehr teuer\",\"MG/sehr teuer\",\"Mazda/sehr teuer\",\"Mercedes/sehr teuer\",\"Mini/sehr teuer\",\"Nissan/sehr teuer\",\"Opel/sehr teuer\",\"Peugeot/sehr teuer\",\"Polestar/sehr teuer\",\"Porsche/sehr teuer\",\"Renault/sehr teuer\",\"SEAT/sehr teuer\",\"Skoda/sehr teuer\",\"Smart/sehr teuer\",\"Sono/sehr teuer\",\"Tesla/sehr teuer\",\"Volkswagen/sehr teuer\",\"Volvo/sehr teuer\",\"Aiways\",\"Audi\",\"BMW\",\"Byton\",\"CUPRA\",\"Citroen\",\"DS\",\"Fiat\",\"Ford\",\"Honda\",\"Hyundai\",\"Jaguar\",\"Kia\",\"Lexus\",\"Lightyear\",\"Lucid\",\"MG\",\"Mazda\",\"Mercedes\",\"Mini\",\"Nissan\",\"Opel\",\"Peugeot\",\"Polestar\",\"Porsche\",\"Renault\",\"SEAT\",\"Skoda\",\"Smart\",\"Sono\",\"Tesla\",\"Volkswagen\",\"Volvo\"],\"labels\":[\"normal\",\"billig\",\"billig\",\"normal\",\"billig\",\"billig\",\"billig\",\"normal\",\"billig\",\"billig\",\"billig\",\"normal\",\"normal\",\"normal\",\"billig\",\"normal\",\"billig\",\"normal\",\"billig\",\"billig\",\"billig\",\"billig\",\"billig\",\"billig\",\"normal\",\"billig\",\"billig\",\"billig\",\"billig\",\"billig\",\"normal\",\"billig\",\"normal\",\"billig\",\"normal\",\"normal\",\"normal\",\"billig\",\"billig\",\"billig\",\"billig\",\"billig\",\"billig\",\"billig\",\"billig\",\"billig\",\"billig\",\"normal\",\"normal\",\"normal\",\"normal\",\"normal\",\"normal\",\"normal\",\"normal\",\"normal\",\"normal\",\"normal\",\"normal\",\"normal\",\"normal\",\"normal\",\"normal\",\"normal\",\"normal\",\"normal\",\"teuer\",\"teuer\",\"teuer\",\"teuer\",\"teuer\",\"teuer\",\"teuer\",\"teuer\",\"teuer\",\"teuer\",\"teuer\",\"teuer\",\"teuer\",\"teuer\",\"teuer\",\"teuer\",\"teuer\",\"teuer\",\"teuer\",\"teuer\",\"teuer\",\"teuer\",\"teuer\",\"teuer\",\"teuer\",\"teuer\",\"teuer\",\"teuer\",\"teuer\",\"teuer\",\"teuer\",\"teuer\",\"teuer\",\"sehr teuer\",\"sehr teuer\",\"sehr teuer\",\"sehr teuer\",\"sehr teuer\",\"sehr teuer\",\"sehr teuer\",\"sehr teuer\",\"sehr teuer\",\"sehr teuer\",\"sehr teuer\",\"sehr teuer\",\"sehr teuer\",\"sehr teuer\",\"sehr teuer\",\"sehr teuer\",\"sehr teuer\",\"sehr teuer\",\"sehr teuer\",\"sehr teuer\",\"sehr teuer\",\"sehr teuer\",\"sehr teuer\",\"sehr teuer\",\"sehr teuer\",\"sehr teuer\",\"sehr teuer\",\"sehr teuer\",\"sehr teuer\",\"sehr teuer\",\"sehr teuer\",\"sehr teuer\",\"sehr teuer\",\"Aiways\",\"Audi\",\"BMW\",\"Byton\",\"CUPRA\",\"Citroen\",\"DS\",\"Fiat\",\"Ford\",\"Honda\",\"Hyundai\",\"Jaguar\",\"Kia\",\"Lexus\",\"Lightyear\",\"Lucid\",\"MG\",\"Mazda\",\"Mercedes\",\"Mini\",\"Nissan\",\"Opel\",\"Peugeot\",\"Polestar\",\"Porsche\",\"Renault\",\"SEAT\",\"Skoda\",\"Smart\",\"Sono\",\"Tesla\",\"Volkswagen\",\"Volvo\"],\"marker\":{\"colors\":[\"#636efa\",\"#EF553B\",\"#EF553B\",\"#00cc96\",\"#636efa\",\"#636efa\",\"#EF553B\",\"#00cc96\",\"#EF553B\",\"#EF553B\",\"#EF553B\",\"#00cc96\",\"#00cc96\",\"#636efa\",\"#EF553B\",\"#00cc96\",\"#636efa\",\"#636efa\",\"#636efa\",\"#EF553B\",\"#636efa\",\"#EF553B\",\"#636efa\",\"#EF553B\",\"#00cc96\",\"#EF553B\",\"#636efa\",\"#636efa\",\"#636efa\",\"#636efa\",\"#636efa\",\"#EF553B\",\"#00cc96\",\"#636efa\",\"#636efa\",\"#636efa\",\"#00cc96\",\"#636efa\",\"#636efa\",\"#EF553B\",\"#EF553B\",\"#636efa\",\"#636efa\",\"#EF553B\",\"#636efa\",\"#636efa\",\"#636efa\",\"#00cc96\",\"#636efa\",\"#636efa\",\"#636efa\",\"#00cc96\",\"#636efa\",\"#00cc96\",\"#00cc96\",\"#636efa\",\"#636efa\",\"#636efa\",\"#00cc96\",\"#636efa\",\"#00cc96\",\"#636efa\",\"#636efa\",\"#00cc96\",\"#00cc96\",\"#636efa\",\"#636efa\",\"#ab63fa\",\"#ab63fa\",\"#ab63fa\",\"#636efa\",\"#636efa\",\"#636efa\",\"#636efa\",\"#ab63fa\",\"#636efa\",\"#636efa\",\"#ab63fa\",\"#636efa\",\"#ab63fa\",\"#636efa\",\"#ab63fa\",\"#636efa\",\"#636efa\",\"#ab63fa\",\"#636efa\",\"#ab63fa\",\"#636efa\",\"#636efa\",\"#ab63fa\",\"#ab63fa\",\"#636efa\",\"#636efa\",\"#ab63fa\",\"#636efa\",\"#636efa\",\"#ab63fa\",\"#636efa\",\"#ab63fa\",\"#636efa\",\"#FFA15A\",\"#636efa\",\"#636efa\",\"#636efa\",\"#636efa\",\"#636efa\",\"#636efa\",\"#636efa\",\"#636efa\",\"#636efa\",\"#636efa\",\"#636efa\",\"#636efa\",\"#FFA15A\",\"#636efa\",\"#636efa\",\"#636efa\",\"#636efa\",\"#636efa\",\"#636efa\",\"#636efa\",\"#636efa\",\"#636efa\",\"#FFA15A\",\"#636efa\",\"#636efa\",\"#636efa\",\"#636efa\",\"#636efa\",\"#FFA15A\",\"#636efa\",\"#636efa\",\"#00cc96\",\"#19d3f3\",\"#19d3f3\",\"#ab63fa\",\"#00cc96\",\"#00cc96\",\"#00cc96\",\"#00cc96\",\"#ab63fa\",\"#19d3f3\",\"#19d3f3\",\"#ab63fa\",\"#19d3f3\",\"#ab63fa\",\"#FFA15A\",\"#ab63fa\",\"#EF553B\",\"#EF553B\",\"#19d3f3\",\"#EF553B\",\"#19d3f3\",\"#19d3f3\",\"#EF553B\",\"#ab63fa\",\"#19d3f3\",\"#19d3f3\",\"#EF553B\",\"#19d3f3\",\"#EF553B\",\"#EF553B\",\"#19d3f3\",\"#19d3f3\",\"#ab63fa\"]},\"name\":\"\",\"parents\":[\"Ford\",\"Peugeot\",\"MG\",\"Honda\",\"Lexus\",\"Jaguar\",\"Renault\",\"BMW\",\"SEAT\",\"Sono\",\"Volkswagen\",\"Citroen\",\"CUPRA\",\"Lexus\",\"Opel\",\"DS\",\"Tesla\",\"Lightyear\",\"Polestar\",\"Skoda\",\"Aiways\",\"Mazda\",\"Lightyear\",\"Kia\",\"Hyundai\",\"Honda\",\"Ford\",\"Fiat\",\"DS\",\"Byton\",\"Byton\",\"Mini\",\"Kia\",\"BMW\",\"Audi\",\"Jaguar\",\"Fiat\",\"Porsche\",\"Volvo\",\"Smart\",\"Nissan\",\"Mercedes\",\"Lucid\",\"Hyundai\",\"Citroen\",\"CUPRA\",\"Audi\",\"Aiways\",\"Lucid\",\"MG\",\"Mazda\",\"Mercedes\",\"Mini\",\"Nissan\",\"Opel\",\"Peugeot\",\"Polestar\",\"Porsche\",\"Renault\",\"SEAT\",\"Skoda\",\"Smart\",\"Sono\",\"Tesla\",\"Volkswagen\",\"Volvo\",\"Aiways\",\"Audi\",\"BMW\",\"Byton\",\"CUPRA\",\"Citroen\",\"DS\",\"Fiat\",\"Ford\",\"Honda\",\"Hyundai\",\"Jaguar\",\"Kia\",\"Lexus\",\"Lightyear\",\"Lucid\",\"MG\",\"Mazda\",\"Mercedes\",\"Mini\",\"Nissan\",\"Opel\",\"Peugeot\",\"Polestar\",\"Porsche\",\"Renault\",\"SEAT\",\"Skoda\",\"Smart\",\"Sono\",\"Tesla\",\"Volkswagen\",\"Volvo\",\"Aiways\",\"Audi\",\"BMW\",\"Byton\",\"CUPRA\",\"Citroen\",\"DS\",\"Fiat\",\"Ford\",\"Honda\",\"Hyundai\",\"Jaguar\",\"Kia\",\"Lexus\",\"Lightyear\",\"Lucid\",\"MG\",\"Mazda\",\"Mercedes\",\"Mini\",\"Nissan\",\"Opel\",\"Peugeot\",\"Polestar\",\"Porsche\",\"Renault\",\"SEAT\",\"Skoda\",\"Smart\",\"Sono\",\"Tesla\",\"Volkswagen\",\"Volvo\",\"\",\"\",\"\",\"\",\"\",\"\",\"\",\"\",\"\",\"\",\"\",\"\",\"\",\"\",\"\",\"\",\"\",\"\",\"\",\"\",\"\",\"\",\"\",\"\",\"\",\"\",\"\",\"\",\"\",\"\",\"\",\"\",\"\"],\"values\":[0,2,1,1,0,0,4,2,1,1,4,1,1,0,1,1,0,0,0,1,0,1,0,2,2,1,0,0,0,0,0,1,2,0,0,0,2,0,0,3,2,0,0,1,0,0,0,1,0,0,0,1,0,2,2,0,0,0,1,0,4,0,0,1,4,0,0,8,2,3,0,0,0,0,4,0,0,1,0,1,0,1,0,0,2,0,4,0,0,1,2,0,0,1,0,0,11,0,1,0,1,0,0,0,0,0,0,0,0,0,0,0,0,1,0,0,0,0,0,0,0,0,0,3,0,0,0,0,0,1,0,0,1,9,4,3,1,1,1,2,4,2,3,1,4,1,1,1,1,1,3,1,8,3,2,1,5,5,1,6,3,1,13,8,1],\"type\":\"treemap\",\"root\":{\"color\":\"lightgrey\"}}],                        {\"template\":{\"data\":{\"bar\":[{\"error_x\":{\"color\":\"#2a3f5f\"},\"error_y\":{\"color\":\"#2a3f5f\"},\"marker\":{\"line\":{\"color\":\"#E5ECF6\",\"width\":0.5},\"pattern\":{\"fillmode\":\"overlay\",\"size\":10,\"solidity\":0.2}},\"type\":\"bar\"}],\"barpolar\":[{\"marker\":{\"line\":{\"color\":\"#E5ECF6\",\"width\":0.5},\"pattern\":{\"fillmode\":\"overlay\",\"size\":10,\"solidity\":0.2}},\"type\":\"barpolar\"}],\"carpet\":[{\"aaxis\":{\"endlinecolor\":\"#2a3f5f\",\"gridcolor\":\"white\",\"linecolor\":\"white\",\"minorgridcolor\":\"white\",\"startlinecolor\":\"#2a3f5f\"},\"baxis\":{\"endlinecolor\":\"#2a3f5f\",\"gridcolor\":\"white\",\"linecolor\":\"white\",\"minorgridcolor\":\"white\",\"startlinecolor\":\"#2a3f5f\"},\"type\":\"carpet\"}],\"choropleth\":[{\"colorbar\":{\"outlinewidth\":0,\"ticks\":\"\"},\"type\":\"choropleth\"}],\"contour\":[{\"colorbar\":{\"outlinewidth\":0,\"ticks\":\"\"},\"colorscale\":[[0.0,\"#0d0887\"],[0.1111111111111111,\"#46039f\"],[0.2222222222222222,\"#7201a8\"],[0.3333333333333333,\"#9c179e\"],[0.4444444444444444,\"#bd3786\"],[0.5555555555555556,\"#d8576b\"],[0.6666666666666666,\"#ed7953\"],[0.7777777777777778,\"#fb9f3a\"],[0.8888888888888888,\"#fdca26\"],[1.0,\"#f0f921\"]],\"type\":\"contour\"}],\"contourcarpet\":[{\"colorbar\":{\"outlinewidth\":0,\"ticks\":\"\"},\"type\":\"contourcarpet\"}],\"heatmap\":[{\"colorbar\":{\"outlinewidth\":0,\"ticks\":\"\"},\"colorscale\":[[0.0,\"#0d0887\"],[0.1111111111111111,\"#46039f\"],[0.2222222222222222,\"#7201a8\"],[0.3333333333333333,\"#9c179e\"],[0.4444444444444444,\"#bd3786\"],[0.5555555555555556,\"#d8576b\"],[0.6666666666666666,\"#ed7953\"],[0.7777777777777778,\"#fb9f3a\"],[0.8888888888888888,\"#fdca26\"],[1.0,\"#f0f921\"]],\"type\":\"heatmap\"}],\"heatmapgl\":[{\"colorbar\":{\"outlinewidth\":0,\"ticks\":\"\"},\"colorscale\":[[0.0,\"#0d0887\"],[0.1111111111111111,\"#46039f\"],[0.2222222222222222,\"#7201a8\"],[0.3333333333333333,\"#9c179e\"],[0.4444444444444444,\"#bd3786\"],[0.5555555555555556,\"#d8576b\"],[0.6666666666666666,\"#ed7953\"],[0.7777777777777778,\"#fb9f3a\"],[0.8888888888888888,\"#fdca26\"],[1.0,\"#f0f921\"]],\"type\":\"heatmapgl\"}],\"histogram\":[{\"marker\":{\"pattern\":{\"fillmode\":\"overlay\",\"size\":10,\"solidity\":0.2}},\"type\":\"histogram\"}],\"histogram2d\":[{\"colorbar\":{\"outlinewidth\":0,\"ticks\":\"\"},\"colorscale\":[[0.0,\"#0d0887\"],[0.1111111111111111,\"#46039f\"],[0.2222222222222222,\"#7201a8\"],[0.3333333333333333,\"#9c179e\"],[0.4444444444444444,\"#bd3786\"],[0.5555555555555556,\"#d8576b\"],[0.6666666666666666,\"#ed7953\"],[0.7777777777777778,\"#fb9f3a\"],[0.8888888888888888,\"#fdca26\"],[1.0,\"#f0f921\"]],\"type\":\"histogram2d\"}],\"histogram2dcontour\":[{\"colorbar\":{\"outlinewidth\":0,\"ticks\":\"\"},\"colorscale\":[[0.0,\"#0d0887\"],[0.1111111111111111,\"#46039f\"],[0.2222222222222222,\"#7201a8\"],[0.3333333333333333,\"#9c179e\"],[0.4444444444444444,\"#bd3786\"],[0.5555555555555556,\"#d8576b\"],[0.6666666666666666,\"#ed7953\"],[0.7777777777777778,\"#fb9f3a\"],[0.8888888888888888,\"#fdca26\"],[1.0,\"#f0f921\"]],\"type\":\"histogram2dcontour\"}],\"mesh3d\":[{\"colorbar\":{\"outlinewidth\":0,\"ticks\":\"\"},\"type\":\"mesh3d\"}],\"parcoords\":[{\"line\":{\"colorbar\":{\"outlinewidth\":0,\"ticks\":\"\"}},\"type\":\"parcoords\"}],\"pie\":[{\"automargin\":true,\"type\":\"pie\"}],\"scatter\":[{\"marker\":{\"colorbar\":{\"outlinewidth\":0,\"ticks\":\"\"}},\"type\":\"scatter\"}],\"scatter3d\":[{\"line\":{\"colorbar\":{\"outlinewidth\":0,\"ticks\":\"\"}},\"marker\":{\"colorbar\":{\"outlinewidth\":0,\"ticks\":\"\"}},\"type\":\"scatter3d\"}],\"scattercarpet\":[{\"marker\":{\"colorbar\":{\"outlinewidth\":0,\"ticks\":\"\"}},\"type\":\"scattercarpet\"}],\"scattergeo\":[{\"marker\":{\"colorbar\":{\"outlinewidth\":0,\"ticks\":\"\"}},\"type\":\"scattergeo\"}],\"scattergl\":[{\"marker\":{\"colorbar\":{\"outlinewidth\":0,\"ticks\":\"\"}},\"type\":\"scattergl\"}],\"scattermapbox\":[{\"marker\":{\"colorbar\":{\"outlinewidth\":0,\"ticks\":\"\"}},\"type\":\"scattermapbox\"}],\"scatterpolar\":[{\"marker\":{\"colorbar\":{\"outlinewidth\":0,\"ticks\":\"\"}},\"type\":\"scatterpolar\"}],\"scatterpolargl\":[{\"marker\":{\"colorbar\":{\"outlinewidth\":0,\"ticks\":\"\"}},\"type\":\"scatterpolargl\"}],\"scatterternary\":[{\"marker\":{\"colorbar\":{\"outlinewidth\":0,\"ticks\":\"\"}},\"type\":\"scatterternary\"}],\"surface\":[{\"colorbar\":{\"outlinewidth\":0,\"ticks\":\"\"},\"colorscale\":[[0.0,\"#0d0887\"],[0.1111111111111111,\"#46039f\"],[0.2222222222222222,\"#7201a8\"],[0.3333333333333333,\"#9c179e\"],[0.4444444444444444,\"#bd3786\"],[0.5555555555555556,\"#d8576b\"],[0.6666666666666666,\"#ed7953\"],[0.7777777777777778,\"#fb9f3a\"],[0.8888888888888888,\"#fdca26\"],[1.0,\"#f0f921\"]],\"type\":\"surface\"}],\"table\":[{\"cells\":{\"fill\":{\"color\":\"#EBF0F8\"},\"line\":{\"color\":\"white\"}},\"header\":{\"fill\":{\"color\":\"#C8D4E3\"},\"line\":{\"color\":\"white\"}},\"type\":\"table\"}]},\"layout\":{\"annotationdefaults\":{\"arrowcolor\":\"#2a3f5f\",\"arrowhead\":0,\"arrowwidth\":1},\"autotypenumbers\":\"strict\",\"coloraxis\":{\"colorbar\":{\"outlinewidth\":0,\"ticks\":\"\"}},\"colorscale\":{\"diverging\":[[0,\"#8e0152\"],[0.1,\"#c51b7d\"],[0.2,\"#de77ae\"],[0.3,\"#f1b6da\"],[0.4,\"#fde0ef\"],[0.5,\"#f7f7f7\"],[0.6,\"#e6f5d0\"],[0.7,\"#b8e186\"],[0.8,\"#7fbc41\"],[0.9,\"#4d9221\"],[1,\"#276419\"]],\"sequential\":[[0.0,\"#0d0887\"],[0.1111111111111111,\"#46039f\"],[0.2222222222222222,\"#7201a8\"],[0.3333333333333333,\"#9c179e\"],[0.4444444444444444,\"#bd3786\"],[0.5555555555555556,\"#d8576b\"],[0.6666666666666666,\"#ed7953\"],[0.7777777777777778,\"#fb9f3a\"],[0.8888888888888888,\"#fdca26\"],[1.0,\"#f0f921\"]],\"sequentialminus\":[[0.0,\"#0d0887\"],[0.1111111111111111,\"#46039f\"],[0.2222222222222222,\"#7201a8\"],[0.3333333333333333,\"#9c179e\"],[0.4444444444444444,\"#bd3786\"],[0.5555555555555556,\"#d8576b\"],[0.6666666666666666,\"#ed7953\"],[0.7777777777777778,\"#fb9f3a\"],[0.8888888888888888,\"#fdca26\"],[1.0,\"#f0f921\"]]},\"colorway\":[\"#636efa\",\"#EF553B\",\"#00cc96\",\"#ab63fa\",\"#FFA15A\",\"#19d3f3\",\"#FF6692\",\"#B6E880\",\"#FF97FF\",\"#FECB52\"],\"font\":{\"color\":\"#2a3f5f\"},\"geo\":{\"bgcolor\":\"white\",\"lakecolor\":\"white\",\"landcolor\":\"#E5ECF6\",\"showlakes\":true,\"showland\":true,\"subunitcolor\":\"white\"},\"hoverlabel\":{\"align\":\"left\"},\"hovermode\":\"closest\",\"mapbox\":{\"style\":\"light\"},\"paper_bgcolor\":\"white\",\"plot_bgcolor\":\"#E5ECF6\",\"polar\":{\"angularaxis\":{\"gridcolor\":\"white\",\"linecolor\":\"white\",\"ticks\":\"\"},\"bgcolor\":\"#E5ECF6\",\"radialaxis\":{\"gridcolor\":\"white\",\"linecolor\":\"white\",\"ticks\":\"\"}},\"scene\":{\"xaxis\":{\"backgroundcolor\":\"#E5ECF6\",\"gridcolor\":\"white\",\"gridwidth\":2,\"linecolor\":\"white\",\"showbackground\":true,\"ticks\":\"\",\"zerolinecolor\":\"white\"},\"yaxis\":{\"backgroundcolor\":\"#E5ECF6\",\"gridcolor\":\"white\",\"gridwidth\":2,\"linecolor\":\"white\",\"showbackground\":true,\"ticks\":\"\",\"zerolinecolor\":\"white\"},\"zaxis\":{\"backgroundcolor\":\"#E5ECF6\",\"gridcolor\":\"white\",\"gridwidth\":2,\"linecolor\":\"white\",\"showbackground\":true,\"ticks\":\"\",\"zerolinecolor\":\"white\"}},\"shapedefaults\":{\"line\":{\"color\":\"#2a3f5f\"}},\"ternary\":{\"aaxis\":{\"gridcolor\":\"white\",\"linecolor\":\"white\",\"ticks\":\"\"},\"baxis\":{\"gridcolor\":\"white\",\"linecolor\":\"white\",\"ticks\":\"\"},\"bgcolor\":\"#E5ECF6\",\"caxis\":{\"gridcolor\":\"white\",\"linecolor\":\"white\",\"ticks\":\"\"}},\"title\":{\"x\":0.05},\"xaxis\":{\"automargin\":true,\"gridcolor\":\"white\",\"linecolor\":\"white\",\"ticks\":\"\",\"title\":{\"standoff\":15},\"zerolinecolor\":\"white\",\"zerolinewidth\":2},\"yaxis\":{\"automargin\":true,\"gridcolor\":\"white\",\"linecolor\":\"white\",\"ticks\":\"\",\"title\":{\"standoff\":15},\"zerolinecolor\":\"white\",\"zerolinewidth\":2}}},\"legend\":{\"tracegroupgap\":0},\"margin\":{\"t\":50,\"l\":25,\"r\":25,\"b\":25}},                        {\"responsive\": true}                    ).then(function(){\n",
       "                            \n",
       "var gd = document.getElementById('5ed25b17-485c-4d7f-ace4-8cab495d2ee2');\n",
       "var x = new MutationObserver(function (mutations, observer) {{\n",
       "        var display = window.getComputedStyle(gd).display;\n",
       "        if (!display || display === 'none') {{\n",
       "            console.log([gd, 'removed!']);\n",
       "            Plotly.purge(gd);\n",
       "            observer.disconnect();\n",
       "        }}\n",
       "}});\n",
       "\n",
       "// Listen for the removal of the full notebook cells\n",
       "var notebookContainer = gd.closest('#notebook-container');\n",
       "if (notebookContainer) {{\n",
       "    x.observe(notebookContainer, {childList: true});\n",
       "}}\n",
       "\n",
       "// Listen for the clearing of the current output cell\n",
       "var outputEl = gd.closest('.output');\n",
       "if (outputEl) {{\n",
       "    x.observe(outputEl, {childList: true});\n",
       "}}\n",
       "\n",
       "                        })                };                });            </script>        </div>"
      ]
     },
     "metadata": {},
     "output_type": "display_data"
    }
   ],
   "source": [
    "import plotly.express as px\n",
    "fig = px.treemap(df_mod1, path=[\"Brand\", \"PriceCat\"],\n",
    "                 values=\"size\",\n",
    "                 color = \"PriceCat\"\n",
    "                )\n",
    "fig.update_traces(root_color=\"lightgrey\")\n",
    "fig.update_layout(margin = dict(t=50, l=25, r=25, b=25))\n",
    "fig.show()"
   ]
  },
  {
   "cell_type": "code",
   "execution_count": 78,
   "metadata": {},
   "outputs": [
    {
     "data": {
      "text/html": [
       "<div>\n",
       "<style scoped>\n",
       "    .dataframe tbody tr th:only-of-type {\n",
       "        vertical-align: middle;\n",
       "    }\n",
       "\n",
       "    .dataframe tbody tr th {\n",
       "        vertical-align: top;\n",
       "    }\n",
       "\n",
       "    .dataframe thead th {\n",
       "        text-align: right;\n",
       "    }\n",
       "</style>\n",
       "<table border=\"1\" class=\"dataframe\">\n",
       "  <thead>\n",
       "    <tr style=\"text-align: right;\">\n",
       "      <th></th>\n",
       "      <th>RapidCharge</th>\n",
       "    </tr>\n",
       "    <tr>\n",
       "      <th>RapidCharge</th>\n",
       "      <th></th>\n",
       "    </tr>\n",
       "  </thead>\n",
       "  <tbody>\n",
       "    <tr>\n",
       "      <th>No</th>\n",
       "      <td>5</td>\n",
       "    </tr>\n",
       "    <tr>\n",
       "      <th>Yes</th>\n",
       "      <td>97</td>\n",
       "    </tr>\n",
       "  </tbody>\n",
       "</table>\n",
       "</div>"
      ],
      "text/plain": [
       "             RapidCharge\n",
       "RapidCharge             \n",
       "No                     5\n",
       "Yes                   97"
      ]
     },
     "execution_count": 78,
     "metadata": {},
     "output_type": "execute_result"
    }
   ],
   "source": [
    "df_group2 = df_opti.groupby('RapidCharge').agg({'RapidCharge':'size'}) \n",
    "df_group2 "
   ]
  },
  {
   "cell_type": "code",
   "execution_count": 79,
   "metadata": {},
   "outputs": [
    {
     "data": {
      "application/vnd.plotly.v1+json": {
       "config": {
        "plotlyServerURL": "https://plot.ly"
       },
       "data": [
        {
         "customdata": [
          [
           "No"
          ],
          [
           "Yes"
          ]
         ],
         "domain": {
          "x": [
           0,
           1
          ],
          "y": [
           0,
           1
          ]
         },
         "hoverinfo": "percent+label",
         "hovertemplate": "label=%{label}<br>value=%{value}<br>color=%{customdata[0]}<extra></extra>",
         "insidetextorientation": "horizontal",
         "labels": [
          "Nein",
          "Ja"
         ],
         "legendgroup": "",
         "marker": {
          "colors": [
           "#ff6532",
           "#009ACD"
          ]
         },
         "name": "",
         "showlegend": true,
         "textinfo": "value+percent",
         "textposition": "inside",
         "type": "pie",
         "values": [
          5,
          97
         ]
        }
       ],
       "layout": {
        "legend": {
         "title": {
          "text": "Hat das Auto RapidCharge?"
         },
         "tracegroupgap": 0,
         "traceorder": "reversed"
        },
        "template": {
         "data": {
          "bar": [
           {
            "error_x": {
             "color": "#2a3f5f"
            },
            "error_y": {
             "color": "#2a3f5f"
            },
            "marker": {
             "line": {
              "color": "#E5ECF6",
              "width": 0.5
             },
             "pattern": {
              "fillmode": "overlay",
              "size": 10,
              "solidity": 0.2
             }
            },
            "type": "bar"
           }
          ],
          "barpolar": [
           {
            "marker": {
             "line": {
              "color": "#E5ECF6",
              "width": 0.5
             },
             "pattern": {
              "fillmode": "overlay",
              "size": 10,
              "solidity": 0.2
             }
            },
            "type": "barpolar"
           }
          ],
          "carpet": [
           {
            "aaxis": {
             "endlinecolor": "#2a3f5f",
             "gridcolor": "white",
             "linecolor": "white",
             "minorgridcolor": "white",
             "startlinecolor": "#2a3f5f"
            },
            "baxis": {
             "endlinecolor": "#2a3f5f",
             "gridcolor": "white",
             "linecolor": "white",
             "minorgridcolor": "white",
             "startlinecolor": "#2a3f5f"
            },
            "type": "carpet"
           }
          ],
          "choropleth": [
           {
            "colorbar": {
             "outlinewidth": 0,
             "ticks": ""
            },
            "type": "choropleth"
           }
          ],
          "contour": [
           {
            "colorbar": {
             "outlinewidth": 0,
             "ticks": ""
            },
            "colorscale": [
             [
              0,
              "#0d0887"
             ],
             [
              0.1111111111111111,
              "#46039f"
             ],
             [
              0.2222222222222222,
              "#7201a8"
             ],
             [
              0.3333333333333333,
              "#9c179e"
             ],
             [
              0.4444444444444444,
              "#bd3786"
             ],
             [
              0.5555555555555556,
              "#d8576b"
             ],
             [
              0.6666666666666666,
              "#ed7953"
             ],
             [
              0.7777777777777778,
              "#fb9f3a"
             ],
             [
              0.8888888888888888,
              "#fdca26"
             ],
             [
              1,
              "#f0f921"
             ]
            ],
            "type": "contour"
           }
          ],
          "contourcarpet": [
           {
            "colorbar": {
             "outlinewidth": 0,
             "ticks": ""
            },
            "type": "contourcarpet"
           }
          ],
          "heatmap": [
           {
            "colorbar": {
             "outlinewidth": 0,
             "ticks": ""
            },
            "colorscale": [
             [
              0,
              "#0d0887"
             ],
             [
              0.1111111111111111,
              "#46039f"
             ],
             [
              0.2222222222222222,
              "#7201a8"
             ],
             [
              0.3333333333333333,
              "#9c179e"
             ],
             [
              0.4444444444444444,
              "#bd3786"
             ],
             [
              0.5555555555555556,
              "#d8576b"
             ],
             [
              0.6666666666666666,
              "#ed7953"
             ],
             [
              0.7777777777777778,
              "#fb9f3a"
             ],
             [
              0.8888888888888888,
              "#fdca26"
             ],
             [
              1,
              "#f0f921"
             ]
            ],
            "type": "heatmap"
           }
          ],
          "heatmapgl": [
           {
            "colorbar": {
             "outlinewidth": 0,
             "ticks": ""
            },
            "colorscale": [
             [
              0,
              "#0d0887"
             ],
             [
              0.1111111111111111,
              "#46039f"
             ],
             [
              0.2222222222222222,
              "#7201a8"
             ],
             [
              0.3333333333333333,
              "#9c179e"
             ],
             [
              0.4444444444444444,
              "#bd3786"
             ],
             [
              0.5555555555555556,
              "#d8576b"
             ],
             [
              0.6666666666666666,
              "#ed7953"
             ],
             [
              0.7777777777777778,
              "#fb9f3a"
             ],
             [
              0.8888888888888888,
              "#fdca26"
             ],
             [
              1,
              "#f0f921"
             ]
            ],
            "type": "heatmapgl"
           }
          ],
          "histogram": [
           {
            "marker": {
             "pattern": {
              "fillmode": "overlay",
              "size": 10,
              "solidity": 0.2
             }
            },
            "type": "histogram"
           }
          ],
          "histogram2d": [
           {
            "colorbar": {
             "outlinewidth": 0,
             "ticks": ""
            },
            "colorscale": [
             [
              0,
              "#0d0887"
             ],
             [
              0.1111111111111111,
              "#46039f"
             ],
             [
              0.2222222222222222,
              "#7201a8"
             ],
             [
              0.3333333333333333,
              "#9c179e"
             ],
             [
              0.4444444444444444,
              "#bd3786"
             ],
             [
              0.5555555555555556,
              "#d8576b"
             ],
             [
              0.6666666666666666,
              "#ed7953"
             ],
             [
              0.7777777777777778,
              "#fb9f3a"
             ],
             [
              0.8888888888888888,
              "#fdca26"
             ],
             [
              1,
              "#f0f921"
             ]
            ],
            "type": "histogram2d"
           }
          ],
          "histogram2dcontour": [
           {
            "colorbar": {
             "outlinewidth": 0,
             "ticks": ""
            },
            "colorscale": [
             [
              0,
              "#0d0887"
             ],
             [
              0.1111111111111111,
              "#46039f"
             ],
             [
              0.2222222222222222,
              "#7201a8"
             ],
             [
              0.3333333333333333,
              "#9c179e"
             ],
             [
              0.4444444444444444,
              "#bd3786"
             ],
             [
              0.5555555555555556,
              "#d8576b"
             ],
             [
              0.6666666666666666,
              "#ed7953"
             ],
             [
              0.7777777777777778,
              "#fb9f3a"
             ],
             [
              0.8888888888888888,
              "#fdca26"
             ],
             [
              1,
              "#f0f921"
             ]
            ],
            "type": "histogram2dcontour"
           }
          ],
          "mesh3d": [
           {
            "colorbar": {
             "outlinewidth": 0,
             "ticks": ""
            },
            "type": "mesh3d"
           }
          ],
          "parcoords": [
           {
            "line": {
             "colorbar": {
              "outlinewidth": 0,
              "ticks": ""
             }
            },
            "type": "parcoords"
           }
          ],
          "pie": [
           {
            "automargin": true,
            "type": "pie"
           }
          ],
          "scatter": [
           {
            "marker": {
             "colorbar": {
              "outlinewidth": 0,
              "ticks": ""
             }
            },
            "type": "scatter"
           }
          ],
          "scatter3d": [
           {
            "line": {
             "colorbar": {
              "outlinewidth": 0,
              "ticks": ""
             }
            },
            "marker": {
             "colorbar": {
              "outlinewidth": 0,
              "ticks": ""
             }
            },
            "type": "scatter3d"
           }
          ],
          "scattercarpet": [
           {
            "marker": {
             "colorbar": {
              "outlinewidth": 0,
              "ticks": ""
             }
            },
            "type": "scattercarpet"
           }
          ],
          "scattergeo": [
           {
            "marker": {
             "colorbar": {
              "outlinewidth": 0,
              "ticks": ""
             }
            },
            "type": "scattergeo"
           }
          ],
          "scattergl": [
           {
            "marker": {
             "colorbar": {
              "outlinewidth": 0,
              "ticks": ""
             }
            },
            "type": "scattergl"
           }
          ],
          "scattermapbox": [
           {
            "marker": {
             "colorbar": {
              "outlinewidth": 0,
              "ticks": ""
             }
            },
            "type": "scattermapbox"
           }
          ],
          "scatterpolar": [
           {
            "marker": {
             "colorbar": {
              "outlinewidth": 0,
              "ticks": ""
             }
            },
            "type": "scatterpolar"
           }
          ],
          "scatterpolargl": [
           {
            "marker": {
             "colorbar": {
              "outlinewidth": 0,
              "ticks": ""
             }
            },
            "type": "scatterpolargl"
           }
          ],
          "scatterternary": [
           {
            "marker": {
             "colorbar": {
              "outlinewidth": 0,
              "ticks": ""
             }
            },
            "type": "scatterternary"
           }
          ],
          "surface": [
           {
            "colorbar": {
             "outlinewidth": 0,
             "ticks": ""
            },
            "colorscale": [
             [
              0,
              "#0d0887"
             ],
             [
              0.1111111111111111,
              "#46039f"
             ],
             [
              0.2222222222222222,
              "#7201a8"
             ],
             [
              0.3333333333333333,
              "#9c179e"
             ],
             [
              0.4444444444444444,
              "#bd3786"
             ],
             [
              0.5555555555555556,
              "#d8576b"
             ],
             [
              0.6666666666666666,
              "#ed7953"
             ],
             [
              0.7777777777777778,
              "#fb9f3a"
             ],
             [
              0.8888888888888888,
              "#fdca26"
             ],
             [
              1,
              "#f0f921"
             ]
            ],
            "type": "surface"
           }
          ],
          "table": [
           {
            "cells": {
             "fill": {
              "color": "#EBF0F8"
             },
             "line": {
              "color": "white"
             }
            },
            "header": {
             "fill": {
              "color": "#C8D4E3"
             },
             "line": {
              "color": "white"
             }
            },
            "type": "table"
           }
          ]
         },
         "layout": {
          "annotationdefaults": {
           "arrowcolor": "#2a3f5f",
           "arrowhead": 0,
           "arrowwidth": 1
          },
          "autotypenumbers": "strict",
          "coloraxis": {
           "colorbar": {
            "outlinewidth": 0,
            "ticks": ""
           }
          },
          "colorscale": {
           "diverging": [
            [
             0,
             "#8e0152"
            ],
            [
             0.1,
             "#c51b7d"
            ],
            [
             0.2,
             "#de77ae"
            ],
            [
             0.3,
             "#f1b6da"
            ],
            [
             0.4,
             "#fde0ef"
            ],
            [
             0.5,
             "#f7f7f7"
            ],
            [
             0.6,
             "#e6f5d0"
            ],
            [
             0.7,
             "#b8e186"
            ],
            [
             0.8,
             "#7fbc41"
            ],
            [
             0.9,
             "#4d9221"
            ],
            [
             1,
             "#276419"
            ]
           ],
           "sequential": [
            [
             0,
             "#0d0887"
            ],
            [
             0.1111111111111111,
             "#46039f"
            ],
            [
             0.2222222222222222,
             "#7201a8"
            ],
            [
             0.3333333333333333,
             "#9c179e"
            ],
            [
             0.4444444444444444,
             "#bd3786"
            ],
            [
             0.5555555555555556,
             "#d8576b"
            ],
            [
             0.6666666666666666,
             "#ed7953"
            ],
            [
             0.7777777777777778,
             "#fb9f3a"
            ],
            [
             0.8888888888888888,
             "#fdca26"
            ],
            [
             1,
             "#f0f921"
            ]
           ],
           "sequentialminus": [
            [
             0,
             "#0d0887"
            ],
            [
             0.1111111111111111,
             "#46039f"
            ],
            [
             0.2222222222222222,
             "#7201a8"
            ],
            [
             0.3333333333333333,
             "#9c179e"
            ],
            [
             0.4444444444444444,
             "#bd3786"
            ],
            [
             0.5555555555555556,
             "#d8576b"
            ],
            [
             0.6666666666666666,
             "#ed7953"
            ],
            [
             0.7777777777777778,
             "#fb9f3a"
            ],
            [
             0.8888888888888888,
             "#fdca26"
            ],
            [
             1,
             "#f0f921"
            ]
           ]
          },
          "colorway": [
           "#636efa",
           "#EF553B",
           "#00cc96",
           "#ab63fa",
           "#FFA15A",
           "#19d3f3",
           "#FF6692",
           "#B6E880",
           "#FF97FF",
           "#FECB52"
          ],
          "font": {
           "color": "#2a3f5f"
          },
          "geo": {
           "bgcolor": "white",
           "lakecolor": "white",
           "landcolor": "#E5ECF6",
           "showlakes": true,
           "showland": true,
           "subunitcolor": "white"
          },
          "hoverlabel": {
           "align": "left"
          },
          "hovermode": "closest",
          "mapbox": {
           "style": "light"
          },
          "paper_bgcolor": "white",
          "plot_bgcolor": "#E5ECF6",
          "polar": {
           "angularaxis": {
            "gridcolor": "white",
            "linecolor": "white",
            "ticks": ""
           },
           "bgcolor": "#E5ECF6",
           "radialaxis": {
            "gridcolor": "white",
            "linecolor": "white",
            "ticks": ""
           }
          },
          "scene": {
           "xaxis": {
            "backgroundcolor": "#E5ECF6",
            "gridcolor": "white",
            "gridwidth": 2,
            "linecolor": "white",
            "showbackground": true,
            "ticks": "",
            "zerolinecolor": "white"
           },
           "yaxis": {
            "backgroundcolor": "#E5ECF6",
            "gridcolor": "white",
            "gridwidth": 2,
            "linecolor": "white",
            "showbackground": true,
            "ticks": "",
            "zerolinecolor": "white"
           },
           "zaxis": {
            "backgroundcolor": "#E5ECF6",
            "gridcolor": "white",
            "gridwidth": 2,
            "linecolor": "white",
            "showbackground": true,
            "ticks": "",
            "zerolinecolor": "white"
           }
          },
          "shapedefaults": {
           "line": {
            "color": "#2a3f5f"
           }
          },
          "ternary": {
           "aaxis": {
            "gridcolor": "white",
            "linecolor": "white",
            "ticks": ""
           },
           "baxis": {
            "gridcolor": "white",
            "linecolor": "white",
            "ticks": ""
           },
           "bgcolor": "#E5ECF6",
           "caxis": {
            "gridcolor": "white",
            "linecolor": "white",
            "ticks": ""
           }
          },
          "title": {
           "x": 0.05
          },
          "xaxis": {
           "automargin": true,
           "gridcolor": "white",
           "linecolor": "white",
           "ticks": "",
           "title": {
            "standoff": 15
           },
           "zerolinecolor": "white",
           "zerolinewidth": 2
          },
          "yaxis": {
           "automargin": true,
           "gridcolor": "white",
           "linecolor": "white",
           "ticks": "",
           "title": {
            "standoff": 15
           },
           "zerolinecolor": "white",
           "zerolinewidth": 2
          }
         }
        },
        "title": {
         "text": "Ist RapidCharge ein Special Feature?"
        }
       }
      },
      "text/html": [
       "<div>                            <div id=\"ea4b5356-250f-4f0f-8d80-a67381ec5190\" class=\"plotly-graph-div\" style=\"height:525px; width:100%;\"></div>            <script type=\"text/javascript\">                require([\"plotly\"], function(Plotly) {                    window.PLOTLYENV=window.PLOTLYENV || {};                                    if (document.getElementById(\"ea4b5356-250f-4f0f-8d80-a67381ec5190\")) {                    Plotly.newPlot(                        \"ea4b5356-250f-4f0f-8d80-a67381ec5190\",                        [{\"customdata\":[[\"No\"],[\"Yes\"]],\"domain\":{\"x\":[0.0,1.0],\"y\":[0.0,1.0]},\"hovertemplate\":\"label=%{label}<br>value=%{value}<br>color=%{customdata[0]}<extra></extra>\",\"labels\":[\"Nein\",\"Ja\"],\"legendgroup\":\"\",\"marker\":{\"colors\":[\"#ff6532\",\"#009ACD\"]},\"name\":\"\",\"showlegend\":true,\"values\":[5,97],\"type\":\"pie\",\"hoverinfo\":\"percent+label\",\"insidetextorientation\":\"horizontal\",\"textinfo\":\"value+percent\",\"textposition\":\"inside\"}],                        {\"template\":{\"data\":{\"bar\":[{\"error_x\":{\"color\":\"#2a3f5f\"},\"error_y\":{\"color\":\"#2a3f5f\"},\"marker\":{\"line\":{\"color\":\"#E5ECF6\",\"width\":0.5},\"pattern\":{\"fillmode\":\"overlay\",\"size\":10,\"solidity\":0.2}},\"type\":\"bar\"}],\"barpolar\":[{\"marker\":{\"line\":{\"color\":\"#E5ECF6\",\"width\":0.5},\"pattern\":{\"fillmode\":\"overlay\",\"size\":10,\"solidity\":0.2}},\"type\":\"barpolar\"}],\"carpet\":[{\"aaxis\":{\"endlinecolor\":\"#2a3f5f\",\"gridcolor\":\"white\",\"linecolor\":\"white\",\"minorgridcolor\":\"white\",\"startlinecolor\":\"#2a3f5f\"},\"baxis\":{\"endlinecolor\":\"#2a3f5f\",\"gridcolor\":\"white\",\"linecolor\":\"white\",\"minorgridcolor\":\"white\",\"startlinecolor\":\"#2a3f5f\"},\"type\":\"carpet\"}],\"choropleth\":[{\"colorbar\":{\"outlinewidth\":0,\"ticks\":\"\"},\"type\":\"choropleth\"}],\"contour\":[{\"colorbar\":{\"outlinewidth\":0,\"ticks\":\"\"},\"colorscale\":[[0.0,\"#0d0887\"],[0.1111111111111111,\"#46039f\"],[0.2222222222222222,\"#7201a8\"],[0.3333333333333333,\"#9c179e\"],[0.4444444444444444,\"#bd3786\"],[0.5555555555555556,\"#d8576b\"],[0.6666666666666666,\"#ed7953\"],[0.7777777777777778,\"#fb9f3a\"],[0.8888888888888888,\"#fdca26\"],[1.0,\"#f0f921\"]],\"type\":\"contour\"}],\"contourcarpet\":[{\"colorbar\":{\"outlinewidth\":0,\"ticks\":\"\"},\"type\":\"contourcarpet\"}],\"heatmap\":[{\"colorbar\":{\"outlinewidth\":0,\"ticks\":\"\"},\"colorscale\":[[0.0,\"#0d0887\"],[0.1111111111111111,\"#46039f\"],[0.2222222222222222,\"#7201a8\"],[0.3333333333333333,\"#9c179e\"],[0.4444444444444444,\"#bd3786\"],[0.5555555555555556,\"#d8576b\"],[0.6666666666666666,\"#ed7953\"],[0.7777777777777778,\"#fb9f3a\"],[0.8888888888888888,\"#fdca26\"],[1.0,\"#f0f921\"]],\"type\":\"heatmap\"}],\"heatmapgl\":[{\"colorbar\":{\"outlinewidth\":0,\"ticks\":\"\"},\"colorscale\":[[0.0,\"#0d0887\"],[0.1111111111111111,\"#46039f\"],[0.2222222222222222,\"#7201a8\"],[0.3333333333333333,\"#9c179e\"],[0.4444444444444444,\"#bd3786\"],[0.5555555555555556,\"#d8576b\"],[0.6666666666666666,\"#ed7953\"],[0.7777777777777778,\"#fb9f3a\"],[0.8888888888888888,\"#fdca26\"],[1.0,\"#f0f921\"]],\"type\":\"heatmapgl\"}],\"histogram\":[{\"marker\":{\"pattern\":{\"fillmode\":\"overlay\",\"size\":10,\"solidity\":0.2}},\"type\":\"histogram\"}],\"histogram2d\":[{\"colorbar\":{\"outlinewidth\":0,\"ticks\":\"\"},\"colorscale\":[[0.0,\"#0d0887\"],[0.1111111111111111,\"#46039f\"],[0.2222222222222222,\"#7201a8\"],[0.3333333333333333,\"#9c179e\"],[0.4444444444444444,\"#bd3786\"],[0.5555555555555556,\"#d8576b\"],[0.6666666666666666,\"#ed7953\"],[0.7777777777777778,\"#fb9f3a\"],[0.8888888888888888,\"#fdca26\"],[1.0,\"#f0f921\"]],\"type\":\"histogram2d\"}],\"histogram2dcontour\":[{\"colorbar\":{\"outlinewidth\":0,\"ticks\":\"\"},\"colorscale\":[[0.0,\"#0d0887\"],[0.1111111111111111,\"#46039f\"],[0.2222222222222222,\"#7201a8\"],[0.3333333333333333,\"#9c179e\"],[0.4444444444444444,\"#bd3786\"],[0.5555555555555556,\"#d8576b\"],[0.6666666666666666,\"#ed7953\"],[0.7777777777777778,\"#fb9f3a\"],[0.8888888888888888,\"#fdca26\"],[1.0,\"#f0f921\"]],\"type\":\"histogram2dcontour\"}],\"mesh3d\":[{\"colorbar\":{\"outlinewidth\":0,\"ticks\":\"\"},\"type\":\"mesh3d\"}],\"parcoords\":[{\"line\":{\"colorbar\":{\"outlinewidth\":0,\"ticks\":\"\"}},\"type\":\"parcoords\"}],\"pie\":[{\"automargin\":true,\"type\":\"pie\"}],\"scatter\":[{\"marker\":{\"colorbar\":{\"outlinewidth\":0,\"ticks\":\"\"}},\"type\":\"scatter\"}],\"scatter3d\":[{\"line\":{\"colorbar\":{\"outlinewidth\":0,\"ticks\":\"\"}},\"marker\":{\"colorbar\":{\"outlinewidth\":0,\"ticks\":\"\"}},\"type\":\"scatter3d\"}],\"scattercarpet\":[{\"marker\":{\"colorbar\":{\"outlinewidth\":0,\"ticks\":\"\"}},\"type\":\"scattercarpet\"}],\"scattergeo\":[{\"marker\":{\"colorbar\":{\"outlinewidth\":0,\"ticks\":\"\"}},\"type\":\"scattergeo\"}],\"scattergl\":[{\"marker\":{\"colorbar\":{\"outlinewidth\":0,\"ticks\":\"\"}},\"type\":\"scattergl\"}],\"scattermapbox\":[{\"marker\":{\"colorbar\":{\"outlinewidth\":0,\"ticks\":\"\"}},\"type\":\"scattermapbox\"}],\"scatterpolar\":[{\"marker\":{\"colorbar\":{\"outlinewidth\":0,\"ticks\":\"\"}},\"type\":\"scatterpolar\"}],\"scatterpolargl\":[{\"marker\":{\"colorbar\":{\"outlinewidth\":0,\"ticks\":\"\"}},\"type\":\"scatterpolargl\"}],\"scatterternary\":[{\"marker\":{\"colorbar\":{\"outlinewidth\":0,\"ticks\":\"\"}},\"type\":\"scatterternary\"}],\"surface\":[{\"colorbar\":{\"outlinewidth\":0,\"ticks\":\"\"},\"colorscale\":[[0.0,\"#0d0887\"],[0.1111111111111111,\"#46039f\"],[0.2222222222222222,\"#7201a8\"],[0.3333333333333333,\"#9c179e\"],[0.4444444444444444,\"#bd3786\"],[0.5555555555555556,\"#d8576b\"],[0.6666666666666666,\"#ed7953\"],[0.7777777777777778,\"#fb9f3a\"],[0.8888888888888888,\"#fdca26\"],[1.0,\"#f0f921\"]],\"type\":\"surface\"}],\"table\":[{\"cells\":{\"fill\":{\"color\":\"#EBF0F8\"},\"line\":{\"color\":\"white\"}},\"header\":{\"fill\":{\"color\":\"#C8D4E3\"},\"line\":{\"color\":\"white\"}},\"type\":\"table\"}]},\"layout\":{\"annotationdefaults\":{\"arrowcolor\":\"#2a3f5f\",\"arrowhead\":0,\"arrowwidth\":1},\"autotypenumbers\":\"strict\",\"coloraxis\":{\"colorbar\":{\"outlinewidth\":0,\"ticks\":\"\"}},\"colorscale\":{\"diverging\":[[0,\"#8e0152\"],[0.1,\"#c51b7d\"],[0.2,\"#de77ae\"],[0.3,\"#f1b6da\"],[0.4,\"#fde0ef\"],[0.5,\"#f7f7f7\"],[0.6,\"#e6f5d0\"],[0.7,\"#b8e186\"],[0.8,\"#7fbc41\"],[0.9,\"#4d9221\"],[1,\"#276419\"]],\"sequential\":[[0.0,\"#0d0887\"],[0.1111111111111111,\"#46039f\"],[0.2222222222222222,\"#7201a8\"],[0.3333333333333333,\"#9c179e\"],[0.4444444444444444,\"#bd3786\"],[0.5555555555555556,\"#d8576b\"],[0.6666666666666666,\"#ed7953\"],[0.7777777777777778,\"#fb9f3a\"],[0.8888888888888888,\"#fdca26\"],[1.0,\"#f0f921\"]],\"sequentialminus\":[[0.0,\"#0d0887\"],[0.1111111111111111,\"#46039f\"],[0.2222222222222222,\"#7201a8\"],[0.3333333333333333,\"#9c179e\"],[0.4444444444444444,\"#bd3786\"],[0.5555555555555556,\"#d8576b\"],[0.6666666666666666,\"#ed7953\"],[0.7777777777777778,\"#fb9f3a\"],[0.8888888888888888,\"#fdca26\"],[1.0,\"#f0f921\"]]},\"colorway\":[\"#636efa\",\"#EF553B\",\"#00cc96\",\"#ab63fa\",\"#FFA15A\",\"#19d3f3\",\"#FF6692\",\"#B6E880\",\"#FF97FF\",\"#FECB52\"],\"font\":{\"color\":\"#2a3f5f\"},\"geo\":{\"bgcolor\":\"white\",\"lakecolor\":\"white\",\"landcolor\":\"#E5ECF6\",\"showlakes\":true,\"showland\":true,\"subunitcolor\":\"white\"},\"hoverlabel\":{\"align\":\"left\"},\"hovermode\":\"closest\",\"mapbox\":{\"style\":\"light\"},\"paper_bgcolor\":\"white\",\"plot_bgcolor\":\"#E5ECF6\",\"polar\":{\"angularaxis\":{\"gridcolor\":\"white\",\"linecolor\":\"white\",\"ticks\":\"\"},\"bgcolor\":\"#E5ECF6\",\"radialaxis\":{\"gridcolor\":\"white\",\"linecolor\":\"white\",\"ticks\":\"\"}},\"scene\":{\"xaxis\":{\"backgroundcolor\":\"#E5ECF6\",\"gridcolor\":\"white\",\"gridwidth\":2,\"linecolor\":\"white\",\"showbackground\":true,\"ticks\":\"\",\"zerolinecolor\":\"white\"},\"yaxis\":{\"backgroundcolor\":\"#E5ECF6\",\"gridcolor\":\"white\",\"gridwidth\":2,\"linecolor\":\"white\",\"showbackground\":true,\"ticks\":\"\",\"zerolinecolor\":\"white\"},\"zaxis\":{\"backgroundcolor\":\"#E5ECF6\",\"gridcolor\":\"white\",\"gridwidth\":2,\"linecolor\":\"white\",\"showbackground\":true,\"ticks\":\"\",\"zerolinecolor\":\"white\"}},\"shapedefaults\":{\"line\":{\"color\":\"#2a3f5f\"}},\"ternary\":{\"aaxis\":{\"gridcolor\":\"white\",\"linecolor\":\"white\",\"ticks\":\"\"},\"baxis\":{\"gridcolor\":\"white\",\"linecolor\":\"white\",\"ticks\":\"\"},\"bgcolor\":\"#E5ECF6\",\"caxis\":{\"gridcolor\":\"white\",\"linecolor\":\"white\",\"ticks\":\"\"}},\"title\":{\"x\":0.05},\"xaxis\":{\"automargin\":true,\"gridcolor\":\"white\",\"linecolor\":\"white\",\"ticks\":\"\",\"title\":{\"standoff\":15},\"zerolinecolor\":\"white\",\"zerolinewidth\":2},\"yaxis\":{\"automargin\":true,\"gridcolor\":\"white\",\"linecolor\":\"white\",\"ticks\":\"\",\"title\":{\"standoff\":15},\"zerolinecolor\":\"white\",\"zerolinewidth\":2}}},\"legend\":{\"tracegroupgap\":0,\"title\":{\"text\":\"Hat das Auto RapidCharge?\"},\"traceorder\":\"reversed\"},\"title\":{\"text\":\"Ist RapidCharge ein Special Feature?\"}},                        {\"responsive\": true}                    ).then(function(){\n",
       "                            \n",
       "var gd = document.getElementById('ea4b5356-250f-4f0f-8d80-a67381ec5190');\n",
       "var x = new MutationObserver(function (mutations, observer) {{\n",
       "        var display = window.getComputedStyle(gd).display;\n",
       "        if (!display || display === 'none') {{\n",
       "            console.log([gd, 'removed!']);\n",
       "            Plotly.purge(gd);\n",
       "            observer.disconnect();\n",
       "        }}\n",
       "}});\n",
       "\n",
       "// Listen for the removal of the full notebook cells\n",
       "var notebookContainer = gd.closest('#notebook-container');\n",
       "if (notebookContainer) {{\n",
       "    x.observe(notebookContainer, {childList: true});\n",
       "}}\n",
       "\n",
       "// Listen for the clearing of the current output cell\n",
       "var outputEl = gd.closest('.output');\n",
       "if (outputEl) {{\n",
       "    x.observe(outputEl, {childList: true});\n",
       "}}\n",
       "\n",
       "                        })                };                });            </script>        </div>"
      ]
     },
     "metadata": {},
     "output_type": "display_data"
    }
   ],
   "source": [
    "my_pie2 = px.pie(\n",
    "                values=df_group2.loc[:,'RapidCharge'],        # einstieg\n",
    "                names=df_group2.index ,                       # ich möchte labels haben\n",
    "                title='Ist RapidCharge ein Special Feature?', # ich möchte eine Überschrift haben\n",
    "                color=df_group2.index,  \n",
    "                color_discrete_map={'Yes':'#009ACD','No':'#ff6532'}, # ich möchte die Farben anpassen            \n",
    "               \n",
    "                )\n",
    "\n",
    "my_pie2.update_layout(legend_traceorder=\"reversed\",\n",
    "                      legend_title_text='Hat das Auto RapidCharge?',\n",
    "                      )\n",
    "\n",
    "my_pie2.update_traces(hoverinfo='percent + label',\n",
    "                      textinfo='value + percent',            # textinfo zeigt die Werte in % und in absolut an\n",
    "                      insidetextorientation='horizontal',    # drehen der Textifno\n",
    "                      textposition='inside'                  # textinfo wieder innerhalb des Piecharts setzen\n",
    "                      )  \n",
    "\n",
    "my_pie2.data[0].labels = ['Nein', 'Ja']  # Labels ändern\n",
    "\n",
    "my_pie2.show()"
   ]
  },
  {
   "cell_type": "markdown",
   "metadata": {},
   "source": [
    "### Wie stehe ich im Vergleich zu meinen Mitbewerbern dar?"
   ]
  },
  {
   "cell_type": "code",
   "execution_count": 107,
   "metadata": {},
   "outputs": [
    {
     "data": {
      "text/html": [
       "<div>\n",
       "<style scoped>\n",
       "    .dataframe tbody tr th:only-of-type {\n",
       "        vertical-align: middle;\n",
       "    }\n",
       "\n",
       "    .dataframe tbody tr th {\n",
       "        vertical-align: top;\n",
       "    }\n",
       "\n",
       "    .dataframe thead th {\n",
       "        text-align: right;\n",
       "    }\n",
       "</style>\n",
       "<table border=\"1\" class=\"dataframe\">\n",
       "  <thead>\n",
       "    <tr style=\"text-align: right;\">\n",
       "      <th></th>\n",
       "      <th>index</th>\n",
       "      <th>Brand</th>\n",
       "      <th>Model</th>\n",
       "      <th>AccelSec</th>\n",
       "      <th>TopSpeed_KmH</th>\n",
       "      <th>Range_Km</th>\n",
       "      <th>Efficiency_WhKm</th>\n",
       "      <th>connector</th>\n",
       "      <th>FastCharge_KmH</th>\n",
       "      <th>RapidCharge</th>\n",
       "      <th>PowerTrain</th>\n",
       "      <th>PlugType</th>\n",
       "      <th>BodyStyle</th>\n",
       "      <th>Seats</th>\n",
       "      <th>PriceEuro</th>\n",
       "      <th>Full_charge_minute</th>\n",
       "      <th>charging_100km</th>\n",
       "      <th>Efficiency_kWh_100km</th>\n",
       "      <th>PriceCat</th>\n",
       "      <th>comp</th>\n",
       "    </tr>\n",
       "  </thead>\n",
       "  <tbody>\n",
       "    <tr>\n",
       "      <th>0</th>\n",
       "      <td>0</td>\n",
       "      <td>Tesla</td>\n",
       "      <td>Model 3 Long Range Dual Motor</td>\n",
       "      <td>4.6</td>\n",
       "      <td>233</td>\n",
       "      <td>450</td>\n",
       "      <td>161</td>\n",
       "      <td>100</td>\n",
       "      <td>940.0</td>\n",
       "      <td>Yes</td>\n",
       "      <td>AWD</td>\n",
       "      <td>Type 2 CCS</td>\n",
       "      <td>Sedan</td>\n",
       "      <td>4</td>\n",
       "      <td>55480</td>\n",
       "      <td>29.0</td>\n",
       "      <td>6.400000</td>\n",
       "      <td>16.100000</td>\n",
       "      <td>teuer</td>\n",
       "      <td>False</td>\n",
       "    </tr>\n",
       "    <tr>\n",
       "      <th>1</th>\n",
       "      <td>1</td>\n",
       "      <td>Volkswagen</td>\n",
       "      <td>ID.3 Pure</td>\n",
       "      <td>10.0</td>\n",
       "      <td>160</td>\n",
       "      <td>270</td>\n",
       "      <td>167</td>\n",
       "      <td>101</td>\n",
       "      <td>250.0</td>\n",
       "      <td>Yes</td>\n",
       "      <td>RWD</td>\n",
       "      <td>Type 2 CCS</td>\n",
       "      <td>Hatchback</td>\n",
       "      <td>5</td>\n",
       "      <td>30000</td>\n",
       "      <td>65.0</td>\n",
       "      <td>24.100000</td>\n",
       "      <td>16.700001</td>\n",
       "      <td>billig</td>\n",
       "      <td>False</td>\n",
       "    </tr>\n",
       "    <tr>\n",
       "      <th>2</th>\n",
       "      <td>2</td>\n",
       "      <td>Polestar</td>\n",
       "      <td>2</td>\n",
       "      <td>4.7</td>\n",
       "      <td>210</td>\n",
       "      <td>400</td>\n",
       "      <td>181</td>\n",
       "      <td>102</td>\n",
       "      <td>620.0</td>\n",
       "      <td>Yes</td>\n",
       "      <td>AWD</td>\n",
       "      <td>Type 2 CCS</td>\n",
       "      <td>Liftback</td>\n",
       "      <td>5</td>\n",
       "      <td>56440</td>\n",
       "      <td>39.0</td>\n",
       "      <td>9.800000</td>\n",
       "      <td>18.100000</td>\n",
       "      <td>teuer</td>\n",
       "      <td>False</td>\n",
       "    </tr>\n",
       "    <tr>\n",
       "      <th>3</th>\n",
       "      <td>3</td>\n",
       "      <td>BMW</td>\n",
       "      <td>iX3</td>\n",
       "      <td>6.8</td>\n",
       "      <td>180</td>\n",
       "      <td>360</td>\n",
       "      <td>206</td>\n",
       "      <td>103</td>\n",
       "      <td>560.0</td>\n",
       "      <td>Yes</td>\n",
       "      <td>RWD</td>\n",
       "      <td>Type 2 CCS</td>\n",
       "      <td>SUV</td>\n",
       "      <td>5</td>\n",
       "      <td>68040</td>\n",
       "      <td>39.0</td>\n",
       "      <td>10.800000</td>\n",
       "      <td>20.600000</td>\n",
       "      <td>teuer</td>\n",
       "      <td>True</td>\n",
       "    </tr>\n",
       "    <tr>\n",
       "      <th>4</th>\n",
       "      <td>4</td>\n",
       "      <td>Honda</td>\n",
       "      <td>e</td>\n",
       "      <td>9.5</td>\n",
       "      <td>145</td>\n",
       "      <td>170</td>\n",
       "      <td>168</td>\n",
       "      <td>104</td>\n",
       "      <td>190.0</td>\n",
       "      <td>Yes</td>\n",
       "      <td>RWD</td>\n",
       "      <td>Type 2 CCS</td>\n",
       "      <td>Hatchback</td>\n",
       "      <td>5</td>\n",
       "      <td>32997</td>\n",
       "      <td>54.0</td>\n",
       "      <td>31.799999</td>\n",
       "      <td>16.799999</td>\n",
       "      <td>billig</td>\n",
       "      <td>False</td>\n",
       "    </tr>\n",
       "    <tr>\n",
       "      <th>...</th>\n",
       "      <td>...</td>\n",
       "      <td>...</td>\n",
       "      <td>...</td>\n",
       "      <td>...</td>\n",
       "      <td>...</td>\n",
       "      <td>...</td>\n",
       "      <td>...</td>\n",
       "      <td>...</td>\n",
       "      <td>...</td>\n",
       "      <td>...</td>\n",
       "      <td>...</td>\n",
       "      <td>...</td>\n",
       "      <td>...</td>\n",
       "      <td>...</td>\n",
       "      <td>...</td>\n",
       "      <td>...</td>\n",
       "      <td>...</td>\n",
       "      <td>...</td>\n",
       "      <td>...</td>\n",
       "      <td>...</td>\n",
       "    </tr>\n",
       "    <tr>\n",
       "      <th>97</th>\n",
       "      <td>98</td>\n",
       "      <td>Nissan</td>\n",
       "      <td>Ariya 63kWh</td>\n",
       "      <td>7.5</td>\n",
       "      <td>160</td>\n",
       "      <td>330</td>\n",
       "      <td>191</td>\n",
       "      <td>198</td>\n",
       "      <td>440.0</td>\n",
       "      <td>Yes</td>\n",
       "      <td>FWD</td>\n",
       "      <td>Type 2 CCS</td>\n",
       "      <td>Hatchback</td>\n",
       "      <td>5</td>\n",
       "      <td>45000</td>\n",
       "      <td>45.0</td>\n",
       "      <td>13.600000</td>\n",
       "      <td>19.100000</td>\n",
       "      <td>normal</td>\n",
       "      <td>False</td>\n",
       "    </tr>\n",
       "    <tr>\n",
       "      <th>98</th>\n",
       "      <td>99</td>\n",
       "      <td>Audi</td>\n",
       "      <td>e-tron S Sportback 55 quattro</td>\n",
       "      <td>4.5</td>\n",
       "      <td>210</td>\n",
       "      <td>335</td>\n",
       "      <td>258</td>\n",
       "      <td>199</td>\n",
       "      <td>540.0</td>\n",
       "      <td>Yes</td>\n",
       "      <td>AWD</td>\n",
       "      <td>Type 2 CCS</td>\n",
       "      <td>SUV</td>\n",
       "      <td>5</td>\n",
       "      <td>96050</td>\n",
       "      <td>37.0</td>\n",
       "      <td>11.000000</td>\n",
       "      <td>25.799999</td>\n",
       "      <td>teuer</td>\n",
       "      <td>False</td>\n",
       "    </tr>\n",
       "    <tr>\n",
       "      <th>99</th>\n",
       "      <td>100</td>\n",
       "      <td>Nissan</td>\n",
       "      <td>Ariya e-4ORCE 63kWh</td>\n",
       "      <td>5.9</td>\n",
       "      <td>200</td>\n",
       "      <td>325</td>\n",
       "      <td>194</td>\n",
       "      <td>200</td>\n",
       "      <td>440.0</td>\n",
       "      <td>Yes</td>\n",
       "      <td>AWD</td>\n",
       "      <td>Type 2 CCS</td>\n",
       "      <td>Hatchback</td>\n",
       "      <td>5</td>\n",
       "      <td>50000</td>\n",
       "      <td>44.0</td>\n",
       "      <td>13.500000</td>\n",
       "      <td>19.400000</td>\n",
       "      <td>teuer</td>\n",
       "      <td>False</td>\n",
       "    </tr>\n",
       "    <tr>\n",
       "      <th>100</th>\n",
       "      <td>101</td>\n",
       "      <td>Nissan</td>\n",
       "      <td>Ariya e-4ORCE 87kWh Performance</td>\n",
       "      <td>5.1</td>\n",
       "      <td>200</td>\n",
       "      <td>375</td>\n",
       "      <td>232</td>\n",
       "      <td>201</td>\n",
       "      <td>450.0</td>\n",
       "      <td>Yes</td>\n",
       "      <td>AWD</td>\n",
       "      <td>Type 2 CCS</td>\n",
       "      <td>Hatchback</td>\n",
       "      <td>5</td>\n",
       "      <td>65000</td>\n",
       "      <td>50.0</td>\n",
       "      <td>13.300000</td>\n",
       "      <td>23.200001</td>\n",
       "      <td>teuer</td>\n",
       "      <td>False</td>\n",
       "    </tr>\n",
       "    <tr>\n",
       "      <th>101</th>\n",
       "      <td>102</td>\n",
       "      <td>Byton</td>\n",
       "      <td>M-Byte 95 kWh 2WD</td>\n",
       "      <td>7.5</td>\n",
       "      <td>190</td>\n",
       "      <td>400</td>\n",
       "      <td>238</td>\n",
       "      <td>202</td>\n",
       "      <td>480.0</td>\n",
       "      <td>Yes</td>\n",
       "      <td>AWD</td>\n",
       "      <td>Type 2 CCS</td>\n",
       "      <td>SUV</td>\n",
       "      <td>5</td>\n",
       "      <td>62000</td>\n",
       "      <td>50.0</td>\n",
       "      <td>12.500000</td>\n",
       "      <td>23.799999</td>\n",
       "      <td>teuer</td>\n",
       "      <td>False</td>\n",
       "    </tr>\n",
       "  </tbody>\n",
       "</table>\n",
       "<p>102 rows × 20 columns</p>\n",
       "</div>"
      ],
      "text/plain": [
       "     index       Brand                            Model  AccelSec  \\\n",
       "0        0       Tesla    Model 3 Long Range Dual Motor       4.6   \n",
       "1        1  Volkswagen                        ID.3 Pure      10.0   \n",
       "2        2    Polestar                                2       4.7   \n",
       "3        3         BMW                              iX3       6.8   \n",
       "4        4       Honda                                e       9.5   \n",
       "..     ...         ...                              ...       ...   \n",
       "97      98      Nissan                      Ariya 63kWh       7.5   \n",
       "98      99        Audi    e-tron S Sportback 55 quattro       4.5   \n",
       "99     100      Nissan              Ariya e-4ORCE 63kWh       5.9   \n",
       "100    101      Nissan  Ariya e-4ORCE 87kWh Performance       5.1   \n",
       "101    102       Byton                M-Byte 95 kWh 2WD       7.5   \n",
       "\n",
       "     TopSpeed_KmH  Range_Km  Efficiency_WhKm  connector  FastCharge_KmH  \\\n",
       "0             233       450              161        100           940.0   \n",
       "1             160       270              167        101           250.0   \n",
       "2             210       400              181        102           620.0   \n",
       "3             180       360              206        103           560.0   \n",
       "4             145       170              168        104           190.0   \n",
       "..            ...       ...              ...        ...             ...   \n",
       "97            160       330              191        198           440.0   \n",
       "98            210       335              258        199           540.0   \n",
       "99            200       325              194        200           440.0   \n",
       "100           200       375              232        201           450.0   \n",
       "101           190       400              238        202           480.0   \n",
       "\n",
       "    RapidCharge PowerTrain    PlugType  BodyStyle  Seats  PriceEuro  \\\n",
       "0           Yes        AWD  Type 2 CCS      Sedan      4      55480   \n",
       "1           Yes        RWD  Type 2 CCS  Hatchback      5      30000   \n",
       "2           Yes        AWD  Type 2 CCS   Liftback      5      56440   \n",
       "3           Yes        RWD  Type 2 CCS        SUV      5      68040   \n",
       "4           Yes        RWD  Type 2 CCS  Hatchback      5      32997   \n",
       "..          ...        ...         ...        ...    ...        ...   \n",
       "97          Yes        FWD  Type 2 CCS  Hatchback      5      45000   \n",
       "98          Yes        AWD  Type 2 CCS        SUV      5      96050   \n",
       "99          Yes        AWD  Type 2 CCS  Hatchback      5      50000   \n",
       "100         Yes        AWD  Type 2 CCS  Hatchback      5      65000   \n",
       "101         Yes        AWD  Type 2 CCS        SUV      5      62000   \n",
       "\n",
       "     Full_charge_minute  charging_100km  Efficiency_kWh_100km PriceCat   comp  \n",
       "0                  29.0        6.400000             16.100000    teuer  False  \n",
       "1                  65.0       24.100000             16.700001   billig  False  \n",
       "2                  39.0        9.800000             18.100000    teuer  False  \n",
       "3                  39.0       10.800000             20.600000    teuer   True  \n",
       "4                  54.0       31.799999             16.799999   billig  False  \n",
       "..                  ...             ...                   ...      ...    ...  \n",
       "97                 45.0       13.600000             19.100000   normal  False  \n",
       "98                 37.0       11.000000             25.799999    teuer  False  \n",
       "99                 44.0       13.500000             19.400000    teuer  False  \n",
       "100                50.0       13.300000             23.200001    teuer  False  \n",
       "101                50.0       12.500000             23.799999    teuer  False  \n",
       "\n",
       "[102 rows x 20 columns]"
      ]
     },
     "execution_count": 107,
     "metadata": {},
     "output_type": "execute_result"
    }
   ],
   "source": [
    "\n",
    "df_opti['comp'] = [False if brand != 'BMW' else True for brand in df_opti.loc[:,'Brand']] \n",
    "\n",
    "df_opti  "
   ]
  },
  {
   "cell_type": "raw",
   "metadata": {},
   "source": [
    "# alternativ:\n",
    "\n",
    "final_list = []\n",
    "\n",
    "mylist = [\"Tesla\", \"Volkswagen\", \"BMW\", \"Audi\", \"Nissan\", \"Mazda\"]\n",
    "\n",
    "for i in df_opti[\"Brand\"]:\n",
    "    if i in mylist:\n",
    "        final_list.append(i)\n",
    "    else:\n",
    "        final_list.append('andere')\n",
    "        \n",
    "final_list \n",
    "\n",
    "df_opti[\"neue_spalte\"] = final_list"
   ]
  },
  {
   "cell_type": "code",
   "execution_count": 108,
   "metadata": {},
   "outputs": [
    {
     "data": {
      "text/html": [
       "<div>\n",
       "<style scoped>\n",
       "    .dataframe tbody tr th:only-of-type {\n",
       "        vertical-align: middle;\n",
       "    }\n",
       "\n",
       "    .dataframe tbody tr th {\n",
       "        vertical-align: top;\n",
       "    }\n",
       "\n",
       "    .dataframe thead th {\n",
       "        text-align: right;\n",
       "    }\n",
       "</style>\n",
       "<table border=\"1\" class=\"dataframe\">\n",
       "  <thead>\n",
       "    <tr style=\"text-align: right;\">\n",
       "      <th></th>\n",
       "      <th>Brand</th>\n",
       "      <th>comp</th>\n",
       "      <th>Model</th>\n",
       "    </tr>\n",
       "  </thead>\n",
       "  <tbody>\n",
       "    <tr>\n",
       "      <th>0</th>\n",
       "      <td>Aiways</td>\n",
       "      <td>False</td>\n",
       "      <td>1</td>\n",
       "    </tr>\n",
       "    <tr>\n",
       "      <th>1</th>\n",
       "      <td>Audi</td>\n",
       "      <td>False</td>\n",
       "      <td>9</td>\n",
       "    </tr>\n",
       "    <tr>\n",
       "      <th>2</th>\n",
       "      <td>BMW</td>\n",
       "      <td>True</td>\n",
       "      <td>4</td>\n",
       "    </tr>\n",
       "    <tr>\n",
       "      <th>3</th>\n",
       "      <td>Byton</td>\n",
       "      <td>False</td>\n",
       "      <td>3</td>\n",
       "    </tr>\n",
       "    <tr>\n",
       "      <th>4</th>\n",
       "      <td>CUPRA</td>\n",
       "      <td>False</td>\n",
       "      <td>1</td>\n",
       "    </tr>\n",
       "    <tr>\n",
       "      <th>5</th>\n",
       "      <td>Citroen</td>\n",
       "      <td>False</td>\n",
       "      <td>1</td>\n",
       "    </tr>\n",
       "    <tr>\n",
       "      <th>6</th>\n",
       "      <td>DS</td>\n",
       "      <td>False</td>\n",
       "      <td>1</td>\n",
       "    </tr>\n",
       "    <tr>\n",
       "      <th>7</th>\n",
       "      <td>Fiat</td>\n",
       "      <td>False</td>\n",
       "      <td>2</td>\n",
       "    </tr>\n",
       "    <tr>\n",
       "      <th>8</th>\n",
       "      <td>Ford</td>\n",
       "      <td>False</td>\n",
       "      <td>4</td>\n",
       "    </tr>\n",
       "    <tr>\n",
       "      <th>9</th>\n",
       "      <td>Honda</td>\n",
       "      <td>False</td>\n",
       "      <td>2</td>\n",
       "    </tr>\n",
       "    <tr>\n",
       "      <th>10</th>\n",
       "      <td>Hyundai</td>\n",
       "      <td>False</td>\n",
       "      <td>3</td>\n",
       "    </tr>\n",
       "    <tr>\n",
       "      <th>11</th>\n",
       "      <td>Jaguar</td>\n",
       "      <td>False</td>\n",
       "      <td>1</td>\n",
       "    </tr>\n",
       "    <tr>\n",
       "      <th>12</th>\n",
       "      <td>Kia</td>\n",
       "      <td>False</td>\n",
       "      <td>4</td>\n",
       "    </tr>\n",
       "    <tr>\n",
       "      <th>13</th>\n",
       "      <td>Lexus</td>\n",
       "      <td>False</td>\n",
       "      <td>1</td>\n",
       "    </tr>\n",
       "    <tr>\n",
       "      <th>14</th>\n",
       "      <td>Lightyear</td>\n",
       "      <td>False</td>\n",
       "      <td>1</td>\n",
       "    </tr>\n",
       "    <tr>\n",
       "      <th>15</th>\n",
       "      <td>Lucid</td>\n",
       "      <td>False</td>\n",
       "      <td>1</td>\n",
       "    </tr>\n",
       "    <tr>\n",
       "      <th>16</th>\n",
       "      <td>MG</td>\n",
       "      <td>False</td>\n",
       "      <td>1</td>\n",
       "    </tr>\n",
       "    <tr>\n",
       "      <th>17</th>\n",
       "      <td>Mazda</td>\n",
       "      <td>False</td>\n",
       "      <td>1</td>\n",
       "    </tr>\n",
       "    <tr>\n",
       "      <th>18</th>\n",
       "      <td>Mercedes</td>\n",
       "      <td>False</td>\n",
       "      <td>3</td>\n",
       "    </tr>\n",
       "    <tr>\n",
       "      <th>19</th>\n",
       "      <td>Mini</td>\n",
       "      <td>False</td>\n",
       "      <td>1</td>\n",
       "    </tr>\n",
       "    <tr>\n",
       "      <th>20</th>\n",
       "      <td>Nissan</td>\n",
       "      <td>False</td>\n",
       "      <td>8</td>\n",
       "    </tr>\n",
       "    <tr>\n",
       "      <th>21</th>\n",
       "      <td>Opel</td>\n",
       "      <td>False</td>\n",
       "      <td>3</td>\n",
       "    </tr>\n",
       "    <tr>\n",
       "      <th>22</th>\n",
       "      <td>Peugeot</td>\n",
       "      <td>False</td>\n",
       "      <td>2</td>\n",
       "    </tr>\n",
       "    <tr>\n",
       "      <th>23</th>\n",
       "      <td>Polestar</td>\n",
       "      <td>False</td>\n",
       "      <td>1</td>\n",
       "    </tr>\n",
       "    <tr>\n",
       "      <th>24</th>\n",
       "      <td>Porsche</td>\n",
       "      <td>False</td>\n",
       "      <td>5</td>\n",
       "    </tr>\n",
       "    <tr>\n",
       "      <th>25</th>\n",
       "      <td>Renault</td>\n",
       "      <td>False</td>\n",
       "      <td>5</td>\n",
       "    </tr>\n",
       "    <tr>\n",
       "      <th>26</th>\n",
       "      <td>SEAT</td>\n",
       "      <td>False</td>\n",
       "      <td>1</td>\n",
       "    </tr>\n",
       "    <tr>\n",
       "      <th>27</th>\n",
       "      <td>Skoda</td>\n",
       "      <td>False</td>\n",
       "      <td>6</td>\n",
       "    </tr>\n",
       "    <tr>\n",
       "      <th>28</th>\n",
       "      <td>Smart</td>\n",
       "      <td>False</td>\n",
       "      <td>3</td>\n",
       "    </tr>\n",
       "    <tr>\n",
       "      <th>29</th>\n",
       "      <td>Sono</td>\n",
       "      <td>False</td>\n",
       "      <td>1</td>\n",
       "    </tr>\n",
       "    <tr>\n",
       "      <th>30</th>\n",
       "      <td>Tesla</td>\n",
       "      <td>False</td>\n",
       "      <td>13</td>\n",
       "    </tr>\n",
       "    <tr>\n",
       "      <th>31</th>\n",
       "      <td>Volkswagen</td>\n",
       "      <td>False</td>\n",
       "      <td>8</td>\n",
       "    </tr>\n",
       "    <tr>\n",
       "      <th>32</th>\n",
       "      <td>Volvo</td>\n",
       "      <td>False</td>\n",
       "      <td>1</td>\n",
       "    </tr>\n",
       "  </tbody>\n",
       "</table>\n",
       "</div>"
      ],
      "text/plain": [
       "         Brand   comp  Model\n",
       "0       Aiways  False      1\n",
       "1         Audi  False      9\n",
       "2          BMW   True      4\n",
       "3        Byton  False      3\n",
       "4        CUPRA  False      1\n",
       "5      Citroen  False      1\n",
       "6           DS  False      1\n",
       "7         Fiat  False      2\n",
       "8         Ford  False      4\n",
       "9        Honda  False      2\n",
       "10     Hyundai  False      3\n",
       "11      Jaguar  False      1\n",
       "12         Kia  False      4\n",
       "13       Lexus  False      1\n",
       "14   Lightyear  False      1\n",
       "15       Lucid  False      1\n",
       "16          MG  False      1\n",
       "17       Mazda  False      1\n",
       "18    Mercedes  False      3\n",
       "19        Mini  False      1\n",
       "20      Nissan  False      8\n",
       "21        Opel  False      3\n",
       "22     Peugeot  False      2\n",
       "23    Polestar  False      1\n",
       "24     Porsche  False      5\n",
       "25     Renault  False      5\n",
       "26        SEAT  False      1\n",
       "27       Skoda  False      6\n",
       "28       Smart  False      3\n",
       "29        Sono  False      1\n",
       "30       Tesla  False     13\n",
       "31  Volkswagen  False      8\n",
       "32       Volvo  False      1"
      ]
     },
     "execution_count": 108,
     "metadata": {},
     "output_type": "execute_result"
    }
   ],
   "source": [
    "# Daten aufbereiten\n",
    "\n",
    "df_sort_model = df_opti.groupby(['Brand','comp']).agg({'Model':'size'}).reset_index() \n",
    "df_sort_model "
   ]
  },
  {
   "cell_type": "code",
   "execution_count": 109,
   "metadata": {},
   "outputs": [
    {
     "data": {
      "text/html": [
       "<div>\n",
       "<style scoped>\n",
       "    .dataframe tbody tr th:only-of-type {\n",
       "        vertical-align: middle;\n",
       "    }\n",
       "\n",
       "    .dataframe tbody tr th {\n",
       "        vertical-align: top;\n",
       "    }\n",
       "\n",
       "    .dataframe thead th {\n",
       "        text-align: right;\n",
       "    }\n",
       "</style>\n",
       "<table border=\"1\" class=\"dataframe\">\n",
       "  <thead>\n",
       "    <tr style=\"text-align: right;\">\n",
       "      <th></th>\n",
       "      <th>index</th>\n",
       "      <th>Brand</th>\n",
       "      <th>comp</th>\n",
       "      <th>Model</th>\n",
       "    </tr>\n",
       "  </thead>\n",
       "  <tbody>\n",
       "    <tr>\n",
       "      <th>0</th>\n",
       "      <td>30</td>\n",
       "      <td>Tesla</td>\n",
       "      <td>False</td>\n",
       "      <td>13</td>\n",
       "    </tr>\n",
       "    <tr>\n",
       "      <th>1</th>\n",
       "      <td>1</td>\n",
       "      <td>Audi</td>\n",
       "      <td>False</td>\n",
       "      <td>9</td>\n",
       "    </tr>\n",
       "    <tr>\n",
       "      <th>2</th>\n",
       "      <td>20</td>\n",
       "      <td>Nissan</td>\n",
       "      <td>False</td>\n",
       "      <td>8</td>\n",
       "    </tr>\n",
       "    <tr>\n",
       "      <th>3</th>\n",
       "      <td>31</td>\n",
       "      <td>Volkswagen</td>\n",
       "      <td>False</td>\n",
       "      <td>8</td>\n",
       "    </tr>\n",
       "    <tr>\n",
       "      <th>4</th>\n",
       "      <td>27</td>\n",
       "      <td>Skoda</td>\n",
       "      <td>False</td>\n",
       "      <td>6</td>\n",
       "    </tr>\n",
       "    <tr>\n",
       "      <th>5</th>\n",
       "      <td>24</td>\n",
       "      <td>Porsche</td>\n",
       "      <td>False</td>\n",
       "      <td>5</td>\n",
       "    </tr>\n",
       "    <tr>\n",
       "      <th>6</th>\n",
       "      <td>25</td>\n",
       "      <td>Renault</td>\n",
       "      <td>False</td>\n",
       "      <td>5</td>\n",
       "    </tr>\n",
       "    <tr>\n",
       "      <th>7</th>\n",
       "      <td>12</td>\n",
       "      <td>Kia</td>\n",
       "      <td>False</td>\n",
       "      <td>4</td>\n",
       "    </tr>\n",
       "    <tr>\n",
       "      <th>8</th>\n",
       "      <td>2</td>\n",
       "      <td>BMW</td>\n",
       "      <td>True</td>\n",
       "      <td>4</td>\n",
       "    </tr>\n",
       "    <tr>\n",
       "      <th>9</th>\n",
       "      <td>8</td>\n",
       "      <td>Ford</td>\n",
       "      <td>False</td>\n",
       "      <td>4</td>\n",
       "    </tr>\n",
       "    <tr>\n",
       "      <th>10</th>\n",
       "      <td>28</td>\n",
       "      <td>Smart</td>\n",
       "      <td>False</td>\n",
       "      <td>3</td>\n",
       "    </tr>\n",
       "    <tr>\n",
       "      <th>11</th>\n",
       "      <td>18</td>\n",
       "      <td>Mercedes</td>\n",
       "      <td>False</td>\n",
       "      <td>3</td>\n",
       "    </tr>\n",
       "    <tr>\n",
       "      <th>12</th>\n",
       "      <td>21</td>\n",
       "      <td>Opel</td>\n",
       "      <td>False</td>\n",
       "      <td>3</td>\n",
       "    </tr>\n",
       "    <tr>\n",
       "      <th>13</th>\n",
       "      <td>10</td>\n",
       "      <td>Hyundai</td>\n",
       "      <td>False</td>\n",
       "      <td>3</td>\n",
       "    </tr>\n",
       "    <tr>\n",
       "      <th>14</th>\n",
       "      <td>3</td>\n",
       "      <td>Byton</td>\n",
       "      <td>False</td>\n",
       "      <td>3</td>\n",
       "    </tr>\n",
       "    <tr>\n",
       "      <th>15</th>\n",
       "      <td>22</td>\n",
       "      <td>Peugeot</td>\n",
       "      <td>False</td>\n",
       "      <td>2</td>\n",
       "    </tr>\n",
       "    <tr>\n",
       "      <th>16</th>\n",
       "      <td>9</td>\n",
       "      <td>Honda</td>\n",
       "      <td>False</td>\n",
       "      <td>2</td>\n",
       "    </tr>\n",
       "    <tr>\n",
       "      <th>17</th>\n",
       "      <td>7</td>\n",
       "      <td>Fiat</td>\n",
       "      <td>False</td>\n",
       "      <td>2</td>\n",
       "    </tr>\n",
       "    <tr>\n",
       "      <th>18</th>\n",
       "      <td>26</td>\n",
       "      <td>SEAT</td>\n",
       "      <td>False</td>\n",
       "      <td>1</td>\n",
       "    </tr>\n",
       "    <tr>\n",
       "      <th>19</th>\n",
       "      <td>29</td>\n",
       "      <td>Sono</td>\n",
       "      <td>False</td>\n",
       "      <td>1</td>\n",
       "    </tr>\n",
       "    <tr>\n",
       "      <th>20</th>\n",
       "      <td>23</td>\n",
       "      <td>Polestar</td>\n",
       "      <td>False</td>\n",
       "      <td>1</td>\n",
       "    </tr>\n",
       "    <tr>\n",
       "      <th>21</th>\n",
       "      <td>0</td>\n",
       "      <td>Aiways</td>\n",
       "      <td>False</td>\n",
       "      <td>1</td>\n",
       "    </tr>\n",
       "    <tr>\n",
       "      <th>22</th>\n",
       "      <td>16</td>\n",
       "      <td>MG</td>\n",
       "      <td>False</td>\n",
       "      <td>1</td>\n",
       "    </tr>\n",
       "    <tr>\n",
       "      <th>23</th>\n",
       "      <td>19</td>\n",
       "      <td>Mini</td>\n",
       "      <td>False</td>\n",
       "      <td>1</td>\n",
       "    </tr>\n",
       "    <tr>\n",
       "      <th>24</th>\n",
       "      <td>17</td>\n",
       "      <td>Mazda</td>\n",
       "      <td>False</td>\n",
       "      <td>1</td>\n",
       "    </tr>\n",
       "    <tr>\n",
       "      <th>25</th>\n",
       "      <td>15</td>\n",
       "      <td>Lucid</td>\n",
       "      <td>False</td>\n",
       "      <td>1</td>\n",
       "    </tr>\n",
       "    <tr>\n",
       "      <th>26</th>\n",
       "      <td>14</td>\n",
       "      <td>Lightyear</td>\n",
       "      <td>False</td>\n",
       "      <td>1</td>\n",
       "    </tr>\n",
       "    <tr>\n",
       "      <th>27</th>\n",
       "      <td>13</td>\n",
       "      <td>Lexus</td>\n",
       "      <td>False</td>\n",
       "      <td>1</td>\n",
       "    </tr>\n",
       "    <tr>\n",
       "      <th>28</th>\n",
       "      <td>11</td>\n",
       "      <td>Jaguar</td>\n",
       "      <td>False</td>\n",
       "      <td>1</td>\n",
       "    </tr>\n",
       "    <tr>\n",
       "      <th>29</th>\n",
       "      <td>6</td>\n",
       "      <td>DS</td>\n",
       "      <td>False</td>\n",
       "      <td>1</td>\n",
       "    </tr>\n",
       "    <tr>\n",
       "      <th>30</th>\n",
       "      <td>5</td>\n",
       "      <td>Citroen</td>\n",
       "      <td>False</td>\n",
       "      <td>1</td>\n",
       "    </tr>\n",
       "    <tr>\n",
       "      <th>31</th>\n",
       "      <td>4</td>\n",
       "      <td>CUPRA</td>\n",
       "      <td>False</td>\n",
       "      <td>1</td>\n",
       "    </tr>\n",
       "    <tr>\n",
       "      <th>32</th>\n",
       "      <td>32</td>\n",
       "      <td>Volvo</td>\n",
       "      <td>False</td>\n",
       "      <td>1</td>\n",
       "    </tr>\n",
       "  </tbody>\n",
       "</table>\n",
       "</div>"
      ],
      "text/plain": [
       "    index       Brand   comp  Model\n",
       "0      30       Tesla  False     13\n",
       "1       1        Audi  False      9\n",
       "2      20      Nissan  False      8\n",
       "3      31  Volkswagen  False      8\n",
       "4      27       Skoda  False      6\n",
       "5      24     Porsche  False      5\n",
       "6      25     Renault  False      5\n",
       "7      12         Kia  False      4\n",
       "8       2         BMW   True      4\n",
       "9       8        Ford  False      4\n",
       "10     28       Smart  False      3\n",
       "11     18    Mercedes  False      3\n",
       "12     21        Opel  False      3\n",
       "13     10     Hyundai  False      3\n",
       "14      3       Byton  False      3\n",
       "15     22     Peugeot  False      2\n",
       "16      9       Honda  False      2\n",
       "17      7        Fiat  False      2\n",
       "18     26        SEAT  False      1\n",
       "19     29        Sono  False      1\n",
       "20     23    Polestar  False      1\n",
       "21      0      Aiways  False      1\n",
       "22     16          MG  False      1\n",
       "23     19        Mini  False      1\n",
       "24     17       Mazda  False      1\n",
       "25     15       Lucid  False      1\n",
       "26     14   Lightyear  False      1\n",
       "27     13       Lexus  False      1\n",
       "28     11      Jaguar  False      1\n",
       "29      6          DS  False      1\n",
       "30      5     Citroen  False      1\n",
       "31      4       CUPRA  False      1\n",
       "32     32       Volvo  False      1"
      ]
     },
     "execution_count": 109,
     "metadata": {},
     "output_type": "execute_result"
    }
   ],
   "source": [
    "# Daten sortieren\n",
    "\n",
    "df_sort = df_sort_model.sort_values(by='Model',ascending=False).reset_index()  \n",
    "df_sort"
   ]
  },
  {
   "cell_type": "code",
   "execution_count": 111,
   "metadata": {},
   "outputs": [
    {
     "data": {
      "text/plain": [
       "['grey',\n",
       " 'grey',\n",
       " 'grey',\n",
       " 'grey',\n",
       " 'grey',\n",
       " 'grey',\n",
       " 'grey',\n",
       " 'grey',\n",
       " 'yellow',\n",
       " 'grey',\n",
       " 'grey',\n",
       " 'grey',\n",
       " 'grey',\n",
       " 'grey',\n",
       " 'grey',\n",
       " 'grey',\n",
       " 'grey',\n",
       " 'grey',\n",
       " 'grey',\n",
       " 'grey',\n",
       " 'grey',\n",
       " 'grey',\n",
       " 'grey',\n",
       " 'grey',\n",
       " 'grey',\n",
       " 'grey',\n",
       " 'grey',\n",
       " 'grey',\n",
       " 'grey',\n",
       " 'grey',\n",
       " 'grey',\n",
       " 'grey',\n",
       " 'grey']"
      ]
     },
     "execution_count": 111,
     "metadata": {},
     "output_type": "execute_result"
    }
   ],
   "source": [
    "# alternativ als Colorliste übergeben\n",
    "\n",
    "# colors list erstellen\n",
    "\n",
    "color_list = len(df_sort) * [\"grey\"]\n",
    "\n",
    "# Position die mich interessiert anders einfärben\n",
    "# index ermitteln\n",
    "marke = 'BMW'  \n",
    "\n",
    "index_marke = df_sort.loc[df_sort['Brand']==marke].index \n",
    "index_marke[0]\n",
    "\n",
    "# liste an dem index andere Farbe übergeben\n",
    "color_list[index_marke[0]] = \"yellow\" \n",
    "color_list"
   ]
  },
  {
   "cell_type": "code",
   "execution_count": 112,
   "metadata": {},
   "outputs": [
    {
     "data": {
      "application/vnd.plotly.v1+json": {
       "config": {
        "plotlyServerURL": "https://plot.ly"
       },
       "data": [
        {
         "alignmentgroup": "True",
         "hovertemplate": "comp=False<br>Bewerber=%{x}<br>Anzahl Modelle am Markt=%{y}<extra></extra>",
         "legendgroup": "False",
         "marker": {
          "color": "#636efa",
          "pattern": {
           "shape": ""
          }
         },
         "name": "False",
         "offsetgroup": "False",
         "orientation": "v",
         "showlegend": true,
         "textposition": "auto",
         "type": "bar",
         "x": [
          "Tesla",
          "Audi",
          "Nissan",
          "Volkswagen",
          "Skoda",
          "Porsche",
          "Renault",
          "Kia",
          "Ford",
          "Smart",
          "Mercedes",
          "Opel",
          "Hyundai",
          "Byton",
          "Peugeot",
          "Honda",
          "Fiat",
          "SEAT",
          "Sono",
          "Polestar",
          "Aiways",
          "MG",
          "Mini",
          "Mazda",
          "Lucid",
          "Lightyear",
          "Lexus",
          "Jaguar",
          "DS",
          "Citroen",
          "CUPRA",
          "Volvo"
         ],
         "xaxis": "x",
         "y": [
          13,
          9,
          8,
          8,
          6,
          5,
          5,
          4,
          4,
          3,
          3,
          3,
          3,
          3,
          2,
          2,
          2,
          1,
          1,
          1,
          1,
          1,
          1,
          1,
          1,
          1,
          1,
          1,
          1,
          1,
          1,
          1
         ],
         "yaxis": "y"
        },
        {
         "alignmentgroup": "True",
         "hovertemplate": "comp=True<br>Bewerber=%{x}<br>Anzahl Modelle am Markt=%{y}<extra></extra>",
         "legendgroup": "True",
         "marker": {
          "color": "#EF553B",
          "pattern": {
           "shape": ""
          }
         },
         "name": "True",
         "offsetgroup": "True",
         "orientation": "v",
         "showlegend": true,
         "textposition": "auto",
         "type": "bar",
         "x": [
          "BMW"
         ],
         "xaxis": "x",
         "y": [
          4
         ],
         "yaxis": "y"
        }
       ],
       "layout": {
        "annotations": [
         {
          "showarrow": false,
          "text": "Wir sind auf Platz 9",
          "x": 8,
          "y": 10
         }
        ],
        "barmode": "relative",
        "legend": {
         "title": {
          "text": "comp"
         },
         "tracegroupgap": 0
        },
        "template": {
         "data": {
          "bar": [
           {
            "error_x": {
             "color": "#2a3f5f"
            },
            "error_y": {
             "color": "#2a3f5f"
            },
            "marker": {
             "line": {
              "color": "#E5ECF6",
              "width": 0.5
             },
             "pattern": {
              "fillmode": "overlay",
              "size": 10,
              "solidity": 0.2
             }
            },
            "type": "bar"
           }
          ],
          "barpolar": [
           {
            "marker": {
             "line": {
              "color": "#E5ECF6",
              "width": 0.5
             },
             "pattern": {
              "fillmode": "overlay",
              "size": 10,
              "solidity": 0.2
             }
            },
            "type": "barpolar"
           }
          ],
          "carpet": [
           {
            "aaxis": {
             "endlinecolor": "#2a3f5f",
             "gridcolor": "white",
             "linecolor": "white",
             "minorgridcolor": "white",
             "startlinecolor": "#2a3f5f"
            },
            "baxis": {
             "endlinecolor": "#2a3f5f",
             "gridcolor": "white",
             "linecolor": "white",
             "minorgridcolor": "white",
             "startlinecolor": "#2a3f5f"
            },
            "type": "carpet"
           }
          ],
          "choropleth": [
           {
            "colorbar": {
             "outlinewidth": 0,
             "ticks": ""
            },
            "type": "choropleth"
           }
          ],
          "contour": [
           {
            "colorbar": {
             "outlinewidth": 0,
             "ticks": ""
            },
            "colorscale": [
             [
              0,
              "#0d0887"
             ],
             [
              0.1111111111111111,
              "#46039f"
             ],
             [
              0.2222222222222222,
              "#7201a8"
             ],
             [
              0.3333333333333333,
              "#9c179e"
             ],
             [
              0.4444444444444444,
              "#bd3786"
             ],
             [
              0.5555555555555556,
              "#d8576b"
             ],
             [
              0.6666666666666666,
              "#ed7953"
             ],
             [
              0.7777777777777778,
              "#fb9f3a"
             ],
             [
              0.8888888888888888,
              "#fdca26"
             ],
             [
              1,
              "#f0f921"
             ]
            ],
            "type": "contour"
           }
          ],
          "contourcarpet": [
           {
            "colorbar": {
             "outlinewidth": 0,
             "ticks": ""
            },
            "type": "contourcarpet"
           }
          ],
          "heatmap": [
           {
            "colorbar": {
             "outlinewidth": 0,
             "ticks": ""
            },
            "colorscale": [
             [
              0,
              "#0d0887"
             ],
             [
              0.1111111111111111,
              "#46039f"
             ],
             [
              0.2222222222222222,
              "#7201a8"
             ],
             [
              0.3333333333333333,
              "#9c179e"
             ],
             [
              0.4444444444444444,
              "#bd3786"
             ],
             [
              0.5555555555555556,
              "#d8576b"
             ],
             [
              0.6666666666666666,
              "#ed7953"
             ],
             [
              0.7777777777777778,
              "#fb9f3a"
             ],
             [
              0.8888888888888888,
              "#fdca26"
             ],
             [
              1,
              "#f0f921"
             ]
            ],
            "type": "heatmap"
           }
          ],
          "heatmapgl": [
           {
            "colorbar": {
             "outlinewidth": 0,
             "ticks": ""
            },
            "colorscale": [
             [
              0,
              "#0d0887"
             ],
             [
              0.1111111111111111,
              "#46039f"
             ],
             [
              0.2222222222222222,
              "#7201a8"
             ],
             [
              0.3333333333333333,
              "#9c179e"
             ],
             [
              0.4444444444444444,
              "#bd3786"
             ],
             [
              0.5555555555555556,
              "#d8576b"
             ],
             [
              0.6666666666666666,
              "#ed7953"
             ],
             [
              0.7777777777777778,
              "#fb9f3a"
             ],
             [
              0.8888888888888888,
              "#fdca26"
             ],
             [
              1,
              "#f0f921"
             ]
            ],
            "type": "heatmapgl"
           }
          ],
          "histogram": [
           {
            "marker": {
             "pattern": {
              "fillmode": "overlay",
              "size": 10,
              "solidity": 0.2
             }
            },
            "type": "histogram"
           }
          ],
          "histogram2d": [
           {
            "colorbar": {
             "outlinewidth": 0,
             "ticks": ""
            },
            "colorscale": [
             [
              0,
              "#0d0887"
             ],
             [
              0.1111111111111111,
              "#46039f"
             ],
             [
              0.2222222222222222,
              "#7201a8"
             ],
             [
              0.3333333333333333,
              "#9c179e"
             ],
             [
              0.4444444444444444,
              "#bd3786"
             ],
             [
              0.5555555555555556,
              "#d8576b"
             ],
             [
              0.6666666666666666,
              "#ed7953"
             ],
             [
              0.7777777777777778,
              "#fb9f3a"
             ],
             [
              0.8888888888888888,
              "#fdca26"
             ],
             [
              1,
              "#f0f921"
             ]
            ],
            "type": "histogram2d"
           }
          ],
          "histogram2dcontour": [
           {
            "colorbar": {
             "outlinewidth": 0,
             "ticks": ""
            },
            "colorscale": [
             [
              0,
              "#0d0887"
             ],
             [
              0.1111111111111111,
              "#46039f"
             ],
             [
              0.2222222222222222,
              "#7201a8"
             ],
             [
              0.3333333333333333,
              "#9c179e"
             ],
             [
              0.4444444444444444,
              "#bd3786"
             ],
             [
              0.5555555555555556,
              "#d8576b"
             ],
             [
              0.6666666666666666,
              "#ed7953"
             ],
             [
              0.7777777777777778,
              "#fb9f3a"
             ],
             [
              0.8888888888888888,
              "#fdca26"
             ],
             [
              1,
              "#f0f921"
             ]
            ],
            "type": "histogram2dcontour"
           }
          ],
          "mesh3d": [
           {
            "colorbar": {
             "outlinewidth": 0,
             "ticks": ""
            },
            "type": "mesh3d"
           }
          ],
          "parcoords": [
           {
            "line": {
             "colorbar": {
              "outlinewidth": 0,
              "ticks": ""
             }
            },
            "type": "parcoords"
           }
          ],
          "pie": [
           {
            "automargin": true,
            "type": "pie"
           }
          ],
          "scatter": [
           {
            "marker": {
             "colorbar": {
              "outlinewidth": 0,
              "ticks": ""
             }
            },
            "type": "scatter"
           }
          ],
          "scatter3d": [
           {
            "line": {
             "colorbar": {
              "outlinewidth": 0,
              "ticks": ""
             }
            },
            "marker": {
             "colorbar": {
              "outlinewidth": 0,
              "ticks": ""
             }
            },
            "type": "scatter3d"
           }
          ],
          "scattercarpet": [
           {
            "marker": {
             "colorbar": {
              "outlinewidth": 0,
              "ticks": ""
             }
            },
            "type": "scattercarpet"
           }
          ],
          "scattergeo": [
           {
            "marker": {
             "colorbar": {
              "outlinewidth": 0,
              "ticks": ""
             }
            },
            "type": "scattergeo"
           }
          ],
          "scattergl": [
           {
            "marker": {
             "colorbar": {
              "outlinewidth": 0,
              "ticks": ""
             }
            },
            "type": "scattergl"
           }
          ],
          "scattermapbox": [
           {
            "marker": {
             "colorbar": {
              "outlinewidth": 0,
              "ticks": ""
             }
            },
            "type": "scattermapbox"
           }
          ],
          "scatterpolar": [
           {
            "marker": {
             "colorbar": {
              "outlinewidth": 0,
              "ticks": ""
             }
            },
            "type": "scatterpolar"
           }
          ],
          "scatterpolargl": [
           {
            "marker": {
             "colorbar": {
              "outlinewidth": 0,
              "ticks": ""
             }
            },
            "type": "scatterpolargl"
           }
          ],
          "scatterternary": [
           {
            "marker": {
             "colorbar": {
              "outlinewidth": 0,
              "ticks": ""
             }
            },
            "type": "scatterternary"
           }
          ],
          "surface": [
           {
            "colorbar": {
             "outlinewidth": 0,
             "ticks": ""
            },
            "colorscale": [
             [
              0,
              "#0d0887"
             ],
             [
              0.1111111111111111,
              "#46039f"
             ],
             [
              0.2222222222222222,
              "#7201a8"
             ],
             [
              0.3333333333333333,
              "#9c179e"
             ],
             [
              0.4444444444444444,
              "#bd3786"
             ],
             [
              0.5555555555555556,
              "#d8576b"
             ],
             [
              0.6666666666666666,
              "#ed7953"
             ],
             [
              0.7777777777777778,
              "#fb9f3a"
             ],
             [
              0.8888888888888888,
              "#fdca26"
             ],
             [
              1,
              "#f0f921"
             ]
            ],
            "type": "surface"
           }
          ],
          "table": [
           {
            "cells": {
             "fill": {
              "color": "#EBF0F8"
             },
             "line": {
              "color": "white"
             }
            },
            "header": {
             "fill": {
              "color": "#C8D4E3"
             },
             "line": {
              "color": "white"
             }
            },
            "type": "table"
           }
          ]
         },
         "layout": {
          "annotationdefaults": {
           "arrowcolor": "#2a3f5f",
           "arrowhead": 0,
           "arrowwidth": 1
          },
          "autotypenumbers": "strict",
          "coloraxis": {
           "colorbar": {
            "outlinewidth": 0,
            "ticks": ""
           }
          },
          "colorscale": {
           "diverging": [
            [
             0,
             "#8e0152"
            ],
            [
             0.1,
             "#c51b7d"
            ],
            [
             0.2,
             "#de77ae"
            ],
            [
             0.3,
             "#f1b6da"
            ],
            [
             0.4,
             "#fde0ef"
            ],
            [
             0.5,
             "#f7f7f7"
            ],
            [
             0.6,
             "#e6f5d0"
            ],
            [
             0.7,
             "#b8e186"
            ],
            [
             0.8,
             "#7fbc41"
            ],
            [
             0.9,
             "#4d9221"
            ],
            [
             1,
             "#276419"
            ]
           ],
           "sequential": [
            [
             0,
             "#0d0887"
            ],
            [
             0.1111111111111111,
             "#46039f"
            ],
            [
             0.2222222222222222,
             "#7201a8"
            ],
            [
             0.3333333333333333,
             "#9c179e"
            ],
            [
             0.4444444444444444,
             "#bd3786"
            ],
            [
             0.5555555555555556,
             "#d8576b"
            ],
            [
             0.6666666666666666,
             "#ed7953"
            ],
            [
             0.7777777777777778,
             "#fb9f3a"
            ],
            [
             0.8888888888888888,
             "#fdca26"
            ],
            [
             1,
             "#f0f921"
            ]
           ],
           "sequentialminus": [
            [
             0,
             "#0d0887"
            ],
            [
             0.1111111111111111,
             "#46039f"
            ],
            [
             0.2222222222222222,
             "#7201a8"
            ],
            [
             0.3333333333333333,
             "#9c179e"
            ],
            [
             0.4444444444444444,
             "#bd3786"
            ],
            [
             0.5555555555555556,
             "#d8576b"
            ],
            [
             0.6666666666666666,
             "#ed7953"
            ],
            [
             0.7777777777777778,
             "#fb9f3a"
            ],
            [
             0.8888888888888888,
             "#fdca26"
            ],
            [
             1,
             "#f0f921"
            ]
           ]
          },
          "colorway": [
           "#636efa",
           "#EF553B",
           "#00cc96",
           "#ab63fa",
           "#FFA15A",
           "#19d3f3",
           "#FF6692",
           "#B6E880",
           "#FF97FF",
           "#FECB52"
          ],
          "font": {
           "color": "#2a3f5f"
          },
          "geo": {
           "bgcolor": "white",
           "lakecolor": "white",
           "landcolor": "#E5ECF6",
           "showlakes": true,
           "showland": true,
           "subunitcolor": "white"
          },
          "hoverlabel": {
           "align": "left"
          },
          "hovermode": "closest",
          "mapbox": {
           "style": "light"
          },
          "paper_bgcolor": "white",
          "plot_bgcolor": "#E5ECF6",
          "polar": {
           "angularaxis": {
            "gridcolor": "white",
            "linecolor": "white",
            "ticks": ""
           },
           "bgcolor": "#E5ECF6",
           "radialaxis": {
            "gridcolor": "white",
            "linecolor": "white",
            "ticks": ""
           }
          },
          "scene": {
           "xaxis": {
            "backgroundcolor": "#E5ECF6",
            "gridcolor": "white",
            "gridwidth": 2,
            "linecolor": "white",
            "showbackground": true,
            "ticks": "",
            "zerolinecolor": "white"
           },
           "yaxis": {
            "backgroundcolor": "#E5ECF6",
            "gridcolor": "white",
            "gridwidth": 2,
            "linecolor": "white",
            "showbackground": true,
            "ticks": "",
            "zerolinecolor": "white"
           },
           "zaxis": {
            "backgroundcolor": "#E5ECF6",
            "gridcolor": "white",
            "gridwidth": 2,
            "linecolor": "white",
            "showbackground": true,
            "ticks": "",
            "zerolinecolor": "white"
           }
          },
          "shapedefaults": {
           "line": {
            "color": "#2a3f5f"
           }
          },
          "ternary": {
           "aaxis": {
            "gridcolor": "white",
            "linecolor": "white",
            "ticks": ""
           },
           "baxis": {
            "gridcolor": "white",
            "linecolor": "white",
            "ticks": ""
           },
           "bgcolor": "#E5ECF6",
           "caxis": {
            "gridcolor": "white",
            "linecolor": "white",
            "ticks": ""
           }
          },
          "title": {
           "x": 0.05
          },
          "xaxis": {
           "automargin": true,
           "gridcolor": "white",
           "linecolor": "white",
           "ticks": "",
           "title": {
            "standoff": 15
           },
           "zerolinecolor": "white",
           "zerolinewidth": 2
          },
          "yaxis": {
           "automargin": true,
           "gridcolor": "white",
           "linecolor": "white",
           "ticks": "",
           "title": {
            "standoff": 15
           },
           "zerolinecolor": "white",
           "zerolinewidth": 2
          }
         }
        },
        "title": {
         "text": "Ich im Vergleich zu meinen Mitbewerbern"
        },
        "xaxis": {
         "anchor": "y",
         "categoryorder": "total descending",
         "domain": [
          0,
          1
         ],
         "title": {
          "text": "Bewerber"
         }
        },
        "yaxis": {
         "anchor": "x",
         "domain": [
          0,
          1
         ],
         "title": {
          "text": "Anzahl Modelle am Markt"
         }
        }
       }
      },
      "text/html": [
       "<div>                            <div id=\"82404fb8-b1ca-4778-8379-c8a1b6c85fa0\" class=\"plotly-graph-div\" style=\"height:525px; width:100%;\"></div>            <script type=\"text/javascript\">                require([\"plotly\"], function(Plotly) {                    window.PLOTLYENV=window.PLOTLYENV || {};                                    if (document.getElementById(\"82404fb8-b1ca-4778-8379-c8a1b6c85fa0\")) {                    Plotly.newPlot(                        \"82404fb8-b1ca-4778-8379-c8a1b6c85fa0\",                        [{\"alignmentgroup\":\"True\",\"hovertemplate\":\"comp=False<br>Bewerber=%{x}<br>Anzahl Modelle am Markt=%{y}<extra></extra>\",\"legendgroup\":\"False\",\"marker\":{\"color\":\"#636efa\",\"pattern\":{\"shape\":\"\"}},\"name\":\"False\",\"offsetgroup\":\"False\",\"orientation\":\"v\",\"showlegend\":true,\"textposition\":\"auto\",\"x\":[\"Tesla\",\"Audi\",\"Nissan\",\"Volkswagen\",\"Skoda\",\"Porsche\",\"Renault\",\"Kia\",\"Ford\",\"Smart\",\"Mercedes\",\"Opel\",\"Hyundai\",\"Byton\",\"Peugeot\",\"Honda\",\"Fiat\",\"SEAT\",\"Sono\",\"Polestar\",\"Aiways\",\"MG\",\"Mini\",\"Mazda\",\"Lucid\",\"Lightyear\",\"Lexus\",\"Jaguar\",\"DS\",\"Citroen\",\"CUPRA\",\"Volvo\"],\"xaxis\":\"x\",\"y\":[13,9,8,8,6,5,5,4,4,3,3,3,3,3,2,2,2,1,1,1,1,1,1,1,1,1,1,1,1,1,1,1],\"yaxis\":\"y\",\"type\":\"bar\"},{\"alignmentgroup\":\"True\",\"hovertemplate\":\"comp=True<br>Bewerber=%{x}<br>Anzahl Modelle am Markt=%{y}<extra></extra>\",\"legendgroup\":\"True\",\"marker\":{\"color\":\"#EF553B\",\"pattern\":{\"shape\":\"\"}},\"name\":\"True\",\"offsetgroup\":\"True\",\"orientation\":\"v\",\"showlegend\":true,\"textposition\":\"auto\",\"x\":[\"BMW\"],\"xaxis\":\"x\",\"y\":[4],\"yaxis\":\"y\",\"type\":\"bar\"}],                        {\"template\":{\"data\":{\"bar\":[{\"error_x\":{\"color\":\"#2a3f5f\"},\"error_y\":{\"color\":\"#2a3f5f\"},\"marker\":{\"line\":{\"color\":\"#E5ECF6\",\"width\":0.5},\"pattern\":{\"fillmode\":\"overlay\",\"size\":10,\"solidity\":0.2}},\"type\":\"bar\"}],\"barpolar\":[{\"marker\":{\"line\":{\"color\":\"#E5ECF6\",\"width\":0.5},\"pattern\":{\"fillmode\":\"overlay\",\"size\":10,\"solidity\":0.2}},\"type\":\"barpolar\"}],\"carpet\":[{\"aaxis\":{\"endlinecolor\":\"#2a3f5f\",\"gridcolor\":\"white\",\"linecolor\":\"white\",\"minorgridcolor\":\"white\",\"startlinecolor\":\"#2a3f5f\"},\"baxis\":{\"endlinecolor\":\"#2a3f5f\",\"gridcolor\":\"white\",\"linecolor\":\"white\",\"minorgridcolor\":\"white\",\"startlinecolor\":\"#2a3f5f\"},\"type\":\"carpet\"}],\"choropleth\":[{\"colorbar\":{\"outlinewidth\":0,\"ticks\":\"\"},\"type\":\"choropleth\"}],\"contour\":[{\"colorbar\":{\"outlinewidth\":0,\"ticks\":\"\"},\"colorscale\":[[0.0,\"#0d0887\"],[0.1111111111111111,\"#46039f\"],[0.2222222222222222,\"#7201a8\"],[0.3333333333333333,\"#9c179e\"],[0.4444444444444444,\"#bd3786\"],[0.5555555555555556,\"#d8576b\"],[0.6666666666666666,\"#ed7953\"],[0.7777777777777778,\"#fb9f3a\"],[0.8888888888888888,\"#fdca26\"],[1.0,\"#f0f921\"]],\"type\":\"contour\"}],\"contourcarpet\":[{\"colorbar\":{\"outlinewidth\":0,\"ticks\":\"\"},\"type\":\"contourcarpet\"}],\"heatmap\":[{\"colorbar\":{\"outlinewidth\":0,\"ticks\":\"\"},\"colorscale\":[[0.0,\"#0d0887\"],[0.1111111111111111,\"#46039f\"],[0.2222222222222222,\"#7201a8\"],[0.3333333333333333,\"#9c179e\"],[0.4444444444444444,\"#bd3786\"],[0.5555555555555556,\"#d8576b\"],[0.6666666666666666,\"#ed7953\"],[0.7777777777777778,\"#fb9f3a\"],[0.8888888888888888,\"#fdca26\"],[1.0,\"#f0f921\"]],\"type\":\"heatmap\"}],\"heatmapgl\":[{\"colorbar\":{\"outlinewidth\":0,\"ticks\":\"\"},\"colorscale\":[[0.0,\"#0d0887\"],[0.1111111111111111,\"#46039f\"],[0.2222222222222222,\"#7201a8\"],[0.3333333333333333,\"#9c179e\"],[0.4444444444444444,\"#bd3786\"],[0.5555555555555556,\"#d8576b\"],[0.6666666666666666,\"#ed7953\"],[0.7777777777777778,\"#fb9f3a\"],[0.8888888888888888,\"#fdca26\"],[1.0,\"#f0f921\"]],\"type\":\"heatmapgl\"}],\"histogram\":[{\"marker\":{\"pattern\":{\"fillmode\":\"overlay\",\"size\":10,\"solidity\":0.2}},\"type\":\"histogram\"}],\"histogram2d\":[{\"colorbar\":{\"outlinewidth\":0,\"ticks\":\"\"},\"colorscale\":[[0.0,\"#0d0887\"],[0.1111111111111111,\"#46039f\"],[0.2222222222222222,\"#7201a8\"],[0.3333333333333333,\"#9c179e\"],[0.4444444444444444,\"#bd3786\"],[0.5555555555555556,\"#d8576b\"],[0.6666666666666666,\"#ed7953\"],[0.7777777777777778,\"#fb9f3a\"],[0.8888888888888888,\"#fdca26\"],[1.0,\"#f0f921\"]],\"type\":\"histogram2d\"}],\"histogram2dcontour\":[{\"colorbar\":{\"outlinewidth\":0,\"ticks\":\"\"},\"colorscale\":[[0.0,\"#0d0887\"],[0.1111111111111111,\"#46039f\"],[0.2222222222222222,\"#7201a8\"],[0.3333333333333333,\"#9c179e\"],[0.4444444444444444,\"#bd3786\"],[0.5555555555555556,\"#d8576b\"],[0.6666666666666666,\"#ed7953\"],[0.7777777777777778,\"#fb9f3a\"],[0.8888888888888888,\"#fdca26\"],[1.0,\"#f0f921\"]],\"type\":\"histogram2dcontour\"}],\"mesh3d\":[{\"colorbar\":{\"outlinewidth\":0,\"ticks\":\"\"},\"type\":\"mesh3d\"}],\"parcoords\":[{\"line\":{\"colorbar\":{\"outlinewidth\":0,\"ticks\":\"\"}},\"type\":\"parcoords\"}],\"pie\":[{\"automargin\":true,\"type\":\"pie\"}],\"scatter\":[{\"marker\":{\"colorbar\":{\"outlinewidth\":0,\"ticks\":\"\"}},\"type\":\"scatter\"}],\"scatter3d\":[{\"line\":{\"colorbar\":{\"outlinewidth\":0,\"ticks\":\"\"}},\"marker\":{\"colorbar\":{\"outlinewidth\":0,\"ticks\":\"\"}},\"type\":\"scatter3d\"}],\"scattercarpet\":[{\"marker\":{\"colorbar\":{\"outlinewidth\":0,\"ticks\":\"\"}},\"type\":\"scattercarpet\"}],\"scattergeo\":[{\"marker\":{\"colorbar\":{\"outlinewidth\":0,\"ticks\":\"\"}},\"type\":\"scattergeo\"}],\"scattergl\":[{\"marker\":{\"colorbar\":{\"outlinewidth\":0,\"ticks\":\"\"}},\"type\":\"scattergl\"}],\"scattermapbox\":[{\"marker\":{\"colorbar\":{\"outlinewidth\":0,\"ticks\":\"\"}},\"type\":\"scattermapbox\"}],\"scatterpolar\":[{\"marker\":{\"colorbar\":{\"outlinewidth\":0,\"ticks\":\"\"}},\"type\":\"scatterpolar\"}],\"scatterpolargl\":[{\"marker\":{\"colorbar\":{\"outlinewidth\":0,\"ticks\":\"\"}},\"type\":\"scatterpolargl\"}],\"scatterternary\":[{\"marker\":{\"colorbar\":{\"outlinewidth\":0,\"ticks\":\"\"}},\"type\":\"scatterternary\"}],\"surface\":[{\"colorbar\":{\"outlinewidth\":0,\"ticks\":\"\"},\"colorscale\":[[0.0,\"#0d0887\"],[0.1111111111111111,\"#46039f\"],[0.2222222222222222,\"#7201a8\"],[0.3333333333333333,\"#9c179e\"],[0.4444444444444444,\"#bd3786\"],[0.5555555555555556,\"#d8576b\"],[0.6666666666666666,\"#ed7953\"],[0.7777777777777778,\"#fb9f3a\"],[0.8888888888888888,\"#fdca26\"],[1.0,\"#f0f921\"]],\"type\":\"surface\"}],\"table\":[{\"cells\":{\"fill\":{\"color\":\"#EBF0F8\"},\"line\":{\"color\":\"white\"}},\"header\":{\"fill\":{\"color\":\"#C8D4E3\"},\"line\":{\"color\":\"white\"}},\"type\":\"table\"}]},\"layout\":{\"annotationdefaults\":{\"arrowcolor\":\"#2a3f5f\",\"arrowhead\":0,\"arrowwidth\":1},\"autotypenumbers\":\"strict\",\"coloraxis\":{\"colorbar\":{\"outlinewidth\":0,\"ticks\":\"\"}},\"colorscale\":{\"diverging\":[[0,\"#8e0152\"],[0.1,\"#c51b7d\"],[0.2,\"#de77ae\"],[0.3,\"#f1b6da\"],[0.4,\"#fde0ef\"],[0.5,\"#f7f7f7\"],[0.6,\"#e6f5d0\"],[0.7,\"#b8e186\"],[0.8,\"#7fbc41\"],[0.9,\"#4d9221\"],[1,\"#276419\"]],\"sequential\":[[0.0,\"#0d0887\"],[0.1111111111111111,\"#46039f\"],[0.2222222222222222,\"#7201a8\"],[0.3333333333333333,\"#9c179e\"],[0.4444444444444444,\"#bd3786\"],[0.5555555555555556,\"#d8576b\"],[0.6666666666666666,\"#ed7953\"],[0.7777777777777778,\"#fb9f3a\"],[0.8888888888888888,\"#fdca26\"],[1.0,\"#f0f921\"]],\"sequentialminus\":[[0.0,\"#0d0887\"],[0.1111111111111111,\"#46039f\"],[0.2222222222222222,\"#7201a8\"],[0.3333333333333333,\"#9c179e\"],[0.4444444444444444,\"#bd3786\"],[0.5555555555555556,\"#d8576b\"],[0.6666666666666666,\"#ed7953\"],[0.7777777777777778,\"#fb9f3a\"],[0.8888888888888888,\"#fdca26\"],[1.0,\"#f0f921\"]]},\"colorway\":[\"#636efa\",\"#EF553B\",\"#00cc96\",\"#ab63fa\",\"#FFA15A\",\"#19d3f3\",\"#FF6692\",\"#B6E880\",\"#FF97FF\",\"#FECB52\"],\"font\":{\"color\":\"#2a3f5f\"},\"geo\":{\"bgcolor\":\"white\",\"lakecolor\":\"white\",\"landcolor\":\"#E5ECF6\",\"showlakes\":true,\"showland\":true,\"subunitcolor\":\"white\"},\"hoverlabel\":{\"align\":\"left\"},\"hovermode\":\"closest\",\"mapbox\":{\"style\":\"light\"},\"paper_bgcolor\":\"white\",\"plot_bgcolor\":\"#E5ECF6\",\"polar\":{\"angularaxis\":{\"gridcolor\":\"white\",\"linecolor\":\"white\",\"ticks\":\"\"},\"bgcolor\":\"#E5ECF6\",\"radialaxis\":{\"gridcolor\":\"white\",\"linecolor\":\"white\",\"ticks\":\"\"}},\"scene\":{\"xaxis\":{\"backgroundcolor\":\"#E5ECF6\",\"gridcolor\":\"white\",\"gridwidth\":2,\"linecolor\":\"white\",\"showbackground\":true,\"ticks\":\"\",\"zerolinecolor\":\"white\"},\"yaxis\":{\"backgroundcolor\":\"#E5ECF6\",\"gridcolor\":\"white\",\"gridwidth\":2,\"linecolor\":\"white\",\"showbackground\":true,\"ticks\":\"\",\"zerolinecolor\":\"white\"},\"zaxis\":{\"backgroundcolor\":\"#E5ECF6\",\"gridcolor\":\"white\",\"gridwidth\":2,\"linecolor\":\"white\",\"showbackground\":true,\"ticks\":\"\",\"zerolinecolor\":\"white\"}},\"shapedefaults\":{\"line\":{\"color\":\"#2a3f5f\"}},\"ternary\":{\"aaxis\":{\"gridcolor\":\"white\",\"linecolor\":\"white\",\"ticks\":\"\"},\"baxis\":{\"gridcolor\":\"white\",\"linecolor\":\"white\",\"ticks\":\"\"},\"bgcolor\":\"#E5ECF6\",\"caxis\":{\"gridcolor\":\"white\",\"linecolor\":\"white\",\"ticks\":\"\"}},\"title\":{\"x\":0.05},\"xaxis\":{\"automargin\":true,\"gridcolor\":\"white\",\"linecolor\":\"white\",\"ticks\":\"\",\"title\":{\"standoff\":15},\"zerolinecolor\":\"white\",\"zerolinewidth\":2},\"yaxis\":{\"automargin\":true,\"gridcolor\":\"white\",\"linecolor\":\"white\",\"ticks\":\"\",\"title\":{\"standoff\":15},\"zerolinecolor\":\"white\",\"zerolinewidth\":2}}},\"xaxis\":{\"anchor\":\"y\",\"domain\":[0.0,1.0],\"title\":{\"text\":\"Bewerber\"},\"categoryorder\":\"total descending\"},\"yaxis\":{\"anchor\":\"x\",\"domain\":[0.0,1.0],\"title\":{\"text\":\"Anzahl Modelle am Markt\"}},\"legend\":{\"title\":{\"text\":\"comp\"},\"tracegroupgap\":0},\"title\":{\"text\":\"Ich im Vergleich zu meinen Mitbewerbern\"},\"barmode\":\"relative\",\"annotations\":[{\"showarrow\":false,\"text\":\"Wir sind auf Platz 9\",\"x\":8,\"y\":10}]},                        {\"responsive\": true}                    ).then(function(){\n",
       "                            \n",
       "var gd = document.getElementById('82404fb8-b1ca-4778-8379-c8a1b6c85fa0');\n",
       "var x = new MutationObserver(function (mutations, observer) {{\n",
       "        var display = window.getComputedStyle(gd).display;\n",
       "        if (!display || display === 'none') {{\n",
       "            console.log([gd, 'removed!']);\n",
       "            Plotly.purge(gd);\n",
       "            observer.disconnect();\n",
       "        }}\n",
       "}});\n",
       "\n",
       "// Listen for the removal of the full notebook cells\n",
       "var notebookContainer = gd.closest('#notebook-container');\n",
       "if (notebookContainer) {{\n",
       "    x.observe(notebookContainer, {childList: true});\n",
       "}}\n",
       "\n",
       "// Listen for the clearing of the current output cell\n",
       "var outputEl = gd.closest('.output');\n",
       "if (outputEl) {{\n",
       "    x.observe(outputEl, {childList: true});\n",
       "}}\n",
       "\n",
       "                        })                };                });            </script>        </div>"
      ]
     },
     "metadata": {},
     "output_type": "display_data"
    }
   ],
   "source": [
    "# Plot erstellen\n",
    "\n",
    "my_bar = px.bar(data_frame=df_sort,\n",
    "                x='Brand',\n",
    "                y='Model',\n",
    "                title='Ich im Vergleich zu meinen Mitbewerbern',\n",
    "                labels={'Brand':'Bewerber','Model':'Anzahl Modelle am Markt'},\n",
    "                color='comp'\n",
    "               )\n",
    "my_bar.add_annotation(x=8, y=10,\n",
    "                      text=f\"Wir sind auf Platz {index_marke[0]+1}\",\n",
    "                      showarrow=False\n",
    "                     )\n",
    "my_bar.update_xaxes(categoryorder=\"total descending\") # Position ist hier wichtig, da sonst die True werte\n",
    "                                                        # nach den False Werten drangepackt werden\n",
    "my_bar.show()"
   ]
  },
  {
   "cell_type": "code",
   "execution_count": 113,
   "metadata": {},
   "outputs": [
    {
     "data": {
      "application/vnd.plotly.v1+json": {
       "config": {
        "plotlyServerURL": "https://plot.ly"
       },
       "data": [
        {
         "alignmentgroup": "True",
         "hovertemplate": "Wettbewerber=False<br>Anzahl Modelle am Markt=%{x}<br>Bewerber=%{y}<extra></extra>",
         "legendgroup": "False",
         "marker": {
          "color": "#636efa",
          "pattern": {
           "shape": ""
          }
         },
         "name": "False",
         "offsetgroup": "False",
         "orientation": "h",
         "showlegend": true,
         "textposition": "auto",
         "type": "bar",
         "x": [
          13,
          9,
          8,
          8,
          6,
          5,
          5,
          4,
          4,
          3,
          3,
          3,
          3,
          3,
          2,
          2,
          2,
          1,
          1,
          1,
          1,
          1,
          1,
          1,
          1,
          1,
          1,
          1,
          1,
          1,
          1,
          1
         ],
         "xaxis": "x",
         "y": [
          "Tesla",
          "Audi",
          "Nissan",
          "Volkswagen",
          "Skoda",
          "Porsche",
          "Renault",
          "Kia",
          "Ford",
          "Smart",
          "Mercedes",
          "Opel",
          "Hyundai",
          "Byton",
          "Peugeot",
          "Honda",
          "Fiat",
          "SEAT",
          "Sono",
          "Polestar",
          "Aiways",
          "MG",
          "Mini",
          "Mazda",
          "Lucid",
          "Lightyear",
          "Lexus",
          "Jaguar",
          "DS",
          "Citroen",
          "CUPRA",
          "Volvo"
         ],
         "yaxis": "y"
        },
        {
         "alignmentgroup": "True",
         "hovertemplate": "Wettbewerber=True<br>Anzahl Modelle am Markt=%{x}<br>Bewerber=%{y}<extra></extra>",
         "legendgroup": "True",
         "marker": {
          "color": "#EF553B",
          "pattern": {
           "shape": ""
          }
         },
         "name": "True",
         "offsetgroup": "True",
         "orientation": "h",
         "showlegend": true,
         "textposition": "auto",
         "type": "bar",
         "x": [
          4
         ],
         "xaxis": "x",
         "y": [
          "BMW"
         ],
         "yaxis": "y"
        }
       ],
       "layout": {
        "barmode": "relative",
        "height": 1000,
        "legend": {
         "title": {
          "text": "Wettbewerber"
         },
         "tracegroupgap": 0
        },
        "template": {
         "data": {
          "bar": [
           {
            "error_x": {
             "color": "#2a3f5f"
            },
            "error_y": {
             "color": "#2a3f5f"
            },
            "marker": {
             "line": {
              "color": "#E5ECF6",
              "width": 0.5
             },
             "pattern": {
              "fillmode": "overlay",
              "size": 10,
              "solidity": 0.2
             }
            },
            "type": "bar"
           }
          ],
          "barpolar": [
           {
            "marker": {
             "line": {
              "color": "#E5ECF6",
              "width": 0.5
             },
             "pattern": {
              "fillmode": "overlay",
              "size": 10,
              "solidity": 0.2
             }
            },
            "type": "barpolar"
           }
          ],
          "carpet": [
           {
            "aaxis": {
             "endlinecolor": "#2a3f5f",
             "gridcolor": "white",
             "linecolor": "white",
             "minorgridcolor": "white",
             "startlinecolor": "#2a3f5f"
            },
            "baxis": {
             "endlinecolor": "#2a3f5f",
             "gridcolor": "white",
             "linecolor": "white",
             "minorgridcolor": "white",
             "startlinecolor": "#2a3f5f"
            },
            "type": "carpet"
           }
          ],
          "choropleth": [
           {
            "colorbar": {
             "outlinewidth": 0,
             "ticks": ""
            },
            "type": "choropleth"
           }
          ],
          "contour": [
           {
            "colorbar": {
             "outlinewidth": 0,
             "ticks": ""
            },
            "colorscale": [
             [
              0,
              "#0d0887"
             ],
             [
              0.1111111111111111,
              "#46039f"
             ],
             [
              0.2222222222222222,
              "#7201a8"
             ],
             [
              0.3333333333333333,
              "#9c179e"
             ],
             [
              0.4444444444444444,
              "#bd3786"
             ],
             [
              0.5555555555555556,
              "#d8576b"
             ],
             [
              0.6666666666666666,
              "#ed7953"
             ],
             [
              0.7777777777777778,
              "#fb9f3a"
             ],
             [
              0.8888888888888888,
              "#fdca26"
             ],
             [
              1,
              "#f0f921"
             ]
            ],
            "type": "contour"
           }
          ],
          "contourcarpet": [
           {
            "colorbar": {
             "outlinewidth": 0,
             "ticks": ""
            },
            "type": "contourcarpet"
           }
          ],
          "heatmap": [
           {
            "colorbar": {
             "outlinewidth": 0,
             "ticks": ""
            },
            "colorscale": [
             [
              0,
              "#0d0887"
             ],
             [
              0.1111111111111111,
              "#46039f"
             ],
             [
              0.2222222222222222,
              "#7201a8"
             ],
             [
              0.3333333333333333,
              "#9c179e"
             ],
             [
              0.4444444444444444,
              "#bd3786"
             ],
             [
              0.5555555555555556,
              "#d8576b"
             ],
             [
              0.6666666666666666,
              "#ed7953"
             ],
             [
              0.7777777777777778,
              "#fb9f3a"
             ],
             [
              0.8888888888888888,
              "#fdca26"
             ],
             [
              1,
              "#f0f921"
             ]
            ],
            "type": "heatmap"
           }
          ],
          "heatmapgl": [
           {
            "colorbar": {
             "outlinewidth": 0,
             "ticks": ""
            },
            "colorscale": [
             [
              0,
              "#0d0887"
             ],
             [
              0.1111111111111111,
              "#46039f"
             ],
             [
              0.2222222222222222,
              "#7201a8"
             ],
             [
              0.3333333333333333,
              "#9c179e"
             ],
             [
              0.4444444444444444,
              "#bd3786"
             ],
             [
              0.5555555555555556,
              "#d8576b"
             ],
             [
              0.6666666666666666,
              "#ed7953"
             ],
             [
              0.7777777777777778,
              "#fb9f3a"
             ],
             [
              0.8888888888888888,
              "#fdca26"
             ],
             [
              1,
              "#f0f921"
             ]
            ],
            "type": "heatmapgl"
           }
          ],
          "histogram": [
           {
            "marker": {
             "pattern": {
              "fillmode": "overlay",
              "size": 10,
              "solidity": 0.2
             }
            },
            "type": "histogram"
           }
          ],
          "histogram2d": [
           {
            "colorbar": {
             "outlinewidth": 0,
             "ticks": ""
            },
            "colorscale": [
             [
              0,
              "#0d0887"
             ],
             [
              0.1111111111111111,
              "#46039f"
             ],
             [
              0.2222222222222222,
              "#7201a8"
             ],
             [
              0.3333333333333333,
              "#9c179e"
             ],
             [
              0.4444444444444444,
              "#bd3786"
             ],
             [
              0.5555555555555556,
              "#d8576b"
             ],
             [
              0.6666666666666666,
              "#ed7953"
             ],
             [
              0.7777777777777778,
              "#fb9f3a"
             ],
             [
              0.8888888888888888,
              "#fdca26"
             ],
             [
              1,
              "#f0f921"
             ]
            ],
            "type": "histogram2d"
           }
          ],
          "histogram2dcontour": [
           {
            "colorbar": {
             "outlinewidth": 0,
             "ticks": ""
            },
            "colorscale": [
             [
              0,
              "#0d0887"
             ],
             [
              0.1111111111111111,
              "#46039f"
             ],
             [
              0.2222222222222222,
              "#7201a8"
             ],
             [
              0.3333333333333333,
              "#9c179e"
             ],
             [
              0.4444444444444444,
              "#bd3786"
             ],
             [
              0.5555555555555556,
              "#d8576b"
             ],
             [
              0.6666666666666666,
              "#ed7953"
             ],
             [
              0.7777777777777778,
              "#fb9f3a"
             ],
             [
              0.8888888888888888,
              "#fdca26"
             ],
             [
              1,
              "#f0f921"
             ]
            ],
            "type": "histogram2dcontour"
           }
          ],
          "mesh3d": [
           {
            "colorbar": {
             "outlinewidth": 0,
             "ticks": ""
            },
            "type": "mesh3d"
           }
          ],
          "parcoords": [
           {
            "line": {
             "colorbar": {
              "outlinewidth": 0,
              "ticks": ""
             }
            },
            "type": "parcoords"
           }
          ],
          "pie": [
           {
            "automargin": true,
            "type": "pie"
           }
          ],
          "scatter": [
           {
            "marker": {
             "colorbar": {
              "outlinewidth": 0,
              "ticks": ""
             }
            },
            "type": "scatter"
           }
          ],
          "scatter3d": [
           {
            "line": {
             "colorbar": {
              "outlinewidth": 0,
              "ticks": ""
             }
            },
            "marker": {
             "colorbar": {
              "outlinewidth": 0,
              "ticks": ""
             }
            },
            "type": "scatter3d"
           }
          ],
          "scattercarpet": [
           {
            "marker": {
             "colorbar": {
              "outlinewidth": 0,
              "ticks": ""
             }
            },
            "type": "scattercarpet"
           }
          ],
          "scattergeo": [
           {
            "marker": {
             "colorbar": {
              "outlinewidth": 0,
              "ticks": ""
             }
            },
            "type": "scattergeo"
           }
          ],
          "scattergl": [
           {
            "marker": {
             "colorbar": {
              "outlinewidth": 0,
              "ticks": ""
             }
            },
            "type": "scattergl"
           }
          ],
          "scattermapbox": [
           {
            "marker": {
             "colorbar": {
              "outlinewidth": 0,
              "ticks": ""
             }
            },
            "type": "scattermapbox"
           }
          ],
          "scatterpolar": [
           {
            "marker": {
             "colorbar": {
              "outlinewidth": 0,
              "ticks": ""
             }
            },
            "type": "scatterpolar"
           }
          ],
          "scatterpolargl": [
           {
            "marker": {
             "colorbar": {
              "outlinewidth": 0,
              "ticks": ""
             }
            },
            "type": "scatterpolargl"
           }
          ],
          "scatterternary": [
           {
            "marker": {
             "colorbar": {
              "outlinewidth": 0,
              "ticks": ""
             }
            },
            "type": "scatterternary"
           }
          ],
          "surface": [
           {
            "colorbar": {
             "outlinewidth": 0,
             "ticks": ""
            },
            "colorscale": [
             [
              0,
              "#0d0887"
             ],
             [
              0.1111111111111111,
              "#46039f"
             ],
             [
              0.2222222222222222,
              "#7201a8"
             ],
             [
              0.3333333333333333,
              "#9c179e"
             ],
             [
              0.4444444444444444,
              "#bd3786"
             ],
             [
              0.5555555555555556,
              "#d8576b"
             ],
             [
              0.6666666666666666,
              "#ed7953"
             ],
             [
              0.7777777777777778,
              "#fb9f3a"
             ],
             [
              0.8888888888888888,
              "#fdca26"
             ],
             [
              1,
              "#f0f921"
             ]
            ],
            "type": "surface"
           }
          ],
          "table": [
           {
            "cells": {
             "fill": {
              "color": "#EBF0F8"
             },
             "line": {
              "color": "white"
             }
            },
            "header": {
             "fill": {
              "color": "#C8D4E3"
             },
             "line": {
              "color": "white"
             }
            },
            "type": "table"
           }
          ]
         },
         "layout": {
          "annotationdefaults": {
           "arrowcolor": "#2a3f5f",
           "arrowhead": 0,
           "arrowwidth": 1
          },
          "autotypenumbers": "strict",
          "coloraxis": {
           "colorbar": {
            "outlinewidth": 0,
            "ticks": ""
           }
          },
          "colorscale": {
           "diverging": [
            [
             0,
             "#8e0152"
            ],
            [
             0.1,
             "#c51b7d"
            ],
            [
             0.2,
             "#de77ae"
            ],
            [
             0.3,
             "#f1b6da"
            ],
            [
             0.4,
             "#fde0ef"
            ],
            [
             0.5,
             "#f7f7f7"
            ],
            [
             0.6,
             "#e6f5d0"
            ],
            [
             0.7,
             "#b8e186"
            ],
            [
             0.8,
             "#7fbc41"
            ],
            [
             0.9,
             "#4d9221"
            ],
            [
             1,
             "#276419"
            ]
           ],
           "sequential": [
            [
             0,
             "#0d0887"
            ],
            [
             0.1111111111111111,
             "#46039f"
            ],
            [
             0.2222222222222222,
             "#7201a8"
            ],
            [
             0.3333333333333333,
             "#9c179e"
            ],
            [
             0.4444444444444444,
             "#bd3786"
            ],
            [
             0.5555555555555556,
             "#d8576b"
            ],
            [
             0.6666666666666666,
             "#ed7953"
            ],
            [
             0.7777777777777778,
             "#fb9f3a"
            ],
            [
             0.8888888888888888,
             "#fdca26"
            ],
            [
             1,
             "#f0f921"
            ]
           ],
           "sequentialminus": [
            [
             0,
             "#0d0887"
            ],
            [
             0.1111111111111111,
             "#46039f"
            ],
            [
             0.2222222222222222,
             "#7201a8"
            ],
            [
             0.3333333333333333,
             "#9c179e"
            ],
            [
             0.4444444444444444,
             "#bd3786"
            ],
            [
             0.5555555555555556,
             "#d8576b"
            ],
            [
             0.6666666666666666,
             "#ed7953"
            ],
            [
             0.7777777777777778,
             "#fb9f3a"
            ],
            [
             0.8888888888888888,
             "#fdca26"
            ],
            [
             1,
             "#f0f921"
            ]
           ]
          },
          "colorway": [
           "#636efa",
           "#EF553B",
           "#00cc96",
           "#ab63fa",
           "#FFA15A",
           "#19d3f3",
           "#FF6692",
           "#B6E880",
           "#FF97FF",
           "#FECB52"
          ],
          "font": {
           "color": "#2a3f5f"
          },
          "geo": {
           "bgcolor": "white",
           "lakecolor": "white",
           "landcolor": "#E5ECF6",
           "showlakes": true,
           "showland": true,
           "subunitcolor": "white"
          },
          "hoverlabel": {
           "align": "left"
          },
          "hovermode": "closest",
          "mapbox": {
           "style": "light"
          },
          "paper_bgcolor": "white",
          "plot_bgcolor": "#E5ECF6",
          "polar": {
           "angularaxis": {
            "gridcolor": "white",
            "linecolor": "white",
            "ticks": ""
           },
           "bgcolor": "#E5ECF6",
           "radialaxis": {
            "gridcolor": "white",
            "linecolor": "white",
            "ticks": ""
           }
          },
          "scene": {
           "xaxis": {
            "backgroundcolor": "#E5ECF6",
            "gridcolor": "white",
            "gridwidth": 2,
            "linecolor": "white",
            "showbackground": true,
            "ticks": "",
            "zerolinecolor": "white"
           },
           "yaxis": {
            "backgroundcolor": "#E5ECF6",
            "gridcolor": "white",
            "gridwidth": 2,
            "linecolor": "white",
            "showbackground": true,
            "ticks": "",
            "zerolinecolor": "white"
           },
           "zaxis": {
            "backgroundcolor": "#E5ECF6",
            "gridcolor": "white",
            "gridwidth": 2,
            "linecolor": "white",
            "showbackground": true,
            "ticks": "",
            "zerolinecolor": "white"
           }
          },
          "shapedefaults": {
           "line": {
            "color": "#2a3f5f"
           }
          },
          "ternary": {
           "aaxis": {
            "gridcolor": "white",
            "linecolor": "white",
            "ticks": ""
           },
           "baxis": {
            "gridcolor": "white",
            "linecolor": "white",
            "ticks": ""
           },
           "bgcolor": "#E5ECF6",
           "caxis": {
            "gridcolor": "white",
            "linecolor": "white",
            "ticks": ""
           }
          },
          "title": {
           "x": 0.05
          },
          "xaxis": {
           "automargin": true,
           "gridcolor": "white",
           "linecolor": "white",
           "ticks": "",
           "title": {
            "standoff": 15
           },
           "zerolinecolor": "white",
           "zerolinewidth": 2
          },
          "yaxis": {
           "automargin": true,
           "gridcolor": "white",
           "linecolor": "white",
           "ticks": "",
           "title": {
            "standoff": 15
           },
           "zerolinecolor": "white",
           "zerolinewidth": 2
          }
         }
        },
        "title": {
         "text": "Ich im Vergleich zu meinen Mitbewerbern"
        },
        "width": 1000,
        "xaxis": {
         "anchor": "y",
         "domain": [
          0,
          1
         ],
         "title": {
          "text": "Anzahl Modelle am Markt"
         }
        },
        "yaxis": {
         "anchor": "x",
         "categoryorder": "total ascending",
         "domain": [
          0,
          1
         ],
         "title": {
          "text": "Bewerber"
         }
        }
       }
      },
      "text/html": [
       "<div>                            <div id=\"7d3f0364-0839-468b-9711-2340c6231c0e\" class=\"plotly-graph-div\" style=\"height:1000px; width:1000px;\"></div>            <script type=\"text/javascript\">                require([\"plotly\"], function(Plotly) {                    window.PLOTLYENV=window.PLOTLYENV || {};                                    if (document.getElementById(\"7d3f0364-0839-468b-9711-2340c6231c0e\")) {                    Plotly.newPlot(                        \"7d3f0364-0839-468b-9711-2340c6231c0e\",                        [{\"alignmentgroup\":\"True\",\"hovertemplate\":\"Wettbewerber=False<br>Anzahl Modelle am Markt=%{x}<br>Bewerber=%{y}<extra></extra>\",\"legendgroup\":\"False\",\"marker\":{\"color\":\"#636efa\",\"pattern\":{\"shape\":\"\"}},\"name\":\"False\",\"offsetgroup\":\"False\",\"orientation\":\"h\",\"showlegend\":true,\"textposition\":\"auto\",\"x\":[13,9,8,8,6,5,5,4,4,3,3,3,3,3,2,2,2,1,1,1,1,1,1,1,1,1,1,1,1,1,1,1],\"xaxis\":\"x\",\"y\":[\"Tesla\",\"Audi\",\"Nissan\",\"Volkswagen\",\"Skoda\",\"Porsche\",\"Renault\",\"Kia\",\"Ford\",\"Smart\",\"Mercedes\",\"Opel\",\"Hyundai\",\"Byton\",\"Peugeot\",\"Honda\",\"Fiat\",\"SEAT\",\"Sono\",\"Polestar\",\"Aiways\",\"MG\",\"Mini\",\"Mazda\",\"Lucid\",\"Lightyear\",\"Lexus\",\"Jaguar\",\"DS\",\"Citroen\",\"CUPRA\",\"Volvo\"],\"yaxis\":\"y\",\"type\":\"bar\"},{\"alignmentgroup\":\"True\",\"hovertemplate\":\"Wettbewerber=True<br>Anzahl Modelle am Markt=%{x}<br>Bewerber=%{y}<extra></extra>\",\"legendgroup\":\"True\",\"marker\":{\"color\":\"#EF553B\",\"pattern\":{\"shape\":\"\"}},\"name\":\"True\",\"offsetgroup\":\"True\",\"orientation\":\"h\",\"showlegend\":true,\"textposition\":\"auto\",\"x\":[4],\"xaxis\":\"x\",\"y\":[\"BMW\"],\"yaxis\":\"y\",\"type\":\"bar\"}],                        {\"template\":{\"data\":{\"bar\":[{\"error_x\":{\"color\":\"#2a3f5f\"},\"error_y\":{\"color\":\"#2a3f5f\"},\"marker\":{\"line\":{\"color\":\"#E5ECF6\",\"width\":0.5},\"pattern\":{\"fillmode\":\"overlay\",\"size\":10,\"solidity\":0.2}},\"type\":\"bar\"}],\"barpolar\":[{\"marker\":{\"line\":{\"color\":\"#E5ECF6\",\"width\":0.5},\"pattern\":{\"fillmode\":\"overlay\",\"size\":10,\"solidity\":0.2}},\"type\":\"barpolar\"}],\"carpet\":[{\"aaxis\":{\"endlinecolor\":\"#2a3f5f\",\"gridcolor\":\"white\",\"linecolor\":\"white\",\"minorgridcolor\":\"white\",\"startlinecolor\":\"#2a3f5f\"},\"baxis\":{\"endlinecolor\":\"#2a3f5f\",\"gridcolor\":\"white\",\"linecolor\":\"white\",\"minorgridcolor\":\"white\",\"startlinecolor\":\"#2a3f5f\"},\"type\":\"carpet\"}],\"choropleth\":[{\"colorbar\":{\"outlinewidth\":0,\"ticks\":\"\"},\"type\":\"choropleth\"}],\"contour\":[{\"colorbar\":{\"outlinewidth\":0,\"ticks\":\"\"},\"colorscale\":[[0.0,\"#0d0887\"],[0.1111111111111111,\"#46039f\"],[0.2222222222222222,\"#7201a8\"],[0.3333333333333333,\"#9c179e\"],[0.4444444444444444,\"#bd3786\"],[0.5555555555555556,\"#d8576b\"],[0.6666666666666666,\"#ed7953\"],[0.7777777777777778,\"#fb9f3a\"],[0.8888888888888888,\"#fdca26\"],[1.0,\"#f0f921\"]],\"type\":\"contour\"}],\"contourcarpet\":[{\"colorbar\":{\"outlinewidth\":0,\"ticks\":\"\"},\"type\":\"contourcarpet\"}],\"heatmap\":[{\"colorbar\":{\"outlinewidth\":0,\"ticks\":\"\"},\"colorscale\":[[0.0,\"#0d0887\"],[0.1111111111111111,\"#46039f\"],[0.2222222222222222,\"#7201a8\"],[0.3333333333333333,\"#9c179e\"],[0.4444444444444444,\"#bd3786\"],[0.5555555555555556,\"#d8576b\"],[0.6666666666666666,\"#ed7953\"],[0.7777777777777778,\"#fb9f3a\"],[0.8888888888888888,\"#fdca26\"],[1.0,\"#f0f921\"]],\"type\":\"heatmap\"}],\"heatmapgl\":[{\"colorbar\":{\"outlinewidth\":0,\"ticks\":\"\"},\"colorscale\":[[0.0,\"#0d0887\"],[0.1111111111111111,\"#46039f\"],[0.2222222222222222,\"#7201a8\"],[0.3333333333333333,\"#9c179e\"],[0.4444444444444444,\"#bd3786\"],[0.5555555555555556,\"#d8576b\"],[0.6666666666666666,\"#ed7953\"],[0.7777777777777778,\"#fb9f3a\"],[0.8888888888888888,\"#fdca26\"],[1.0,\"#f0f921\"]],\"type\":\"heatmapgl\"}],\"histogram\":[{\"marker\":{\"pattern\":{\"fillmode\":\"overlay\",\"size\":10,\"solidity\":0.2}},\"type\":\"histogram\"}],\"histogram2d\":[{\"colorbar\":{\"outlinewidth\":0,\"ticks\":\"\"},\"colorscale\":[[0.0,\"#0d0887\"],[0.1111111111111111,\"#46039f\"],[0.2222222222222222,\"#7201a8\"],[0.3333333333333333,\"#9c179e\"],[0.4444444444444444,\"#bd3786\"],[0.5555555555555556,\"#d8576b\"],[0.6666666666666666,\"#ed7953\"],[0.7777777777777778,\"#fb9f3a\"],[0.8888888888888888,\"#fdca26\"],[1.0,\"#f0f921\"]],\"type\":\"histogram2d\"}],\"histogram2dcontour\":[{\"colorbar\":{\"outlinewidth\":0,\"ticks\":\"\"},\"colorscale\":[[0.0,\"#0d0887\"],[0.1111111111111111,\"#46039f\"],[0.2222222222222222,\"#7201a8\"],[0.3333333333333333,\"#9c179e\"],[0.4444444444444444,\"#bd3786\"],[0.5555555555555556,\"#d8576b\"],[0.6666666666666666,\"#ed7953\"],[0.7777777777777778,\"#fb9f3a\"],[0.8888888888888888,\"#fdca26\"],[1.0,\"#f0f921\"]],\"type\":\"histogram2dcontour\"}],\"mesh3d\":[{\"colorbar\":{\"outlinewidth\":0,\"ticks\":\"\"},\"type\":\"mesh3d\"}],\"parcoords\":[{\"line\":{\"colorbar\":{\"outlinewidth\":0,\"ticks\":\"\"}},\"type\":\"parcoords\"}],\"pie\":[{\"automargin\":true,\"type\":\"pie\"}],\"scatter\":[{\"marker\":{\"colorbar\":{\"outlinewidth\":0,\"ticks\":\"\"}},\"type\":\"scatter\"}],\"scatter3d\":[{\"line\":{\"colorbar\":{\"outlinewidth\":0,\"ticks\":\"\"}},\"marker\":{\"colorbar\":{\"outlinewidth\":0,\"ticks\":\"\"}},\"type\":\"scatter3d\"}],\"scattercarpet\":[{\"marker\":{\"colorbar\":{\"outlinewidth\":0,\"ticks\":\"\"}},\"type\":\"scattercarpet\"}],\"scattergeo\":[{\"marker\":{\"colorbar\":{\"outlinewidth\":0,\"ticks\":\"\"}},\"type\":\"scattergeo\"}],\"scattergl\":[{\"marker\":{\"colorbar\":{\"outlinewidth\":0,\"ticks\":\"\"}},\"type\":\"scattergl\"}],\"scattermapbox\":[{\"marker\":{\"colorbar\":{\"outlinewidth\":0,\"ticks\":\"\"}},\"type\":\"scattermapbox\"}],\"scatterpolar\":[{\"marker\":{\"colorbar\":{\"outlinewidth\":0,\"ticks\":\"\"}},\"type\":\"scatterpolar\"}],\"scatterpolargl\":[{\"marker\":{\"colorbar\":{\"outlinewidth\":0,\"ticks\":\"\"}},\"type\":\"scatterpolargl\"}],\"scatterternary\":[{\"marker\":{\"colorbar\":{\"outlinewidth\":0,\"ticks\":\"\"}},\"type\":\"scatterternary\"}],\"surface\":[{\"colorbar\":{\"outlinewidth\":0,\"ticks\":\"\"},\"colorscale\":[[0.0,\"#0d0887\"],[0.1111111111111111,\"#46039f\"],[0.2222222222222222,\"#7201a8\"],[0.3333333333333333,\"#9c179e\"],[0.4444444444444444,\"#bd3786\"],[0.5555555555555556,\"#d8576b\"],[0.6666666666666666,\"#ed7953\"],[0.7777777777777778,\"#fb9f3a\"],[0.8888888888888888,\"#fdca26\"],[1.0,\"#f0f921\"]],\"type\":\"surface\"}],\"table\":[{\"cells\":{\"fill\":{\"color\":\"#EBF0F8\"},\"line\":{\"color\":\"white\"}},\"header\":{\"fill\":{\"color\":\"#C8D4E3\"},\"line\":{\"color\":\"white\"}},\"type\":\"table\"}]},\"layout\":{\"annotationdefaults\":{\"arrowcolor\":\"#2a3f5f\",\"arrowhead\":0,\"arrowwidth\":1},\"autotypenumbers\":\"strict\",\"coloraxis\":{\"colorbar\":{\"outlinewidth\":0,\"ticks\":\"\"}},\"colorscale\":{\"diverging\":[[0,\"#8e0152\"],[0.1,\"#c51b7d\"],[0.2,\"#de77ae\"],[0.3,\"#f1b6da\"],[0.4,\"#fde0ef\"],[0.5,\"#f7f7f7\"],[0.6,\"#e6f5d0\"],[0.7,\"#b8e186\"],[0.8,\"#7fbc41\"],[0.9,\"#4d9221\"],[1,\"#276419\"]],\"sequential\":[[0.0,\"#0d0887\"],[0.1111111111111111,\"#46039f\"],[0.2222222222222222,\"#7201a8\"],[0.3333333333333333,\"#9c179e\"],[0.4444444444444444,\"#bd3786\"],[0.5555555555555556,\"#d8576b\"],[0.6666666666666666,\"#ed7953\"],[0.7777777777777778,\"#fb9f3a\"],[0.8888888888888888,\"#fdca26\"],[1.0,\"#f0f921\"]],\"sequentialminus\":[[0.0,\"#0d0887\"],[0.1111111111111111,\"#46039f\"],[0.2222222222222222,\"#7201a8\"],[0.3333333333333333,\"#9c179e\"],[0.4444444444444444,\"#bd3786\"],[0.5555555555555556,\"#d8576b\"],[0.6666666666666666,\"#ed7953\"],[0.7777777777777778,\"#fb9f3a\"],[0.8888888888888888,\"#fdca26\"],[1.0,\"#f0f921\"]]},\"colorway\":[\"#636efa\",\"#EF553B\",\"#00cc96\",\"#ab63fa\",\"#FFA15A\",\"#19d3f3\",\"#FF6692\",\"#B6E880\",\"#FF97FF\",\"#FECB52\"],\"font\":{\"color\":\"#2a3f5f\"},\"geo\":{\"bgcolor\":\"white\",\"lakecolor\":\"white\",\"landcolor\":\"#E5ECF6\",\"showlakes\":true,\"showland\":true,\"subunitcolor\":\"white\"},\"hoverlabel\":{\"align\":\"left\"},\"hovermode\":\"closest\",\"mapbox\":{\"style\":\"light\"},\"paper_bgcolor\":\"white\",\"plot_bgcolor\":\"#E5ECF6\",\"polar\":{\"angularaxis\":{\"gridcolor\":\"white\",\"linecolor\":\"white\",\"ticks\":\"\"},\"bgcolor\":\"#E5ECF6\",\"radialaxis\":{\"gridcolor\":\"white\",\"linecolor\":\"white\",\"ticks\":\"\"}},\"scene\":{\"xaxis\":{\"backgroundcolor\":\"#E5ECF6\",\"gridcolor\":\"white\",\"gridwidth\":2,\"linecolor\":\"white\",\"showbackground\":true,\"ticks\":\"\",\"zerolinecolor\":\"white\"},\"yaxis\":{\"backgroundcolor\":\"#E5ECF6\",\"gridcolor\":\"white\",\"gridwidth\":2,\"linecolor\":\"white\",\"showbackground\":true,\"ticks\":\"\",\"zerolinecolor\":\"white\"},\"zaxis\":{\"backgroundcolor\":\"#E5ECF6\",\"gridcolor\":\"white\",\"gridwidth\":2,\"linecolor\":\"white\",\"showbackground\":true,\"ticks\":\"\",\"zerolinecolor\":\"white\"}},\"shapedefaults\":{\"line\":{\"color\":\"#2a3f5f\"}},\"ternary\":{\"aaxis\":{\"gridcolor\":\"white\",\"linecolor\":\"white\",\"ticks\":\"\"},\"baxis\":{\"gridcolor\":\"white\",\"linecolor\":\"white\",\"ticks\":\"\"},\"bgcolor\":\"#E5ECF6\",\"caxis\":{\"gridcolor\":\"white\",\"linecolor\":\"white\",\"ticks\":\"\"}},\"title\":{\"x\":0.05},\"xaxis\":{\"automargin\":true,\"gridcolor\":\"white\",\"linecolor\":\"white\",\"ticks\":\"\",\"title\":{\"standoff\":15},\"zerolinecolor\":\"white\",\"zerolinewidth\":2},\"yaxis\":{\"automargin\":true,\"gridcolor\":\"white\",\"linecolor\":\"white\",\"ticks\":\"\",\"title\":{\"standoff\":15},\"zerolinecolor\":\"white\",\"zerolinewidth\":2}}},\"xaxis\":{\"anchor\":\"y\",\"domain\":[0.0,1.0],\"title\":{\"text\":\"Anzahl Modelle am Markt\"}},\"yaxis\":{\"anchor\":\"x\",\"domain\":[0.0,1.0],\"title\":{\"text\":\"Bewerber\"},\"categoryorder\":\"total ascending\"},\"legend\":{\"title\":{\"text\":\"Wettbewerber\"},\"tracegroupgap\":0},\"title\":{\"text\":\"Ich im Vergleich zu meinen Mitbewerbern\"},\"barmode\":\"relative\",\"height\":1000,\"width\":1000},                        {\"responsive\": true}                    ).then(function(){\n",
       "                            \n",
       "var gd = document.getElementById('7d3f0364-0839-468b-9711-2340c6231c0e');\n",
       "var x = new MutationObserver(function (mutations, observer) {{\n",
       "        var display = window.getComputedStyle(gd).display;\n",
       "        if (!display || display === 'none') {{\n",
       "            console.log([gd, 'removed!']);\n",
       "            Plotly.purge(gd);\n",
       "            observer.disconnect();\n",
       "        }}\n",
       "}});\n",
       "\n",
       "// Listen for the removal of the full notebook cells\n",
       "var notebookContainer = gd.closest('#notebook-container');\n",
       "if (notebookContainer) {{\n",
       "    x.observe(notebookContainer, {childList: true});\n",
       "}}\n",
       "\n",
       "// Listen for the clearing of the current output cell\n",
       "var outputEl = gd.closest('.output');\n",
       "if (outputEl) {{\n",
       "    x.observe(outputEl, {childList: true});\n",
       "}}\n",
       "\n",
       "                        })                };                });            </script>        </div>"
      ]
     },
     "metadata": {},
     "output_type": "display_data"
    }
   ],
   "source": [
    "# alternativ als horizontal barchart\n",
    "\n",
    "\n",
    "my_bar2 = px.bar(data_frame=df_sort,\n",
    "                y='Brand',\n",
    "                x='Model',\n",
    "                color='comp',\n",
    "                title='Ich im Vergleich zu meinen Mitbewerbern',\n",
    "                labels={'Brand':'Bewerber','Model':'Anzahl Modelle am Markt','comp': 'Wettbewerber'},\n",
    "                width=1000,\n",
    "                height=1000) \n",
    "\n",
    "my_bar2.update_yaxes(categoryorder = \"total ascending\") \n",
    "my_bar2.show()"
   ]
  }
 ],
 "metadata": {
  "hide_input": false,
  "kernelspec": {
   "display_name": "Python 3",
   "language": "python",
   "name": "python3"
  },
  "language_info": {
   "codemirror_mode": {
    "name": "ipython",
    "version": 3
   },
   "file_extension": ".py",
   "mimetype": "text/x-python",
   "name": "python",
   "nbconvert_exporter": "python",
   "pygments_lexer": "ipython3",
   "version": "3.8.8"
  },
  "nbTranslate": {
   "displayLangs": [
    "*"
   ],
   "hotkey": "alt-t",
   "langInMainMenu": true,
   "sourceLang": "en",
   "targetLang": "fr",
   "useGoogleTranslate": true
  },
  "toc": {
   "base_numbering": 1,
   "nav_menu": {},
   "number_sections": true,
   "sideBar": true,
   "skip_h1_title": false,
   "title_cell": "Table of Contents",
   "title_sidebar": "Contents",
   "toc_cell": false,
   "toc_position": {
    "height": "730px",
    "left": "28px",
    "top": "111.133px",
    "width": "410px"
   },
   "toc_section_display": true,
   "toc_window_display": true
  },
  "varInspector": {
   "cols": {
    "lenName": 16,
    "lenType": 16,
    "lenVar": 40
   },
   "kernels_config": {
    "python": {
     "delete_cmd_postfix": "",
     "delete_cmd_prefix": "del ",
     "library": "var_list.py",
     "varRefreshCmd": "print(var_dic_list())"
    },
    "r": {
     "delete_cmd_postfix": ") ",
     "delete_cmd_prefix": "rm(",
     "library": "var_list.r",
     "varRefreshCmd": "cat(var_dic_list()) "
    }
   },
   "types_to_exclude": [
    "module",
    "function",
    "builtin_function_or_method",
    "instance",
    "_Feature"
   ],
   "window_display": false
  }
 },
 "nbformat": 4,
 "nbformat_minor": 4
}
